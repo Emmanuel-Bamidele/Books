{
 "cells": [
  {
   "cell_type": "markdown",
   "id": "d148f0bf",
   "metadata": {},
   "source": [
    "## Python Modules"
   ]
  },
  {
   "cell_type": "markdown",
   "id": "2e41d0f5",
   "metadata": {},
   "source": [
    "### Built-in Modules (Some examples)"
   ]
  },
  {
   "cell_type": "code",
   "execution_count": 1,
   "id": "4603845e",
   "metadata": {
    "scrolled": true
   },
   "outputs": [],
   "source": [
    "#help(\"modules\")"
   ]
  },
  {
   "cell_type": "markdown",
   "id": "5e4bec2d",
   "metadata": {},
   "source": [
    "#### CSV"
   ]
  },
  {
   "cell_type": "markdown",
   "id": "ba9d7f60",
   "metadata": {},
   "source": [
    "##### Reading a csv file"
   ]
  },
  {
   "cell_type": "code",
   "execution_count": 2,
   "id": "7b3ca64a",
   "metadata": {},
   "outputs": [
    {
     "name": "stdout",
     "output_type": "stream",
     "text": [
      "This file has a total of 2605 rows\n",
      "Headers are: ﻿Date, Price, Open, High, Low, Vol., Change %\n",
      "\n",
      "\n",
      "The first 3 rows of the data are: \n",
      "\n",
      " 16-Feb-22\n",
      " 44,110.20\n",
      " 44,540.90\n",
      " 44,552.90\n",
      " 43,692.20\n",
      "    51.77K\n",
      "    -0.97%\n",
      "\n",
      "\n",
      " 15-Feb-22\n",
      " 44,544.40\n",
      " 42,550.30\n",
      " 44,722.60\n",
      " 42,460.10\n",
      "    56.34K\n",
      "     4.69%\n",
      "\n",
      "\n",
      " 14-Feb-22\n",
      " 42,550.30\n",
      " 42,061.10\n",
      " 42,799.70\n",
      " 41,591.30\n",
      "    53.60K\n",
      "     1.16%\n",
      "\n",
      "\n"
     ]
    }
   ],
   "source": [
    "import csv \n",
    "\n",
    "#copy file pathname and paste instead of mine below\n",
    "filename = \"/Users/emmanuel_bamidele/Desktop/Bamspace/Data_Science_Tutorial/Books/Software for STEM Grad Students/Data/Bitcoin Historical Data - Investing.com-2015_to_2022.csv\"\n",
    "\n",
    "#or\n",
    "\n",
    "#if the file is downloaded in the same directpry, just paste the filename directly below\n",
    "#filename=\"Bitcoin Historical Data - Investing.com-2015_to_2022.csv\"\n",
    "\n",
    "headers = []\n",
    "data = []\n",
    "\n",
    "# application of csv module to reading file\n",
    "\n",
    "with open(filename, 'r') as csvfile:\n",
    "    readcsv = csv.reader(csvfile) #create a variable that reads the csv\n",
    "    headers = next(readcsv) #this returns the next row of a csv fileas a list\n",
    "    \n",
    "    for x in readcsv:\n",
    "        data.append(x) #takes all the data in the csv file one by one\n",
    "        \n",
    "    print(\"This file has a total of {n_rows} rows\".format(n_rows=readcsv.line_num)) \n",
    "    \n",
    "print('Headers are: ' + ', '.join(header for header in headers))\n",
    "print(\"\\n\\nThe first 3 rows of the data are: \\n\")\n",
    "\n",
    "for y in data[0:3]:\n",
    "    for column in y:\n",
    "        print(\"%10s\"%column),\n",
    "    print('\\n')"
   ]
  },
  {
   "cell_type": "markdown",
   "id": "f0ca6d40",
   "metadata": {},
   "source": [
    "##### Writing a csv file"
   ]
  },
  {
   "cell_type": "code",
   "execution_count": 3,
   "id": "fa16f60f",
   "metadata": {},
   "outputs": [],
   "source": [
    "import csv\n",
    "\n",
    "filepath = \"/Users/emmanuel_bamidele/Desktop/Bamspace/Data_Science_Tutorial/Books/Software for STEM Grad Students/Data/cvs_file_test.csv\"\n",
    "\n",
    "header = [\"Car\", \"Model\", \"Year\", \"Trim\", \"Color\", \"Price ($)\"]\n",
    "body = [[\"Honda\", \"Accord\", 2019, \"Sport SE\", \"Blue\", 31000],\n",
    "        [\"Toyota\", \"Camry\", 2020, \"XLE\", \"White\", 28000], \n",
    "        [\"Honda\", \"Civic\", 2021, \"LX\", \"Red\", 26000], \n",
    "        [\"Toyota\", \"RAV 4\", 2022, \"XLE Hybrid\", \"Gray\", 35000 ]]\n",
    "\n",
    "with open(filepath, 'w', newline='') as write_csv:\n",
    "    csv_writer = csv.writer(write_csv) #create the csv writer\n",
    "    csv_writer.writerow(header) #write the header\n",
    "    \n",
    "    csv_writer.writerow(body[0])\n",
    "    csv_writer.writerow(body[1])\n",
    "    csv_writer.writerow(body[2])\n",
    "    csv_writer.writerow(body[3])"
   ]
  },
  {
   "cell_type": "markdown",
   "id": "4a4daa2d",
   "metadata": {},
   "source": [
    "##### Writing a csv file using DictWriter Class"
   ]
  },
  {
   "cell_type": "code",
   "execution_count": 4,
   "id": "ccabbfa2",
   "metadata": {},
   "outputs": [],
   "source": [
    "import csv\n",
    "\n",
    "filepath = \"/Users/emmanuel_bamidele/Desktop/Bamspace/Data_Science_Tutorial/Books/Software for STEM Grad Students/Data/cvs_file_test2.csv\"\n",
    "\n",
    "fieldnames = [\"Car\", \"Model\", \"Year\", \"Trim\", \"Color\", \"Price\"]\n",
    "\n",
    "body = [{\"Car\": \"Honda\", \"Model\": \"Accord\", \"Year\":2019, \n",
    "         \"Trim\":\"Sport SE\", \"Color\":\"Blue\", \"Price\":31000},\n",
    "        {\"Car\": \"Toyota\", \"Model\": \"Camry\", \"Year\":2020, \n",
    "         \"Trim\":\"XLE\", \"Color\": \"White\", \"Price\":28000}, \n",
    "        {\"Car\": \"Honda\", \"Model\": \"Civic\", \"Year\":2021, \n",
    "         \"Trim\":\"LX\", \"Color\": \"Red\", \"Price\":26000}, \n",
    "        {\"Car\": \"Toyota\", \"Model\": \"RAV 4\", \"Year\":2022, \n",
    "         \"Trim\":\"XLE Hybrid\", \"Color\": \"Gray\", \"Price\":35000 },\n",
    "       {\"Car\": \"Honda\", \"Model\": \"Pilot\", \"Year\":2022, \n",
    "         \"Trim\":\"Touring\", \"Color\": \"Black\", \"Price\":42000 }]\n",
    "\n",
    "with open(filepath, 'w', newline='') as write_csv2:\n",
    "    csv_writer = csv.DictWriter(write_csv2, fieldnames=fieldnames) #create the csv writer\n",
    "    csv_writer.writeheader() #write the header\n",
    "    csv_writer.writerows(body)"
   ]
  },
  {
   "cell_type": "code",
   "execution_count": null,
   "id": "fc197121",
   "metadata": {},
   "outputs": [],
   "source": []
  }
 ],
 "metadata": {
  "kernelspec": {
   "display_name": "Python 3 (ipykernel)",
   "language": "python",
   "name": "python3"
  },
  "language_info": {
   "codemirror_mode": {
    "name": "ipython",
    "version": 3
   },
   "file_extension": ".py",
   "mimetype": "text/x-python",
   "name": "python",
   "nbconvert_exporter": "python",
   "pygments_lexer": "ipython3",
   "version": "3.8.12"
  }
 },
 "nbformat": 4,
 "nbformat_minor": 5
}
