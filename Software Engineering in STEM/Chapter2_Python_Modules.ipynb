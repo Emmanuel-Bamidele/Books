{
 "cells": [
  {
   "cell_type": "markdown",
   "id": "70b77500",
   "metadata": {},
   "source": [
    "## Python Modules"
   ]
  },
  {
   "cell_type": "markdown",
   "id": "d2b12676",
   "metadata": {},
   "source": [
    "### Built-in Modules (Some examples)"
   ]
  },
  {
   "cell_type": "code",
   "execution_count": 1,
   "id": "77158b92",
   "metadata": {
    "scrolled": true
   },
   "outputs": [],
   "source": [
    "#help(\"modules\") #this will return all the python built-in modules"
   ]
  },
  {
   "cell_type": "markdown",
   "id": "be526a9b",
   "metadata": {},
   "source": [
    "#### CSV"
   ]
  },
  {
   "cell_type": "markdown",
   "id": "f741fdcf",
   "metadata": {},
   "source": [
    "##### Reading a csv file"
   ]
  },
  {
   "cell_type": "code",
   "execution_count": 2,
   "id": "a4d05c13",
   "metadata": {},
   "outputs": [
    {
     "name": "stdout",
     "output_type": "stream",
     "text": [
      "This file has a total of 2605 rows\n",
      "Headers are: ﻿Date, Price, Open, High, Low, Vol., Change %\n",
      "\n",
      "\n",
      "The first 3 rows of the data are: \n",
      "\n",
      " 16-Feb-22\n",
      " 44,110.20\n",
      " 44,540.90\n",
      " 44,552.90\n",
      " 43,692.20\n",
      "    51.77K\n",
      "    -0.97%\n",
      "\n",
      "\n",
      " 15-Feb-22\n",
      " 44,544.40\n",
      " 42,550.30\n",
      " 44,722.60\n",
      " 42,460.10\n",
      "    56.34K\n",
      "     4.69%\n",
      "\n",
      "\n",
      " 14-Feb-22\n",
      " 42,550.30\n",
      " 42,061.10\n",
      " 42,799.70\n",
      " 41,591.30\n",
      "    53.60K\n",
      "     1.16%\n",
      "\n",
      "\n"
     ]
    }
   ],
   "source": [
    "import csv \n",
    "\n",
    "#copy file pathname and paste instead of mine below\n",
    "filename = \"/Users/emmanuel_bamidele/Desktop/Bamspace/Data_Science_Tutorial/Books/Software for STEM Grad Students/Data/Bitcoin Historical Data - Investing.com-2015_to_2022.csv\"\n",
    "\n",
    "#or\n",
    "\n",
    "#if the file is downloaded in the same directpry, just paste the filename directly below\n",
    "#filename=\"Bitcoin Historical Data - Investing.com-2015_to_2022.csv\"\n",
    "\n",
    "headers = []\n",
    "data = []\n",
    "\n",
    "# application of csv module to reading file\n",
    "\n",
    "with open(filename, 'r') as csvfile:\n",
    "    readcsv = csv.reader(csvfile) #create a variable that reads the csv\n",
    "    headers = next(readcsv) #this returns the next row of a csv fileas a list\n",
    "    \n",
    "    for x in readcsv:\n",
    "        data.append(x) #takes all the data in the csv file one by one\n",
    "        \n",
    "    print(\"This file has a total of {n_rows} rows\".format(n_rows=readcsv.line_num)) \n",
    "    \n",
    "print('Headers are: ' + ', '.join(header for header in headers))\n",
    "print(\"\\n\\nThe first 3 rows of the data are: \\n\")\n",
    "\n",
    "for y in data[0:3]:\n",
    "    for column in y:\n",
    "        print(\"%10s\"%column),\n",
    "    print('\\n')"
   ]
  },
  {
   "cell_type": "markdown",
   "id": "4ba9e6b0",
   "metadata": {},
   "source": [
    "##### Writing a csv file"
   ]
  },
  {
   "cell_type": "code",
   "execution_count": 3,
   "id": "1a1510d1",
   "metadata": {},
   "outputs": [],
   "source": [
    "import csv\n",
    "\n",
    "filepath = \"/Users/emmanuel_bamidele/Desktop/Bamspace/Data_Science_Tutorial/Books/Software for STEM Grad Students/Data/cvs_file_test.csv\"\n",
    "\n",
    "header = [\"Car\", \"Model\", \"Year\", \"Trim\", \"Color\", \"Price ($)\"]\n",
    "body = [[\"Honda\", \"Accord\", 2019, \"Sport SE\", \"Blue\", 31000],\n",
    "        [\"Toyota\", \"Camry\", 2020, \"XLE\", \"White\", 28000], \n",
    "        [\"Honda\", \"Civic\", 2021, \"LX\", \"Red\", 26000], \n",
    "        [\"Toyota\", \"RAV 4\", 2022, \"XLE Hybrid\", \"Gray\", 35000 ]]\n",
    "\n",
    "with open(filepath, 'w', newline='') as write_csv:\n",
    "    csv_writer = csv.writer(write_csv) #create the csv writer\n",
    "    csv_writer.writerow(header) #write the header\n",
    "    \n",
    "    csv_writer.writerow(body[0])\n",
    "    csv_writer.writerow(body[1])\n",
    "    csv_writer.writerow(body[2])\n",
    "    csv_writer.writerow(body[3])"
   ]
  },
  {
   "cell_type": "markdown",
   "id": "50952596",
   "metadata": {},
   "source": [
    "##### Writing a csv file using DictWriter Class"
   ]
  },
  {
   "cell_type": "code",
   "execution_count": 4,
   "id": "64e35f90",
   "metadata": {},
   "outputs": [],
   "source": [
    "import csv\n",
    "\n",
    "filepath = \"/Users/emmanuel_bamidele/Desktop/Bamspace/Data_Science_Tutorial/Books/Software for STEM Grad Students/Data/cvs_file_test2.csv\"\n",
    "\n",
    "fieldnames = [\"Car\", \"Model\", \"Year\", \"Trim\", \"Color\", \"Price\"]\n",
    "\n",
    "body = [{\"Car\": \"Honda\", \"Model\": \"Accord\", \"Year\":2019, \n",
    "         \"Trim\":\"Sport SE\", \"Color\":\"Blue\", \"Price\":31000},\n",
    "        {\"Car\": \"Toyota\", \"Model\": \"Camry\", \"Year\":2020, \n",
    "         \"Trim\":\"XLE\", \"Color\": \"White\", \"Price\":28000}, \n",
    "        {\"Car\": \"Honda\", \"Model\": \"Civic\", \"Year\":2021, \n",
    "         \"Trim\":\"LX\", \"Color\": \"Red\", \"Price\":26000}, \n",
    "        {\"Car\": \"Toyota\", \"Model\": \"RAV 4\", \"Year\":2022, \n",
    "         \"Trim\":\"XLE Hybrid\", \"Color\": \"Gray\", \"Price\":35000 },\n",
    "       {\"Car\": \"Honda\", \"Model\": \"Pilot\", \"Year\":2022, \n",
    "         \"Trim\":\"Touring\", \"Color\": \"Black\", \"Price\":42000 }]\n",
    "\n",
    "with open(filepath, 'w', newline='') as write_csv2:\n",
    "    csv_writer = csv.DictWriter(write_csv2, fieldnames=fieldnames) #create the csv writer\n",
    "    csv_writer.writeheader() #write the header\n",
    "    csv_writer.writerows(body)"
   ]
  },
  {
   "cell_type": "markdown",
   "id": "b5513397",
   "metadata": {},
   "source": [
    "#### MATH"
   ]
  },
  {
   "cell_type": "markdown",
   "id": "3f692a6b",
   "metadata": {},
   "source": [
    "- We will demonstrate how to solve the equation below using the math module\n",
    "$$\n",
    "\\frac{\\pi^3}{12} - \\frac{{\\cos10}-{\\tan0.5}}{\\sqrt{25^3} - {e^3}}\n",
    "$$"
   ]
  },
  {
   "cell_type": "code",
   "execution_count": 5,
   "id": "ddcc3943",
   "metadata": {},
   "outputs": [
    {
     "name": "stdout",
     "output_type": "stream",
     "text": [
      "0.8356718288192528\n"
     ]
    }
   ],
   "source": [
    "import math\n",
    "\n",
    "part_a = (((math.pi)**2)/12)\n",
    "part_b = ((math.cos(10)-math.tan(0.5))/(math.sqrt(25**3)-(math.e**3)))\n",
    "\n",
    "answer = part_a -  part_b\n",
    "    \n",
    "print(answer)"
   ]
  },
  {
   "cell_type": "markdown",
   "id": "88398d24",
   "metadata": {},
   "source": [
    "#### DATETIME"
   ]
  },
  {
   "cell_type": "markdown",
   "id": "1c5f5801",
   "metadata": {},
   "source": [
    "#### Date Class"
   ]
  },
  {
   "cell_type": "markdown",
   "id": "590a8a8f",
   "metadata": {},
   "source": [
    "##### Pass a date as argument and output it"
   ]
  },
  {
   "cell_type": "code",
   "execution_count": 6,
   "id": "0e45fac6",
   "metadata": {},
   "outputs": [
    {
     "name": "stdout",
     "output_type": "stream",
     "text": [
      "1985-11-15\n"
     ]
    }
   ],
   "source": [
    "from datetime import date\n",
    "\n",
    "birth_date = date(1985, 11, 15) #year, month, day\n",
    "print(birth_date)"
   ]
  },
  {
   "cell_type": "markdown",
   "id": "dcbe5250",
   "metadata": {},
   "source": [
    "##### Get today's date"
   ]
  },
  {
   "cell_type": "code",
   "execution_count": 7,
   "id": "106f4b51",
   "metadata": {},
   "outputs": [
    {
     "name": "stdout",
     "output_type": "stream",
     "text": [
      "2022-02-17\n"
     ]
    }
   ],
   "source": [
    "from datetime import date\n",
    "\n",
    "today_date = date.today()\n",
    "\n",
    "print(today_date)"
   ]
  },
  {
   "cell_type": "markdown",
   "id": "920e7ccf",
   "metadata": {},
   "source": [
    "##### Get each of day, month and year"
   ]
  },
  {
   "cell_type": "code",
   "execution_count": 8,
   "id": "5d1bc660",
   "metadata": {},
   "outputs": [
    {
     "name": "stdout",
     "output_type": "stream",
     "text": [
      "17\n",
      "2\n",
      "2022\n"
     ]
    }
   ],
   "source": [
    "from datetime import date\n",
    "\n",
    "today_date = date.today()\n",
    "\n",
    "print(today_date.day)\n",
    "print(today_date.month)\n",
    "print(today_date.year)"
   ]
  },
  {
   "cell_type": "markdown",
   "id": "986fbf35",
   "metadata": {},
   "source": [
    "##### Convert timestamp to date"
   ]
  },
  {
   "cell_type": "code",
   "execution_count": 9,
   "id": "7f8702fb",
   "metadata": {},
   "outputs": [
    {
     "name": "stdout",
     "output_type": "stream",
     "text": [
      "2022-02-16 23:33:11\n"
     ]
    }
   ],
   "source": [
    "from datetime import datetime\n",
    "date_time = datetime.fromtimestamp(1645079591)\n",
    "print(date_time)"
   ]
  },
  {
   "cell_type": "markdown",
   "id": "784a2ab7",
   "metadata": {},
   "source": [
    "##### Convert date to string"
   ]
  },
  {
   "cell_type": "code",
   "execution_count": 10,
   "id": "f5aabbc6",
   "metadata": {},
   "outputs": [
    {
     "name": "stdout",
     "output_type": "stream",
     "text": [
      "2022-02-17\n",
      "<class 'str'>\n"
     ]
    }
   ],
   "source": [
    "from datetime import date\n",
    "today_date = date.today()\n",
    "string_rep = date.isoformat(today_date)\n",
    "print(string_rep)\n",
    "print(type(string_rep))"
   ]
  },
  {
   "cell_type": "markdown",
   "id": "529bb2fb",
   "metadata": {},
   "source": [
    "#### Time Class"
   ]
  },
  {
   "cell_type": "markdown",
   "id": "f30ec4a3",
   "metadata": {},
   "source": [
    "##### Pass time as an argument"
   ]
  },
  {
   "cell_type": "code",
   "execution_count": 11,
   "id": "4a79aaf1",
   "metadata": {},
   "outputs": [
    {
     "name": "stdout",
     "output_type": "stream",
     "text": [
      "22:40:15\n"
     ]
    }
   ],
   "source": [
    "from datetime import time\n",
    "\n",
    "task_time = time(22, 40, 15) #hour, minute, seconds\n",
    "print(task_time)"
   ]
  },
  {
   "cell_type": "markdown",
   "id": "9e47898b",
   "metadata": {},
   "source": [
    "##### Get current hours, minutes and seconds"
   ]
  },
  {
   "cell_type": "code",
   "execution_count": 12,
   "id": "a05e400f",
   "metadata": {},
   "outputs": [
    {
     "name": "stdout",
     "output_type": "stream",
     "text": [
      "22\n",
      "40\n",
      "15\n"
     ]
    }
   ],
   "source": [
    "from datetime import time\n",
    "\n",
    "time_sp = time(22, 40, 15)\n",
    "\n",
    "print(time_sp.hour)\n",
    "print(time_sp.minute)\n",
    "print(time_sp.second)"
   ]
  },
  {
   "cell_type": "markdown",
   "id": "8ac4b74b",
   "metadata": {},
   "source": [
    "##### Convert time to string"
   ]
  },
  {
   "cell_type": "code",
   "execution_count": 13,
   "id": "8cbddf07",
   "metadata": {
    "scrolled": true
   },
   "outputs": [
    {
     "name": "stdout",
     "output_type": "stream",
     "text": [
      "22:40:15\n",
      "<class 'str'>\n"
     ]
    }
   ],
   "source": [
    "from datetime import time\n",
    "time_str = time(22, 40, 15)\n",
    "string_rep2 =time.isoformat(time_str)\n",
    "print(string_rep2)\n",
    "print(type(string_rep2))"
   ]
  },
  {
   "cell_type": "markdown",
   "id": "59056b3b",
   "metadata": {},
   "source": [
    "#### Datetime Class"
   ]
  },
  {
   "cell_type": "markdown",
   "id": "e6f1e047",
   "metadata": {},
   "source": [
    "##### Pass argument"
   ]
  },
  {
   "cell_type": "code",
   "execution_count": 14,
   "id": "e107de45",
   "metadata": {},
   "outputs": [
    {
     "name": "stdout",
     "output_type": "stream",
     "text": [
      "1985-11-15 00:00:00\n",
      "1985-11-15 22:40:15\n"
     ]
    }
   ],
   "source": [
    "from datetime import datetime\n",
    "\n",
    "birth_date1 = datetime(1985, 11, 15) #passing year, month, day without time\n",
    "birth_datetime = datetime(1985, 11, 15, 22, 40, 15) #passing all\n",
    "print(birth_date1)\n",
    "print(birth_datetime)"
   ]
  },
  {
   "cell_type": "markdown",
   "id": "2fe67a40",
   "metadata": {},
   "source": [
    "##### Get current date and time, and year, month, day, hour, minute & seconds"
   ]
  },
  {
   "cell_type": "code",
   "execution_count": 15,
   "id": "c9b3f3af",
   "metadata": {},
   "outputs": [
    {
     "name": "stdout",
     "output_type": "stream",
     "text": [
      "2022-02-17 01:12:27.902378\n",
      "2022\n",
      "2\n",
      "17\n",
      "1\n",
      "12\n",
      "27\n"
     ]
    }
   ],
   "source": [
    "from datetime import datetime\n",
    "\n",
    "time_now = datetime.now()\n",
    "\n",
    "print(time_now)\n",
    "print(time_now.year)\n",
    "print(time_now.month)\n",
    "print(time_now.day)\n",
    "print(time_now.hour)\n",
    "print(time_now.minute)\n",
    "print(time_now.second)"
   ]
  },
  {
   "cell_type": "markdown",
   "id": "f8e6c07b",
   "metadata": {},
   "source": [
    "##### Define the format of the time"
   ]
  },
  {
   "cell_type": "code",
   "execution_count": 16,
   "id": "840c31ce",
   "metadata": {},
   "outputs": [
    {
     "name": "stdout",
     "output_type": "stream",
     "text": [
      "2022-02-17, 01:12:27\n",
      "01:12:27\n",
      "01:12 AM\n",
      "01:12\n"
     ]
    }
   ],
   "source": [
    "from datetime import datetime\n",
    "\n",
    "time_now1 = datetime.now().strftime(\"%Y-%m-%d, %H:%M:%S\")\n",
    "time_now2 = datetime.now().strftime(\"%H:%M:%S\")\n",
    "time_now3 = datetime.now().strftime(\"%I:%M %p\") #12 hours time\n",
    "time_now4 = datetime.now().strftime(\"%H:%M\")\n",
    "\n",
    "\n",
    "print(time_now1)\n",
    "print(time_now2)\n",
    "print(time_now3)\n",
    "print(time_now4)"
   ]
  },
  {
   "cell_type": "markdown",
   "id": "6fc4e6ae",
   "metadata": {},
   "source": [
    "##### Include timezone"
   ]
  },
  {
   "cell_type": "code",
   "execution_count": 17,
   "id": "19f47c50",
   "metadata": {},
   "outputs": [
    {
     "name": "stdout",
     "output_type": "stream",
     "text": [
      "2022-02-17, 08:12:27\n"
     ]
    }
   ],
   "source": [
    "from datetime import datetime\n",
    "from pytz import timezone\n",
    "\n",
    "WestAfrican_time_now = datetime.now(timezone('GMT')).strftime(\"%Y-%m-%d, %H:%M:%S\")\n",
    "print(WestAfrican_time_now)"
   ]
  },
  {
   "cell_type": "markdown",
   "id": "5fba49ee",
   "metadata": {},
   "source": [
    "##### Get time for different cities"
   ]
  },
  {
   "cell_type": "code",
   "execution_count": 18,
   "id": "45b9550c",
   "metadata": {},
   "outputs": [
    {
     "name": "stdout",
     "output_type": "stream",
     "text": [
      "2022-02-17, 01:12:27\n",
      "2022-02-17, 09:12:27\n",
      "2022-02-17, 15:12:27\n"
     ]
    }
   ],
   "source": [
    "from datetime import datetime\n",
    "from pytz import timezone\n",
    "\n",
    "cities = ['America/Denver', 'Europe/Paris', 'Asia/Bangkok']\n",
    "now_time1 = datetime.now(timezone('UTC'))\n",
    "\n",
    "for t in cities:\n",
    "    now_time = now_time1.astimezone(timezone(t))\n",
    "    print(now_time.strftime(\"%Y-%m-%d, %H:%M:%S\"))"
   ]
  }
 ],
 "metadata": {
  "kernelspec": {
   "display_name": "Python 3 (ipykernel)",
   "language": "python",
   "name": "python3"
  },
  "language_info": {
   "codemirror_mode": {
    "name": "ipython",
    "version": 3
   },
   "file_extension": ".py",
   "mimetype": "text/x-python",
   "name": "python",
   "nbconvert_exporter": "python",
   "pygments_lexer": "ipython3",
   "version": "3.8.12"
  }
 },
 "nbformat": 4,
 "nbformat_minor": 5
}
