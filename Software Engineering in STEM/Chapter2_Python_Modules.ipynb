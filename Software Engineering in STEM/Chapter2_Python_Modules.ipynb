{
 "cells": [
  {
   "cell_type": "markdown",
   "id": "1f864480",
   "metadata": {},
   "source": [
    "## Python Modules"
   ]
  },
  {
   "cell_type": "markdown",
   "id": "8bb6fe21",
   "metadata": {},
   "source": [
    "### Built-in Modules (Some examples)"
   ]
  },
  {
   "cell_type": "code",
   "execution_count": null,
   "id": "f2293078",
   "metadata": {
    "scrolled": true
   },
   "outputs": [],
   "source": [
    "#help(\"modules\") #this will return all the python built-in modules"
   ]
  },
  {
   "cell_type": "markdown",
   "id": "ff183036",
   "metadata": {},
   "source": [
    "#### CSV"
   ]
  },
  {
   "cell_type": "markdown",
   "id": "3d6f2d82",
   "metadata": {},
   "source": [
    "##### Reading a csv file"
   ]
  },
  {
   "cell_type": "code",
   "execution_count": 1,
   "id": "9fe0a764",
   "metadata": {},
   "outputs": [
    {
     "name": "stdout",
     "output_type": "stream",
     "text": [
      "This file has a total of 2605 rows\n",
      "Headers are: ﻿Date, Price, Open, High, Low, Vol., Change %\n",
      "\n",
      "\n",
      "The first 3 rows of the data are: \n",
      "\n",
      " 16-Feb-22\n",
      " 44,110.20\n",
      " 44,540.90\n",
      " 44,552.90\n",
      " 43,692.20\n",
      "    51.77K\n",
      "    -0.97%\n",
      "\n",
      "\n",
      " 15-Feb-22\n",
      " 44,544.40\n",
      " 42,550.30\n",
      " 44,722.60\n",
      " 42,460.10\n",
      "    56.34K\n",
      "     4.69%\n",
      "\n",
      "\n",
      " 14-Feb-22\n",
      " 42,550.30\n",
      " 42,061.10\n",
      " 42,799.70\n",
      " 41,591.30\n",
      "    53.60K\n",
      "     1.16%\n",
      "\n",
      "\n"
     ]
    }
   ],
   "source": [
    "import csv \n",
    "\n",
    "#copy file pathname and paste instead of mine below\n",
    "filename = \"/Users/emmanuel_bamidele/Desktop/Bamspace/Data_Science_Tutorial/Books/Software for STEM Grad Students/Data/Bitcoin Historical Data - Investing.com-2015_to_2022.csv\"\n",
    "\n",
    "#or\n",
    "\n",
    "#if the file is downloaded in the same directpry, just paste the filename directly below\n",
    "#filename=\"Bitcoin Historical Data - Investing.com-2015_to_2022.csv\"\n",
    "\n",
    "headers = []\n",
    "data = []\n",
    "\n",
    "# application of csv module to reading file\n",
    "\n",
    "with open(filename, 'r') as csvfile:\n",
    "    readcsv = csv.reader(csvfile) #create a variable that reads the csv\n",
    "    headers = next(readcsv) #this returns the next row of a csv fileas a list\n",
    "    \n",
    "    for x in readcsv:\n",
    "        data.append(x) #takes all the data in the csv file one by one\n",
    "        \n",
    "    print(\"This file has a total of {n_rows} rows\".format(n_rows=readcsv.line_num)) \n",
    "    \n",
    "print('Headers are: ' + ', '.join(header for header in headers))\n",
    "print(\"\\n\\nThe first 3 rows of the data are: \\n\")\n",
    "\n",
    "for y in data[0:3]:\n",
    "    for column in y:\n",
    "        print(\"%10s\"%column),\n",
    "    print('\\n')"
   ]
  },
  {
   "cell_type": "markdown",
   "id": "b00e842c",
   "metadata": {},
   "source": [
    "##### Writing a csv file"
   ]
  },
  {
   "cell_type": "code",
   "execution_count": 2,
   "id": "d3bfe542",
   "metadata": {},
   "outputs": [],
   "source": [
    "import csv\n",
    "\n",
    "filepath = \"/Users/emmanuel_bamidele/Desktop/Bamspace/Data_Science_Tutorial/Books/Software for STEM Grad Students/Data/cvs_file_test.csv\"\n",
    "\n",
    "header = [\"Car\", \"Model\", \"Year\", \"Trim\", \"Color\", \"Price ($)\"]\n",
    "body = [[\"Honda\", \"Accord\", 2019, \"Sport SE\", \"Blue\", 31000],\n",
    "        [\"Toyota\", \"Camry\", 2020, \"XLE\", \"White\", 28000], \n",
    "        [\"Honda\", \"Civic\", 2021, \"LX\", \"Red\", 26000], \n",
    "        [\"Toyota\", \"RAV 4\", 2022, \"XLE Hybrid\", \"Gray\", 35000 ]]\n",
    "\n",
    "with open(filepath, 'w', newline='') as write_csv:\n",
    "    csv_writer = csv.writer(write_csv) #create the csv writer\n",
    "    csv_writer.writerow(header) #write the header\n",
    "    \n",
    "    csv_writer.writerow(body[0])\n",
    "    csv_writer.writerow(body[1])\n",
    "    csv_writer.writerow(body[2])\n",
    "    csv_writer.writerow(body[3])"
   ]
  },
  {
   "cell_type": "markdown",
   "id": "af8ac66d",
   "metadata": {},
   "source": [
    "##### Writing a csv file using DictWriter Class"
   ]
  },
  {
   "cell_type": "code",
   "execution_count": 3,
   "id": "334202c9",
   "metadata": {},
   "outputs": [],
   "source": [
    "import csv\n",
    "\n",
    "filepath = \"/Users/emmanuel_bamidele/Desktop/Bamspace/Data_Science_Tutorial/Books/Software for STEM Grad Students/Data/cvs_file_test2.csv\"\n",
    "\n",
    "fieldnames = [\"Car\", \"Model\", \"Year\", \"Trim\", \"Color\", \"Price\"]\n",
    "\n",
    "body = [{\"Car\": \"Honda\", \"Model\": \"Accord\", \"Year\":2019, \n",
    "         \"Trim\":\"Sport SE\", \"Color\":\"Blue\", \"Price\":31000},\n",
    "        {\"Car\": \"Toyota\", \"Model\": \"Camry\", \"Year\":2020, \n",
    "         \"Trim\":\"XLE\", \"Color\": \"White\", \"Price\":28000}, \n",
    "        {\"Car\": \"Honda\", \"Model\": \"Civic\", \"Year\":2021, \n",
    "         \"Trim\":\"LX\", \"Color\": \"Red\", \"Price\":26000}, \n",
    "        {\"Car\": \"Toyota\", \"Model\": \"RAV 4\", \"Year\":2022, \n",
    "         \"Trim\":\"XLE Hybrid\", \"Color\": \"Gray\", \"Price\":35000 },\n",
    "       {\"Car\": \"Honda\", \"Model\": \"Pilot\", \"Year\":2022, \n",
    "         \"Trim\":\"Touring\", \"Color\": \"Black\", \"Price\":42000 }]\n",
    "\n",
    "with open(filepath, 'w', newline='') as write_csv2:\n",
    "    csv_writer = csv.DictWriter(write_csv2, fieldnames=fieldnames) #create the csv writer\n",
    "    csv_writer.writeheader() #write the header\n",
    "    csv_writer.writerows(body)"
   ]
  },
  {
   "cell_type": "markdown",
   "id": "0e330b82",
   "metadata": {},
   "source": [
    "#### MATH"
   ]
  },
  {
   "cell_type": "markdown",
   "id": "8eda2966",
   "metadata": {},
   "source": [
    "- We will demonstrate how to solve the equation below using the math module\n",
    "$$\n",
    "\\frac{\\pi^3}{12} - \\frac{{\\cos10}-{\\tan0.5}}{\\sqrt{25^3} - {e^3}}\n",
    "$$"
   ]
  },
  {
   "cell_type": "code",
   "execution_count": 4,
   "id": "16f981d7",
   "metadata": {},
   "outputs": [
    {
     "name": "stdout",
     "output_type": "stream",
     "text": [
      "0.8356718288192528\n"
     ]
    }
   ],
   "source": [
    "import math\n",
    "\n",
    "part_a = (((math.pi)**2)/12)\n",
    "part_b = ((math.cos(10)-math.tan(0.5))/(math.sqrt(25**3)-(math.e**3)))\n",
    "\n",
    "answer = part_a -  part_b\n",
    "    \n",
    "print(answer)"
   ]
  },
  {
   "cell_type": "markdown",
   "id": "d8c3af44",
   "metadata": {},
   "source": [
    "#### DATETIME"
   ]
  },
  {
   "cell_type": "markdown",
   "id": "a114468d",
   "metadata": {},
   "source": [
    "#### Date Class"
   ]
  },
  {
   "cell_type": "markdown",
   "id": "4330bbd3",
   "metadata": {},
   "source": [
    "##### Pass a date as argument and output it"
   ]
  },
  {
   "cell_type": "code",
   "execution_count": 5,
   "id": "ce5b8550",
   "metadata": {},
   "outputs": [
    {
     "name": "stdout",
     "output_type": "stream",
     "text": [
      "1985-11-15\n"
     ]
    }
   ],
   "source": [
    "from datetime import date\n",
    "\n",
    "birth_date = date(1985, 11, 15) #year, month, day\n",
    "print(birth_date)"
   ]
  },
  {
   "cell_type": "markdown",
   "id": "a2e9f9b4",
   "metadata": {},
   "source": [
    "##### Get today's date"
   ]
  },
  {
   "cell_type": "code",
   "execution_count": 6,
   "id": "56d24057",
   "metadata": {},
   "outputs": [
    {
     "name": "stdout",
     "output_type": "stream",
     "text": [
      "2022-02-17\n"
     ]
    }
   ],
   "source": [
    "from datetime import date\n",
    "\n",
    "today_date = date.today()\n",
    "\n",
    "print(today_date)"
   ]
  },
  {
   "cell_type": "markdown",
   "id": "b76e138f",
   "metadata": {},
   "source": [
    "##### Get each of day, month and year"
   ]
  },
  {
   "cell_type": "code",
   "execution_count": 7,
   "id": "cc5f9b6b",
   "metadata": {},
   "outputs": [
    {
     "name": "stdout",
     "output_type": "stream",
     "text": [
      "17\n",
      "2\n",
      "2022\n"
     ]
    }
   ],
   "source": [
    "from datetime import date\n",
    "\n",
    "today_date = date.today()\n",
    "\n",
    "print(today_date.day)\n",
    "print(today_date.month)\n",
    "print(today_date.year)"
   ]
  },
  {
   "cell_type": "markdown",
   "id": "7f057333",
   "metadata": {},
   "source": [
    "##### Convert timestamp to date"
   ]
  },
  {
   "cell_type": "code",
   "execution_count": 8,
   "id": "c87c2c63",
   "metadata": {},
   "outputs": [
    {
     "name": "stdout",
     "output_type": "stream",
     "text": [
      "2022-02-16 23:33:11\n"
     ]
    }
   ],
   "source": [
    "from datetime import datetime\n",
    "date_time = datetime.fromtimestamp(1645079591)\n",
    "print(date_time)"
   ]
  },
  {
   "cell_type": "markdown",
   "id": "73765094",
   "metadata": {},
   "source": [
    "##### Convert date to string"
   ]
  },
  {
   "cell_type": "code",
   "execution_count": 9,
   "id": "16dfa694",
   "metadata": {},
   "outputs": [
    {
     "name": "stdout",
     "output_type": "stream",
     "text": [
      "2022-02-17\n",
      "<class 'str'>\n"
     ]
    }
   ],
   "source": [
    "from datetime import date\n",
    "today_date = date.today()\n",
    "string_rep = date.isoformat(today_date)\n",
    "print(string_rep)\n",
    "print(type(string_rep))"
   ]
  },
  {
   "cell_type": "markdown",
   "id": "dd9ac2c9",
   "metadata": {},
   "source": [
    "#### Time Class"
   ]
  },
  {
   "cell_type": "markdown",
   "id": "4fa5f0d7",
   "metadata": {},
   "source": [
    "##### Pass time as an argument"
   ]
  },
  {
   "cell_type": "code",
   "execution_count": 10,
   "id": "66e813ee",
   "metadata": {},
   "outputs": [
    {
     "name": "stdout",
     "output_type": "stream",
     "text": [
      "22:40:15\n"
     ]
    }
   ],
   "source": [
    "from datetime import time\n",
    "\n",
    "task_time = time(22, 40, 15) #hour, minute, seconds\n",
    "print(task_time)"
   ]
  },
  {
   "cell_type": "markdown",
   "id": "7919bd47",
   "metadata": {},
   "source": [
    "##### Get current hours, minutes and seconds"
   ]
  },
  {
   "cell_type": "code",
   "execution_count": 11,
   "id": "61877c68",
   "metadata": {},
   "outputs": [
    {
     "name": "stdout",
     "output_type": "stream",
     "text": [
      "22\n",
      "40\n",
      "15\n"
     ]
    }
   ],
   "source": [
    "from datetime import time\n",
    "\n",
    "time_sp = time(22, 40, 15)\n",
    "\n",
    "print(time_sp.hour)\n",
    "print(time_sp.minute)\n",
    "print(time_sp.second)"
   ]
  },
  {
   "cell_type": "markdown",
   "id": "42a46787",
   "metadata": {},
   "source": [
    "##### Convert time to string"
   ]
  },
  {
   "cell_type": "code",
   "execution_count": 12,
   "id": "d988957c",
   "metadata": {
    "scrolled": true
   },
   "outputs": [
    {
     "name": "stdout",
     "output_type": "stream",
     "text": [
      "22:40:15\n",
      "<class 'str'>\n"
     ]
    }
   ],
   "source": [
    "from datetime import time\n",
    "time_str = time(22, 40, 15)\n",
    "string_rep2 =time.isoformat(time_str)\n",
    "print(string_rep2)\n",
    "print(type(string_rep2))"
   ]
  },
  {
   "cell_type": "markdown",
   "id": "55f66dfa",
   "metadata": {},
   "source": [
    "#### Datetime Class"
   ]
  },
  {
   "cell_type": "markdown",
   "id": "26701b7e",
   "metadata": {},
   "source": [
    "##### Pass argument"
   ]
  },
  {
   "cell_type": "code",
   "execution_count": 13,
   "id": "b9736b55",
   "metadata": {},
   "outputs": [
    {
     "name": "stdout",
     "output_type": "stream",
     "text": [
      "1985-11-15 00:00:00\n",
      "1985-11-15 22:40:15\n"
     ]
    }
   ],
   "source": [
    "from datetime import datetime\n",
    "\n",
    "birth_date1 = datetime(1985, 11, 15) #passing year, month, day without time\n",
    "birth_datetime = datetime(1985, 11, 15, 22, 40, 15) #passing all\n",
    "print(birth_date1)\n",
    "print(birth_datetime)"
   ]
  },
  {
   "cell_type": "markdown",
   "id": "28a6936c",
   "metadata": {},
   "source": [
    "##### Get current date and time, and year, month, day, hour, minute & seconds"
   ]
  },
  {
   "cell_type": "code",
   "execution_count": 14,
   "id": "d6ff7aa4",
   "metadata": {},
   "outputs": [
    {
     "name": "stdout",
     "output_type": "stream",
     "text": [
      "2022-02-17 19:49:57.098883\n",
      "2022\n",
      "2\n",
      "17\n",
      "19\n",
      "49\n",
      "57\n"
     ]
    }
   ],
   "source": [
    "from datetime import datetime\n",
    "\n",
    "time_now = datetime.now()\n",
    "\n",
    "print(time_now)\n",
    "print(time_now.year)\n",
    "print(time_now.month)\n",
    "print(time_now.day)\n",
    "print(time_now.hour)\n",
    "print(time_now.minute)\n",
    "print(time_now.second)"
   ]
  },
  {
   "cell_type": "markdown",
   "id": "b54e9a37",
   "metadata": {},
   "source": [
    "##### Define the format of the time"
   ]
  },
  {
   "cell_type": "code",
   "execution_count": 15,
   "id": "d97aa123",
   "metadata": {},
   "outputs": [
    {
     "name": "stdout",
     "output_type": "stream",
     "text": [
      "2022-02-17, 19:49:58\n",
      "19:49:58\n",
      "07:49 PM\n",
      "19:49\n"
     ]
    }
   ],
   "source": [
    "from datetime import datetime\n",
    "\n",
    "time_now1 = datetime.now().strftime(\"%Y-%m-%d, %H:%M:%S\")\n",
    "time_now2 = datetime.now().strftime(\"%H:%M:%S\")\n",
    "time_now3 = datetime.now().strftime(\"%I:%M %p\") #12 hours time\n",
    "time_now4 = datetime.now().strftime(\"%H:%M\")\n",
    "\n",
    "\n",
    "print(time_now1)\n",
    "print(time_now2)\n",
    "print(time_now3)\n",
    "print(time_now4)"
   ]
  },
  {
   "cell_type": "markdown",
   "id": "9d546974",
   "metadata": {},
   "source": [
    "##### Include timezone"
   ]
  },
  {
   "cell_type": "code",
   "execution_count": 16,
   "id": "22e8b4c4",
   "metadata": {},
   "outputs": [
    {
     "name": "stdout",
     "output_type": "stream",
     "text": [
      "2022-02-18, 02:49:59\n"
     ]
    }
   ],
   "source": [
    "from datetime import datetime\n",
    "from pytz import timezone\n",
    "\n",
    "WestAfrican_time_now = datetime.now(timezone('GMT')).strftime(\"%Y-%m-%d, %H:%M:%S\")\n",
    "print(WestAfrican_time_now)"
   ]
  },
  {
   "cell_type": "markdown",
   "id": "c1b04ec1",
   "metadata": {},
   "source": [
    "##### Get time for different cities"
   ]
  },
  {
   "cell_type": "code",
   "execution_count": 17,
   "id": "58ddc3c9",
   "metadata": {},
   "outputs": [
    {
     "name": "stdout",
     "output_type": "stream",
     "text": [
      "2022-02-17, 19:50:02\n",
      "2022-02-18, 03:50:02\n",
      "2022-02-18, 09:50:02\n"
     ]
    }
   ],
   "source": [
    "from datetime import datetime\n",
    "from pytz import timezone\n",
    "\n",
    "cities = ['America/Denver', 'Europe/Paris', 'Asia/Bangkok']\n",
    "now_time1 = datetime.now(timezone('UTC'))\n",
    "\n",
    "for t in cities:\n",
    "    now_time = now_time1.astimezone(timezone(t))\n",
    "    print(now_time.strftime(\"%Y-%m-%d, %H:%M:%S\"))"
   ]
  },
  {
   "cell_type": "markdown",
   "id": "5273f27d",
   "metadata": {},
   "source": [
    "#### JSON"
   ]
  },
  {
   "cell_type": "markdown",
   "id": "8226035b",
   "metadata": {},
   "source": [
    "Brand = Nike <br>\n",
    "Type = Jordan <br>\n",
    "Name = Jordans Point Lane <br>\n",
    "Year = 2021 <br>\n",
    "Price = 185"
   ]
  },
  {
   "cell_type": "code",
   "execution_count": null,
   "id": "54597ca0",
   "metadata": {},
   "outputs": [],
   "source": [
    "{\n",
    "\"Brand\"     :    \"Nike\",\n",
    "\"Type\"      :    \"Jordan\",\n",
    "\"Name\"      :    \"Jordans Point Lane\",\n",
    "\"Year\"      :    2021,\n",
    "\"Price\"     :    185\n",
    "}"
   ]
  },
  {
   "cell_type": "markdown",
   "id": "5d9a86e4",
   "metadata": {},
   "source": [
    "##### Nested JSON"
   ]
  },
  {
   "cell_type": "code",
   "execution_count": null,
   "id": "322eae80",
   "metadata": {},
   "outputs": [],
   "source": [
    "{\n",
    "\"Firstname\"     :    \"John\",\n",
    "\"Lastname\"      :    \"Adene\",\n",
    "\"Department\"    :    \"Operations\",\n",
    "\"Countries\"     :    [\"Sweden\", \"Germany\", \"Qatar\", \"Rwanda\"],\n",
    "\"Phone\"         :    123456778,\n",
    "    \n",
    "\"Shoes\"         :    \n",
    "    {\n",
    "\"Brand\"     :    \"Nike\",\n",
    "\"Type\"      :    \"Jordan\",\n",
    "\"Name\"      :    \"Jordans Point Lane\",\n",
    "\"Year\"      :    2021,\n",
    "\"Price\"     :    185\n",
    "    }\n",
    "    \n",
    "}"
   ]
  },
  {
   "cell_type": "markdown",
   "id": "09e8943a",
   "metadata": {},
   "source": [
    "##### Several Nested JSON"
   ]
  },
  {
   "cell_type": "code",
   "execution_count": null,
   "id": "73fb23eb",
   "metadata": {},
   "outputs": [],
   "source": [
    "{\n",
    "\"Firstname\"     :    \"John\",\n",
    "\"Lastname\"      :    \"Adene\",\n",
    "\"Department\"    :    \"Operations\",\n",
    "\"Countries\"     :    [\"Sweden\", \"Germany\", \"Qatar\", \"Rwanda\"],\n",
    "\"Phone\"         :    123456778,\n",
    "    \n",
    "\"Shoes\"         :    \n",
    "    {\n",
    "\"Brand\"     :    \"Nike\",\n",
    "\"Type\"      :    \"Jordan\",\n",
    "\"Name\"      :    \"Jordans Point Lane\",\n",
    "\"Year\"      :    2021,\n",
    "\"Price\"     :    185\n",
    "    }\n",
    "    \n",
    "}, \n",
    "\n",
    "{\n",
    "\"Firstname\"     :    \"Mohammed\",\n",
    "\"Lastname\"      :    \"Abdul\",\n",
    "\"Department\"    :    \"Site Reliability\",\n",
    "\"Countries\"     :    [\"United Kingdom\", \"United States\", \"Canada\", \"Saudi Arabia\"],\n",
    "\"Phone\"         :    123456779,\n",
    "    \n",
    "\"Shoes\"         :    \n",
    "    {\n",
    "\"Brand\"     :    \"Nike\",\n",
    "\"Type\"      :    \"AirForce 1\",\n",
    "\"Name\"      :    \"Airforce 1 Mid '07'\",\n",
    "\"Year\"      :    2022,\n",
    "\"Price\"     :    140\n",
    "    }\n",
    "    \n",
    "}"
   ]
  },
  {
   "cell_type": "code",
   "execution_count": null,
   "id": "63219ec7",
   "metadata": {},
   "outputs": [],
   "source": []
  }
 ],
 "metadata": {
  "kernelspec": {
   "display_name": "Python 3 (ipykernel)",
   "language": "python",
   "name": "python3"
  },
  "language_info": {
   "codemirror_mode": {
    "name": "ipython",
    "version": 3
   },
   "file_extension": ".py",
   "mimetype": "text/x-python",
   "name": "python",
   "nbconvert_exporter": "python",
   "pygments_lexer": "ipython3",
   "version": "3.8.12"
  }
 },
 "nbformat": 4,
 "nbformat_minor": 5
}
