{
 "cells": [
  {
   "cell_type": "markdown",
   "id": "da2e864f",
   "metadata": {},
   "source": [
    "## Python Modules"
   ]
  },
  {
   "cell_type": "markdown",
   "id": "7455e142",
   "metadata": {},
   "source": [
    "### Built-in Modules (Some examples)"
   ]
  },
  {
   "cell_type": "markdown",
   "id": "5d632a15",
   "metadata": {},
   "source": [
    "#### CSV"
   ]
  },
  {
   "cell_type": "markdown",
   "id": "b8f92b52",
   "metadata": {},
   "source": [
    "##### Reading a csv file"
   ]
  },
  {
   "cell_type": "code",
   "execution_count": 15,
   "id": "3dfbebb9",
   "metadata": {},
   "outputs": [
    {
     "name": "stdout",
     "output_type": "stream",
     "text": [
      "This file has a total of 2605 rows\n",
      "Headers are: ﻿Date, Price, Open, High, Low, Vol., Change %\n",
      "\n",
      "\n",
      "The first 3 rows of the data are: \n",
      "\n",
      " 16-Feb-22\n",
      " 44,110.20\n",
      " 44,540.90\n",
      " 44,552.90\n",
      " 43,692.20\n",
      "    51.77K\n",
      "    -0.97%\n",
      "\n",
      "\n",
      " 15-Feb-22\n",
      " 44,544.40\n",
      " 42,550.30\n",
      " 44,722.60\n",
      " 42,460.10\n",
      "    56.34K\n",
      "     4.69%\n",
      "\n",
      "\n",
      " 14-Feb-22\n",
      " 42,550.30\n",
      " 42,061.10\n",
      " 42,799.70\n",
      " 41,591.30\n",
      "    53.60K\n",
      "     1.16%\n",
      "\n",
      "\n"
     ]
    }
   ],
   "source": [
    "import csv \n",
    "\n",
    "#copy file pathname and paste instead of mine below\n",
    "filename = \"/Users/emmanuel_bamidele/Desktop/Bamspace/Data_Science_Tutorial/Books/Software for STEM Grad Students/Data/Bitcoin Historical Data - Investing.com-2015_to_2022.csv\"\n",
    "\n",
    "#or\n",
    "\n",
    "#if the file is downloaded in the same directpry, just paste the filename directly below\n",
    "#filename=\"Bitcoin Historical Data - Investing.com-2015_to_2022.csv\"\n",
    "\n",
    "headers = []\n",
    "data = []\n",
    "\n",
    "# application of csv module to reading file\n",
    "\n",
    "with open(filename, 'r') as csvfile:\n",
    "    readcsv = csv.reader(csvfile) #create a variable that reads the csv\n",
    "    headers = next(readcsv) #this returns the next row of a csv fileas a list\n",
    "    \n",
    "    for x in readcsv:\n",
    "        data.append(x) #takes all the data in the csv file one by one\n",
    "        \n",
    "    print(\"This file has a total of {n_rows} rows\".format(n_rows=readcsv.line_num)) \n",
    "    \n",
    "print('Headers are: ' + ', '.join(header for header in headers))\n",
    "print(\"\\n\\nThe first 3 rows of the data are: \\n\")\n",
    "\n",
    "for y in data[0:3]:\n",
    "    for column in y:\n",
    "        print(\"%10s\"%column),\n",
    "    print('\\n')"
   ]
  },
  {
   "cell_type": "markdown",
   "id": "f6d5f46b",
   "metadata": {},
   "source": [
    "##### Writing a csv filee"
   ]
  },
  {
   "cell_type": "code",
   "execution_count": null,
   "id": "1cf84609",
   "metadata": {},
   "outputs": [],
   "source": []
  }
 ],
 "metadata": {
  "kernelspec": {
   "display_name": "Python 3 (ipykernel)",
   "language": "python",
   "name": "python3"
  },
  "language_info": {
   "codemirror_mode": {
    "name": "ipython",
    "version": 3
   },
   "file_extension": ".py",
   "mimetype": "text/x-python",
   "name": "python",
   "nbconvert_exporter": "python",
   "pygments_lexer": "ipython3",
   "version": "3.8.12"
  }
 },
 "nbformat": 4,
 "nbformat_minor": 5
}
