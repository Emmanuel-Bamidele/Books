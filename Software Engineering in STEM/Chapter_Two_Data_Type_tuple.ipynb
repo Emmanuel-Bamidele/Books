{
 "cells": [
  {
   "cell_type": "markdown",
   "id": "1c58a41b",
   "metadata": {},
   "source": [
    "### Data Type"
   ]
  },
  {
   "cell_type": "markdown",
   "id": "461022ab",
   "metadata": {},
   "source": [
    "### Tuple"
   ]
  },
  {
   "cell_type": "code",
   "execution_count": 1,
   "id": "289d8a87",
   "metadata": {},
   "outputs": [
    {
     "name": "stdout",
     "output_type": "stream",
     "text": [
      "6\n"
     ]
    }
   ],
   "source": [
    "d = (\"Colorado\", \"Arizona\", \"California\", \"Nebraska\", \"New York\", \"Maryland\")\n",
    "print(len(d))"
   ]
  },
  {
   "cell_type": "code",
   "execution_count": 2,
   "id": "2e6ca755",
   "metadata": {},
   "outputs": [
    {
     "name": "stdout",
     "output_type": "stream",
     "text": [
      "<class 'str'>\n"
     ]
    }
   ],
   "source": [
    "#a comma must be added at the end if it contains a single item, else it is a string\n",
    "d1 = (\"California\")\n",
    "print(type(d1))"
   ]
  },
  {
   "cell_type": "code",
   "execution_count": 3,
   "id": "f6273b3b",
   "metadata": {},
   "outputs": [
    {
     "name": "stdout",
     "output_type": "stream",
     "text": [
      "<class 'tuple'>\n"
     ]
    }
   ],
   "source": [
    "d2 = (\"California\",)\n",
    "print(type(d2))"
   ]
  },
  {
   "cell_type": "code",
   "execution_count": 4,
   "id": "600b3a8d",
   "metadata": {},
   "outputs": [
    {
     "name": "stdout",
     "output_type": "stream",
     "text": [
      "('First', 'Second', 'Third')\n",
      "<class 'tuple'>\n"
     ]
    }
   ],
   "source": [
    "#tuple constructor\n",
    "d3 = tuple((\"First\", \"Second\", \"Third\"))\n",
    "print(d3)\n",
    "print(type(d3))"
   ]
  },
  {
   "cell_type": "code",
   "execution_count": 5,
   "id": "cdac97ac",
   "metadata": {},
   "outputs": [
    {
     "name": "stdout",
     "output_type": "stream",
     "text": [
      "Boulder\n",
      "Nigeria\n",
      "29\n"
     ]
    }
   ],
   "source": [
    "#tuple packing and unpacking\n",
    "d4 = (\"Boulder\",\"Nigeria\",29)\n",
    "(University, Country, Age) = d4\n",
    "print(University)\n",
    "print(Country)\n",
    "print(Age)"
   ]
  },
  {
   "cell_type": "code",
   "execution_count": 6,
   "id": "84b8ca8c",
   "metadata": {},
   "outputs": [
    {
     "name": "stdout",
     "output_type": "stream",
     "text": [
      "29\n",
      "['Paris', 'San Diego', '3100']\n",
      "11101\n",
      "Atlanta\n"
     ]
    }
   ],
   "source": [
    "#tuple packing and unpacking using (*args)\n",
    "#first and last will be assigned to element without *, \n",
    "#while the remaining will be assigned to the one with the *\n",
    "\n",
    "a, *b, c, d = (29, \"Paris\", \"San Diego\", \"3100\", 11101, \"Atlanta\")\n",
    "print(a)\n",
    "print(b)\n",
    "print(c)\n",
    "print(d)"
   ]
  },
  {
   "cell_type": "markdown",
   "id": "493a6f52",
   "metadata": {},
   "source": [
    "#### Tuple Methods"
   ]
  },
  {
   "cell_type": "code",
   "execution_count": 7,
   "id": "245c9077",
   "metadata": {},
   "outputs": [
    {
     "name": "stdout",
     "output_type": "stream",
     "text": [
      "3\n"
     ]
    }
   ],
   "source": [
    "d5 = (\"one\", \"two\", \"three\", \"one\", \"one\")\n",
    "print(d5.count(\"one\"))"
   ]
  },
  {
   "cell_type": "code",
   "execution_count": 8,
   "id": "c2a6285d",
   "metadata": {},
   "outputs": [
    {
     "name": "stdout",
     "output_type": "stream",
     "text": [
      "2\n"
     ]
    }
   ],
   "source": [
    "d6 = (\"one\", \"two\", \"three\", \"one\", \"one\")\n",
    "print(d6.index(\"three\"))"
   ]
  }
 ],
 "metadata": {
  "kernelspec": {
   "display_name": "Python 3 (ipykernel)",
   "language": "python",
   "name": "python3"
  },
  "language_info": {
   "codemirror_mode": {
    "name": "ipython",
    "version": 3
   },
   "file_extension": ".py",
   "mimetype": "text/x-python",
   "name": "python",
   "nbconvert_exporter": "python",
   "pygments_lexer": "ipython3",
   "version": "3.8.12"
  }
 },
 "nbformat": 4,
 "nbformat_minor": 5
}
