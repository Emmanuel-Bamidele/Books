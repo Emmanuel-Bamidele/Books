{
 "cells": [
  {
   "cell_type": "markdown",
   "id": "dc701c39",
   "metadata": {},
   "source": [
    "## Python Exception Handling"
   ]
  },
  {
   "cell_type": "markdown",
   "id": "464eca55",
   "metadata": {},
   "source": [
    "#### Write Exception for a Specific Error Type"
   ]
  },
  {
   "cell_type": "code",
   "execution_count": 95,
   "id": "7404032b",
   "metadata": {},
   "outputs": [
    {
     "name": "stdout",
     "output_type": "stream",
     "text": [
      "Denominator cannot be zero, check function inputs\n",
      "Done\n"
     ]
    }
   ],
   "source": [
    "def divide(a,b):\n",
    "    c = a/b\n",
    "    return c\n",
    "\n",
    "try:\n",
    "    divide(5,0)\n",
    "except ZeroDivisionError:\n",
    "    print(\"Denominator cannot be zero, check function inputs\")\n",
    "print(\"Done\")"
   ]
  },
  {
   "cell_type": "markdown",
   "id": "34a261a6",
   "metadata": {},
   "source": [
    "#### Handle all exceptions"
   ]
  },
  {
   "cell_type": "code",
   "execution_count": 96,
   "id": "bf6e0218",
   "metadata": {},
   "outputs": [
    {
     "name": "stdout",
     "output_type": "stream",
     "text": [
      "Can't divide, an error occurred\n",
      "Done\n"
     ]
    }
   ],
   "source": [
    "def divide(a,b):\n",
    "    c = a/b\n",
    "    return c\n",
    "\n",
    "try:\n",
    "    Ans = divide(5,0)\n",
    "except Exception:\n",
    "    print(\"Can't divide, an error occurred\")\n",
    "print(\"Done\")"
   ]
  }
 ],
 "metadata": {
  "kernelspec": {
   "display_name": "Python 3 (ipykernel)",
   "language": "python",
   "name": "python3"
  },
  "language_info": {
   "codemirror_mode": {
    "name": "ipython",
    "version": 3
   },
   "file_extension": ".py",
   "mimetype": "text/x-python",
   "name": "python",
   "nbconvert_exporter": "python",
   "pygments_lexer": "ipython3",
   "version": "3.8.12"
  }
 },
 "nbformat": 4,
 "nbformat_minor": 5
}
