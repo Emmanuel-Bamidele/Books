{
 "cells": [
  {
   "cell_type": "markdown",
   "id": "9d50de75",
   "metadata": {},
   "source": [
    "## Python Exception Handling"
   ]
  },
  {
   "cell_type": "markdown",
   "id": "32c98c57",
   "metadata": {},
   "source": [
    "#### Write Exception for a Specific Error Type"
   ]
  },
  {
   "cell_type": "code",
   "execution_count": 95,
   "id": "96d9d442",
   "metadata": {},
   "outputs": [
    {
     "name": "stdout",
     "output_type": "stream",
     "text": [
      "Denominator cannot be zero, check function inputs\n",
      "Done\n"
     ]
    }
   ],
   "source": [
    "def divide(a,b):\n",
    "    c = a/b\n",
    "    return c\n",
    "\n",
    "try:\n",
    "    divide(5,0)\n",
    "except ZeroDivisionError:\n",
    "    print(\"Denominator cannot be zero, check function inputs\")\n",
    "print(\"Done\")"
   ]
  },
  {
   "cell_type": "markdown",
   "id": "8e7c8ddd",
   "metadata": {},
   "source": [
    "#### Handle all exceptions"
   ]
  },
  {
   "cell_type": "code",
   "execution_count": 96,
   "id": "9b749f24",
   "metadata": {},
   "outputs": [
    {
     "name": "stdout",
     "output_type": "stream",
     "text": [
      "Can't divide, an error occurred\n",
      "Done\n"
     ]
    }
   ],
   "source": [
    "def divide(a,b):\n",
    "    c = a/b\n",
    "    return c\n",
    "\n",
    "try:\n",
    "    Ans = divide(5,0)\n",
    "except Exception:\n",
    "    print(\"Can't divide, an error occurred\")\n",
    "print(\"Done\")"
   ]
  },
  {
   "cell_type": "markdown",
   "id": "929e24df",
   "metadata": {},
   "source": [
    "#### Handle all exceptions, then specify the specific error type to the user"
   ]
  },
  {
   "cell_type": "code",
   "execution_count": 23,
   "id": "6dc483ff",
   "metadata": {},
   "outputs": [
    {
     "name": "stdout",
     "output_type": "stream",
     "text": [
      "Error Occured: ZeroDivisionError.\n",
      "Arguments: ('division by zero',)\n",
      "\n",
      "Done\n"
     ]
    }
   ],
   "source": [
    "def divide(a,b):\n",
    "    c = a/b\n",
    "    return c\n",
    "\n",
    "try:\n",
    "    Ans = divide(5,0)\n",
    "except Exception as ex:\n",
    "    format_ = \"Error Occured: {0}.\\nArguments: {1!r}\"\n",
    "    error_message = format_.format(type(ex).__name__, ex.args)\n",
    "    print(error_message)\n",
    "print(\"\\nDone\")"
   ]
  },
  {
   "cell_type": "code",
   "execution_count": null,
   "id": "e1f06d77",
   "metadata": {},
   "outputs": [],
   "source": []
  }
 ],
 "metadata": {
  "kernelspec": {
   "display_name": "Python 3 (ipykernel)",
   "language": "python",
   "name": "python3"
  },
  "language_info": {
   "codemirror_mode": {
    "name": "ipython",
    "version": 3
   },
   "file_extension": ".py",
   "mimetype": "text/x-python",
   "name": "python",
   "nbconvert_exporter": "python",
   "pygments_lexer": "ipython3",
   "version": "3.8.12"
  }
 },
 "nbformat": 4,
 "nbformat_minor": 5
}
