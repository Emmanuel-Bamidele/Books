{
 "cells": [
  {
   "cell_type": "markdown",
   "id": "5ce3140f",
   "metadata": {},
   "source": [
    "## Python File Handling"
   ]
  },
  {
   "cell_type": "markdown",
   "id": "6e896aa3",
   "metadata": {},
   "source": [
    "### Read mode and methods"
   ]
  },
  {
   "cell_type": "code",
   "execution_count": 1,
   "id": "ad28067c",
   "metadata": {},
   "outputs": [
    {
     "name": "stdout",
     "output_type": "stream",
     "text": [
      "﻿Date,Pric\n"
     ]
    }
   ],
   "source": [
    "filepath = \"/Users/emmanuel_bamidele/Desktop/Bamspace/Data_Science_Tutorial/Books/Software for STEM Grad Students/Data/Bitcoin Historical Data - Investing.com-2015_to_2022.csv\"\n",
    "file1 = open(filepath, 'r')\n",
    "print(file1.read(10)) #read only 10 characters"
   ]
  },
  {
   "cell_type": "code",
   "execution_count": 2,
   "id": "9946ce7e",
   "metadata": {},
   "outputs": [
    {
     "name": "stdout",
     "output_type": "stream",
     "text": [
      "True\n"
     ]
    }
   ],
   "source": [
    "print(file1.readable()) #check if the file is readable"
   ]
  },
  {
   "cell_type": "code",
   "execution_count": 3,
   "id": "1b6daf4a",
   "metadata": {},
   "outputs": [
    {
     "name": "stdout",
     "output_type": "stream",
     "text": [
      "﻿Date,Price,Open,High,Low,Vol.,Change %\n",
      "\n",
      "16-Feb-22,\"44,110.20\",\"44,540.90\",\"44,552.90\",\"43,692.20\",51.77K,-0.97%\n",
      "\n",
      "15-Feb-22,\"44,544.40\",\"42,550.30\",\"44,722.60\",\"42,460.10\",56.34K,4.69%\n",
      "\n"
     ]
    }
   ],
   "source": [
    "filepath = \"/Users/emmanuel_bamidele/Desktop/Bamspace/Data_Science_Tutorial/Books/Software for STEM Grad Students/Data/Bitcoin Historical Data - Investing.com-2015_to_2022.csv\"\n",
    "file1 = open(filepath, 'r')\n",
    "print(file1.readline()) #read a line, you can specify the bytes/characters in the parenthesis\n",
    "print(file1.readline()) #print next line\n",
    "print(file1.readline()) #print next line"
   ]
  },
  {
   "cell_type": "code",
   "execution_count": 4,
   "id": "93b3443e",
   "metadata": {},
   "outputs": [
    {
     "name": "stdout",
     "output_type": "stream",
     "text": [
      "['\\ufeffDate,Price,Open,High,Low,Vol.,Change %\\n', '16-Feb-22,\"44,110.20\",\"44,540.90\",\"44,552.90\",\"43,692.20\",51.77K,-0.97%\\n', '15-Feb-22,\"44,544.40\",\"42,550.30\",\"44,722.60\",\"42,460.10\",56.34K,4.69%\\n', '14-Feb-22,\"42,550.30\",\"42,061.10\",\"42,799.70\",\"41,591.30\",53.60K,1.16%\\n', '13-Feb-22,\"42,061.10\",\"42,205.50\",\"42,725.10\",\"41,880.10\",25.88K,-0.34%\\n', '12-Feb-22,\"42,205.20\",\"42,388.40\",\"43,006.40\",\"41,776.80\",37.88K,-0.43%\\n', '11-Feb-22,\"42,388.40\",\"43,519.30\",\"43,915.10\",\"42,023.40\",69.95K,-2.60%\\n', '10-Feb-22,\"43,521.00\",\"44,388.90\",\"45,755.20\",\"43,242.50\",89.69K,-1.96%\\n', '9-Feb-22,\"44,388.90\",\"44,038.20\",\"44,800.40\",\"43,163.00\",50.92K,0.80%\\n', '8-Feb-22,\"44,038.20\",\"43,833.90\",\"45,399.80\",\"42,705.00\",92.88K,0.47%\\n', '7-Feb-22,\"43,833.90\",\"42,385.20\",\"44,468.30\",\"41,695.40\",76.60K,3.40%\\n', '6-Feb-22,\"42,392.20\",\"41,411.90\",\"42,614.80\",\"41,176.30\",31.20K,2.37%\\n', '5-Feb-22,\"41,412.10\",\"41,566.50\",\"41,899.80\",\"40,963.30\",46.32K,-0.37%\\n', '4-Feb-22,\"41,567.60\",\"37,287.80\",\"41,689.00\",\"37,041.10\",95.49K,11.48%\\n', '3-Feb-22,\"37,287.80\",\"36,890.20\",\"37,304.30\",\"36,297.30\",50.35K,1.08%\\n']\n"
     ]
    }
   ],
   "source": [
    "filepath = \"/Users/emmanuel_bamidele/Desktop/Bamspace/Data_Science_Tutorial/Books/Software for STEM Grad Students/Data/Bitcoin Historical Data - Investing.com-2015_to_2022.csv\"\n",
    "file1 = open(filepath, 'r')\n",
    "print(file1.readlines(1000)) #read all or some lines, you can specify the bytes in the parenthesis"
   ]
  },
  {
   "cell_type": "code",
   "execution_count": 5,
   "id": "9773b671",
   "metadata": {},
   "outputs": [
    {
     "name": "stdout",
     "output_type": "stream",
     "text": [
      "True\n"
     ]
    }
   ],
   "source": [
    "print(file1.seekable()) #check if the file allows random access"
   ]
  },
  {
   "cell_type": "code",
   "execution_count": 6,
   "id": "2a9f8228",
   "metadata": {},
   "outputs": [
    {
     "name": "stdout",
     "output_type": "stream",
     "text": [
      "72\n"
     ]
    }
   ],
   "source": [
    "print(file1.fileno()) #file descriptor"
   ]
  },
  {
   "cell_type": "markdown",
   "id": "c0cee39e",
   "metadata": {},
   "source": [
    "#### Reading file backward in python"
   ]
  },
  {
   "cell_type": "code",
   "execution_count": 7,
   "id": "438c56af",
   "metadata": {},
   "outputs": [
    {
     "name": "stdout",
     "output_type": "stream",
     "text": [
      "3-Feb-22,\"37,287.80\",\"36,890.20\",\"37,304.30\",\"36,297.30\",50.35K,1.08%\n",
      "\n",
      "4-Feb-22,\"41,567.60\",\"37,287.80\",\"41,689.00\",\"37,041.10\",95.49K,11.48%\n",
      "\n",
      "5-Feb-22,\"41,412.10\",\"41,566.50\",\"41,899.80\",\"40,963.30\",46.32K,-0.37%\n",
      "\n",
      "6-Feb-22,\"42,392.20\",\"41,411.90\",\"42,614.80\",\"41,176.30\",31.20K,2.37%\n",
      "\n",
      "7-Feb-22,\"43,833.90\",\"42,385.20\",\"44,468.30\",\"41,695.40\",76.60K,3.40%\n",
      "\n",
      "8-Feb-22,\"44,038.20\",\"43,833.90\",\"45,399.80\",\"42,705.00\",92.88K,0.47%\n",
      "\n",
      "9-Feb-22,\"44,388.90\",\"44,038.20\",\"44,800.40\",\"43,163.00\",50.92K,0.80%\n",
      "\n",
      "10-Feb-22,\"43,521.00\",\"44,388.90\",\"45,755.20\",\"43,242.50\",89.69K,-1.96%\n",
      "\n",
      "11-Feb-22,\"42,388.40\",\"43,519.30\",\"43,915.10\",\"42,023.40\",69.95K,-2.60%\n",
      "\n",
      "12-Feb-22,\"42,205.20\",\"42,388.40\",\"43,006.40\",\"41,776.80\",37.88K,-0.43%\n",
      "\n",
      "13-Feb-22,\"42,061.10\",\"42,205.50\",\"42,725.10\",\"41,880.10\",25.88K,-0.34%\n",
      "\n",
      "14-Feb-22,\"42,550.30\",\"42,061.10\",\"42,799.70\",\"41,591.30\",53.60K,1.16%\n",
      "\n",
      "15-Feb-22,\"44,544.40\",\"42,550.30\",\"44,722.60\",\"42,460.10\",56.34K,4.69%\n",
      "\n",
      "16-Feb-22,\"44,110.20\",\"44,540.90\",\"44,552.90\",\"43,692.20\",51.77K,-0.97%\n",
      "\n",
      "﻿Date,Price,Open,High,Low,Vol.,Change %\n",
      "\n"
     ]
    }
   ],
   "source": [
    "filepath = \"/Users/emmanuel_bamidele/Desktop/Bamspace/Data_Science_Tutorial/Books/Software for STEM Grad Students/Data/Bitcoin Historical Data - Investing.com-2015_to_2022.csv\"\n",
    "file1 = open(filepath, 'r')\n",
    "file_list = file1.readlines(1000) #read all lines, you can specify the bytes in the parenthesis\n",
    "\n",
    "for line in reversed(file_list):\n",
    "    print(line)\n",
    "file1.close()"
   ]
  },
  {
   "cell_type": "markdown",
   "id": "4f571c6c",
   "metadata": {},
   "source": [
    "#### Print a particular line of the data in your file"
   ]
  },
  {
   "cell_type": "code",
   "execution_count": 8,
   "id": "f881865c",
   "metadata": {},
   "outputs": [
    {
     "name": "stdout",
     "output_type": "stream",
     "text": [
      "﻿Date,Price,Open,High,Low,Vol.,Change %\n",
      "\n",
      "7-Feb-22,\"43,833.90\",\"42,385.20\",\"44,468.30\",\"41,695.40\",76.60K,3.40%\n",
      "\n",
      "1-Jan-15,314.9,318.2,321.4,313.5,12.82K,-1.05%\n"
     ]
    }
   ],
   "source": [
    "filepath = \"/Users/emmanuel_bamidele/Desktop/Bamspace/Data_Science_Tutorial/Books/Software for STEM Grad Students/Data/Bitcoin Historical Data - Investing.com-2015_to_2022.csv\"\n",
    "file1 = open(filepath, 'r')\n",
    "file_list = file1.readlines() #read all lines\n",
    "\n",
    "def line_print(index, filelist):\n",
    "    print(filelist[index])\n",
    "    \n",
    "line_print(0, file_list) #print first line\n",
    "line_print(10, file_list) #print line 11 (index 10)\n",
    "line_print(-1, file_list) #print last line"
   ]
  },
  {
   "cell_type": "markdown",
   "id": "7cea7a32",
   "metadata": {},
   "source": [
    "#### Skip a line"
   ]
  },
  {
   "cell_type": "code",
   "execution_count": 9,
   "id": "127edc04",
   "metadata": {
    "scrolled": true
   },
   "outputs": [
    {
     "name": "stdout",
     "output_type": "stream",
     "text": [
      "14-Feb-22,\"42,550.30\",\"42,061.10\",\"42,799.70\",\"41,591.30\",53.60K,1.16%\n",
      "\n"
     ]
    }
   ],
   "source": [
    "filepath = \"/Users/emmanuel_bamidele/Desktop/Bamspace/Data_Science_Tutorial/Books/Software for STEM Grad Students/Data/Bitcoin Historical Data - Investing.com-2015_to_2022.csv\"\n",
    "file1 = open(filepath, 'r')\n",
    "\n",
    "next(file1) #skip a line\n",
    "next(file1) #skip the next line again\n",
    "next(file1) #skip one more line\n",
    "\n",
    "print(file1.readline()) #read the current line"
   ]
  },
  {
   "cell_type": "markdown",
   "id": "e0989fd4",
   "metadata": {},
   "source": [
    "### Write mode and methods"
   ]
  },
  {
   "cell_type": "code",
   "execution_count": 10,
   "id": "6e24c6bb",
   "metadata": {},
   "outputs": [
    {
     "name": "stdout",
     "output_type": "stream",
     "text": [
      "Enter the file name and extension: experiment_data.csv\n"
     ]
    }
   ],
   "source": [
    "file_name = input(\"Enter the file name and extension: \") #take file name from user\n",
    "file_path = \"/Users/emmanuel_bamidele/Desktop/Bamspace/Data_Science_Tutorial/Books/Software for STEM Grad Students/Data/\" + str(file_name)\n",
    "\n",
    "file2 = open(file_path, 'w')\n",
    "file2.write('Time (s)' + '\\t' + \"Temperature (K)\" + '\\t' + \"Speed (m/s)\" + '\\t' + \"Pressure (MPa)\" + \"\\n\")\n",
    "file2.write(\"0.0\" + '\\t' + \"700\" + '\\t' + \"15.6\" + '\\t' + \"11\" + \"\\n\")\n",
    "file2.write(\"0.1\" + '\\t' + \"720\" + '\\t' + \"15.7\" + '\\t' + \"15\" + \"\\n\")\n",
    "file2.write(\"0.2\" + '\\t' + \"740\" + '\\t' + \"15.9\" + '\\t' + \"23\" + \"\\n\")\n",
    "file2.write(\"0.3\" + '\\t' + \"755\" + '\\t' + \"16.1\" + '\\t' + \"24\" + \"\\n\")\n",
    "file2.write(\"0.4\" + '\\t' + \"763\" + '\\t' + \"16.6\" + '\\t' + \"28\" + \"\\n\")\n",
    "file2.write(\"0.5\" + '\\t' + '770' + '\\t' + \"17.3\" + '\\t' + \"32\" + \"\\n\")\n",
    "\n",
    "file2.close()"
   ]
  },
  {
   "cell_type": "code",
   "execution_count": 11,
   "id": "5e3e3226",
   "metadata": {},
   "outputs": [
    {
     "name": "stdout",
     "output_type": "stream",
     "text": [
      "Time (s)\tTemperature (K)\tSpeed (m/s)\tPressure (MPa)\n",
      "\n",
      "0.0\t700\t15.6\t11\n",
      "\n",
      "0.1\t720\t15.7\t15\n",
      "\n",
      "0.2\t740\t15.9\t23\n",
      "\n",
      "0.3\t755\t16.1\t24\n",
      "\n",
      "0.4\t763\t16.6\t28\n",
      "\n",
      "0.5\t770\t17.3\t32\n",
      "\n"
     ]
    }
   ],
   "source": [
    "#let's view the file\n",
    "\n",
    "filepath = \"/Users/emmanuel_bamidele/Desktop/Bamspace/Data_Science_Tutorial/Books/Software for STEM Grad Students/Data/experiment_data.csv\"\n",
    "file3 = open(filepath, 'r')\n",
    "file_list3 = file3.readlines() #read all lines\n",
    "\n",
    "for line in file_list3:\n",
    "    print(line)"
   ]
  },
  {
   "cell_type": "markdown",
   "id": "4ec7c106",
   "metadata": {},
   "source": [
    "#### Writing multiple line"
   ]
  },
  {
   "cell_type": "code",
   "execution_count": 12,
   "id": "d5c4801c",
   "metadata": {},
   "outputs": [
    {
     "name": "stdout",
     "output_type": "stream",
     "text": [
      "Enter the file name and extension: exp_data2.csv\n"
     ]
    }
   ],
   "source": [
    "file_name = input(\"Enter the file name and extension: \") #take file name from user\n",
    "file_path = \"/Users/emmanuel_bamidele/Desktop/Bamspace/Data_Science_Tutorial/Books/Software for STEM Grad Students/Data/\" + str(file_name)\n",
    "\n",
    "file3 = open(file_path, 'w')\n",
    "header = 'Time (s)' + '\\t' + \"Temperature (K)\" + '\\t' + \"Speed (m/s)\" + '\\t' + \"Pressure (MPa)\" + \"\\n\"\n",
    "\n",
    "others = [\"1.0\" + '\\t' + \"700\" + '\\t' + \"15.6\" + '\\t' + \"11\" + \"\\n\",\n",
    "          \"10.0\" + '\\t' + \"720\" + '\\t' + \"15.7\" + '\\t' + \"15\" + \"\\n\",\n",
    "          \"15.5\" + '\\t' + \"740\" + '\\t' + \"15.9\" + '\\t' + \"23\" + \"\\n\",\n",
    "          \"21.3\" + '\\t' + \"755\" + '\\t' + \"16.1\" + '\\t' + \"24\" + \"\\n\"]\n",
    "\n",
    "file3.write(header) #write the header\n",
    "file3.writelines(others)\n",
    "\n",
    "file3.close()"
   ]
  },
  {
   "cell_type": "code",
   "execution_count": 13,
   "id": "8fc36abd",
   "metadata": {},
   "outputs": [
    {
     "name": "stdout",
     "output_type": "stream",
     "text": [
      "Time (s)\tTemperature (K)\tSpeed (m/s)\tPressure (MPa)\n",
      "\n",
      "1.0\t700\t15.6\t11\n",
      "\n",
      "10.0\t720\t15.7\t15\n",
      "\n",
      "15.5\t740\t15.9\t23\n",
      "\n",
      "21.3\t755\t16.1\t24\n",
      "\n"
     ]
    }
   ],
   "source": [
    "#let's view the file\n",
    "\n",
    "filepath = \"/Users/emmanuel_bamidele/Desktop/Bamspace/Data_Science_Tutorial/Books/Software for STEM Grad Students/Data/exp_data2.csv\"\n",
    "file4 = open(filepath, 'r')\n",
    "file_list4 = file4.readlines() #read all lines\n",
    "\n",
    "for line in file_list4:\n",
    "    print(line)"
   ]
  },
  {
   "cell_type": "markdown",
   "id": "3fa8ab9c",
   "metadata": {},
   "source": [
    "### Append Mode"
   ]
  },
  {
   "cell_type": "code",
   "execution_count": 14,
   "id": "43c0d265",
   "metadata": {},
   "outputs": [],
   "source": [
    "filepath = \"/Users/emmanuel_bamidele/Desktop/Bamspace/Data_Science_Tutorial/Books/Software for STEM Grad Students/Data/exp_data2.csv\"\n",
    "\n",
    "file4 = open(file_path, 'a')\n",
    "others = [\"31.0\" + '\\t' + \"800\" + '\\t' + \"17.6\" + '\\t' + \"27\" + \"\\n\",\n",
    "          \"40.0\" + '\\t' + \"820\" + '\\t' + \"18.7\" + '\\t' + \"29\" + \"\\n\"]\n",
    "\n",
    "file4.writelines(others)\n",
    "\n",
    "file4.close()"
   ]
  },
  {
   "cell_type": "code",
   "execution_count": 15,
   "id": "c792f93e",
   "metadata": {},
   "outputs": [
    {
     "name": "stdout",
     "output_type": "stream",
     "text": [
      "Time (s)\tTemperature (K)\tSpeed (m/s)\tPressure (MPa)\n",
      "\n",
      "1.0\t700\t15.6\t11\n",
      "\n",
      "10.0\t720\t15.7\t15\n",
      "\n",
      "15.5\t740\t15.9\t23\n",
      "\n",
      "21.3\t755\t16.1\t24\n",
      "\n",
      "31.0\t800\t17.6\t27\n",
      "\n",
      "40.0\t820\t18.7\t29\n",
      "\n"
     ]
    }
   ],
   "source": [
    "#let's view the file\n",
    "\n",
    "filepath = \"/Users/emmanuel_bamidele/Desktop/Bamspace/Data_Science_Tutorial/Books/Software for STEM Grad Students/Data/exp_data2.csv\"\n",
    "file5 = open(filepath, 'r')\n",
    "file_list5 = file5.readlines() #read all lines\n",
    "\n",
    "for line in file_list5:\n",
    "    print(line)"
   ]
  }
 ],
 "metadata": {
  "kernelspec": {
   "display_name": "Python 3 (ipykernel)",
   "language": "python",
   "name": "python3"
  },
  "language_info": {
   "codemirror_mode": {
    "name": "ipython",
    "version": 3
   },
   "file_extension": ".py",
   "mimetype": "text/x-python",
   "name": "python",
   "nbconvert_exporter": "python",
   "pygments_lexer": "ipython3",
   "version": "3.8.12"
  }
 },
 "nbformat": 4,
 "nbformat_minor": 5
}
