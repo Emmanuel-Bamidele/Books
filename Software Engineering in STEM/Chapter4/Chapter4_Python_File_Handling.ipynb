{
 "cells": [
  {
   "cell_type": "markdown",
   "id": "927c317c",
   "metadata": {},
   "source": [
    "## Python File Handling"
   ]
  },
  {
   "cell_type": "markdown",
   "id": "385fda5a",
   "metadata": {},
   "source": [
    "#### Read mode and methods"
   ]
  },
  {
   "cell_type": "code",
   "execution_count": 1,
   "id": "1bdc3e6b",
   "metadata": {},
   "outputs": [
    {
     "name": "stdout",
     "output_type": "stream",
     "text": [
      "﻿Date,Pric\n"
     ]
    }
   ],
   "source": [
    "filepath = \"/Users/emmanuel_bamidele/Desktop/Bamspace/Data_Science_Tutorial/Books/Software for STEM Grad Students/Data/Bitcoin Historical Data - Investing.com-2015_to_2022.csv\"\n",
    "file1 = open(filepath, 'r')\n",
    "print(file1.read(10)) #read only 10 characters"
   ]
  },
  {
   "cell_type": "code",
   "execution_count": 2,
   "id": "f70231fb",
   "metadata": {},
   "outputs": [
    {
     "name": "stdout",
     "output_type": "stream",
     "text": [
      "True\n"
     ]
    }
   ],
   "source": [
    "print(file1.readable()) #check if the file is readable"
   ]
  },
  {
   "cell_type": "code",
   "execution_count": 3,
   "id": "b690f659",
   "metadata": {},
   "outputs": [
    {
     "name": "stdout",
     "output_type": "stream",
     "text": [
      "﻿Date,Price,Open,High,Low,Vol.,Change %\n",
      "\n",
      "16-Feb-22,\"44,110.20\",\"44,540.90\",\"44,552.90\",\"43,692.20\",51.77K,-0.97%\n",
      "\n",
      "15-Feb-22,\"44,544.40\",\"42,550.30\",\"44,722.60\",\"42,460.10\",56.34K,4.69%\n",
      "\n"
     ]
    }
   ],
   "source": [
    "filepath = \"/Users/emmanuel_bamidele/Desktop/Bamspace/Data_Science_Tutorial/Books/Software for STEM Grad Students/Data/Bitcoin Historical Data - Investing.com-2015_to_2022.csv\"\n",
    "file1 = open(filepath, 'r')\n",
    "print(file1.readline()) #read a line, you can specify the bytes/characters in the parenthesis\n",
    "print(file1.readline()) #print next line\n",
    "print(file1.readline()) #print next line"
   ]
  },
  {
   "cell_type": "code",
   "execution_count": 4,
   "id": "5cee1440",
   "metadata": {},
   "outputs": [
    {
     "name": "stdout",
     "output_type": "stream",
     "text": [
      "['\\ufeffDate,Price,Open,High,Low,Vol.,Change %\\n', '16-Feb-22,\"44,110.20\",\"44,540.90\",\"44,552.90\",\"43,692.20\",51.77K,-0.97%\\n', '15-Feb-22,\"44,544.40\",\"42,550.30\",\"44,722.60\",\"42,460.10\",56.34K,4.69%\\n', '14-Feb-22,\"42,550.30\",\"42,061.10\",\"42,799.70\",\"41,591.30\",53.60K,1.16%\\n', '13-Feb-22,\"42,061.10\",\"42,205.50\",\"42,725.10\",\"41,880.10\",25.88K,-0.34%\\n', '12-Feb-22,\"42,205.20\",\"42,388.40\",\"43,006.40\",\"41,776.80\",37.88K,-0.43%\\n', '11-Feb-22,\"42,388.40\",\"43,519.30\",\"43,915.10\",\"42,023.40\",69.95K,-2.60%\\n', '10-Feb-22,\"43,521.00\",\"44,388.90\",\"45,755.20\",\"43,242.50\",89.69K,-1.96%\\n', '9-Feb-22,\"44,388.90\",\"44,038.20\",\"44,800.40\",\"43,163.00\",50.92K,0.80%\\n', '8-Feb-22,\"44,038.20\",\"43,833.90\",\"45,399.80\",\"42,705.00\",92.88K,0.47%\\n', '7-Feb-22,\"43,833.90\",\"42,385.20\",\"44,468.30\",\"41,695.40\",76.60K,3.40%\\n', '6-Feb-22,\"42,392.20\",\"41,411.90\",\"42,614.80\",\"41,176.30\",31.20K,2.37%\\n', '5-Feb-22,\"41,412.10\",\"41,566.50\",\"41,899.80\",\"40,963.30\",46.32K,-0.37%\\n', '4-Feb-22,\"41,567.60\",\"37,287.80\",\"41,689.00\",\"37,041.10\",95.49K,11.48%\\n', '3-Feb-22,\"37,287.80\",\"36,890.20\",\"37,304.30\",\"36,297.30\",50.35K,1.08%\\n']\n"
     ]
    }
   ],
   "source": [
    "filepath = \"/Users/emmanuel_bamidele/Desktop/Bamspace/Data_Science_Tutorial/Books/Software for STEM Grad Students/Data/Bitcoin Historical Data - Investing.com-2015_to_2022.csv\"\n",
    "file1 = open(filepath, 'r')\n",
    "print(file1.readlines(1000)) #read all or some lines, you can specify the bytes in the parenthesis"
   ]
  },
  {
   "cell_type": "code",
   "execution_count": 5,
   "id": "53663597",
   "metadata": {},
   "outputs": [
    {
     "name": "stdout",
     "output_type": "stream",
     "text": [
      "True\n"
     ]
    }
   ],
   "source": [
    "print(file1.seekable()) #check if the file allows random access"
   ]
  },
  {
   "cell_type": "code",
   "execution_count": 6,
   "id": "3fdb7827",
   "metadata": {},
   "outputs": [
    {
     "name": "stdout",
     "output_type": "stream",
     "text": [
      "73\n"
     ]
    }
   ],
   "source": [
    "print(file1.fileno()) #file descriptor"
   ]
  },
  {
   "cell_type": "markdown",
   "id": "39958c4e",
   "metadata": {},
   "source": [
    "#### Reading file backward in python"
   ]
  },
  {
   "cell_type": "code",
   "execution_count": 9,
   "id": "5d064992",
   "metadata": {},
   "outputs": [
    {
     "name": "stdout",
     "output_type": "stream",
     "text": [
      "3-Feb-22,\"37,287.80\",\"36,890.20\",\"37,304.30\",\"36,297.30\",50.35K,1.08%\n",
      "\n",
      "4-Feb-22,\"41,567.60\",\"37,287.80\",\"41,689.00\",\"37,041.10\",95.49K,11.48%\n",
      "\n",
      "5-Feb-22,\"41,412.10\",\"41,566.50\",\"41,899.80\",\"40,963.30\",46.32K,-0.37%\n",
      "\n",
      "6-Feb-22,\"42,392.20\",\"41,411.90\",\"42,614.80\",\"41,176.30\",31.20K,2.37%\n",
      "\n",
      "7-Feb-22,\"43,833.90\",\"42,385.20\",\"44,468.30\",\"41,695.40\",76.60K,3.40%\n",
      "\n",
      "8-Feb-22,\"44,038.20\",\"43,833.90\",\"45,399.80\",\"42,705.00\",92.88K,0.47%\n",
      "\n",
      "9-Feb-22,\"44,388.90\",\"44,038.20\",\"44,800.40\",\"43,163.00\",50.92K,0.80%\n",
      "\n",
      "10-Feb-22,\"43,521.00\",\"44,388.90\",\"45,755.20\",\"43,242.50\",89.69K,-1.96%\n",
      "\n",
      "11-Feb-22,\"42,388.40\",\"43,519.30\",\"43,915.10\",\"42,023.40\",69.95K,-2.60%\n",
      "\n",
      "12-Feb-22,\"42,205.20\",\"42,388.40\",\"43,006.40\",\"41,776.80\",37.88K,-0.43%\n",
      "\n",
      "13-Feb-22,\"42,061.10\",\"42,205.50\",\"42,725.10\",\"41,880.10\",25.88K,-0.34%\n",
      "\n",
      "14-Feb-22,\"42,550.30\",\"42,061.10\",\"42,799.70\",\"41,591.30\",53.60K,1.16%\n",
      "\n",
      "15-Feb-22,\"44,544.40\",\"42,550.30\",\"44,722.60\",\"42,460.10\",56.34K,4.69%\n",
      "\n",
      "16-Feb-22,\"44,110.20\",\"44,540.90\",\"44,552.90\",\"43,692.20\",51.77K,-0.97%\n",
      "\n",
      "﻿Date,Price,Open,High,Low,Vol.,Change %\n",
      "\n"
     ]
    }
   ],
   "source": [
    "filepath = \"/Users/emmanuel_bamidele/Desktop/Bamspace/Data_Science_Tutorial/Books/Software for STEM Grad Students/Data/Bitcoin Historical Data - Investing.com-2015_to_2022.csv\"\n",
    "file1 = open(filepath, 'r')\n",
    "file_list = file1.readlines(1000) #read all lines, you can specify the bytes in the parenthesis\n",
    "\n",
    "for line in reversed(file_list):\n",
    "    print(line)\n",
    "file1.close()"
   ]
  },
  {
   "cell_type": "markdown",
   "id": "902d1b81",
   "metadata": {},
   "source": [
    "#### Print a particular line of the data in your file"
   ]
  },
  {
   "cell_type": "code",
   "execution_count": 15,
   "id": "e8061648",
   "metadata": {},
   "outputs": [
    {
     "name": "stdout",
     "output_type": "stream",
     "text": [
      "﻿Date,Price,Open,High,Low,Vol.,Change %\n",
      "\n",
      "7-Feb-22,\"43,833.90\",\"42,385.20\",\"44,468.30\",\"41,695.40\",76.60K,3.40%\n",
      "\n",
      "1-Jan-15,314.9,318.2,321.4,313.5,12.82K,-1.05%\n"
     ]
    }
   ],
   "source": [
    "filepath = \"/Users/emmanuel_bamidele/Desktop/Bamspace/Data_Science_Tutorial/Books/Software for STEM Grad Students/Data/Bitcoin Historical Data - Investing.com-2015_to_2022.csv\"\n",
    "file1 = open(filepath, 'r')\n",
    "file_list = file1.readlines() #read all lines\n",
    "\n",
    "def line_print(index, filelist):\n",
    "    print(filelist[index])\n",
    "    \n",
    "line_print(0, file_list) #print first line\n",
    "line_print(10, file_list) #print line 11 (index 10)\n",
    "line_print(-1, file_list) #print last line"
   ]
  },
  {
   "cell_type": "code",
   "execution_count": null,
   "id": "f446a396",
   "metadata": {},
   "outputs": [],
   "source": []
  }
 ],
 "metadata": {
  "kernelspec": {
   "display_name": "Python 3 (ipykernel)",
   "language": "python",
   "name": "python3"
  },
  "language_info": {
   "codemirror_mode": {
    "name": "ipython",
    "version": 3
   },
   "file_extension": ".py",
   "mimetype": "text/x-python",
   "name": "python",
   "nbconvert_exporter": "python",
   "pygments_lexer": "ipython3",
   "version": "3.8.12"
  }
 },
 "nbformat": 4,
 "nbformat_minor": 5
}
