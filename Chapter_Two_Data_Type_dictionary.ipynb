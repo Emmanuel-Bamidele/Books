{
 "cells": [
  {
   "cell_type": "markdown",
   "id": "b2c929bf",
   "metadata": {},
   "source": [
    "### Data Type"
   ]
  },
  {
   "cell_type": "markdown",
   "id": "8dd531e9",
   "metadata": {},
   "source": [
    "### Dictionary"
   ]
  },
  {
   "cell_type": "code",
   "execution_count": 1,
   "id": "6eb159ea",
   "metadata": {},
   "outputs": [
    {
     "name": "stdout",
     "output_type": "stream",
     "text": [
      "{'First': 1, 'Second': 2, 'Long': True, 'Luxury': 'Yes'}\n"
     ]
    }
   ],
   "source": [
    "g = {\"First\":1, \"Second\":2, \"Long\":True, \"Luxury\":\"Yes\"}\n",
    "print(g)"
   ]
  },
  {
   "cell_type": "code",
   "execution_count": 2,
   "id": "dfbd2c8f",
   "metadata": {},
   "outputs": [
    {
     "name": "stdout",
     "output_type": "stream",
     "text": [
      "Accord\n"
     ]
    },
    {
     "ename": "KeyError",
     "evalue": "1",
     "output_type": "error",
     "traceback": [
      "\u001b[0;31m---------------------------------------------------------------------------\u001b[0m",
      "\u001b[0;31mKeyError\u001b[0m                                  Traceback (most recent call last)",
      "\u001b[0;32m/var/folders/sn/f5tw20014xv6btlq0tlfyrnr0000gn/T/ipykernel_1465/1073083965.py\u001b[0m in \u001b[0;36m<module>\u001b[0;34m\u001b[0m\n\u001b[1;32m      1\u001b[0m \u001b[0mg1\u001b[0m \u001b[0;34m=\u001b[0m \u001b[0;34m{\u001b[0m\u001b[0;34m\"Brand\"\u001b[0m\u001b[0;34m:\u001b[0m\u001b[0;34m\"Honda\"\u001b[0m\u001b[0;34m,\u001b[0m \u001b[0;34m\"Model\"\u001b[0m\u001b[0;34m:\u001b[0m \u001b[0;34m\"Accord\"\u001b[0m\u001b[0;34m,\u001b[0m \u001b[0;34m\"Year\"\u001b[0m\u001b[0;34m:\u001b[0m \u001b[0;36m2022\u001b[0m\u001b[0;34m,\u001b[0m \u001b[0;34m\"Mileage\"\u001b[0m\u001b[0;34m:\u001b[0m\u001b[0;36m7\u001b[0m\u001b[0;34m}\u001b[0m\u001b[0;34m\u001b[0m\u001b[0;34m\u001b[0m\u001b[0m\n\u001b[1;32m      2\u001b[0m \u001b[0mprint\u001b[0m\u001b[0;34m(\u001b[0m\u001b[0mg1\u001b[0m\u001b[0;34m[\u001b[0m\u001b[0;34m\"Model\"\u001b[0m\u001b[0;34m]\u001b[0m\u001b[0;34m)\u001b[0m \u001b[0;31m#returns the value for the Model key\u001b[0m\u001b[0;34m\u001b[0m\u001b[0;34m\u001b[0m\u001b[0m\n\u001b[0;32m----> 3\u001b[0;31m \u001b[0mprint\u001b[0m\u001b[0;34m(\u001b[0m\u001b[0mg1\u001b[0m\u001b[0;34m[\u001b[0m\u001b[0;36m1\u001b[0m\u001b[0;34m]\u001b[0m\u001b[0;34m)\u001b[0m \u001b[0;31m#returns an error\u001b[0m\u001b[0;34m\u001b[0m\u001b[0;34m\u001b[0m\u001b[0m\n\u001b[0m",
      "\u001b[0;31mKeyError\u001b[0m: 1"
     ]
    }
   ],
   "source": [
    "g1 = {\"Brand\":\"Honda\", \"Model\": \"Accord\", \"Year\": 2022, \"Mileage\":7}\n",
    "print(g1[\"Model\"]) #returns the value for the Model key\n",
    "print(g1[1]) #returns an error"
   ]
  },
  {
   "cell_type": "code",
   "execution_count": 3,
   "id": "3dded037",
   "metadata": {},
   "outputs": [
    {
     "name": "stdout",
     "output_type": "stream",
     "text": [
      "{'Brand': 'Honda', 'Model': 'Accord', 'Year': 2022, 'Mileage': 5}\n"
     ]
    }
   ],
   "source": [
    "g2 = {\"Brand\":\"Honda\", \"Model\": \"Accord\", \"Year\": 2022, \"Mileage\":7, \"Mileage\": 5}\n",
    "print(g2) #returns the modified value of Mileage"
   ]
  },
  {
   "cell_type": "code",
   "execution_count": 4,
   "id": "e57e11c2",
   "metadata": {},
   "outputs": [
    {
     "name": "stdout",
     "output_type": "stream",
     "text": [
      "4\n"
     ]
    }
   ],
   "source": [
    "g3 = {\"Brand\":\"Honda\", \"Model\": \"Accord\", \"Year\": 2022, \"Mileage\":7}\n",
    "print(len(g3))"
   ]
  },
  {
   "cell_type": "code",
   "execution_count": 5,
   "id": "d2b769a5",
   "metadata": {},
   "outputs": [
    {
     "name": "stdout",
     "output_type": "stream",
     "text": [
      "<class 'dict'>\n"
     ]
    }
   ],
   "source": [
    "g4 = {\"Brand\":\"Honda\", \"Model\": \"Accord\", \"Year\": 2022, \"Mileage\":7}\n",
    "print(type(g4))"
   ]
  },
  {
   "cell_type": "markdown",
   "id": "2b3f6a54",
   "metadata": {},
   "source": [
    "#### Dictionary Methods"
   ]
  },
  {
   "cell_type": "code",
   "execution_count": 6,
   "id": "1b601a47",
   "metadata": {},
   "outputs": [
    {
     "name": "stdout",
     "output_type": "stream",
     "text": [
      "{}\n"
     ]
    }
   ],
   "source": [
    "g5 = {\"Brand\":\"Honda\", \"Model\": \"Accord\",\n",
    "      \"Year\": 2022, \"Mileage\":7}\n",
    "g5.clear()\n",
    "print(g5)"
   ]
  },
  {
   "cell_type": "code",
   "execution_count": 7,
   "id": "210e8308",
   "metadata": {},
   "outputs": [
    {
     "name": "stdout",
     "output_type": "stream",
     "text": [
      "{'Brand': 'Honda', 'Model': 'Accord'}\n"
     ]
    }
   ],
   "source": [
    "g6 = {\"Brand\":\"Honda\", \"Model\": \"Accord\"}\n",
    "g7 = g6.copy()\n",
    "print(g7)"
   ]
  },
  {
   "cell_type": "code",
   "execution_count": 8,
   "id": "bdfea3f3",
   "metadata": {},
   "outputs": [
    {
     "name": "stdout",
     "output_type": "stream",
     "text": [
      "{\"Tim's Age\": 30, \"Tom's Age\": 30}\n",
      "{\"Tim's Age\": (29, 30), \"Tom's Age\": (29, 30)}\n"
     ]
    }
   ],
   "source": [
    "g8 = (\"Tim's Age\", \"Tom's Age\")\n",
    "g9 = 30\n",
    "g10 = 29, 30\n",
    "\n",
    "g11 = dict.fromkeys(g8,g9)\n",
    "g12 = dict.fromkeys(g8, g10)\n",
    "print(g11)\n",
    "print(g12) #does not assign each"
   ]
  },
  {
   "cell_type": "code",
   "execution_count": 9,
   "id": "0f407e7c",
   "metadata": {},
   "outputs": [
    {
     "name": "stdout",
     "output_type": "stream",
     "text": [
      "Honda\n"
     ]
    }
   ],
   "source": [
    "g13 = {\"Brand\":\"Honda\", \"Model\": \"Accord\"}\n",
    "print(g13.get('Brand'))"
   ]
  },
  {
   "cell_type": "code",
   "execution_count": 10,
   "id": "cccd6924",
   "metadata": {},
   "outputs": [
    {
     "name": "stdout",
     "output_type": "stream",
     "text": [
      "dict_items([('Brand', 'Honda'), ('Model', 'Accord')])\n",
      "<class 'dict_items'>\n"
     ]
    }
   ],
   "source": [
    "g14 = {\"Brand\":\"Honda\", \"Model\": \"Accord\"}\n",
    "print(g14.items())\n",
    "print(type(g14.items()))"
   ]
  },
  {
   "cell_type": "code",
   "execution_count": 11,
   "id": "06ea2813",
   "metadata": {},
   "outputs": [
    {
     "name": "stdout",
     "output_type": "stream",
     "text": [
      "dict_keys(['Brand', 'Model', 'Year', 'Mileage'])\n",
      "<class 'dict_items'>\n"
     ]
    }
   ],
   "source": [
    "g15 = {\"Brand\":\"Honda\", \"Model\": \"Accord\",\n",
    "      \"Year\": 2022, \"Mileage\":7}\n",
    "print(g15.keys())\n",
    "print(type(g15.items()))"
   ]
  },
  {
   "cell_type": "code",
   "execution_count": 12,
   "id": "fa9e0dae",
   "metadata": {},
   "outputs": [
    {
     "name": "stdout",
     "output_type": "stream",
     "text": [
      "7\n",
      "{'Brand': 'Honda', 'Model': 'Accord', 'Year': 2022}\n"
     ]
    }
   ],
   "source": [
    "g16 = {\"Brand\":\"Honda\", \"Model\": \"Accord\",\n",
    "      \"Year\": 2022, \"Mileage\":7}\n",
    "g17 = g16.pop(\"Mileage\")\n",
    "print(g17) #assigns popped item to g17\n",
    "print(g16) #removed popped item from g16"
   ]
  },
  {
   "cell_type": "code",
   "execution_count": 13,
   "id": "780186ca",
   "metadata": {},
   "outputs": [
    {
     "name": "stdout",
     "output_type": "stream",
     "text": [
      "('Year', 2022)\n",
      "{'Brand': 'Honda', 'Model': 'Accord'}\n"
     ]
    }
   ],
   "source": [
    "g18 = {\"Brand\":\"Honda\", \"Model\": \"Accord\",\n",
    "      \"Year\": 2022}\n",
    "g19 = g18.popitem()\n",
    "print(g19) #assigns last item to g19\n",
    "print(g18) #removes last item from g18"
   ]
  },
  {
   "cell_type": "code",
   "execution_count": 14,
   "id": "149cf570",
   "metadata": {},
   "outputs": [
    {
     "name": "stdout",
     "output_type": "stream",
     "text": [
      "2022\n",
      "Yes\n",
      "{'Brand': 'Honda', 'Model': 'Accord', 'Year': 2022, 'EV': 'Yes'}\n"
     ]
    }
   ],
   "source": [
    "g20 = {\"Brand\":\"Honda\", \"Model\": \"Accord\",\n",
    "      \"Year\": 2022}\n",
    "g21 = g20.setdefault('Year', 2021)\n",
    "g22 = g20.setdefault('EV', \"Yes\")\n",
    "print(g21) #it exisit, no assignment\n",
    "print(g22) #doesn't exist, assigns\n",
    "print(g20) #now added"
   ]
  },
  {
   "cell_type": "code",
   "execution_count": 15,
   "id": "f35e6528",
   "metadata": {},
   "outputs": [
    {
     "name": "stdout",
     "output_type": "stream",
     "text": [
      "{'Brand': 'Honda', 'Model': 'Accord', 'Year': 2021}\n"
     ]
    }
   ],
   "source": [
    "g23 = {\"Brand\":\"Honda\", \"Model\": \"Accord\"}\n",
    "g23.update({'Year': 2021})\n",
    "print(g23) #now added"
   ]
  },
  {
   "cell_type": "code",
   "execution_count": 16,
   "id": "dca026ac",
   "metadata": {},
   "outputs": [
    {
     "name": "stdout",
     "output_type": "stream",
     "text": [
      "dict_values(['Honda', 'Accord', 2022])\n",
      "<class 'dict_values'>\n"
     ]
    }
   ],
   "source": [
    "g24 = {\"Brand\":\"Honda\", \"Model\": \"Accord\",\n",
    "      \"Year\": 2022}\n",
    "g25 = g24.values()\n",
    "print(g25) #a list of values\n",
    "print(type(g25))"
   ]
  }
 ],
 "metadata": {
  "kernelspec": {
   "display_name": "Python 3 (ipykernel)",
   "language": "python",
   "name": "python3"
  },
  "language_info": {
   "codemirror_mode": {
    "name": "ipython",
    "version": 3
   },
   "file_extension": ".py",
   "mimetype": "text/x-python",
   "name": "python",
   "nbconvert_exporter": "python",
   "pygments_lexer": "ipython3",
   "version": "3.8.12"
  }
 },
 "nbformat": 4,
 "nbformat_minor": 5
}
