{
 "cells": [
  {
   "cell_type": "markdown",
   "id": "b905ea7b",
   "metadata": {},
   "source": [
    "## Python Serial Programming"
   ]
  },
  {
   "cell_type": "markdown",
   "id": "0a9fe0f9",
   "metadata": {},
   "source": [
    "#### Basic Communication"
   ]
  },
  {
   "cell_type": "code",
   "execution_count": null,
   "id": "ddd8553b",
   "metadata": {
    "scrolled": true
   },
   "outputs": [],
   "source": [
    "import serial\n",
    "\n",
    "# Open serial port on Windows\n",
    "ser = serial.Serial('COM3', 9600) #set baud rate to macth device settings\n",
    "# Write data\n",
    "ser.write(b'Hello')\n",
    "\n",
    "# Read data\n",
    "data = ser.read(5)\n",
    "\n",
    "print(data.decode('utf-8'))\n",
    "\n",
    "# Close the port\n",
    "ser.close()\n"
   ]
  },
  {
   "cell_type": "markdown",
   "id": "4d067db8",
   "metadata": {},
   "source": [
    "#### Temperature Measurement"
   ]
  },
  {
   "cell_type": "code",
   "execution_count": null,
   "id": "d67d0dea",
   "metadata": {},
   "outputs": [],
   "source": [
    "import serial\n",
    "import time\n",
    "\n",
    "# Setup serial connection\n",
    "sensor_port = serial.Serial('COM3', 9600, timeout=1)  # Windows COM port\n",
    "\n",
    "# Function to read temperature\n",
    "def read_temperature():\n",
    "    sensor_port.write(b'TEMP?')\n",
    "    time.sleep(1)  # Give the sensor time to respond\n",
    "    temperature = sensor_port.readline().strip()\n",
    "    return temperature.decode('utf-8')\n",
    "\n",
    "# Main loop\n",
    "while True:\n",
    "    temp = read_temperature()\n",
    "    print(f\"Current Temperature: {temp} °C\")\n",
    "    time.sleep(2)  # Read every 2 seconds\n"
   ]
  }
 ],
 "metadata": {
  "kernelspec": {
   "display_name": "Python 3 (ipykernel)",
   "language": "python",
   "name": "python3"
  },
  "language_info": {
   "codemirror_mode": {
    "name": "ipython",
    "version": 3
   },
   "file_extension": ".py",
   "mimetype": "text/x-python",
   "name": "python",
   "nbconvert_exporter": "python",
   "pygments_lexer": "ipython3",
   "version": "3.9.13"
  }
 },
 "nbformat": 4,
 "nbformat_minor": 5
}
