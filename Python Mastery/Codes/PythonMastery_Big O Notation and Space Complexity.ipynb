{
 "cells": [
  {
   "cell_type": "markdown",
   "id": "2b53cb7c",
   "metadata": {},
   "source": [
    "## Big O Notation"
   ]
  },
  {
   "cell_type": "code",
   "execution_count": 1,
   "id": "19b8952c",
   "metadata": {},
   "outputs": [
    {
     "name": "stdout",
     "output_type": "stream",
     "text": [
      "1\n"
     ]
    }
   ],
   "source": [
    "def get_first_element(elements):\n",
    "    return elements[0] if elements else None\n",
    "\n",
    "# Usage\n",
    "print(get_first_element([1, 2, 3]))  # Constant time operation"
   ]
  },
  {
   "cell_type": "code",
   "execution_count": 2,
   "id": "87ebb9b8",
   "metadata": {},
   "outputs": [
    {
     "name": "stdout",
     "output_type": "stream",
     "text": [
      "15\n"
     ]
    }
   ],
   "source": [
    "def sum_elements(elements):\n",
    "    total = 0\n",
    "    for element in elements:\n",
    "        total += element\n",
    "    return total\n",
    "\n",
    "# Usage\n",
    "print(sum_elements([1, 2, 3, 4, 5]))  # Linear time operation\n"
   ]
  },
  {
   "cell_type": "code",
   "execution_count": 3,
   "id": "0031c6fd",
   "metadata": {},
   "outputs": [
    {
     "name": "stdout",
     "output_type": "stream",
     "text": [
      "[1, 2, 3, 4, 5]\n"
     ]
    }
   ],
   "source": [
    "def bubble_sort(arr):\n",
    "    n = len(arr)\n",
    "    for i in range(n):\n",
    "        for j in range(0, n-i-1):\n",
    "            if arr[j] > arr[j+1]:\n",
    "                arr[j], arr[j+1] = arr[j+1], arr[j]\n",
    "    return arr\n",
    "\n",
    "# Usage\n",
    "print(bubble_sort([5, 3, 2, 4, 1]))  # Quadratic time operation\n"
   ]
  },
  {
   "cell_type": "markdown",
   "id": "da28f68a",
   "metadata": {},
   "source": [
    "## Space Complexity"
   ]
  },
  {
   "cell_type": "code",
   "execution_count": 5,
   "id": "51bdd3a8",
   "metadata": {},
   "outputs": [],
   "source": [
    "#Constant\n",
    "def find_max(numbers):\n",
    "    max_number = numbers[0]\n",
    "    for number in numbers:\n",
    "        if number > max_number:\n",
    "            max_number = number\n",
    "    return max_number\n"
   ]
  },
  {
   "cell_type": "code",
   "execution_count": null,
   "id": "1b38dc87",
   "metadata": {},
   "outputs": [],
   "source": [
    "#Linear\n",
    "def clone_list(original_list):\n",
    "    cloned_list = []\n",
    "    for item in original_list:\n",
    "        cloned_list.append(item)\n",
    "    return cloned_list\n"
   ]
  },
  {
   "cell_type": "code",
   "execution_count": null,
   "id": "ecb0ee95",
   "metadata": {},
   "outputs": [],
   "source": [
    "#Quadratic\n",
    "\n",
    "def create_matrix(n):\n",
    "    matrix = []\n",
    "    for i in range(n):\n",
    "        row = [0] * n\n",
    "        matrix.append(row)\n",
    "    return matrix"
   ]
  }
 ],
 "metadata": {
  "kernelspec": {
   "display_name": "Python 3 (ipykernel)",
   "language": "python",
   "name": "python3"
  },
  "language_info": {
   "codemirror_mode": {
    "name": "ipython",
    "version": 3
   },
   "file_extension": ".py",
   "mimetype": "text/x-python",
   "name": "python",
   "nbconvert_exporter": "python",
   "pygments_lexer": "ipython3",
   "version": "3.9.13"
  }
 },
 "nbformat": 4,
 "nbformat_minor": 5
}
