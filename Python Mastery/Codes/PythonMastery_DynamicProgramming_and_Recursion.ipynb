{
 "cells": [
  {
   "cell_type": "markdown",
   "id": "ff7856b9",
   "metadata": {},
   "source": [
    "## DynamicProgramming_and_Recursion"
   ]
  },
  {
   "cell_type": "code",
   "execution_count": 6,
   "id": "b1c5a6a0",
   "metadata": {},
   "outputs": [
    {
     "name": "stdout",
     "output_type": "stream",
     "text": [
      "120\n"
     ]
    }
   ],
   "source": [
    "def factorial(n):\n",
    "    if n == 0 or n == 1:\n",
    "        return 1\n",
    "    else:\n",
    "        return n * factorial(n - 1)\n",
    "\n",
    "# Usage\n",
    "print(factorial(5))  # Output: 120"
   ]
  },
  {
   "cell_type": "code",
   "execution_count": 7,
   "id": "54b31a1c",
   "metadata": {},
   "outputs": [
    {
     "name": "stdout",
     "output_type": "stream",
     "text": [
      "55\n"
     ]
    }
   ],
   "source": [
    "def fibonacci(n, memo={}):\n",
    "    if n in memo:\n",
    "        return memo[n]\n",
    "    if n <= 1:\n",
    "        return n\n",
    "    memo[n] = fibonacci(n - 1, memo) + fibonacci(n - 2, memo)\n",
    "    return memo[n]\n",
    "\n",
    "# Usage\n",
    "print(fibonacci(10))  # Output: 55\n"
   ]
  },
  {
   "cell_type": "code",
   "execution_count": 8,
   "id": "e7b84932",
   "metadata": {},
   "outputs": [
    {
     "name": "stdout",
     "output_type": "stream",
     "text": [
      "Element is at index 3\n"
     ]
    }
   ],
   "source": [
    "def binary_search(arr, low, high, target):\n",
    "    if high >= low:\n",
    "        mid = (high + low) // 2\n",
    "        if arr[mid] == target:\n",
    "            return mid\n",
    "        elif arr[mid] > target:\n",
    "            return binary_search(arr, low, mid - 1, target)\n",
    "        else:\n",
    "            return binary_search(arr, mid + 1, high, target)\n",
    "    else:\n",
    "        return -1  # Element is not present in array\n",
    "\n",
    "# Usage\n",
    "arr = [2, 3, 4, 10, 40]\n",
    "target = 10\n",
    "result = binary_search(arr, 0, len(arr)-1, target)\n",
    "print(\"Element is at index\", result)  # Output: Element is at index 3"
   ]
  },
  {
   "cell_type": "code",
   "execution_count": 9,
   "id": "191417b7",
   "metadata": {},
   "outputs": [
    {
     "name": "stdout",
     "output_type": "stream",
     "text": [
      "10\n"
     ]
    }
   ],
   "source": [
    "def minCostClimbingStairs(cost):\n",
    "    n = len(cost)\n",
    "    if n == 0 or n == 1:\n",
    "        return 0\n",
    "    min_cost = [0] * (n + 1)\n",
    "    min_cost[1] = cost[0]\n",
    "\n",
    "    for i in range(2, n + 1):\n",
    "        min_cost[i] = min(min_cost[i - 1], min_cost[i - 2]) + (cost[i - 1] if i < n else 0)\n",
    "\n",
    "    return min_cost[n]\n",
    "\n",
    "# Usage\n",
    "cost = [10, 15, 20]\n",
    "print(minCostClimbingStairs(cost))  # Output: 15"
   ]
  }
 ],
 "metadata": {
  "kernelspec": {
   "display_name": "Python 3 (ipykernel)",
   "language": "python",
   "name": "python3"
  },
  "language_info": {
   "codemirror_mode": {
    "name": "ipython",
    "version": 3
   },
   "file_extension": ".py",
   "mimetype": "text/x-python",
   "name": "python",
   "nbconvert_exporter": "python",
   "pygments_lexer": "ipython3",
   "version": "3.9.13"
  }
 },
 "nbformat": 4,
 "nbformat_minor": 5
}
