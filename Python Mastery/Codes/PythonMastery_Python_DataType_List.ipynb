{
 "cells": [
  {
   "cell_type": "markdown",
   "id": "023f47af",
   "metadata": {},
   "source": [
    "### Data Type"
   ]
  },
  {
   "cell_type": "markdown",
   "id": "d2a5ee88",
   "metadata": {},
   "source": [
    "### Lists"
   ]
  },
  {
   "cell_type": "code",
   "execution_count": 1,
   "id": "a290c2cd",
   "metadata": {},
   "outputs": [
    {
     "name": "stdout",
     "output_type": "stream",
     "text": [
      "Emmy\n"
     ]
    }
   ],
   "source": [
    "c = [\"Emmy\", \"Dami\", \"Chidinma\", \"Keren\", \"Gerty\"]\n",
    "#Obtain the item at certain index\n",
    "print(c[0])"
   ]
  },
  {
   "cell_type": "code",
   "execution_count": 2,
   "id": "075006d5",
   "metadata": {},
   "outputs": [
    {
     "name": "stdout",
     "output_type": "stream",
     "text": [
      "Dami\n"
     ]
    }
   ],
   "source": [
    "print(c[1])"
   ]
  },
  {
   "cell_type": "code",
   "execution_count": 3,
   "id": "c4e2e1df",
   "metadata": {},
   "outputs": [
    {
     "name": "stdout",
     "output_type": "stream",
     "text": [
      "['Dami', 'Chidinma']\n"
     ]
    }
   ],
   "source": [
    "print(c[1:3])"
   ]
  },
  {
   "cell_type": "code",
   "execution_count": 4,
   "id": "5a97b134",
   "metadata": {},
   "outputs": [
    {
     "name": "stdout",
     "output_type": "stream",
     "text": [
      "['Emmy', 'Dami']\n"
     ]
    }
   ],
   "source": [
    "print(c[:2])"
   ]
  },
  {
   "cell_type": "code",
   "execution_count": 5,
   "id": "f048544b",
   "metadata": {},
   "outputs": [
    {
     "name": "stdout",
     "output_type": "stream",
     "text": [
      "Gerty\n"
     ]
    }
   ],
   "source": [
    "print(c[-1])"
   ]
  },
  {
   "cell_type": "code",
   "execution_count": 6,
   "id": "477e4031",
   "metadata": {},
   "outputs": [
    {
     "name": "stdout",
     "output_type": "stream",
     "text": [
      "5\n"
     ]
    }
   ],
   "source": [
    "#Obtain the length of the list\n",
    "print(len(c))"
   ]
  },
  {
   "cell_type": "code",
   "execution_count": 7,
   "id": "b5c31606",
   "metadata": {},
   "outputs": [
    {
     "name": "stdout",
     "output_type": "stream",
     "text": [
      "[1, 2, 3, 4, 5.5, 6.6]\n",
      "['Bodunrin', 'Lee', 'Baowen', 'Eylem', 'Raj']\n",
      "[False, True, False, False]\n",
      "[1, 2, 3, 'Eylem', 'Raj', False, True]\n"
     ]
    }
   ],
   "source": [
    "#Data Type in list\n",
    "c1 = [1, 2, 3, 4, 5.5, 6.6]\n",
    "c2 = [\"Bodunrin\", \"Lee\", \"Baowen\", \"Eylem\", \"Raj\"]\n",
    "c3 = [False, True, False, False]\n",
    "c4 = c1[:3] + c2[3:] + c3[0:2]\n",
    "\n",
    "print(c1)\n",
    "print(c2)\n",
    "print(c3)\n",
    "print(c4)"
   ]
  },
  {
   "cell_type": "code",
   "execution_count": 8,
   "id": "dbd5ff2b",
   "metadata": {},
   "outputs": [
    {
     "name": "stdout",
     "output_type": "stream",
     "text": [
      "<class 'list'>\n",
      "<class 'list'>\n",
      "<class 'list'>\n",
      "<class 'list'>\n"
     ]
    }
   ],
   "source": [
    "#Check data type\n",
    "print(type(c1))\n",
    "print(type(c2))\n",
    "print(type(c3))\n",
    "print(type(c4))"
   ]
  },
  {
   "cell_type": "code",
   "execution_count": 9,
   "id": "24d06d66",
   "metadata": {},
   "outputs": [
    {
     "name": "stdout",
     "output_type": "stream",
     "text": [
      "['South Africa', 'USA', 'Greece', 'Nigeria']\n"
     ]
    }
   ],
   "source": [
    "#list constructor\n",
    "c5 = list((\"South Africa\", \"USA\", \"Greece\", \"Nigeria\"))\n",
    "print(c5)"
   ]
  },
  {
   "cell_type": "markdown",
   "id": "64230667",
   "metadata": {},
   "source": [
    "#### List Methods"
   ]
  },
  {
   "cell_type": "code",
   "execution_count": 10,
   "id": "8e498435",
   "metadata": {},
   "outputs": [
    {
     "name": "stdout",
     "output_type": "stream",
     "text": [
      "['Bodunrin', 'Lee', 'Baowen', 'Eylem', 'Raj', 'Neogi']\n",
      "['Bodunrin', 'Lee', 'Baowen', 'Eylem', 'Raj', 'Neogi', ['South Africa', 'USA']]\n"
     ]
    }
   ],
   "source": [
    "c6 = [\"Bodunrin\", \"Lee\", \"Baowen\", \"Eylem\", \"Raj\"]\n",
    "c7 = ['South Africa', 'USA']\n",
    "\n",
    "c6.append(\"Neogi\")\n",
    "print(c6)\n",
    "c6.append(c7)\n",
    "print(c6)"
   ]
  },
  {
   "cell_type": "code",
   "execution_count": 11,
   "id": "eb539317",
   "metadata": {},
   "outputs": [
    {
     "name": "stdout",
     "output_type": "stream",
     "text": [
      "[]\n"
     ]
    }
   ],
   "source": [
    "c8 = [\"Bodunrin\", \"Lee\", \"Baowen\", \"Eylem\", \"Raj\"]\n",
    "\n",
    "c8.clear()\n",
    "print(c8)"
   ]
  },
  {
   "cell_type": "code",
   "execution_count": 12,
   "id": "d4adcd08",
   "metadata": {},
   "outputs": [
    {
     "name": "stdout",
     "output_type": "stream",
     "text": [
      "['South Africa', 'USA', 'Greece', 'Nigeria']\n"
     ]
    }
   ],
   "source": [
    "c9 = ['South Africa', 'USA', 'Greece', 'Nigeria']\n",
    "c10 = c9.copy()\n",
    "print(c10)"
   ]
  },
  {
   "cell_type": "code",
   "execution_count": 13,
   "id": "2a4f997d",
   "metadata": {},
   "outputs": [
    {
     "name": "stdout",
     "output_type": "stream",
     "text": [
      "2\n"
     ]
    }
   ],
   "source": [
    "c11 = ['South Africa', 'USA', 'Greece', 'Nigeria', \"Greece\"]\n",
    "num = c11.count('Greece')\n",
    "print(num)"
   ]
  },
  {
   "cell_type": "code",
   "execution_count": 14,
   "id": "95f2c4a2",
   "metadata": {},
   "outputs": [
    {
     "name": "stdout",
     "output_type": "stream",
     "text": [
      "['Bodunrin', 'Lee', 'Baowen', 'Eylem', 'Raj', 'South Africa', 'USA']\n"
     ]
    }
   ],
   "source": [
    "c12 = [\"Bodunrin\", \"Lee\", \"Baowen\", \"Eylem\", \"Raj\"]\n",
    "c13 = ['South Africa', 'USA']\n",
    "\n",
    "c12.extend(c13)\n",
    "print(c12)"
   ]
  },
  {
   "cell_type": "code",
   "execution_count": 15,
   "id": "5581c650",
   "metadata": {},
   "outputs": [
    {
     "name": "stdout",
     "output_type": "stream",
     "text": [
      "1\n"
     ]
    }
   ],
   "source": [
    "c14 = ['South Africa', 'USA', 'Greece', 'Nigeria', \"Greece\"]\n",
    "num = c14.index('USA')\n",
    "print(num)"
   ]
  },
  {
   "cell_type": "code",
   "execution_count": 16,
   "id": "5062daec",
   "metadata": {},
   "outputs": [
    {
     "name": "stdout",
     "output_type": "stream",
     "text": [
      "['South Africa', 'USA', 'India', 'Greece', 'Nigeria', 'Australia']\n"
     ]
    }
   ],
   "source": [
    "c15 = ['South Africa', 'USA', 'Greece', 'Nigeria', \"Australia\"]\n",
    "c15.insert(2, 'India')\n",
    "print(c15)"
   ]
  },
  {
   "cell_type": "code",
   "execution_count": 17,
   "id": "26efccd1",
   "metadata": {},
   "outputs": [
    {
     "name": "stdout",
     "output_type": "stream",
     "text": [
      "['Bodunrin', 'Baowen', 'Eylem', 'Raj']\n"
     ]
    }
   ],
   "source": [
    "c16 = [\"Bodunrin\", \"Lee\", \"Baowen\", \"Eylem\", \"Raj\"]\n",
    "c16.pop(1)\n",
    "print(c16)"
   ]
  },
  {
   "cell_type": "code",
   "execution_count": 18,
   "id": "e6793230",
   "metadata": {},
   "outputs": [
    {
     "name": "stdout",
     "output_type": "stream",
     "text": [
      "['Bodunrin', 'Baowen', 'Eylem', 'Raj']\n"
     ]
    }
   ],
   "source": [
    "c17 = [\"Bodunrin\", \"Lee\", \"Baowen\", \"Eylem\", \"Raj\"]\n",
    "c17.remove(\"Lee\")\n",
    "print(c17)"
   ]
  },
  {
   "cell_type": "code",
   "execution_count": 19,
   "id": "55df01b5",
   "metadata": {},
   "outputs": [
    {
     "name": "stdout",
     "output_type": "stream",
     "text": [
      "['Raj', 'Eylem', 'Baowen', 'Lee', 'Bodunrin']\n"
     ]
    }
   ],
   "source": [
    "c18 = [\"Bodunrin\", \"Lee\", \"Baowen\", \"Eylem\", \"Raj\"]\n",
    "c18.reverse()\n",
    "print(c18)"
   ]
  },
  {
   "cell_type": "code",
   "execution_count": 20,
   "id": "a0191e48",
   "metadata": {},
   "outputs": [
    {
     "name": "stdout",
     "output_type": "stream",
     "text": [
      "['Baowen', 'Bodunrin', 'Eylem', 'Lee', 'Raj']\n",
      "['Raj', 'Lee', 'Eylem', 'Bodunrin', 'Baowen']\n"
     ]
    }
   ],
   "source": [
    "c19 = [\"Bodunrin\", \"Lee\", \"Baowen\", \"Eylem\", \"Raj\"]\n",
    "c19.sort() #ascending by default\n",
    "print(c19)\n",
    "\n",
    "c19.sort(reverse=True) #descending method\n",
    "print(c19)"
   ]
  }
 ],
 "metadata": {
  "kernelspec": {
   "display_name": "Python 3 (ipykernel)",
   "language": "python",
   "name": "python3"
  },
  "language_info": {
   "codemirror_mode": {
    "name": "ipython",
    "version": 3
   },
   "file_extension": ".py",
   "mimetype": "text/x-python",
   "name": "python",
   "nbconvert_exporter": "python",
   "pygments_lexer": "ipython3",
   "version": "3.8.12"
  }
 },
 "nbformat": 4,
 "nbformat_minor": 5
}
