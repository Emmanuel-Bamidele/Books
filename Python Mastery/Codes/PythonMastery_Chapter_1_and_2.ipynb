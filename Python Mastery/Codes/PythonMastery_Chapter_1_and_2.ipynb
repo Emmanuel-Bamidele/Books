{
 "cells": [
  {
   "cell_type": "markdown",
   "id": "746aca46",
   "metadata": {},
   "source": [
    "## Writing your first Python code"
   ]
  },
  {
   "cell_type": "code",
   "execution_count": 1,
   "id": "ae7fddcc",
   "metadata": {
    "scrolled": true
   },
   "outputs": [
    {
     "name": "stdout",
     "output_type": "stream",
     "text": [
      "Hello World\n"
     ]
    }
   ],
   "source": [
    "print(\"Hello World\")"
   ]
  },
  {
   "cell_type": "markdown",
   "id": "b7869e4f",
   "metadata": {},
   "source": [
    "### Comment"
   ]
  },
  {
   "cell_type": "code",
   "execution_count": null,
   "id": "e957ea3c",
   "metadata": {},
   "outputs": [],
   "source": [
    "variable = \"A string variable\" #This is an inline type of comment with hash mark\n",
    "\n",
    "#This is a block type of comment\n",
    "#it can be used to explain more complicated code or one that might not be familiar\n",
    "#it is written on several lines\n",
    "#It begins with a hash mark and single space\n",
    "\n",
    "\n",
    "'''\n",
    "This is another type of comment\n",
    "'''"
   ]
  },
  {
   "cell_type": "markdown",
   "id": "0498c8e4",
   "metadata": {},
   "source": [
    "### Variables"
   ]
  },
  {
   "cell_type": "code",
   "execution_count": 2,
   "id": "3d0eb096",
   "metadata": {},
   "outputs": [
    {
     "name": "stdout",
     "output_type": "stream",
     "text": [
      "2 | This is a String variable | 3.56 | This is also a String variable\n"
     ]
    }
   ],
   "source": [
    "# assign variables a, b, c, d, and e\n",
    "a = 2\n",
    "b = \"This is a String variable\"\n",
    "c = 3.56\n",
    "d = 'This is also a String variable'\n",
    "e = \"|\"\n",
    "\n",
    "print(a, e, b, e, c, e, d)"
   ]
  },
  {
   "cell_type": "code",
   "execution_count": 3,
   "id": "3be3e56a",
   "metadata": {},
   "outputs": [
    {
     "name": "stdout",
     "output_type": "stream",
     "text": [
      "2 | 2 | 3.0 | 3.5 | 1\n"
     ]
    }
   ],
   "source": [
    "#Variable Casting\n",
    "a = int(2)\n",
    "b = int(2.5)\n",
    "c = float(3)\n",
    "d = float (3.5)\n",
    "e = str(1)\n",
    "f = str(\"|\")\n",
    "print (a, f, b, f, c, f, d, f, e)"
   ]
  },
  {
   "cell_type": "markdown",
   "id": "e3473f6a",
   "metadata": {},
   "source": [
    "#### Variables Type"
   ]
  },
  {
   "cell_type": "code",
   "execution_count": 4,
   "id": "c19fa361",
   "metadata": {
    "scrolled": true
   },
   "outputs": [
    {
     "name": "stdout",
     "output_type": "stream",
     "text": [
      "<class 'int'> <class 'int'> <class 'float'> <class 'float'> <class 'str'> <class 'str'>\n"
     ]
    }
   ],
   "source": [
    "#Let's get the type of the variables cast above:\n",
    "print(type(a), type(b), type(c), type(d), type(e), type(f))"
   ]
  },
  {
   "cell_type": "markdown",
   "id": "529f948d",
   "metadata": {},
   "source": [
    "#### Variable Names : Rules"
   ]
  },
  {
   "cell_type": "code",
   "execution_count": 15,
   "id": "9884d30d",
   "metadata": {},
   "outputs": [
    {
     "ename": "SyntaxError",
     "evalue": "invalid syntax (3203440013.py, line 2)",
     "output_type": "error",
     "traceback": [
      "\u001b[0;36m  File \u001b[0;32m\"/var/folders/sn/f5tw20014xv6btlq0tlfyrnr0000gn/T/ipykernel_5920/3203440013.py\"\u001b[0;36m, line \u001b[0;32m2\u001b[0m\n\u001b[0;31m    1a = \"Bamidele\"\u001b[0m\n\u001b[0m     ^\u001b[0m\n\u001b[0;31mSyntaxError\u001b[0m\u001b[0;31m:\u001b[0m invalid syntax\n"
     ]
    }
   ],
   "source": [
    "#Variable cannot start with a number\n",
    "1a = \"Bamidele\" \n",
    "print(1a)"
   ]
  },
  {
   "cell_type": "code",
   "execution_count": 16,
   "id": "18c79ef0",
   "metadata": {},
   "outputs": [
    {
     "ename": "SyntaxError",
     "evalue": "invalid syntax (2524437624.py, line 2)",
     "output_type": "error",
     "traceback": [
      "\u001b[0;36m  File \u001b[0;32m\"/var/folders/sn/f5tw20014xv6btlq0tlfyrnr0000gn/T/ipykernel_5920/2524437624.py\"\u001b[0;36m, line \u001b[0;32m2\u001b[0m\n\u001b[0;31m    a variable = \"Bamidele\"\u001b[0m\n\u001b[0m      ^\u001b[0m\n\u001b[0;31mSyntaxError\u001b[0m\u001b[0;31m:\u001b[0m invalid syntax\n"
     ]
    }
   ],
   "source": [
    "#Variable cannot have space\n",
    "a variable = \"Bamidele\""
   ]
  },
  {
   "cell_type": "code",
   "execution_count": 17,
   "id": "1a36c54a",
   "metadata": {},
   "outputs": [
    {
     "ename": "SyntaxError",
     "evalue": "cannot assign to operator (2768388625.py, line 2)",
     "output_type": "error",
     "traceback": [
      "\u001b[0;36m  File \u001b[0;32m\"/var/folders/sn/f5tw20014xv6btlq0tlfyrnr0000gn/T/ipykernel_5920/2768388625.py\"\u001b[0;36m, line \u001b[0;32m2\u001b[0m\n\u001b[0;31m    a-variable = \"Bamidele\"\u001b[0m\n\u001b[0m    ^\u001b[0m\n\u001b[0;31mSyntaxError\u001b[0m\u001b[0;31m:\u001b[0m cannot assign to operator\n"
     ]
    }
   ],
   "source": [
    "#Variable cannot have hyphen\n",
    "a-variable = \"Bamidele\""
   ]
  },
  {
   "cell_type": "code",
   "execution_count": 37,
   "id": "fc24489a",
   "metadata": {},
   "outputs": [
    {
     "name": "stdout",
     "output_type": "stream",
     "text": [
      "Bamidele1\n",
      "Bamidele2\n",
      "Bamidele3\n",
      "Bamidele4\n"
     ]
    }
   ],
   "source": [
    "#Variable can start with letters or underscores\n",
    "aVariable = \"Bamidele1\"\n",
    "a_variable = \"Bamidele2\"\n",
    "_a_variable = \"Bamidele3\"\n",
    "__a_variable = \"Bamidele4\"\n",
    "print(aVariable)\n",
    "print(a_variable)\n",
    "print(_a_variable)\n",
    "print(__a_variable)"
   ]
  },
  {
   "cell_type": "code",
   "execution_count": 13,
   "id": "f4cea5da",
   "metadata": {},
   "outputs": [
    {
     "name": "stdout",
     "output_type": "stream",
     "text": [
      "False\n"
     ]
    }
   ],
   "source": [
    "#Variables are case sensitive\n",
    "Variable = \"Bamidele5\"\n",
    "variable = \"Bamidele6\"\n",
    "print(Variable == variable) #compare the two variables and return a boolean"
   ]
  },
  {
   "cell_type": "code",
   "execution_count": 36,
   "id": "cb046310",
   "metadata": {},
   "outputs": [
    {
     "name": "stdout",
     "output_type": "stream",
     "text": [
      "Bamidele7\n",
      "Bamidele8\n",
      "Bamidele9\n"
     ]
    }
   ],
   "source": [
    "#Variables can contain alpha numeric characters\n",
    "variable1 = \"Bamidele7\"\n",
    "VARiable3 = \"Bamidele8\"\n",
    "VARiable_4 = \"Bamidele9\"\n",
    "print(variable1)\n",
    "print(VARiable3)\n",
    "print(VARiable_4)"
   ]
  },
  {
   "cell_type": "code",
   "execution_count": 18,
   "id": "7fa0348a",
   "metadata": {},
   "outputs": [
    {
     "name": "stdout",
     "output_type": "stream",
     "text": [
      "1 2 3\n"
     ]
    }
   ],
   "source": [
    "#Assigning many values to many variables\n",
    "a, b, c = 1, 2, 3\n",
    "print(a,b,c)"
   ]
  },
  {
   "cell_type": "code",
   "execution_count": 20,
   "id": "e255adfa",
   "metadata": {},
   "outputs": [
    {
     "name": "stdout",
     "output_type": "stream",
     "text": [
      "4 4 4\n"
     ]
    }
   ],
   "source": [
    "#Assign same value to one variable\n",
    "d = e = f = 4\n",
    "print(d, e, f)"
   ]
  },
  {
   "cell_type": "code",
   "execution_count": 21,
   "id": "3773579f",
   "metadata": {},
   "outputs": [
    {
     "name": "stdout",
     "output_type": "stream",
     "text": [
      "Chemistry Biology Physics\n"
     ]
    }
   ],
   "source": [
    "#collecting variable values from a list\n",
    "courses = [\"Chemistry\", \"Biology\", \"Physics\"]\n",
    "ben, tim, tom = courses\n",
    "print(ben, tim, tom)"
   ]
  },
  {
   "cell_type": "markdown",
   "id": "a0f13200",
   "metadata": {},
   "source": [
    "#### Variables Output"
   ]
  },
  {
   "cell_type": "code",
   "execution_count": 27,
   "id": "a965ecab",
   "metadata": {},
   "outputs": [
    {
     "name": "stdout",
     "output_type": "stream",
     "text": [
      "The author's name is: Emmanuel Bamidele\n"
     ]
    }
   ],
   "source": [
    "w = \"Emmanuel\"\n",
    "z = \" Bamidele\"\n",
    "\n",
    "print(\"The author's name is: \" + w + z) #you can add directly in the print statement"
   ]
  },
  {
   "cell_type": "code",
   "execution_count": 38,
   "id": "4f28c6bb",
   "metadata": {},
   "outputs": [
    {
     "name": "stdout",
     "output_type": "stream",
     "text": [
      "The author's name is: Emmanuel  Bamidele\n"
     ]
    }
   ],
   "source": [
    "w = \"Emmanuel\"\n",
    "z = \" Bamidele\"\n",
    "\n",
    "print(\"The author's name is: \" + w, z) #you can add directly or use comma in the print statement"
   ]
  },
  {
   "cell_type": "code",
   "execution_count": 25,
   "id": "b4878c41",
   "metadata": {},
   "outputs": [
    {
     "name": "stdout",
     "output_type": "stream",
     "text": [
      "The author's name is: Emmanuel Bamidele\n"
     ]
    }
   ],
   "source": [
    "w = \"Emmanuel\"\n",
    "z = \" Bamidele\"\n",
    "y = w + z\n",
    "\n",
    "print(\"The author's name is: \" + y) #you use +"
   ]
  },
  {
   "cell_type": "code",
   "execution_count": 26,
   "id": "3d2f7e0a",
   "metadata": {},
   "outputs": [
    {
     "name": "stdout",
     "output_type": "stream",
     "text": [
      "The author's name is:  Emmanuel Bamidele\n"
     ]
    }
   ],
   "source": [
    "w = \"Emmanuel\"\n",
    "z = \" Bamidele\"\n",
    "y = w + z\n",
    "\n",
    "print(\"The author's name is: \", y) #you can also use comma"
   ]
  },
  {
   "cell_type": "markdown",
   "id": "d66f68f1",
   "metadata": {},
   "source": [
    "#### Global Variables\n",
    "\n",
    "- a is a global variable because it declared outside the function\n",
    "- b is a global variable because it is declared global in the function"
   ]
  },
  {
   "cell_type": "code",
   "execution_count": 32,
   "id": "f39c44c2",
   "metadata": {},
   "outputs": [
    {
     "name": "stdout",
     "output_type": "stream",
     "text": [
      "15\n"
     ]
    }
   ],
   "source": [
    "a = 10\n",
    "def addition():\n",
    "    global b\n",
    "    b = 5\n",
    "    c = a + b\n",
    "    return c\n",
    "\n",
    "def subtract():\n",
    "    c = addition()\n",
    "    d = 20 - b\n",
    "    return d\n",
    "\n",
    "print(subtract())"
   ]
  },
  {
   "cell_type": "markdown",
   "id": "38421ddd",
   "metadata": {},
   "source": [
    "### Operators"
   ]
  },
  {
   "cell_type": "markdown",
   "id": "ab31493e",
   "metadata": {},
   "source": [
    "#### Arithmetic Operators"
   ]
  },
  {
   "cell_type": "code",
   "execution_count": 39,
   "id": "0606f1e3",
   "metadata": {
    "scrolled": true
   },
   "outputs": [
    {
     "name": "stdout",
     "output_type": "stream",
     "text": [
      "25.75\n",
      "5.75\n",
      "157.5\n",
      "1.575\n",
      "1.0\n",
      "939302722818.1752\n",
      "5.75\n"
     ]
    }
   ],
   "source": [
    "x = 10\n",
    "y = 15.75\n",
    "\n",
    "#Addition\n",
    "add = x + y\n",
    "\n",
    "#Subtraction\n",
    "subtract = y - x\n",
    "\n",
    "#Multiplication\n",
    "mult = x*y\n",
    "\n",
    "#Division\n",
    "div = y/x #float\n",
    "fl_div = y//x #floor\n",
    "modulus = y%x #remainder\n",
    "\n",
    "#Exponentiation\n",
    "exponentiate = y**x\n",
    "\n",
    "print (add)\n",
    "print(subtract)\n",
    "print(mult)\n",
    "print(div)\n",
    "print(fl_div)\n",
    "print(exponentiate)\n",
    "print(modulus)"
   ]
  },
  {
   "cell_type": "markdown",
   "id": "a8fbb135",
   "metadata": {},
   "source": [
    "#### Assignment Operators"
   ]
  },
  {
   "cell_type": "code",
   "execution_count": 57,
   "id": "a1a5af3e",
   "metadata": {},
   "outputs": [
    {
     "name": "stdout",
     "output_type": "stream",
     "text": [
      "5\n",
      "10\n",
      "5\n",
      "25\n",
      "9765625\n",
      "1953125.0\n",
      "390625.0\n",
      "0.0\n"
     ]
    }
   ],
   "source": [
    "m = 5\n",
    "\n",
    "#Equal to\n",
    "n = m\n",
    "print(n)\n",
    "\n",
    "#ADD and Asign\n",
    "n += m\n",
    "print(n)\n",
    "\n",
    "#SUBTRACT and Asign\n",
    "n -= m\n",
    "print(n)\n",
    "\n",
    "#MULTIPLY and Asign\n",
    "n *= m\n",
    "print(n)\n",
    "\n",
    "#EXPONENT and Asign\n",
    "n **= m\n",
    "print(n)\n",
    "\n",
    "#DIVIDE (FLOAT) and Asign\n",
    "n /= m\n",
    "print(n)\n",
    "\n",
    "#DIVIDE (FLOOR) and Asign\n",
    "n //= m\n",
    "print(n)\n",
    "\n",
    "#MODULUS and Asign\n",
    "n %= m\n",
    "print(n)"
   ]
  },
  {
   "cell_type": "markdown",
   "id": "78de3334",
   "metadata": {},
   "source": [
    "#### Logical Operators"
   ]
  },
  {
   "cell_type": "code",
   "execution_count": 58,
   "id": "83cfa5a0",
   "metadata": {},
   "outputs": [
    {
     "name": "stdout",
     "output_type": "stream",
     "text": [
      "True\n"
     ]
    }
   ],
   "source": [
    "aa = 12\n",
    "\n",
    "#AND\n",
    "print (aa<13 and aa==12)"
   ]
  },
  {
   "cell_type": "code",
   "execution_count": 60,
   "id": "3b7628c3",
   "metadata": {},
   "outputs": [
    {
     "name": "stdout",
     "output_type": "stream",
     "text": [
      "True\n"
     ]
    }
   ],
   "source": [
    "#OR\n",
    "print (aa>13 or aa==12)"
   ]
  },
  {
   "cell_type": "code",
   "execution_count": 61,
   "id": "67f7c207",
   "metadata": {},
   "outputs": [
    {
     "name": "stdout",
     "output_type": "stream",
     "text": [
      "False\n"
     ]
    }
   ],
   "source": [
    "#NOT\n",
    "print (not(aa<13 and aa==12))"
   ]
  },
  {
   "cell_type": "markdown",
   "id": "069681b5",
   "metadata": {},
   "source": [
    "#### Comparison Operators"
   ]
  },
  {
   "cell_type": "code",
   "execution_count": 42,
   "id": "cda81416",
   "metadata": {},
   "outputs": [
    {
     "name": "stdout",
     "output_type": "stream",
     "text": [
      "True\n"
     ]
    }
   ],
   "source": [
    "i = 5.5\n",
    "j = 11\n",
    "\n",
    "#Greater Than\n",
    "print(j > i)"
   ]
  },
  {
   "cell_type": "code",
   "execution_count": 44,
   "id": "187bf245",
   "metadata": {},
   "outputs": [
    {
     "name": "stdout",
     "output_type": "stream",
     "text": [
      "True\n"
     ]
    }
   ],
   "source": [
    "#Less than\n",
    "print(i < j)"
   ]
  },
  {
   "cell_type": "code",
   "execution_count": 46,
   "id": "97f54ffe",
   "metadata": {},
   "outputs": [
    {
     "name": "stdout",
     "output_type": "stream",
     "text": [
      "True\n"
     ]
    }
   ],
   "source": [
    "#equal to\n",
    "print(j == (i+5.5))"
   ]
  },
  {
   "cell_type": "code",
   "execution_count": 51,
   "id": "eab03628",
   "metadata": {
    "scrolled": true
   },
   "outputs": [
    {
     "name": "stdout",
     "output_type": "stream",
     "text": [
      "False\n"
     ]
    }
   ],
   "source": [
    "#equal to (check otherwise)\n",
    "print(j == i)"
   ]
  },
  {
   "cell_type": "code",
   "execution_count": 47,
   "id": "38589ac1",
   "metadata": {},
   "outputs": [
    {
     "name": "stdout",
     "output_type": "stream",
     "text": [
      "True\n"
     ]
    }
   ],
   "source": [
    "#Not equal to\n",
    "print(i!=j)"
   ]
  },
  {
   "cell_type": "code",
   "execution_count": 49,
   "id": "0edd7469",
   "metadata": {},
   "outputs": [
    {
     "name": "stdout",
     "output_type": "stream",
     "text": [
      "True\n"
     ]
    }
   ],
   "source": [
    "#Greater than or equal to\n",
    "print(j>=i)"
   ]
  },
  {
   "cell_type": "code",
   "execution_count": 50,
   "id": "cd3c2e19",
   "metadata": {
    "scrolled": true
   },
   "outputs": [
    {
     "name": "stdout",
     "output_type": "stream",
     "text": [
      "True\n"
     ]
    }
   ],
   "source": [
    "#Less than or equal to\n",
    "print(i<=j)"
   ]
  },
  {
   "cell_type": "markdown",
   "id": "a79ee9bd",
   "metadata": {},
   "source": [
    "#### Identity Operators"
   ]
  },
  {
   "cell_type": "code",
   "execution_count": 5,
   "id": "12cfab8b",
   "metadata": {},
   "outputs": [
    {
     "name": "stdout",
     "output_type": "stream",
     "text": [
      "False\n"
     ]
    }
   ],
   "source": [
    "a = 15\n",
    "b = 22\n",
    "a2 = 15\n",
    "\n",
    "print(a is b)"
   ]
  },
  {
   "cell_type": "code",
   "execution_count": 6,
   "id": "fa4cd717",
   "metadata": {},
   "outputs": [
    {
     "name": "stdout",
     "output_type": "stream",
     "text": [
      "True\n"
     ]
    }
   ],
   "source": [
    "print(a is a2)"
   ]
  },
  {
   "cell_type": "code",
   "execution_count": 7,
   "id": "218bc142",
   "metadata": {},
   "outputs": [
    {
     "name": "stdout",
     "output_type": "stream",
     "text": [
      "True\n"
     ]
    }
   ],
   "source": [
    "print(a is not b)"
   ]
  },
  {
   "cell_type": "markdown",
   "id": "b7b6786e",
   "metadata": {},
   "source": [
    "#### Membership Operators"
   ]
  },
  {
   "cell_type": "code",
   "execution_count": 3,
   "id": "131d1a1d",
   "metadata": {},
   "outputs": [
    {
     "name": "stdout",
     "output_type": "stream",
     "text": [
      "True\n"
     ]
    }
   ],
   "source": [
    "c = [1,2,3,4]\n",
    "\n",
    "print (2 in c)"
   ]
  },
  {
   "cell_type": "code",
   "execution_count": 4,
   "id": "f59bde5e",
   "metadata": {},
   "outputs": [
    {
     "name": "stdout",
     "output_type": "stream",
     "text": [
      "True\n"
     ]
    }
   ],
   "source": [
    "print (5 not in c)"
   ]
  },
  {
   "cell_type": "markdown",
   "id": "29e8950d",
   "metadata": {},
   "source": [
    "#### Bitwise Operators\n",
    "\n",
    "Refer to https://realpython.com/python-bitwise-operators/ for details and examples"
   ]
  },
  {
   "cell_type": "markdown",
   "id": "023f47af",
   "metadata": {},
   "source": [
    "### Data Type"
   ]
  },
  {
   "cell_type": "markdown",
   "id": "b96b4f8c",
   "metadata": {},
   "source": [
    "### String"
   ]
  },
  {
   "cell_type": "code",
   "execution_count": 3,
   "id": "26411bca",
   "metadata": {},
   "outputs": [
    {
     "name": "stdout",
     "output_type": "stream",
     "text": [
      "M\n",
      "y\n"
     ]
    }
   ],
   "source": [
    "a = \"My String\"\n",
    "print(a[0])\n",
    "print(a[1])"
   ]
  },
  {
   "cell_type": "markdown",
   "id": "fed5da41",
   "metadata": {},
   "source": [
    "#### String Methods"
   ]
  },
  {
   "cell_type": "code",
   "execution_count": 4,
   "id": "20cd0e8b",
   "metadata": {},
   "outputs": [
    {
     "name": "stdout",
     "output_type": "stream",
     "text": [
      "My string is here\n"
     ]
    }
   ],
   "source": [
    "b = \"my String is here\"\n",
    "print(b.capitalize())"
   ]
  },
  {
   "cell_type": "code",
   "execution_count": 6,
   "id": "5bd360e3",
   "metadata": {},
   "outputs": [
    {
     "name": "stdout",
     "output_type": "stream",
     "text": [
      "my string is here\n",
      "der fluss\n"
     ]
    }
   ],
   "source": [
    "b1 = \"my String is HEre\"\n",
    "b2 = \"der Fluß\"\n",
    "\n",
    "print(b1.casefold())\n",
    "print(b2.casefold()) #converts ß to ss"
   ]
  },
  {
   "cell_type": "code",
   "execution_count": 21,
   "id": "61aecdc0",
   "metadata": {
    "scrolled": true
   },
   "outputs": [
    {
     "name": "stdout",
     "output_type": "stream",
     "text": [
      "New string:     let's pad this   \n",
      "New string:  +++let's pad that+++\n"
     ]
    }
   ],
   "source": [
    "b3 = \"let's pad this\"\n",
    "b4 = \"let's pad that\"\n",
    "\n",
    "b3_centered = b3.center(20)\n",
    "b3_centered2 = b4.center(20,'+')\n",
    "print(\"New string: \", b3_centered)\n",
    "print(\"New string: \", b3_centered2)"
   ]
  },
  {
   "cell_type": "code",
   "execution_count": 24,
   "id": "76eadd83",
   "metadata": {},
   "outputs": [
    {
     "name": "stdout",
     "output_type": "stream",
     "text": [
      "# String:  2\n"
     ]
    }
   ],
   "source": [
    "b5 = \"We will return this string, and see how many string\"\n",
    "print(\"# String: \", b5.count(\"string\"))"
   ]
  },
  {
   "cell_type": "code",
   "execution_count": 27,
   "id": "2a6cf865",
   "metadata": {},
   "outputs": [
    {
     "name": "stdout",
     "output_type": "stream",
     "text": [
      "b'I am \\xc3\\x85lex'\n",
      "b'I am lex'\n"
     ]
    }
   ],
   "source": [
    "b6 = \"I am Ålex\"\n",
    "print(b6.encode()) #uses default UTF-8\n",
    "print(b6.encode(encoding=\"ascii\", errors=\"ignore\"))"
   ]
  },
  {
   "cell_type": "code",
   "execution_count": 29,
   "id": "0331a99c",
   "metadata": {},
   "outputs": [
    {
     "name": "stdout",
     "output_type": "stream",
     "text": [
      "True\n"
     ]
    }
   ],
   "source": [
    "b7 = \"myfiles.csv\"\n",
    "print(b7.endswith(\".csv\"))"
   ]
  },
  {
   "cell_type": "code",
   "execution_count": 33,
   "id": "454e65b9",
   "metadata": {},
   "outputs": [
    {
     "name": "stdout",
     "output_type": "stream",
     "text": [
      "H e l l o\n",
      "H   e   l   l   o\n"
     ]
    }
   ],
   "source": [
    "b8 = \"H\\te\\tl\\tl\\to\"\n",
    "b9 = \"H\\te\\tl\\tl\\to\"\n",
    "print(b8.expandtabs(2))\n",
    "print(b9.expandtabs(4))"
   ]
  },
  {
   "cell_type": "code",
   "execution_count": 34,
   "id": "6edce189",
   "metadata": {},
   "outputs": [
    {
     "name": "stdout",
     "output_type": "stream",
     "text": [
      "9\n"
     ]
    }
   ],
   "source": [
    "b10 = \"Look for me\"\n",
    "print(b10.find(\"me\"))"
   ]
  },
  {
   "cell_type": "code",
   "execution_count": 37,
   "id": "61e7037f",
   "metadata": {},
   "outputs": [
    {
     "name": "stdout",
     "output_type": "stream",
     "text": [
      "The new Apple watch is worth $ 249.99\n",
      "The new Apple watch is worth $ 250.00\n"
     ]
    }
   ],
   "source": [
    "b11 = \"The new Apple watch is worth $ {price:.2f}\"\n",
    "print(b11.format(price = 249.99))\n",
    "print(b11.format(price = 250))"
   ]
  },
  {
   "cell_type": "code",
   "execution_count": 40,
   "id": "85a24843",
   "metadata": {},
   "outputs": [
    {
     "name": "stdout",
     "output_type": "stream",
     "text": [
      "My name is Emmanuel Bamidele, my age will be 30 in the year 2022\n",
      "My name is Emmanuel Bamidele, my age will be 30 in the year 2022\n",
      "My name is Emmanuel Bamidele, my age will be 30 in the year 2022\n"
     ]
    }
   ],
   "source": [
    "b12 = \"My name is {fname}, my age will be {age} in the year {year}\".format(\n",
    "    fname=\"Emmanuel Bamidele\", age = 30, year = 2022)\n",
    "b13 = \"My name is {0}, my age will be {1} in the year {2}\".format(\n",
    "    \"Emmanuel Bamidele\", 30, 2022)\n",
    "b14 = \"My name is {}, my age will be {} in the year {}\".format(\n",
    "    \"Emmanuel Bamidele\", 30, 2022)\n",
    "\n",
    "print(b12)\n",
    "print(b13)\n",
    "print(b14)"
   ]
  },
  {
   "cell_type": "code",
   "execution_count": 42,
   "id": "c63baa47",
   "metadata": {},
   "outputs": [
    {
     "name": "stdout",
     "output_type": "stream",
     "text": [
      "Emmanuel , Bamidele , 29\n"
     ]
    }
   ],
   "source": [
    "b15 = {'name': 'Emmanuel ', 'lname': 'Bamidele ', 'age': 29}\n",
    "print('{name}, {lname}, {age}'.format_map(b15))"
   ]
  },
  {
   "cell_type": "code",
   "execution_count": 43,
   "id": "abc68163",
   "metadata": {},
   "outputs": [
    {
     "name": "stdout",
     "output_type": "stream",
     "text": [
      "9\n"
     ]
    }
   ],
   "source": [
    "b16 = \"Look for me\"\n",
    "print(b16.index(\"me\"))"
   ]
  },
  {
   "cell_type": "code",
   "execution_count": 47,
   "id": "0dde8b32",
   "metadata": {},
   "outputs": [
    {
     "name": "stdout",
     "output_type": "stream",
     "text": [
      "True\n"
     ]
    }
   ],
   "source": [
    "b17 = \"Thisis51\"\n",
    "print(b17.isalnum())"
   ]
  },
  {
   "cell_type": "code",
   "execution_count": 48,
   "id": "267ff07b",
   "metadata": {},
   "outputs": [
    {
     "name": "stdout",
     "output_type": "stream",
     "text": [
      "True\n"
     ]
    }
   ],
   "source": [
    "b18 = \"Thisisalphabet\"\n",
    "print(b18.isalpha())"
   ]
  },
  {
   "cell_type": "code",
   "execution_count": 49,
   "id": "e9fe777a",
   "metadata": {},
   "outputs": [
    {
     "name": "stdout",
     "output_type": "stream",
     "text": [
      "True\n"
     ]
    }
   ],
   "source": [
    "b19 = \"#$*%#@\"\n",
    "print(b19.isascii())"
   ]
  },
  {
   "cell_type": "code",
   "execution_count": 50,
   "id": "973a2910",
   "metadata": {},
   "outputs": [
    {
     "name": "stdout",
     "output_type": "stream",
     "text": [
      "True\n"
     ]
    }
   ],
   "source": [
    "b20 = \"\\u0033\"\n",
    "print(b20.isdecimal())"
   ]
  },
  {
   "cell_type": "code",
   "execution_count": 56,
   "id": "26340a8a",
   "metadata": {},
   "outputs": [
    {
     "name": "stdout",
     "output_type": "stream",
     "text": [
      "True\n"
     ]
    }
   ],
   "source": [
    "b21 = \"22\"\n",
    "print(b21.isdigit())"
   ]
  },
  {
   "cell_type": "code",
   "execution_count": 53,
   "id": "81dd07cd",
   "metadata": {},
   "outputs": [
    {
     "name": "stdout",
     "output_type": "stream",
     "text": [
      "True\n"
     ]
    }
   ],
   "source": [
    "b22 = \"Demo\"\n",
    "print(b22.isidentifier())"
   ]
  },
  {
   "cell_type": "code",
   "execution_count": 54,
   "id": "4456d345",
   "metadata": {},
   "outputs": [
    {
     "name": "stdout",
     "output_type": "stream",
     "text": [
      "True\n"
     ]
    }
   ],
   "source": [
    "b23 = \"smallletters\"\n",
    "print(b23.islower())"
   ]
  },
  {
   "cell_type": "code",
   "execution_count": 60,
   "id": "c2c960bc",
   "metadata": {},
   "outputs": [
    {
     "name": "stdout",
     "output_type": "stream",
     "text": [
      "True\n"
     ]
    }
   ],
   "source": [
    "b24 = \"589367\"\n",
    "print(b24.isnumeric())"
   ]
  },
  {
   "cell_type": "code",
   "execution_count": 65,
   "id": "20d03225",
   "metadata": {},
   "outputs": [
    {
     "name": "stdout",
     "output_type": "stream",
     "text": [
      "True\n",
      "False\n"
     ]
    }
   ],
   "source": [
    "b25 = \"Hello! World!\"\n",
    "b26 = \"Hello! \\n World!\"\n",
    "print(b25.isprintable())\n",
    "print(b26.isprintable())"
   ]
  },
  {
   "cell_type": "code",
   "execution_count": 67,
   "id": "efe3e2cb",
   "metadata": {},
   "outputs": [
    {
     "name": "stdout",
     "output_type": "stream",
     "text": [
      "True\n"
     ]
    }
   ],
   "source": [
    "b27 = \"   \"\n",
    "print(b27.isspace())"
   ]
  },
  {
   "cell_type": "code",
   "execution_count": 69,
   "id": "a5a2fa1a",
   "metadata": {},
   "outputs": [
    {
     "name": "stdout",
     "output_type": "stream",
     "text": [
      "True\n"
     ]
    }
   ],
   "source": [
    "b28 = \"This Obeys Title Rule\"\n",
    "print(b28.istitle())"
   ]
  },
  {
   "cell_type": "code",
   "execution_count": 70,
   "id": "0f2eb9f7",
   "metadata": {},
   "outputs": [
    {
     "name": "stdout",
     "output_type": "stream",
     "text": [
      "True\n"
     ]
    }
   ],
   "source": [
    "b29 = \"BIG LETTERS\"\n",
    "print(b29.isupper())"
   ]
  },
  {
   "cell_type": "code",
   "execution_count": 72,
   "id": "6365c513",
   "metadata": {},
   "outputs": [
    {
     "name": "stdout",
     "output_type": "stream",
     "text": [
      "Arvind#*Cliff#*Sammie\n"
     ]
    }
   ],
   "source": [
    "b30 = (\"Arvind\", \"Cliff\", \"Sammie\")\n",
    "print('#*'.join(b30))"
   ]
  },
  {
   "cell_type": "code",
   "execution_count": 83,
   "id": "38ceedeb",
   "metadata": {},
   "outputs": [
    {
     "name": "stdout",
     "output_type": "stream",
     "text": [
      "Emmanuel Bamidele 29\n"
     ]
    }
   ],
   "source": [
    "separator = ' '\n",
    "b31 = {'name': 'Emmanuel', 'lname': 'Bamidele', 'age': '29'}\n",
    "print(separator.join(b31.values()))"
   ]
  },
  {
   "cell_type": "code",
   "execution_count": 87,
   "id": "e99ccb5a",
   "metadata": {},
   "outputs": [
    {
     "name": "stdout",
     "output_type": "stream",
     "text": [
      "Emmanuel   is my name\n",
      "Emmanuel             is my name\n"
     ]
    }
   ],
   "source": [
    "b32 = \"Emmanuel\"\n",
    "print(b32.ljust(10), 'is my name')\n",
    "print(b32.ljust(20), 'is my name')"
   ]
  },
  {
   "cell_type": "code",
   "execution_count": 93,
   "id": "bf8c81fd",
   "metadata": {},
   "outputs": [
    {
     "name": "stdout",
     "output_type": "stream",
     "text": [
      "emmanuel bamidele\n"
     ]
    }
   ],
   "source": [
    "b33 = \"EMMANUEL BAMIDELE\"\n",
    "print(b33.lower())"
   ]
  },
  {
   "cell_type": "code",
   "execution_count": 94,
   "id": "37a835a2",
   "metadata": {},
   "outputs": [
    {
     "name": "stdout",
     "output_type": "stream",
     "text": [
      "Remove All Spaces Before \n"
     ]
    }
   ],
   "source": [
    "b34 = \"   Remove All Spaces Before \"\n",
    "print(b34.lstrip())"
   ]
  },
  {
   "cell_type": "code",
   "execution_count": 98,
   "id": "fb2890cc",
   "metadata": {
    "scrolled": true
   },
   "outputs": [
    {
     "name": "stdout",
     "output_type": "stream",
     "text": [
      "Hey Leader!\n"
     ]
    }
   ],
   "source": [
    "b35 = \"Hey Reader!\"\n",
    "table = b35.maketrans(\"R\", \"L\")\n",
    "print(b35.translate(table))"
   ]
  },
  {
   "cell_type": "code",
   "execution_count": 100,
   "id": "c3bbdab0",
   "metadata": {},
   "outputs": [
    {
     "name": "stdout",
     "output_type": "stream",
     "text": [
      "('Hey Reader ', 'thanks', ' for reading')\n"
     ]
    }
   ],
   "source": [
    "b36 = \"Hey Reader thanks for reading\"\n",
    "print(b36.partition(\"thanks\"))"
   ]
  },
  {
   "cell_type": "code",
   "execution_count": 101,
   "id": "016d90a7",
   "metadata": {},
   "outputs": [
    {
     "name": "stdout",
     "output_type": "stream",
     "text": [
      "Hey Reader thanks for leading\n"
     ]
    }
   ],
   "source": [
    "b37 = \"Hey you! thanks for reading\"\n",
    "print(b37.replace(\"reading\", \"leading\"))"
   ]
  },
  {
   "cell_type": "code",
   "execution_count": 104,
   "id": "14c2f5e0",
   "metadata": {},
   "outputs": [
    {
     "name": "stdout",
     "output_type": "stream",
     "text": [
      "15\n",
      "-1\n"
     ]
    }
   ],
   "source": [
    "b38 = \"Hey you, thank you\"\n",
    "print(b38.rfind(\"you\"))\n",
    "print(b38.rfind(\"me\"))"
   ]
  },
  {
   "cell_type": "code",
   "execution_count": 103,
   "id": "6c621b24",
   "metadata": {},
   "outputs": [
    {
     "name": "stdout",
     "output_type": "stream",
     "text": [
      "15\n"
     ]
    },
    {
     "ename": "ValueError",
     "evalue": "substring not found",
     "output_type": "error",
     "traceback": [
      "\u001b[0;31m---------------------------------------------------------------------------\u001b[0m",
      "\u001b[0;31mValueError\u001b[0m                                Traceback (most recent call last)",
      "\u001b[0;32m/var/folders/sn/f5tw20014xv6btlq0tlfyrnr0000gn/T/ipykernel_6488/143846941.py\u001b[0m in \u001b[0;36m<module>\u001b[0;34m\u001b[0m\n\u001b[1;32m      1\u001b[0m \u001b[0mb39\u001b[0m \u001b[0;34m=\u001b[0m \u001b[0;34m\"Hey you, thank you\"\u001b[0m\u001b[0;34m\u001b[0m\u001b[0;34m\u001b[0m\u001b[0m\n\u001b[1;32m      2\u001b[0m \u001b[0mprint\u001b[0m\u001b[0;34m(\u001b[0m\u001b[0mb39\u001b[0m\u001b[0;34m.\u001b[0m\u001b[0mrindex\u001b[0m\u001b[0;34m(\u001b[0m\u001b[0;34m\"you\"\u001b[0m\u001b[0;34m)\u001b[0m\u001b[0;34m)\u001b[0m\u001b[0;34m\u001b[0m\u001b[0;34m\u001b[0m\u001b[0m\n\u001b[0;32m----> 3\u001b[0;31m \u001b[0mprint\u001b[0m\u001b[0;34m(\u001b[0m\u001b[0mb39\u001b[0m\u001b[0;34m.\u001b[0m\u001b[0mrindex\u001b[0m\u001b[0;34m(\u001b[0m\u001b[0;34m\"me\"\u001b[0m\u001b[0;34m)\u001b[0m\u001b[0;34m)\u001b[0m\u001b[0;34m\u001b[0m\u001b[0;34m\u001b[0m\u001b[0m\n\u001b[0m",
      "\u001b[0;31mValueError\u001b[0m: substring not found"
     ]
    }
   ],
   "source": [
    "b39 = \"Hey you, thank you\"\n",
    "print(b39.rindex(\"you\"))\n",
    "print(b39.rindex(\"me\"))"
   ]
  },
  {
   "cell_type": "code",
   "execution_count": 106,
   "id": "2267507a",
   "metadata": {},
   "outputs": [
    {
     "name": "stdout",
     "output_type": "stream",
     "text": [
      "  Bamidele is my last name\n",
      "------------Bamidele is my last name\n"
     ]
    }
   ],
   "source": [
    "b40 = \"Bamidele\"\n",
    "print(b40.rjust(10), 'is my last name')\n",
    "print(b40.rjust(20, '-'), 'is my last name')"
   ]
  },
  {
   "cell_type": "code",
   "execution_count": 107,
   "id": "4a969516",
   "metadata": {},
   "outputs": [
    {
     "name": "stdout",
     "output_type": "stream",
     "text": [
      "('Hey Reader thank you for reading, ', 'thank', ' you!')\n"
     ]
    }
   ],
   "source": [
    "b41 = \"Hey Reader thank you for reading, thank you!\"\n",
    "print(b41.rpartition(\"thank\"))"
   ]
  },
  {
   "cell_type": "code",
   "execution_count": 108,
   "id": "6b4b93f2",
   "metadata": {},
   "outputs": [
    {
     "name": "stdout",
     "output_type": "stream",
     "text": [
      "['Niyi', ' Abiola', ' Ijaola']\n"
     ]
    }
   ],
   "source": [
    "b42 = \"Niyi, Abiola, Ijaola\"\n",
    "print(b42.rsplit(\",\"))"
   ]
  },
  {
   "cell_type": "code",
   "execution_count": 109,
   "id": "fee59921",
   "metadata": {},
   "outputs": [
    {
     "name": "stdout",
     "output_type": "stream",
     "text": [
      "   Remove All Spaces After\n"
     ]
    }
   ],
   "source": [
    "b43 = \"   Remove All Spaces After    \"\n",
    "print(b43.rstrip())"
   ]
  },
  {
   "cell_type": "code",
   "execution_count": 111,
   "id": "0077461f",
   "metadata": {},
   "outputs": [
    {
     "name": "stdout",
     "output_type": "stream",
     "text": [
      "['Afure', ' Nana', ' Tunde']\n"
     ]
    }
   ],
   "source": [
    "b44 = \"Afure, Nana, Tunde\"\n",
    "print(b44.split(\",\"))"
   ]
  },
  {
   "cell_type": "code",
   "execution_count": 112,
   "id": "ad9efa06",
   "metadata": {},
   "outputs": [
    {
     "name": "stdout",
     "output_type": "stream",
     "text": [
      "['Hey you!', 'Welcome home!']\n"
     ]
    }
   ],
   "source": [
    "b45 = \"Hey you!\\nWelcome home!\"\n",
    "print(b45.splitlines())"
   ]
  },
  {
   "cell_type": "code",
   "execution_count": 113,
   "id": "c1da88da",
   "metadata": {},
   "outputs": [
    {
     "name": "stdout",
     "output_type": "stream",
     "text": [
      "True\n"
     ]
    }
   ],
   "source": [
    "b46 = \"r1_newfile.csv\"\n",
    "print(b46.startswith(\"r1\"))"
   ]
  },
  {
   "cell_type": "code",
   "execution_count": 115,
   "id": "b49f77fb",
   "metadata": {},
   "outputs": [
    {
     "name": "stdout",
     "output_type": "stream",
     "text": [
      "let's remove all outer spaces\n"
     ]
    }
   ],
   "source": [
    "b47 = \"  let's remove all outer spaces \"\n",
    "print(b47.strip())"
   ]
  },
  {
   "cell_type": "code",
   "execution_count": 116,
   "id": "3c3f5b8f",
   "metadata": {},
   "outputs": [
    {
     "name": "stdout",
     "output_type": "stream",
     "text": [
      "hELLO wORLD\n"
     ]
    }
   ],
   "source": [
    "b48 = \"Hello World\"\n",
    "print(b48.swapcase())"
   ]
  },
  {
   "cell_type": "code",
   "execution_count": 118,
   "id": "6875e912",
   "metadata": {},
   "outputs": [
    {
     "name": "stdout",
     "output_type": "stream",
     "text": [
      "Hello World\n"
     ]
    }
   ],
   "source": [
    "b49 = \"hello world\"\n",
    "print(b49.title())"
   ]
  },
  {
   "cell_type": "code",
   "execution_count": 120,
   "id": "381da0e6",
   "metadata": {},
   "outputs": [
    {
     "name": "stdout",
     "output_type": "stream",
     "text": [
      "Not a Plum\n"
     ]
    }
   ],
   "source": [
    "b50 = {\"P\": \"S\"}\n",
    "b51 = \"Not a Plum\"\n",
    "print(b51.translate(b50))"
   ]
  },
  {
   "cell_type": "code",
   "execution_count": 121,
   "id": "5b4d22af",
   "metadata": {},
   "outputs": [
    {
     "name": "stdout",
     "output_type": "stream",
     "text": [
      "HELLO WORLD\n"
     ]
    }
   ],
   "source": [
    "b52 = \"hello world\"\n",
    "print(b52.upper())"
   ]
  },
  {
   "cell_type": "code",
   "execution_count": 123,
   "id": "ae3bd57e",
   "metadata": {},
   "outputs": [
    {
     "name": "stdout",
     "output_type": "stream",
     "text": [
      "0000300\n"
     ]
    }
   ],
   "source": [
    "b53 = \"300\"\n",
    "print(b53.zfill(7))"
   ]
  },
  {
   "cell_type": "markdown",
   "id": "d2a5ee88",
   "metadata": {},
   "source": [
    "### Lists"
   ]
  },
  {
   "cell_type": "code",
   "execution_count": 1,
   "id": "a290c2cd",
   "metadata": {},
   "outputs": [
    {
     "name": "stdout",
     "output_type": "stream",
     "text": [
      "Emmy\n"
     ]
    }
   ],
   "source": [
    "c = [\"Emmy\", \"Dami\", \"Chidinma\", \"Keren\", \"Gerty\"]\n",
    "#Obtain the item at certain index\n",
    "print(c[0])"
   ]
  },
  {
   "cell_type": "code",
   "execution_count": 2,
   "id": "075006d5",
   "metadata": {},
   "outputs": [
    {
     "name": "stdout",
     "output_type": "stream",
     "text": [
      "Dami\n"
     ]
    }
   ],
   "source": [
    "print(c[1])"
   ]
  },
  {
   "cell_type": "code",
   "execution_count": 3,
   "id": "4e72774f",
   "metadata": {},
   "outputs": [
    {
     "name": "stdout",
     "output_type": "stream",
     "text": [
      "['Dami', 'Chidinma']\n"
     ]
    }
   ],
   "source": [
    "print(c[1:3])"
   ]
  },
  {
   "cell_type": "code",
   "execution_count": 4,
   "id": "8b9b6325",
   "metadata": {},
   "outputs": [
    {
     "name": "stdout",
     "output_type": "stream",
     "text": [
      "['Emmy', 'Dami']\n"
     ]
    }
   ],
   "source": [
    "print(c[:2])"
   ]
  },
  {
   "cell_type": "code",
   "execution_count": 5,
   "id": "f75241b1",
   "metadata": {},
   "outputs": [
    {
     "name": "stdout",
     "output_type": "stream",
     "text": [
      "Gerty\n"
     ]
    }
   ],
   "source": [
    "print(c[-1])"
   ]
  },
  {
   "cell_type": "code",
   "execution_count": 6,
   "id": "bc35978f",
   "metadata": {},
   "outputs": [
    {
     "name": "stdout",
     "output_type": "stream",
     "text": [
      "5\n"
     ]
    }
   ],
   "source": [
    "#Obtain the length of the list\n",
    "print(len(c))"
   ]
  },
  {
   "cell_type": "code",
   "execution_count": 7,
   "id": "463cdc05",
   "metadata": {},
   "outputs": [
    {
     "name": "stdout",
     "output_type": "stream",
     "text": [
      "[1, 2, 3, 4, 5.5, 6.6]\n",
      "['Bodunrin', 'Lee', 'Baowen', 'Eylem', 'Raj']\n",
      "[False, True, False, False]\n",
      "[1, 2, 3, 'Eylem', 'Raj', False, True]\n"
     ]
    }
   ],
   "source": [
    "#Data Type in list\n",
    "c1 = [1, 2, 3, 4, 5.5, 6.6]\n",
    "c2 = [\"Bodunrin\", \"Lee\", \"Baowen\", \"Eylem\", \"Raj\"]\n",
    "c3 = [False, True, False, False]\n",
    "c4 = c1[:3] + c2[3:] + c3[0:2]\n",
    "\n",
    "print(c1)\n",
    "print(c2)\n",
    "print(c3)\n",
    "print(c4)"
   ]
  },
  {
   "cell_type": "code",
   "execution_count": 8,
   "id": "133ee5d9",
   "metadata": {},
   "outputs": [
    {
     "name": "stdout",
     "output_type": "stream",
     "text": [
      "<class 'list'>\n",
      "<class 'list'>\n",
      "<class 'list'>\n",
      "<class 'list'>\n"
     ]
    }
   ],
   "source": [
    "#Check data type\n",
    "print(type(c1))\n",
    "print(type(c2))\n",
    "print(type(c3))\n",
    "print(type(c4))"
   ]
  },
  {
   "cell_type": "code",
   "execution_count": 9,
   "id": "3c85c496",
   "metadata": {},
   "outputs": [
    {
     "name": "stdout",
     "output_type": "stream",
     "text": [
      "['South Africa', 'USA', 'Greece', 'Nigeria']\n"
     ]
    }
   ],
   "source": [
    "#list constructor\n",
    "c5 = list((\"South Africa\", \"USA\", \"Greece\", \"Nigeria\"))\n",
    "print(c5)"
   ]
  },
  {
   "cell_type": "markdown",
   "id": "ec0e17b4",
   "metadata": {},
   "source": [
    "#### List Methods"
   ]
  },
  {
   "cell_type": "code",
   "execution_count": 10,
   "id": "b7e51426",
   "metadata": {},
   "outputs": [
    {
     "name": "stdout",
     "output_type": "stream",
     "text": [
      "['Bodunrin', 'Lee', 'Baowen', 'Eylem', 'Raj', 'Neogi']\n",
      "['Bodunrin', 'Lee', 'Baowen', 'Eylem', 'Raj', 'Neogi', ['South Africa', 'USA']]\n"
     ]
    }
   ],
   "source": [
    "c6 = [\"Bodunrin\", \"Lee\", \"Baowen\", \"Eylem\", \"Raj\"]\n",
    "c7 = ['South Africa', 'USA']\n",
    "\n",
    "c6.append(\"Neogi\")\n",
    "print(c6)\n",
    "c6.append(c7)\n",
    "print(c6)"
   ]
  },
  {
   "cell_type": "code",
   "execution_count": 11,
   "id": "a5bbd5da",
   "metadata": {},
   "outputs": [
    {
     "name": "stdout",
     "output_type": "stream",
     "text": [
      "[]\n"
     ]
    }
   ],
   "source": [
    "c8 = [\"Bodunrin\", \"Lee\", \"Baowen\", \"Eylem\", \"Raj\"]\n",
    "\n",
    "c8.clear()\n",
    "print(c8)"
   ]
  },
  {
   "cell_type": "code",
   "execution_count": 12,
   "id": "1dd75f6c",
   "metadata": {},
   "outputs": [
    {
     "name": "stdout",
     "output_type": "stream",
     "text": [
      "['South Africa', 'USA', 'Greece', 'Nigeria']\n"
     ]
    }
   ],
   "source": [
    "c9 = ['South Africa', 'USA', 'Greece', 'Nigeria']\n",
    "c10 = c9.copy()\n",
    "print(c10)"
   ]
  },
  {
   "cell_type": "code",
   "execution_count": 13,
   "id": "76cff9c9",
   "metadata": {},
   "outputs": [
    {
     "name": "stdout",
     "output_type": "stream",
     "text": [
      "2\n"
     ]
    }
   ],
   "source": [
    "c11 = ['South Africa', 'USA', 'Greece', 'Nigeria', \"Greece\"]\n",
    "num = c11.count('Greece')\n",
    "print(num)"
   ]
  },
  {
   "cell_type": "code",
   "execution_count": 14,
   "id": "98d860fa",
   "metadata": {},
   "outputs": [
    {
     "name": "stdout",
     "output_type": "stream",
     "text": [
      "['Bodunrin', 'Lee', 'Baowen', 'Eylem', 'Raj', 'South Africa', 'USA']\n"
     ]
    }
   ],
   "source": [
    "c12 = [\"Bodunrin\", \"Lee\", \"Baowen\", \"Eylem\", \"Raj\"]\n",
    "c13 = ['South Africa', 'USA']\n",
    "\n",
    "c12.extend(c13)\n",
    "print(c12)"
   ]
  },
  {
   "cell_type": "code",
   "execution_count": 15,
   "id": "3e33b392",
   "metadata": {},
   "outputs": [
    {
     "name": "stdout",
     "output_type": "stream",
     "text": [
      "1\n"
     ]
    }
   ],
   "source": [
    "c14 = ['South Africa', 'USA', 'Greece', 'Nigeria', \"Greece\"]\n",
    "num = c14.index('USA')\n",
    "print(num)"
   ]
  },
  {
   "cell_type": "code",
   "execution_count": 16,
   "id": "6667e542",
   "metadata": {},
   "outputs": [
    {
     "name": "stdout",
     "output_type": "stream",
     "text": [
      "['South Africa', 'USA', 'India', 'Greece', 'Nigeria', 'Australia']\n"
     ]
    }
   ],
   "source": [
    "c15 = ['South Africa', 'USA', 'Greece', 'Nigeria', \"Australia\"]\n",
    "c15.insert(2, 'India')\n",
    "print(c15)"
   ]
  },
  {
   "cell_type": "code",
   "execution_count": 17,
   "id": "1df56d84",
   "metadata": {},
   "outputs": [
    {
     "name": "stdout",
     "output_type": "stream",
     "text": [
      "['Bodunrin', 'Baowen', 'Eylem', 'Raj']\n"
     ]
    }
   ],
   "source": [
    "c16 = [\"Bodunrin\", \"Lee\", \"Baowen\", \"Eylem\", \"Raj\"]\n",
    "c16.pop(1)\n",
    "print(c16)"
   ]
  },
  {
   "cell_type": "code",
   "execution_count": 18,
   "id": "bd195881",
   "metadata": {},
   "outputs": [
    {
     "name": "stdout",
     "output_type": "stream",
     "text": [
      "['Bodunrin', 'Baowen', 'Eylem', 'Raj']\n"
     ]
    }
   ],
   "source": [
    "c17 = [\"Bodunrin\", \"Lee\", \"Baowen\", \"Eylem\", \"Raj\"]\n",
    "c17.remove(\"Lee\")\n",
    "print(c17)"
   ]
  },
  {
   "cell_type": "code",
   "execution_count": 19,
   "id": "2d67efa8",
   "metadata": {},
   "outputs": [
    {
     "name": "stdout",
     "output_type": "stream",
     "text": [
      "['Raj', 'Eylem', 'Baowen', 'Lee', 'Bodunrin']\n"
     ]
    }
   ],
   "source": [
    "c18 = [\"Bodunrin\", \"Lee\", \"Baowen\", \"Eylem\", \"Raj\"]\n",
    "c18.reverse()\n",
    "print(c18)"
   ]
  },
  {
   "cell_type": "code",
   "execution_count": 20,
   "id": "bc2dc30c",
   "metadata": {},
   "outputs": [
    {
     "name": "stdout",
     "output_type": "stream",
     "text": [
      "['Baowen', 'Bodunrin', 'Eylem', 'Lee', 'Raj']\n",
      "['Raj', 'Lee', 'Eylem', 'Bodunrin', 'Baowen']\n"
     ]
    }
   ],
   "source": [
    "c19 = [\"Bodunrin\", \"Lee\", \"Baowen\", \"Eylem\", \"Raj\"]\n",
    "c19.sort() #ascending by default\n",
    "print(c19)\n",
    "\n",
    "c19.sort(reverse=True) #descending method\n",
    "print(c19)"
   ]
  },
  {
   "cell_type": "markdown",
   "id": "461022ab",
   "metadata": {},
   "source": [
    "### Tuple"
   ]
  },
  {
   "cell_type": "code",
   "execution_count": 1,
   "id": "289d8a87",
   "metadata": {},
   "outputs": [
    {
     "name": "stdout",
     "output_type": "stream",
     "text": [
      "6\n"
     ]
    }
   ],
   "source": [
    "d = (\"Colorado\", \"Arizona\", \"California\", \"Nebraska\", \"New York\", \"Maryland\")\n",
    "print(len(d))"
   ]
  },
  {
   "cell_type": "code",
   "execution_count": 2,
   "id": "2e6ca755",
   "metadata": {},
   "outputs": [
    {
     "name": "stdout",
     "output_type": "stream",
     "text": [
      "<class 'str'>\n"
     ]
    }
   ],
   "source": [
    "#a comma must be added at the end if it contains a single item, else it is a string\n",
    "d1 = (\"California\")\n",
    "print(type(d1))"
   ]
  },
  {
   "cell_type": "code",
   "execution_count": 3,
   "id": "f6273b3b",
   "metadata": {},
   "outputs": [
    {
     "name": "stdout",
     "output_type": "stream",
     "text": [
      "<class 'tuple'>\n"
     ]
    }
   ],
   "source": [
    "d2 = (\"California\",)\n",
    "print(type(d2))"
   ]
  },
  {
   "cell_type": "code",
   "execution_count": 4,
   "id": "600b3a8d",
   "metadata": {},
   "outputs": [
    {
     "name": "stdout",
     "output_type": "stream",
     "text": [
      "('First', 'Second', 'Third')\n",
      "<class 'tuple'>\n"
     ]
    }
   ],
   "source": [
    "#tuple constructor\n",
    "d3 = tuple((\"First\", \"Second\", \"Third\"))\n",
    "print(d3)\n",
    "print(type(d3))"
   ]
  },
  {
   "cell_type": "code",
   "execution_count": 5,
   "id": "fdf85441",
   "metadata": {},
   "outputs": [
    {
     "name": "stdout",
     "output_type": "stream",
     "text": [
      "Boulder\n",
      "Nigeria\n",
      "29\n"
     ]
    }
   ],
   "source": [
    "#tuple packing and unpacking\n",
    "d4 = (\"Boulder\",\"Nigeria\",29)\n",
    "(University, Country, Age) = d4\n",
    "print(University)\n",
    "print(Country)\n",
    "print(Age)"
   ]
  },
  {
   "cell_type": "code",
   "execution_count": 6,
   "id": "cd988195",
   "metadata": {},
   "outputs": [
    {
     "name": "stdout",
     "output_type": "stream",
     "text": [
      "29\n",
      "['Paris', 'San Diego', '3100']\n",
      "11101\n",
      "Atlanta\n"
     ]
    }
   ],
   "source": [
    "#tuple packing and unpacking using (*args)\n",
    "#first and last will be assigned to element without *, \n",
    "#while the remaining will be assigned to the one with the *\n",
    "\n",
    "a, *b, c, d = (29, \"Paris\", \"San Diego\", \"3100\", 11101, \"Atlanta\")\n",
    "print(a)\n",
    "print(b)\n",
    "print(c)\n",
    "print(d)"
   ]
  },
  {
   "cell_type": "markdown",
   "id": "493a6f52",
   "metadata": {},
   "source": [
    "#### Tuple Methods"
   ]
  },
  {
   "cell_type": "code",
   "execution_count": 7,
   "id": "245c9077",
   "metadata": {},
   "outputs": [
    {
     "name": "stdout",
     "output_type": "stream",
     "text": [
      "3\n"
     ]
    }
   ],
   "source": [
    "d5 = (\"one\", \"two\", \"three\", \"one\", \"one\")\n",
    "print(d5.count(\"one\"))"
   ]
  },
  {
   "cell_type": "code",
   "execution_count": 8,
   "id": "c2a6285d",
   "metadata": {},
   "outputs": [
    {
     "name": "stdout",
     "output_type": "stream",
     "text": [
      "2\n"
     ]
    }
   ],
   "source": [
    "d6 = (\"one\", \"two\", \"three\", \"one\", \"one\")\n",
    "print(d6.index(\"three\"))"
   ]
  },
  {
   "cell_type": "markdown",
   "id": "a956e599",
   "metadata": {},
   "source": [
    "### Sets"
   ]
  },
  {
   "cell_type": "code",
   "execution_count": 1,
   "id": "044bb95a",
   "metadata": {},
   "outputs": [
    {
     "name": "stdout",
     "output_type": "stream",
     "text": [
      "{'two', 'three', 'one'}\n"
     ]
    }
   ],
   "source": [
    "e = {\"one\", \"two\", \"three\"}\n",
    "print(e)"
   ]
  },
  {
   "cell_type": "code",
   "execution_count": 2,
   "id": "26b6d77d",
   "metadata": {},
   "outputs": [
    {
     "name": "stdout",
     "output_type": "stream",
     "text": [
      "{'two', 'three', 'one'}\n"
     ]
    }
   ],
   "source": [
    "#duplicates are not allowed\n",
    "e1 = {\"one\", \"two\", \"three\", \"two\"}\n",
    "print(e1)"
   ]
  },
  {
   "cell_type": "code",
   "execution_count": 3,
   "id": "9f67b5b3",
   "metadata": {},
   "outputs": [
    {
     "name": "stdout",
     "output_type": "stream",
     "text": [
      "3\n"
     ]
    }
   ],
   "source": [
    "#obtain the length of the set\n",
    "e2 = {\"one\", \"two\", \"three\", \"two\"}\n",
    "print(len(e2))"
   ]
  },
  {
   "cell_type": "code",
   "execution_count": 4,
   "id": "c317a8aa",
   "metadata": {},
   "outputs": [
    {
     "name": "stdout",
     "output_type": "stream",
     "text": [
      "<class 'set'>\n"
     ]
    }
   ],
   "source": [
    "#obtain the data type of a set\n",
    "e3 = {\"one\", \"two\", \"three\"}\n",
    "print(type(e3))"
   ]
  },
  {
   "cell_type": "code",
   "execution_count": 5,
   "id": "a1f03a8f",
   "metadata": {},
   "outputs": [
    {
     "name": "stdout",
     "output_type": "stream",
     "text": [
      "{'two', 'three', 'one'}\n",
      "<class 'set'>\n"
     ]
    }
   ],
   "source": [
    "#create a set using a constructor\n",
    "e4 = set((\"one\", \"two\", \"three\"))\n",
    "print(e4)\n",
    "print(type(e4))"
   ]
  },
  {
   "cell_type": "markdown",
   "id": "266c2425",
   "metadata": {},
   "source": [
    "#### Sets Methods"
   ]
  },
  {
   "cell_type": "code",
   "execution_count": 6,
   "id": "088b83e6",
   "metadata": {},
   "outputs": [
    {
     "name": "stdout",
     "output_type": "stream",
     "text": [
      "{'Paris', 'Houston', 'Athens', 'Sicily', 'Boulder'}\n"
     ]
    }
   ],
   "source": [
    "e5 = {\"Boulder\", \"Houston\", \"Paris\", \"Sicily\"}\n",
    "e5.add(\"Athens\")\n",
    "print(e5)"
   ]
  },
  {
   "cell_type": "code",
   "execution_count": 7,
   "id": "1cba1a1f",
   "metadata": {},
   "outputs": [
    {
     "name": "stdout",
     "output_type": "stream",
     "text": [
      "set()\n"
     ]
    }
   ],
   "source": [
    "e6 = {\"Boulder\", \"Houston\", \"Paris\", \"Sicily\"}\n",
    "e6.clear()\n",
    "print(e6)"
   ]
  },
  {
   "cell_type": "code",
   "execution_count": 8,
   "id": "4bc0c774",
   "metadata": {},
   "outputs": [
    {
     "name": "stdout",
     "output_type": "stream",
     "text": [
      "{'Paris', 'Sicily', 'Houston', 'Boulder'}\n"
     ]
    }
   ],
   "source": [
    "e7 = {\"Boulder\", \"Houston\", \"Paris\", \"Sicily\"}\n",
    "e8 = e7.copy()\n",
    "print(e8)"
   ]
  },
  {
   "cell_type": "code",
   "execution_count": 9,
   "id": "8a52eebd",
   "metadata": {},
   "outputs": [
    {
     "name": "stdout",
     "output_type": "stream",
     "text": [
      "{'Athens'}\n",
      "{'Paris', 'Houston', 'Athens', 'Sicily', 'Boulder'}\n"
     ]
    }
   ],
   "source": [
    "e9 = {\"Boulder\", \"Houston\", \"Paris\", \"Sicily\"}\n",
    "e10 = {'Athens', 'Houston', 'Sicily', 'Paris', 'Boulder'}\n",
    "e11 = e10.difference(e9)\n",
    "print(e11)\n",
    "print(e10) #the set does not get updated after substraction"
   ]
  },
  {
   "cell_type": "code",
   "execution_count": 10,
   "id": "2907e36a",
   "metadata": {},
   "outputs": [
    {
     "name": "stdout",
     "output_type": "stream",
     "text": [
      "{'Athens'}\n"
     ]
    }
   ],
   "source": [
    "e12 = {\"Boulder\", \"Houston\", \"Paris\", \"Sicily\"}\n",
    "e13 = {'Athens', 'Houston', 'Sicily', 'Paris', 'Boulder'}\n",
    "e13.difference_update(e12)\n",
    "print(e13) #The item removed the common items"
   ]
  },
  {
   "cell_type": "code",
   "execution_count": 11,
   "id": "26c6a5f0",
   "metadata": {},
   "outputs": [
    {
     "name": "stdout",
     "output_type": "stream",
     "text": [
      "{'Paris', 'Houston', 'Boulder'}\n"
     ]
    }
   ],
   "source": [
    "e14 = {\"Boulder\", \"Houston\", \"Paris\", \"Sicily\"}\n",
    "e14.discard(\"Sicily\")\n",
    "print(e14)"
   ]
  },
  {
   "cell_type": "code",
   "execution_count": 12,
   "id": "a9946cec",
   "metadata": {},
   "outputs": [
    {
     "name": "stdout",
     "output_type": "stream",
     "text": [
      "{'Houston', 'Boulder', 'Paris', 'Sicily'}\n",
      "{'Paris', 'Houston', 'Athens', 'Sicily', 'Boulder'}\n"
     ]
    }
   ],
   "source": [
    "e15 = {\"Boulder\", \"Houston\", \"Paris\", \"Sicily\"}\n",
    "e16 = {'Athens', 'Houston', 'Sicily', 'Paris', 'Boulder'}\n",
    "e17 = e16.intersection(e15)\n",
    "print(e17)\n",
    "print(e16) #the set does not get updated after intersection"
   ]
  },
  {
   "cell_type": "code",
   "execution_count": 13,
   "id": "23f1e149",
   "metadata": {},
   "outputs": [
    {
     "name": "stdout",
     "output_type": "stream",
     "text": [
      "{'Houston', 'Boulder', 'Paris', 'Sicily'}\n"
     ]
    }
   ],
   "source": [
    "e18 = {\"Boulder\", \"Houston\", \"Paris\", \"Sicily\"}\n",
    "e19 = {'Athens', 'Houston', 'Sicily', 'Paris', 'Boulder'}\n",
    "e19.intersection_update(e18)\n",
    "print(e19)  #The item removed the uncommon items"
   ]
  },
  {
   "cell_type": "code",
   "execution_count": 14,
   "id": "24b27ee1",
   "metadata": {},
   "outputs": [
    {
     "name": "stdout",
     "output_type": "stream",
     "text": [
      "True\n"
     ]
    }
   ],
   "source": [
    "e20 = {\"Boulder\", \"Houston\", \"Paris\", \"Sicily\"}\n",
    "e21 = {'Athens', 'Aspen'}\n",
    "e22 = e20.isdisjoint(e21)\n",
    "print(e22)  #The item shows if they have nothing in common"
   ]
  },
  {
   "cell_type": "code",
   "execution_count": 15,
   "id": "efa953b7",
   "metadata": {},
   "outputs": [
    {
     "name": "stdout",
     "output_type": "stream",
     "text": [
      "True\n"
     ]
    }
   ],
   "source": [
    "e23 = {\"Boulder\", \"Houston\", \"Paris\", \"Sicily\"}\n",
    "e24 = {'Athens', 'Aspen'}\n",
    "e23.add('Athens') \n",
    "e23.add('Aspen') #we have added the elements in e24\n",
    "\n",
    "e25 = e24.issubset(e23)\n",
    "print(e25)  #The item shows if e24 is a subset of e25"
   ]
  },
  {
   "cell_type": "code",
   "execution_count": 16,
   "id": "ce9f92ce",
   "metadata": {},
   "outputs": [
    {
     "name": "stdout",
     "output_type": "stream",
     "text": [
      "True\n"
     ]
    }
   ],
   "source": [
    "e26 = {\"Boulder\", \"Houston\", \"Paris\", \"Sicily\"}\n",
    "e27 = {'Athens', 'Aspen'}\n",
    "e26.add('Athens') \n",
    "e26.add('Aspen') #we have added the elements in e24\n",
    "\n",
    "e28 = e23.issuperset(e24)\n",
    "print(e28)  #The item shows if e24 is a subset of e25"
   ]
  },
  {
   "cell_type": "code",
   "execution_count": 17,
   "id": "a59cdd52",
   "metadata": {},
   "outputs": [
    {
     "name": "stdout",
     "output_type": "stream",
     "text": [
      "{'Sicily', 'Houston', 'Boulder'}\n"
     ]
    }
   ],
   "source": [
    "e29 = {\"Boulder\", \"Houston\", \"Paris\", \"Sicily\"}\n",
    "e29.pop()\n",
    "print(e29)"
   ]
  },
  {
   "cell_type": "code",
   "execution_count": 18,
   "id": "951f31d5",
   "metadata": {},
   "outputs": [
    {
     "name": "stdout",
     "output_type": "stream",
     "text": [
      "{'Paris', 'Houston', 'Boulder'}\n"
     ]
    }
   ],
   "source": [
    "e30 = {\"Boulder\", \"Houston\", \"Paris\", \"Sicily\"}\n",
    "e30.remove(\"Sicily\")\n",
    "print(e30)"
   ]
  },
  {
   "cell_type": "code",
   "execution_count": 19,
   "id": "e513faf2",
   "metadata": {},
   "outputs": [
    {
     "name": "stdout",
     "output_type": "stream",
     "text": [
      "{'Paris', 'Houston', 'Athens'}\n",
      "{'Sicily', 'Houston', 'Boulder'}\n"
     ]
    }
   ],
   "source": [
    "e31 = {\"Boulder\", \"Houston\", \"Sicily\"}\n",
    "e32 = {'Athens', 'Sicily', 'Paris', 'Boulder'}\n",
    "e33 = e31.symmetric_difference(e32)\n",
    "print(e33) #the set contains all items \n",
    "#except those in common\n",
    "print(e31) #e31 retains its items"
   ]
  },
  {
   "cell_type": "code",
   "execution_count": 20,
   "id": "10e21523",
   "metadata": {},
   "outputs": [
    {
     "name": "stdout",
     "output_type": "stream",
     "text": [
      "{'Paris', 'Houston', 'Athens'}\n"
     ]
    }
   ],
   "source": [
    "e34 = {\"Boulder\", \"Houston\", \"Sicily\"}\n",
    "e35 = {'Athens', 'Sicily', 'Paris', 'Boulder'}\n",
    "e34.symmetric_difference_update(e35)\n",
    "print(e34) #e34 set now contains all \n",
    "#items except those in common"
   ]
  },
  {
   "cell_type": "code",
   "execution_count": 21,
   "id": "be1bf906",
   "metadata": {
    "scrolled": true
   },
   "outputs": [
    {
     "name": "stdout",
     "output_type": "stream",
     "text": [
      "{'Sicily', 'Paris', 'Houston', 'Athens', 'Boulder'}\n"
     ]
    }
   ],
   "source": [
    "e36 = {\"Boulder\", \"Houston\", \"Sicily\"}\n",
    "e37 = {'Athens', 'Sicily', 'Paris', 'Boulder'}\n",
    "e38 = e36.union(e37)\n",
    "print(e38) #e38 contains all items in both set"
   ]
  },
  {
   "cell_type": "code",
   "execution_count": 22,
   "id": "5e34ae26",
   "metadata": {},
   "outputs": [
    {
     "name": "stdout",
     "output_type": "stream",
     "text": [
      "{'Sicily', 'Paris', 'Houston', 'Athens', 'Boulder'}\n"
     ]
    }
   ],
   "source": [
    "e39 = {'Athens', 'Sicily', 'Paris', 'Boulder'}\n",
    "e40 = {\"Boulder\", \"Houston\", \"Sicily\"}\n",
    "e40.update(e39)\n",
    "print(e40) #e39 is updated with e40"
   ]
  },
  {
   "cell_type": "markdown",
   "id": "b33f5152",
   "metadata": {},
   "source": [
    "### Dictionary"
   ]
  },
  {
   "cell_type": "code",
   "execution_count": 1,
   "id": "2875deac",
   "metadata": {},
   "outputs": [
    {
     "name": "stdout",
     "output_type": "stream",
     "text": [
      "{'First': 1, 'Second': 2, 'Long': True, 'Luxury': 'Yes'}\n"
     ]
    }
   ],
   "source": [
    "g = {\"First\":1, \"Second\":2, \"Long\":True, \"Luxury\":\"Yes\"}\n",
    "print(g)"
   ]
  },
  {
   "cell_type": "code",
   "execution_count": 2,
   "id": "385f2051",
   "metadata": {},
   "outputs": [
    {
     "name": "stdout",
     "output_type": "stream",
     "text": [
      "Accord\n"
     ]
    },
    {
     "ename": "KeyError",
     "evalue": "1",
     "output_type": "error",
     "traceback": [
      "\u001b[0;31m---------------------------------------------------------------------------\u001b[0m",
      "\u001b[0;31mKeyError\u001b[0m                                  Traceback (most recent call last)",
      "\u001b[0;32m/var/folders/sn/f5tw20014xv6btlq0tlfyrnr0000gn/T/ipykernel_5762/1073083965.py\u001b[0m in \u001b[0;36m<module>\u001b[0;34m\u001b[0m\n\u001b[1;32m      1\u001b[0m \u001b[0mg1\u001b[0m \u001b[0;34m=\u001b[0m \u001b[0;34m{\u001b[0m\u001b[0;34m\"Brand\"\u001b[0m\u001b[0;34m:\u001b[0m\u001b[0;34m\"Honda\"\u001b[0m\u001b[0;34m,\u001b[0m \u001b[0;34m\"Model\"\u001b[0m\u001b[0;34m:\u001b[0m \u001b[0;34m\"Accord\"\u001b[0m\u001b[0;34m,\u001b[0m \u001b[0;34m\"Year\"\u001b[0m\u001b[0;34m:\u001b[0m \u001b[0;36m2022\u001b[0m\u001b[0;34m,\u001b[0m \u001b[0;34m\"Mileage\"\u001b[0m\u001b[0;34m:\u001b[0m\u001b[0;36m7\u001b[0m\u001b[0;34m}\u001b[0m\u001b[0;34m\u001b[0m\u001b[0;34m\u001b[0m\u001b[0m\n\u001b[1;32m      2\u001b[0m \u001b[0mprint\u001b[0m\u001b[0;34m(\u001b[0m\u001b[0mg1\u001b[0m\u001b[0;34m[\u001b[0m\u001b[0;34m\"Model\"\u001b[0m\u001b[0;34m]\u001b[0m\u001b[0;34m)\u001b[0m \u001b[0;31m#returns the value for the Model key\u001b[0m\u001b[0;34m\u001b[0m\u001b[0;34m\u001b[0m\u001b[0m\n\u001b[0;32m----> 3\u001b[0;31m \u001b[0mprint\u001b[0m\u001b[0;34m(\u001b[0m\u001b[0mg1\u001b[0m\u001b[0;34m[\u001b[0m\u001b[0;36m1\u001b[0m\u001b[0;34m]\u001b[0m\u001b[0;34m)\u001b[0m \u001b[0;31m#returns an error\u001b[0m\u001b[0;34m\u001b[0m\u001b[0;34m\u001b[0m\u001b[0m\n\u001b[0m",
      "\u001b[0;31mKeyError\u001b[0m: 1"
     ]
    }
   ],
   "source": [
    "g1 = {\"Brand\":\"Honda\", \"Model\": \"Accord\", \"Year\": 2022, \"Mileage\":7}\n",
    "print(g1[\"Model\"]) #returns the value for the Model key\n",
    "print(g1[1]) #returns an error"
   ]
  },
  {
   "cell_type": "code",
   "execution_count": 3,
   "id": "4c00f90a",
   "metadata": {},
   "outputs": [
    {
     "name": "stdout",
     "output_type": "stream",
     "text": [
      "{'Brand': 'Honda', 'Model': 'Accord', 'Year': 2022, 'Mileage': 5}\n"
     ]
    }
   ],
   "source": [
    "g2 = {\"Brand\":\"Honda\", \"Model\": \"Accord\", \"Year\": 2022, \"Mileage\":7, \"Mileage\": 5}\n",
    "print(g2) #returns the modified value of Mileage"
   ]
  },
  {
   "cell_type": "code",
   "execution_count": 4,
   "id": "e058ad3b",
   "metadata": {},
   "outputs": [
    {
     "name": "stdout",
     "output_type": "stream",
     "text": [
      "4\n"
     ]
    }
   ],
   "source": [
    "g3 = {\"Brand\":\"Honda\", \"Model\": \"Accord\", \"Year\": 2022, \"Mileage\":7}\n",
    "print(len(g3))"
   ]
  },
  {
   "cell_type": "code",
   "execution_count": 5,
   "id": "25f3c99e",
   "metadata": {},
   "outputs": [
    {
     "name": "stdout",
     "output_type": "stream",
     "text": [
      "<class 'dict'>\n"
     ]
    }
   ],
   "source": [
    "g4 = {\"Brand\":\"Honda\", \"Model\": \"Accord\", \"Year\": 2022, \"Mileage\":7}\n",
    "print(type(g4))"
   ]
  },
  {
   "cell_type": "markdown",
   "id": "66e6b662",
   "metadata": {},
   "source": [
    "#### Dictionary Methods"
   ]
  },
  {
   "cell_type": "code",
   "execution_count": 6,
   "id": "3e26451c",
   "metadata": {},
   "outputs": [
    {
     "name": "stdout",
     "output_type": "stream",
     "text": [
      "{}\n"
     ]
    }
   ],
   "source": [
    "g5 = {\"Brand\":\"Honda\", \"Model\": \"Accord\",\n",
    "      \"Year\": 2022, \"Mileage\":7}\n",
    "g5.clear()\n",
    "print(g5)"
   ]
  },
  {
   "cell_type": "code",
   "execution_count": 7,
   "id": "33e1434d",
   "metadata": {},
   "outputs": [
    {
     "name": "stdout",
     "output_type": "stream",
     "text": [
      "{'Brand': 'Honda', 'Model': 'Accord'}\n"
     ]
    }
   ],
   "source": [
    "g6 = {\"Brand\":\"Honda\", \"Model\": \"Accord\"}\n",
    "g7 = g6.copy()\n",
    "print(g7)"
   ]
  },
  {
   "cell_type": "code",
   "execution_count": 8,
   "id": "c9b364fe",
   "metadata": {},
   "outputs": [
    {
     "name": "stdout",
     "output_type": "stream",
     "text": [
      "{\"Tim's Age\": 30, \"Tom's Age\": 30}\n",
      "{\"Tim's Age\": (29, 30), \"Tom's Age\": (29, 30)}\n"
     ]
    }
   ],
   "source": [
    "g8 = (\"Tim's Age\", \"Tom's Age\")\n",
    "g9 = 30\n",
    "g10 = 29, 30\n",
    "\n",
    "g11 = dict.fromkeys(g8,g9)\n",
    "g12 = dict.fromkeys(g8, g10)\n",
    "print(g11)\n",
    "print(g12) #does not assign each"
   ]
  },
  {
   "cell_type": "code",
   "execution_count": 9,
   "id": "9b17a15e",
   "metadata": {},
   "outputs": [
    {
     "name": "stdout",
     "output_type": "stream",
     "text": [
      "Honda\n"
     ]
    }
   ],
   "source": [
    "g13 = {\"Brand\":\"Honda\", \"Model\": \"Accord\"}\n",
    "print(g13.get('Brand'))"
   ]
  },
  {
   "cell_type": "code",
   "execution_count": 10,
   "id": "3160360c",
   "metadata": {},
   "outputs": [
    {
     "name": "stdout",
     "output_type": "stream",
     "text": [
      "dict_items([('Brand', 'Honda'), ('Model', 'Accord')])\n",
      "<class 'dict_items'>\n"
     ]
    }
   ],
   "source": [
    "g14 = {\"Brand\":\"Honda\", \"Model\": \"Accord\"}\n",
    "print(g14.items())\n",
    "print(type(g14.items()))"
   ]
  },
  {
   "cell_type": "code",
   "execution_count": 11,
   "id": "274319f6",
   "metadata": {},
   "outputs": [
    {
     "name": "stdout",
     "output_type": "stream",
     "text": [
      "dict_keys(['Brand', 'Model', 'Year', 'Mileage'])\n",
      "<class 'dict_items'>\n"
     ]
    }
   ],
   "source": [
    "g15 = {\"Brand\":\"Honda\", \"Model\": \"Accord\",\n",
    "      \"Year\": 2022, \"Mileage\":7}\n",
    "print(g15.keys())\n",
    "print(type(g15.items()))"
   ]
  },
  {
   "cell_type": "code",
   "execution_count": 12,
   "id": "0e8a87e7",
   "metadata": {},
   "outputs": [
    {
     "name": "stdout",
     "output_type": "stream",
     "text": [
      "7\n",
      "{'Brand': 'Honda', 'Model': 'Accord', 'Year': 2022}\n"
     ]
    }
   ],
   "source": [
    "g16 = {\"Brand\":\"Honda\", \"Model\": \"Accord\",\n",
    "      \"Year\": 2022, \"Mileage\":7}\n",
    "g17 = g16.pop(\"Mileage\")\n",
    "print(g17) #assigns popped item to g17\n",
    "print(g16) #removed popped item from g16"
   ]
  },
  {
   "cell_type": "code",
   "execution_count": 1,
   "id": "cfd7a805",
   "metadata": {
    "scrolled": true
   },
   "outputs": [
    {
     "name": "stdout",
     "output_type": "stream",
     "text": [
      "('Year', 2022)\n",
      "{'Brand': 'Honda', 'Model': 'Accord'}\n"
     ]
    }
   ],
   "source": [
    "g18 = {\"Brand\":\"Honda\", \"Model\": \"Accord\",\n",
    "      \"Year\": 2022}\n",
    "g19 = g18.popitem()\n",
    "print(g19) #assigns last item to g19\n",
    "print(g18) #retains last item from g18"
   ]
  },
  {
   "cell_type": "code",
   "execution_count": 14,
   "id": "5d71cf8e",
   "metadata": {},
   "outputs": [
    {
     "name": "stdout",
     "output_type": "stream",
     "text": [
      "2022\n",
      "Yes\n",
      "{'Brand': 'Honda', 'Model': 'Accord', 'Year': 2022, 'EV': 'Yes'}\n"
     ]
    }
   ],
   "source": [
    "g20 = {\"Brand\":\"Honda\", \"Model\": \"Accord\",\n",
    "      \"Year\": 2022}\n",
    "g21 = g20.setdefault('Year', 2021)\n",
    "g22 = g20.setdefault('EV', \"Yes\")\n",
    "print(g21) #it exisit, no assignment\n",
    "print(g22) #doesn't exist, assigns\n",
    "print(g20) #now added"
   ]
  },
  {
   "cell_type": "code",
   "execution_count": 15,
   "id": "34e6c21d",
   "metadata": {},
   "outputs": [
    {
     "name": "stdout",
     "output_type": "stream",
     "text": [
      "{'Brand': 'Honda', 'Model': 'Accord', 'Year': 2021}\n"
     ]
    }
   ],
   "source": [
    "g23 = {\"Brand\":\"Honda\", \"Model\": \"Accord\"}\n",
    "g23.update({'Year': 2021})\n",
    "print(g23) #now added"
   ]
  },
  {
   "cell_type": "code",
   "execution_count": 16,
   "id": "5f91968f",
   "metadata": {},
   "outputs": [
    {
     "name": "stdout",
     "output_type": "stream",
     "text": [
      "dict_values(['Honda', 'Accord', 2022])\n",
      "<class 'dict_values'>\n"
     ]
    }
   ],
   "source": [
    "g24 = {\"Brand\":\"Honda\", \"Model\": \"Accord\",\n",
    "      \"Year\": 2022}\n",
    "g25 = g24.values()\n",
    "print(g25) #a list of values\n",
    "print(type(g25))"
   ]
  },
  {
   "cell_type": "markdown",
   "id": "d01bbfaa",
   "metadata": {},
   "source": [
    "## Conditional Statements in Python"
   ]
  },
  {
   "cell_type": "markdown",
   "id": "0bcb1dc8",
   "metadata": {},
   "source": [
    "#### Structure of if conditional statement "
   ]
  },
  {
   "cell_type": "markdown",
   "id": "fccbd076",
   "metadata": {},
   "source": [
    "if [expression]:<br>\n",
    "&emsp;&emsp;statement"
   ]
  },
  {
   "cell_type": "markdown",
   "id": "d2811b0a",
   "metadata": {},
   "source": [
    "#### Examples of statements"
   ]
  },
  {
   "cell_type": "code",
   "execution_count": 1,
   "id": "0881c899",
   "metadata": {},
   "outputs": [
    {
     "name": "stdout",
     "output_type": "stream",
     "text": [
      "Yes, it is\n"
     ]
    }
   ],
   "source": [
    "a = 4\n",
    "b = 5 \n",
    "\n",
    "if a < 5:\n",
    "    print(\"Yes, it is\")"
   ]
  },
  {
   "cell_type": "code",
   "execution_count": 2,
   "id": "08c14ec3",
   "metadata": {},
   "outputs": [],
   "source": [
    "if a == 5:\n",
    "    print(\"Yes, a is 5\")"
   ]
  },
  {
   "cell_type": "code",
   "execution_count": 3,
   "id": "24bd0dc4",
   "metadata": {},
   "outputs": [],
   "source": [
    "if a > 4:\n",
    "    print(\"Yes, it is greater\")"
   ]
  },
  {
   "cell_type": "code",
   "execution_count": 4,
   "id": "720c50e0",
   "metadata": {
    "scrolled": true
   },
   "outputs": [
    {
     "name": "stdout",
     "output_type": "stream",
     "text": [
      "Yes, it is either 4 or greater\n"
     ]
    }
   ],
   "source": [
    "if a >= 4:\n",
    "    print(\"Yes, it is either 4 or greater\")"
   ]
  },
  {
   "cell_type": "code",
   "execution_count": 5,
   "id": "3db1a7bf",
   "metadata": {},
   "outputs": [
    {
     "name": "stdout",
     "output_type": "stream",
     "text": [
      "Yes, it is\n"
     ]
    }
   ],
   "source": [
    "if a == 4 or b == 4:\n",
    "    print(\"Yes, it is\")"
   ]
  },
  {
   "cell_type": "code",
   "execution_count": 6,
   "id": "dda8ced9",
   "metadata": {},
   "outputs": [
    {
     "name": "stdout",
     "output_type": "stream",
     "text": [
      "Yes, it is\n"
     ]
    }
   ],
   "source": [
    "if a == 4 and b == 5:\n",
    "    print(\"Yes, it is\")"
   ]
  },
  {
   "cell_type": "code",
   "execution_count": 7,
   "id": "0eeda698",
   "metadata": {},
   "outputs": [
    {
     "name": "stdout",
     "output_type": "stream",
     "text": [
      "Yes, it is there\n"
     ]
    }
   ],
   "source": [
    "a_list = [\"one\", \"two\", \"three\", \"four\", \"five\"]\n",
    "\n",
    "if \"three\" in a_list:\n",
    "    print(\"Yes, it is there\")"
   ]
  },
  {
   "cell_type": "code",
   "execution_count": 8,
   "id": "335da584",
   "metadata": {
    "scrolled": true
   },
   "outputs": [
    {
     "name": "stdout",
     "output_type": "stream",
     "text": [
      "Yes, it is\n"
     ]
    }
   ],
   "source": [
    "if \"ee\" in \"three\":\n",
    "    print(\"Yes, it is\")"
   ]
  },
  {
   "cell_type": "markdown",
   "id": "0a0d2451",
   "metadata": {},
   "source": [
    "#### A typical structure of if conditional statement"
   ]
  },
  {
   "cell_type": "markdown",
   "id": "4e0e2486",
   "metadata": {},
   "source": [
    "if [Boolean Expression]:<br>\n",
    "&emsp;&emsp;statement1 <br>\n",
    "&emsp;&emsp;statement2 <br>\n",
    "&emsp;&emsp;statement3 <br>\n",
    "&emsp;&emsp;... <br>\n",
    "&emsp;&emsp;statement"
   ]
  },
  {
   "cell_type": "markdown",
   "id": "ccacbb22",
   "metadata": {},
   "source": [
    "#### Example of Group Conditional Statements"
   ]
  },
  {
   "cell_type": "code",
   "execution_count": 9,
   "id": "0721a0ab",
   "metadata": {
    "scrolled": true
   },
   "outputs": [
    {
     "name": "stdout",
     "output_type": "stream",
     "text": [
      "beer is in the list\n",
      "3\n",
      "Done\n"
     ]
    }
   ],
   "source": [
    "b_list = [\"bar\", \"pub\", \"drinks\", \"beer\", \"cup\"]\n",
    "\n",
    "if \"beer\" in b_list:\n",
    "    print(\"beer is in the list\")\n",
    "    pos = b_list.index(\"beer\")\n",
    "    print(pos)\n",
    "    print(\"Done\")"
   ]
  },
  {
   "cell_type": "markdown",
   "id": "71b1cbaf",
   "metadata": {},
   "source": [
    "#### else and elif"
   ]
  },
  {
   "cell_type": "code",
   "execution_count": 10,
   "id": "de70a599",
   "metadata": {},
   "outputs": [
    {
     "name": "stdout",
     "output_type": "stream",
     "text": [
      "Yes 6 is in it\n"
     ]
    }
   ],
   "source": [
    "c_list = [1,2,3,4,5,6,7]\n",
    "\n",
    "if 6 in c_list:\n",
    "    print(\"Yes 6 is in it\")\n",
    "elif 5 in c_list:\n",
    "    print(\"Yes, 5 is in it\")\n",
    "elif 8 in c_list:\n",
    "    print(\"Yes, 8 is in it\")\n",
    "else:\n",
    "    c_list.append(10)\n",
    "    print(c_list)"
   ]
  },
  {
   "cell_type": "code",
   "execution_count": 11,
   "id": "8cad29bc",
   "metadata": {},
   "outputs": [
    {
     "name": "stdout",
     "output_type": "stream",
     "text": [
      "Yes, 5 is in it\n"
     ]
    }
   ],
   "source": [
    "c_list = [1,2,3,4,5,6,7]\n",
    "\n",
    "if 10 in c_list:\n",
    "    print(\"Yes 10 is in it\")\n",
    "elif 5 in c_list:\n",
    "    print(\"Yes, 5 is in it\")\n",
    "elif 8 in c_list:\n",
    "    print(\"Yes, 8 is in it\")\n",
    "else:\n",
    "    c_list.append(10)\n",
    "    print(c_list)"
   ]
  },
  {
   "cell_type": "code",
   "execution_count": 12,
   "id": "a5841d69",
   "metadata": {},
   "outputs": [
    {
     "name": "stdout",
     "output_type": "stream",
     "text": [
      "Yes, 7 is in it\n"
     ]
    }
   ],
   "source": [
    "c_list = [1,2,3,4,5,6,7]\n",
    "\n",
    "if 10 in c_list:\n",
    "    print(\"Yes 10 is in it\")\n",
    "elif 15 in c_list:\n",
    "    print(\"Yes, 15 is in it\")\n",
    "elif 7 in c_list:\n",
    "    print(\"Yes, 7 is in it\")\n",
    "else:\n",
    "    c_list.append(10)\n",
    "    print(c_list)"
   ]
  },
  {
   "cell_type": "code",
   "execution_count": 13,
   "id": "7783d353",
   "metadata": {},
   "outputs": [
    {
     "name": "stdout",
     "output_type": "stream",
     "text": [
      "[1, 2, 3, 4, 5, 6, 7, 10]\n"
     ]
    }
   ],
   "source": [
    "c_list = [1,2,3,4,5,6,7]\n",
    "\n",
    "if 10 in c_list:\n",
    "    print(\"Yes 10 is in it\")\n",
    "elif 15 in c_list:\n",
    "    print(\"Yes, 15 is in it\")\n",
    "elif 8 in c_list:\n",
    "    print(\"Yes, 8 is in it\")\n",
    "else:\n",
    "    c_list.append(10) #adds 10 to the list if none of the previous expression is true\n",
    "    print(c_list)"
   ]
  },
  {
   "cell_type": "markdown",
   "id": "8d685679",
   "metadata": {},
   "source": [
    "#### Another Example of if, elif and else conditions"
   ]
  },
  {
   "cell_type": "code",
   "execution_count": 14,
   "id": "8b2e8509",
   "metadata": {},
   "outputs": [
    {
     "name": "stdout",
     "output_type": "stream",
     "text": [
      "The weather is average\n"
     ]
    }
   ],
   "source": [
    "Temperature = 84\n",
    "\n",
    "if Temperature > 84:\n",
    "    print(\"The weather is hot\")\n",
    "elif Temperature == 84:\n",
    "    print(\"The weather is average\")\n",
    "else:\n",
    "    print(\"The weather is cold\")"
   ]
  },
  {
   "cell_type": "markdown",
   "id": "cac29187",
   "metadata": {},
   "source": [
    "### While Loop"
   ]
  },
  {
   "cell_type": "markdown",
   "id": "125601f7",
   "metadata": {},
   "source": [
    "while [Boolean expression]:<br>\n",
    "&emsp;&emsp;statement1<br>\n",
    "&emsp;&emsp;statement2<br>\n",
    "&emsp;&emsp;statement3<br>\n",
    "&emsp;&emsp;...<br>\n",
    "&emsp;&emsp;statementN<br>"
   ]
  },
  {
   "cell_type": "code",
   "execution_count": 15,
   "id": "1d52d406",
   "metadata": {},
   "outputs": [
    {
     "name": "stdout",
     "output_type": "stream",
     "text": [
      "[2000]\n",
      "[2000, 2100]\n",
      "[2000, 2100, 2200]\n",
      "[2000, 2100, 2200, 2300]\n",
      "[2000, 2100, 2200, 2300, 2400]\n",
      "[2000, 2100, 2200, 2300, 2400, 2500]\n",
      "[2000, 2100, 2200, 2300, 2400, 2500, 2600]\n",
      "[2000, 2100, 2200, 2300, 2400, 2500, 2600, 2700]\n",
      "[2000, 2100, 2200, 2300, 2400, 2500, 2600, 2700, 2800]\n",
      "[2000, 2100, 2200, 2300, 2400, 2500, 2600, 2700, 2800, 2900]\n",
      "[2000, 2100, 2200, 2300, 2400, 2500, 2600, 2700, 2800, 2900, 3000]\n"
     ]
    }
   ],
   "source": [
    "centuries = []\n",
    "\n",
    "i=1900\n",
    "while i < 3000:\n",
    "    i +=100\n",
    "    centuries.append(i)\n",
    "    print(centuries)"
   ]
  },
  {
   "cell_type": "code",
   "execution_count": 16,
   "id": "0f957981",
   "metadata": {
    "scrolled": true
   },
   "outputs": [
    {
     "name": "stdout",
     "output_type": "stream",
     "text": [
      "[2000]\n",
      "[2000, 2100]\n",
      "[2000, 2100, 2200]\n",
      "[2000, 2100, 2200, 2300]\n",
      "[2000, 2100, 2200, 2300, 2400]\n"
     ]
    }
   ],
   "source": [
    "centuries = []\n",
    "\n",
    "i=1900\n",
    "while i < 3000:\n",
    "    i +=100\n",
    "    centuries.append(i)\n",
    "    if i >= 2500:\n",
    "        break\n",
    "    print(centuries)"
   ]
  },
  {
   "cell_type": "markdown",
   "id": "97bef314",
   "metadata": {},
   "source": [
    "#### Using while, if, continue and else."
   ]
  },
  {
   "cell_type": "code",
   "execution_count": 17,
   "id": "dc533b5c",
   "metadata": {},
   "outputs": [
    {
     "name": "stdout",
     "output_type": "stream",
     "text": [
      "[2000]\n",
      "[2000, 2100]\n",
      "[2000, 2100, 2200]\n",
      "[2000, 2100, 2200, 2300]\n",
      "[2000, 2100, 2200, 2300, 2400]\n",
      "Done\n"
     ]
    }
   ],
   "source": [
    "centuries = []\n",
    "\n",
    "i=1900\n",
    "while i < 3000:\n",
    "    i +=100\n",
    "    centuries.append(i)\n",
    "    if i >= 2500:\n",
    "        continue\n",
    "    print(centuries)\n",
    "    \n",
    "else:\n",
    "    print(\"Done\")"
   ]
  },
  {
   "cell_type": "markdown",
   "id": "ea9db556",
   "metadata": {},
   "source": [
    "### For Loop"
   ]
  },
  {
   "cell_type": "markdown",
   "id": "95eefa02",
   "metadata": {},
   "source": [
    "#### Structure of a for loop"
   ]
  },
  {
   "cell_type": "markdown",
   "id": "969737d2",
   "metadata": {},
   "source": [
    "for i in list:<br>\n",
    "&emsp;&emsp;statement1<br>\n",
    "&emsp;&emsp;statement2<br>\n",
    "&emsp;&emsp;statement3<br>\n",
    "&emsp;&emsp;...<br>\n",
    "&emsp;&emsp;statementN<br>"
   ]
  },
  {
   "cell_type": "markdown",
   "id": "08744512",
   "metadata": {},
   "source": [
    "#### list"
   ]
  },
  {
   "cell_type": "code",
   "execution_count": 18,
   "id": "3e47ff8b",
   "metadata": {},
   "outputs": [
    {
     "name": "stdout",
     "output_type": "stream",
     "text": [
      "1\n",
      "2\n",
      "3\n",
      "4\n",
      "5\n",
      "6\n"
     ]
    }
   ],
   "source": [
    "d_list = [1,2,3,4,5,6]\n",
    "\n",
    "for i in d_list:\n",
    "    print(i)"
   ]
  },
  {
   "cell_type": "markdown",
   "id": "bd60fea3",
   "metadata": {},
   "source": [
    "#### string"
   ]
  },
  {
   "cell_type": "code",
   "execution_count": 19,
   "id": "9bd09c81",
   "metadata": {},
   "outputs": [
    {
     "name": "stdout",
     "output_type": "stream",
     "text": [
      "c\n",
      "h\n",
      "a\n",
      "r\n",
      "a\n",
      "c\n",
      "t\n",
      "e\n",
      "r\n"
     ]
    }
   ],
   "source": [
    "for x in \"character\":\n",
    "    print(x)"
   ]
  },
  {
   "cell_type": "markdown",
   "id": "4dfcbf8f",
   "metadata": {},
   "source": [
    "#### Dictionary"
   ]
  },
  {
   "cell_type": "code",
   "execution_count": 20,
   "id": "9a17e40d",
   "metadata": {},
   "outputs": [
    {
     "name": "stdout",
     "output_type": "stream",
     "text": [
      "Name =  John  Age =  28\n",
      "Name =  Tim  Age =  30\n",
      "Name =  Tom  Age =  32\n"
     ]
    }
   ],
   "source": [
    "people = {\"John\": 28, \"Tim\": 30, \"Tom\": 32}\n",
    "\n",
    "for i, j in people.items():\n",
    "    print(\"Name = \", i, \" Age = \", j )"
   ]
  },
  {
   "cell_type": "markdown",
   "id": "e90cbcd9",
   "metadata": {},
   "source": [
    "#### Range"
   ]
  },
  {
   "cell_type": "code",
   "execution_count": 21,
   "id": "f6517b43",
   "metadata": {},
   "outputs": [
    {
     "name": "stdout",
     "output_type": "stream",
     "text": [
      "0\n",
      "1\n",
      "2\n",
      "3\n",
      "4\n",
      "5\n"
     ]
    }
   ],
   "source": [
    "for x in range(6):\n",
    "    print(x)"
   ]
  },
  {
   "cell_type": "markdown",
   "id": "bae59a1d",
   "metadata": {},
   "source": [
    "#### For Loop Exit"
   ]
  },
  {
   "cell_type": "code",
   "execution_count": 22,
   "id": "8b110b85",
   "metadata": {},
   "outputs": [
    {
     "name": "stdout",
     "output_type": "stream",
     "text": [
      "0\n",
      "1\n",
      "2\n",
      "3\n"
     ]
    }
   ],
   "source": [
    "for x in range(6):\n",
    "    if x > 3:\n",
    "        break\n",
    "    print(x)"
   ]
  },
  {
   "cell_type": "code",
   "execution_count": 23,
   "id": "f5de05fc",
   "metadata": {},
   "outputs": [
    {
     "name": "stdout",
     "output_type": "stream",
     "text": [
      "0\n",
      "1\n",
      "2\n",
      "3\n",
      "4\n"
     ]
    }
   ],
   "source": [
    "for x in range(6):\n",
    "    if x > 4:\n",
    "        continue\n",
    "    print(x)"
   ]
  },
  {
   "cell_type": "code",
   "execution_count": 24,
   "id": "03f7ade9",
   "metadata": {},
   "outputs": [
    {
     "name": "stdout",
     "output_type": "stream",
     "text": [
      "0\n",
      "1\n",
      "2\n",
      "3\n",
      "4\n",
      "5\n",
      "Completed\n"
     ]
    }
   ],
   "source": [
    "for x in range(6):\n",
    "    print(x)\n",
    "else:\n",
    "    print(\"Completed\")"
   ]
  },
  {
   "cell_type": "code",
   "execution_count": 25,
   "id": "b448a225",
   "metadata": {},
   "outputs": [
    {
     "name": "stdout",
     "output_type": "stream",
     "text": [
      "x =  0 y =  0\n",
      "x =  0 y =  1\n",
      "x =  0 y =  2\n",
      "x =  1 y =  0\n",
      "x =  1 y =  1\n",
      "x =  1 y =  2\n",
      "x =  2 y =  0\n",
      "x =  2 y =  1\n",
      "x =  2 y =  2\n",
      "x =  3 y =  0\n",
      "x =  3 y =  1\n",
      "x =  3 y =  2\n",
      "x =  4 y =  0\n",
      "x =  4 y =  1\n",
      "x =  4 y =  2\n",
      "x =  5 y =  0\n",
      "x =  5 y =  1\n",
      "x =  5 y =  2\n"
     ]
    }
   ],
   "source": [
    "for x in range(6):\n",
    "    for y in range(3):\n",
    "        print(\"x = \", x, 'y = ',y)"
   ]
  },
  {
   "cell_type": "markdown",
   "id": "34a57ed1",
   "metadata": {},
   "source": [
    "### Keywords in Python"
   ]
  },
  {
   "cell_type": "code",
   "execution_count": 2,
   "id": "ded457ca",
   "metadata": {
    "scrolled": true
   },
   "outputs": [
    {
     "name": "stdout",
     "output_type": "stream",
     "text": [
      "['False', 'None', 'True', 'and', 'as', 'assert', 'async', 'await', 'break', 'class', 'continue', 'def', 'del', 'elif', 'else', 'except', 'finally', 'for', 'from', 'global', 'if', 'import', 'in', 'is', 'lambda', 'nonlocal', 'not', 'or', 'pass', 'raise', 'return', 'try', 'while', 'with', 'yield']\n"
     ]
    }
   ],
   "source": [
    "import keyword\n",
    "print(keyword.kwlist)"
   ]
  },
  {
   "cell_type": "markdown",
   "id": "adbcc08c",
   "metadata": {},
   "source": [
    "#### True or False Keywords"
   ]
  },
  {
   "cell_type": "code",
   "execution_count": 3,
   "id": "447c8d00",
   "metadata": {
    "scrolled": false
   },
   "outputs": [
    {
     "data": {
      "text/plain": [
       "True"
      ]
     },
     "execution_count": 3,
     "metadata": {},
     "output_type": "execute_result"
    }
   ],
   "source": [
    "3 == 3"
   ]
  },
  {
   "cell_type": "code",
   "execution_count": 4,
   "id": "fb9f0dc8",
   "metadata": {},
   "outputs": [
    {
     "data": {
      "text/plain": [
       "True"
      ]
     },
     "execution_count": 4,
     "metadata": {},
     "output_type": "execute_result"
    }
   ],
   "source": [
    "6 > 2"
   ]
  },
  {
   "cell_type": "code",
   "execution_count": 5,
   "id": "f509e9fb",
   "metadata": {},
   "outputs": [
    {
     "data": {
      "text/plain": [
       "True"
      ]
     },
     "execution_count": 5,
     "metadata": {},
     "output_type": "execute_result"
    }
   ],
   "source": [
    "True or False"
   ]
  },
  {
   "cell_type": "code",
   "execution_count": 6,
   "id": "0ca29a37",
   "metadata": {},
   "outputs": [
    {
     "data": {
      "text/plain": [
       "False"
      ]
     },
     "execution_count": 6,
     "metadata": {},
     "output_type": "execute_result"
    }
   ],
   "source": [
    "1 >= 10"
   ]
  },
  {
   "cell_type": "code",
   "execution_count": 7,
   "id": "b10c7829",
   "metadata": {},
   "outputs": [
    {
     "data": {
      "text/plain": [
       "False"
      ]
     },
     "execution_count": 7,
     "metadata": {},
     "output_type": "execute_result"
    }
   ],
   "source": [
    "2 > 9"
   ]
  },
  {
   "cell_type": "code",
   "execution_count": 8,
   "id": "60b93d88",
   "metadata": {},
   "outputs": [
    {
     "name": "stdout",
     "output_type": "stream",
     "text": [
      "True True\n"
     ]
    }
   ],
   "source": [
    "#True can also be represented as 1\n",
    "#False is represented as 0\n",
    "\n",
    "print((True == 1),(False==0))"
   ]
  },
  {
   "cell_type": "markdown",
   "id": "38c32924",
   "metadata": {},
   "source": [
    "#### None"
   ]
  },
  {
   "cell_type": "code",
   "execution_count": 9,
   "id": "1bce1fb3",
   "metadata": {},
   "outputs": [
    {
     "data": {
      "text/plain": [
       "False"
      ]
     },
     "execution_count": 9,
     "metadata": {},
     "output_type": "execute_result"
    }
   ],
   "source": [
    "None == 0"
   ]
  },
  {
   "cell_type": "code",
   "execution_count": 10,
   "id": "fa10c34a",
   "metadata": {},
   "outputs": [
    {
     "data": {
      "text/plain": [
       "False"
      ]
     },
     "execution_count": 10,
     "metadata": {},
     "output_type": "execute_result"
    }
   ],
   "source": [
    "None == False"
   ]
  },
  {
   "cell_type": "code",
   "execution_count": 11,
   "id": "a2725d8e",
   "metadata": {},
   "outputs": [
    {
     "data": {
      "text/plain": [
       "False"
      ]
     },
     "execution_count": 11,
     "metadata": {},
     "output_type": "execute_result"
    }
   ],
   "source": [
    "None == []"
   ]
  },
  {
   "cell_type": "code",
   "execution_count": 12,
   "id": "41a39d04",
   "metadata": {},
   "outputs": [
    {
     "data": {
      "text/plain": [
       "True"
      ]
     },
     "execution_count": 12,
     "metadata": {},
     "output_type": "execute_result"
    }
   ],
   "source": [
    "a = None\n",
    "b = None\n",
    "a == b"
   ]
  },
  {
   "cell_type": "markdown",
   "id": "be30160d",
   "metadata": {},
   "source": [
    "#### as"
   ]
  },
  {
   "cell_type": "code",
   "execution_count": 13,
   "id": "0a85c4b5",
   "metadata": {},
   "outputs": [
    {
     "name": "stdout",
     "output_type": "stream",
     "text": [
      "3.141592653589793\n"
     ]
    }
   ],
   "source": [
    "import math as mth\n",
    "print(mth.pi)"
   ]
  },
  {
   "cell_type": "markdown",
   "id": "ab59fb4b",
   "metadata": {},
   "source": [
    "#### assert"
   ]
  },
  {
   "cell_type": "code",
   "execution_count": 14,
   "id": "7aed83b1",
   "metadata": {},
   "outputs": [
    {
     "ename": "AssertionError",
     "evalue": "",
     "output_type": "error",
     "traceback": [
      "\u001b[0;31m---------------------------------------------------------------------------\u001b[0m",
      "\u001b[0;31mAssertionError\u001b[0m                            Traceback (most recent call last)",
      "\u001b[0;32m/var/folders/sn/f5tw20014xv6btlq0tlfyrnr0000gn/T/ipykernel_24313/4095014685.py\u001b[0m in \u001b[0;36m<module>\u001b[0;34m\u001b[0m\n\u001b[1;32m      1\u001b[0m \u001b[0my\u001b[0m \u001b[0;34m=\u001b[0m \u001b[0;36m25\u001b[0m\u001b[0;34m\u001b[0m\u001b[0;34m\u001b[0m\u001b[0m\n\u001b[0;32m----> 2\u001b[0;31m \u001b[0;32massert\u001b[0m \u001b[0my\u001b[0m \u001b[0;34m<\u001b[0m \u001b[0;36m15\u001b[0m\u001b[0;34m\u001b[0m\u001b[0;34m\u001b[0m\u001b[0m\n\u001b[0m",
      "\u001b[0;31mAssertionError\u001b[0m: "
     ]
    }
   ],
   "source": [
    "y = 25\n",
    "assert y < 15"
   ]
  },
  {
   "cell_type": "code",
   "execution_count": 15,
   "id": "1391849b",
   "metadata": {},
   "outputs": [],
   "source": [
    "assert y < 30"
   ]
  },
  {
   "cell_type": "markdown",
   "id": "b60180b9",
   "metadata": {},
   "source": [
    "#### and, or, not"
   ]
  },
  {
   "cell_type": "code",
   "execution_count": 16,
   "id": "387e0585",
   "metadata": {},
   "outputs": [
    {
     "name": "stdout",
     "output_type": "stream",
     "text": [
      "True\n"
     ]
    }
   ],
   "source": [
    "a = 1\n",
    "b = 2\n",
    "c = 3\n",
    "d = 4\n",
    "\n",
    "print((a+b) ==3 and c ==3)"
   ]
  },
  {
   "cell_type": "code",
   "execution_count": 17,
   "id": "c5399f02",
   "metadata": {},
   "outputs": [
    {
     "name": "stdout",
     "output_type": "stream",
     "text": [
      "True\n"
     ]
    }
   ],
   "source": [
    "print (d == 3 or c == 3)"
   ]
  },
  {
   "cell_type": "code",
   "execution_count": 18,
   "id": "9e5de8b9",
   "metadata": {
    "scrolled": false
   },
   "outputs": [
    {
     "name": "stdout",
     "output_type": "stream",
     "text": [
      "True\n"
     ]
    },
    {
     "name": "stderr",
     "output_type": "stream",
     "text": [
      "<>:1: SyntaxWarning: \"is not\" with a literal. Did you mean \"!=\"?\n",
      "<>:1: SyntaxWarning: \"is not\" with a literal. Did you mean \"!=\"?\n",
      "/var/folders/sn/f5tw20014xv6btlq0tlfyrnr0000gn/T/ipykernel_24313/3955131932.py:1: SyntaxWarning: \"is not\" with a literal. Did you mean \"!=\"?\n",
      "  print (d is not 3)\n"
     ]
    }
   ],
   "source": [
    "print (d is not 3)"
   ]
  },
  {
   "cell_type": "code",
   "execution_count": null,
   "id": "c0b0d604",
   "metadata": {},
   "outputs": [],
   "source": []
  }
 ],
 "metadata": {
  "kernelspec": {
   "display_name": "Python 3 (ipykernel)",
   "language": "python",
   "name": "python3"
  },
  "language_info": {
   "codemirror_mode": {
    "name": "ipython",
    "version": 3
   },
   "file_extension": ".py",
   "mimetype": "text/x-python",
   "name": "python",
   "nbconvert_exporter": "python",
   "pygments_lexer": "ipython3",
   "version": "3.8.12"
  }
 },
 "nbformat": 4,
 "nbformat_minor": 5
}
