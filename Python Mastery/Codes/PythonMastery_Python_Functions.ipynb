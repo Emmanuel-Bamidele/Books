{
 "cells": [
  {
   "cell_type": "markdown",
   "id": "b905ea7b",
   "metadata": {},
   "source": [
    "## Python Functions"
   ]
  },
  {
   "cell_type": "markdown",
   "id": "0a9fe0f9",
   "metadata": {},
   "source": [
    "#### Basic Syntax of a Function"
   ]
  },
  {
   "cell_type": "code",
   "execution_count": 1,
   "id": "ddd8553b",
   "metadata": {
    "scrolled": true
   },
   "outputs": [],
   "source": [
    "def function_name(parameters):\n",
    "    # Code block\n",
    "    return result\n"
   ]
  },
  {
   "cell_type": "markdown",
   "id": "160d7deb",
   "metadata": {},
   "source": [
    "#### Simple Function"
   ]
  },
  {
   "cell_type": "code",
   "execution_count": 7,
   "id": "f01a63a6",
   "metadata": {
    "scrolled": true
   },
   "outputs": [
    {
     "name": "stdout",
     "output_type": "stream",
     "text": [
      "Hello, Emmanuel!\n"
     ]
    }
   ],
   "source": [
    "def greet(name):\n",
    "    return f\"Hello, {name}!\"\n",
    "\n",
    "print(greet(\"Emmanuel\"))  # Output: Hello, Emmanuel!\n"
   ]
  },
  {
   "cell_type": "markdown",
   "id": "4d067db8",
   "metadata": {},
   "source": [
    "#### Calculate Area"
   ]
  },
  {
   "cell_type": "code",
   "execution_count": 4,
   "id": "d67d0dea",
   "metadata": {},
   "outputs": [
    {
     "name": "stdout",
     "output_type": "stream",
     "text": [
      "Area of the rectangle: 50\n"
     ]
    }
   ],
   "source": [
    "def calculate_area(length, width):\n",
    "    return length * width\n",
    "\n",
    "# Calling the function with arguments\n",
    "area = calculate_area(10, 5)\n",
    "print(\"Area of the rectangle:\", area)  # Outputs: Area of the rectangle: 50\n"
   ]
  },
  {
   "cell_type": "markdown",
   "id": "2d0e7645",
   "metadata": {},
   "source": [
    "#### Function with Default Parameter"
   ]
  },
  {
   "cell_type": "code",
   "execution_count": 8,
   "id": "821314a4",
   "metadata": {},
   "outputs": [
    {
     "name": "stdout",
     "output_type": "stream",
     "text": [
      "Hello, Emmanuel!\n",
      "Good morning, Bamidele!\n"
     ]
    }
   ],
   "source": [
    "def greet(name, message=\"Hello\"):\n",
    "    return f\"{message}, {name}!\"\n",
    "\n",
    "# Calling the function with a single argument\n",
    "print(greet(\"Emmanuel\"))  # Outputs: Hello, Emmanuel!\n",
    "\n",
    "# Calling the function with both arguments\n",
    "print(greet(\"Bamidele\", \"Good morning\"))  # Outputs: Good morning, Bamidele!\n"
   ]
  },
  {
   "cell_type": "markdown",
   "id": "459806dc",
   "metadata": {},
   "source": [
    "#### Assigning String to Function Input"
   ]
  },
  {
   "cell_type": "code",
   "execution_count": 10,
   "id": "0fa07ce4",
   "metadata": {},
   "outputs": [
    {
     "name": "stdout",
     "output_type": "stream",
     "text": [
      "Hello world!\n"
     ]
    }
   ],
   "source": [
    "def add_exclamation(text:str):\n",
    "    return text + \"!\"\n",
    "\n",
    "# Calling the function with a string argument\n",
    "result = add_exclamation(\"Hello world\")\n",
    "print(result)  # Outputs: Hello world!\n"
   ]
  },
  {
   "cell_type": "markdown",
   "id": "db4c8f33",
   "metadata": {},
   "source": [
    "#### Assigning Multiple Data Types to Function Inputs"
   ]
  },
  {
   "cell_type": "code",
   "execution_count": 12,
   "id": "02d2845c",
   "metadata": {},
   "outputs": [
    {
     "name": "stdout",
     "output_type": "stream",
     "text": [
      "Emmanuel is 31 years old and enjoys reading, biking, snowboarding.\n"
     ]
    }
   ],
   "source": [
    "def summarize(name: str, age:int, hobbies:str):\n",
    "    return f\"{name} is {age} years old and enjoys {', '.join(hobbies)}.\"\n",
    "\n",
    "# Calling the function with a mix of data types\n",
    "bio = summarize(\"Emmanuel\", 31, [\"reading\", \"biking\", \"snowboarding\"])\n",
    "print(bio)\n",
    "# Outputs: Emmanuel is 31 years old and enjoys reading, biking, snowboarding.\n"
   ]
  },
  {
   "cell_type": "markdown",
   "id": "3235b007",
   "metadata": {},
   "source": [
    "#### User Input"
   ]
  },
  {
   "cell_type": "code",
   "execution_count": 1,
   "id": "7a846382",
   "metadata": {},
   "outputs": [
    {
     "name": "stdout",
     "output_type": "stream",
     "text": [
      "Enter your name: Emmanuel Bamidele\n",
      "My name is, Emmanuel Bamidele!\n"
     ]
    }
   ],
   "source": [
    "def name_user():\n",
    "    name = input(\"Enter your name: \")\n",
    "    print(f\"My name is, {name}!\")\n",
    "\n",
    "name_user()\n"
   ]
  },
  {
   "cell_type": "code",
   "execution_count": 2,
   "id": "44f6fbd3",
   "metadata": {
    "scrolled": true
   },
   "outputs": [
    {
     "name": "stdout",
     "output_type": "stream",
     "text": [
      "Enter first number: 10\n",
      "Enter second number: 15\n",
      "The sum is: 25\n"
     ]
    }
   ],
   "source": [
    "def sum_numbers():\n",
    "    num1 = int(input(\"Enter first number: \"))\n",
    "    num2 = int(input(\"Enter second number: \"))\n",
    "    print(f\"The sum is: {num1 + num2}\")\n",
    "\n",
    "sum_numbers()\n"
   ]
  },
  {
   "cell_type": "markdown",
   "id": "cfe12bc6",
   "metadata": {},
   "source": [
    "#### Age Verification Function"
   ]
  },
  {
   "cell_type": "code",
   "execution_count": 3,
   "id": "a317df56",
   "metadata": {},
   "outputs": [
    {
     "name": "stdout",
     "output_type": "stream",
     "text": [
      "Enter your age: 5\n",
      "Age entered: 5\n"
     ]
    }
   ],
   "source": [
    "def verify_age():\n",
    "    while True:\n",
    "        try:\n",
    "            age = int(input(\"Enter your age: \"))\n",
    "            if age < 0:\n",
    "                raise ValueError(\"Age cannot be negative.\")\n",
    "            break\n",
    "        except ValueError as e:\n",
    "            print(f\"Invalid input: {e}\")\n",
    "    print(f\"Age entered: {age}\")\n",
    "\n",
    "verify_age()\n"
   ]
  },
  {
   "cell_type": "code",
   "execution_count": null,
   "id": "a9ef7bcf",
   "metadata": {},
   "outputs": [
    {
     "name": "stdout",
     "output_type": "stream",
     "text": [
      "Enter your age: -1\n",
      "Invalid input: Age cannot be negative.\n"
     ]
    }
   ],
   "source": [
    "def verify_age():\n",
    "    while True:\n",
    "        try:\n",
    "            age = int(input(\"Enter your age: \"))\n",
    "            if age < 0:\n",
    "                raise ValueError(\"Age cannot be negative.\")\n",
    "            break\n",
    "        except ValueError as e:\n",
    "            print(f\"Invalid input: {e}\")\n",
    "    print(f\"Age entered: {age}\")\n",
    "\n",
    "verify_age()"
   ]
  }
 ],
 "metadata": {
  "kernelspec": {
   "display_name": "Python 3 (ipykernel)",
   "language": "python",
   "name": "python3"
  },
  "language_info": {
   "codemirror_mode": {
    "name": "ipython",
    "version": 3
   },
   "file_extension": ".py",
   "mimetype": "text/x-python",
   "name": "python",
   "nbconvert_exporter": "python",
   "pygments_lexer": "ipython3",
   "version": "3.9.13"
  }
 },
 "nbformat": 4,
 "nbformat_minor": 5
}
