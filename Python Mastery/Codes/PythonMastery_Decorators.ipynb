{
 "cells": [
  {
   "cell_type": "markdown",
   "id": "b905ea7b",
   "metadata": {},
   "source": [
    "## Python Decorator Function"
   ]
  },
  {
   "cell_type": "markdown",
   "id": "0a9fe0f9",
   "metadata": {},
   "source": [
    "#### Basic Usage"
   ]
  },
  {
   "cell_type": "code",
   "execution_count": 8,
   "id": "ddd8553b",
   "metadata": {
    "scrolled": true
   },
   "outputs": [
    {
     "name": "stdout",
     "output_type": "stream",
     "text": [
      "Something is happening before the function is called.\n",
      "Hello!\n",
      "Something is happening after the function is called.\n"
     ]
    }
   ],
   "source": [
    "def simple_decorator(func):\n",
    "    def wrapper():\n",
    "        print(\"Something is happening before the function is called.\")\n",
    "        func()\n",
    "        print(\"Something is happening after the function is called.\")\n",
    "    return wrapper\n",
    "\n",
    "@simple_decorator\n",
    "def say_hello():\n",
    "    print(\"Hello!\")\n",
    "\n",
    "say_hello()\n"
   ]
  },
  {
   "cell_type": "markdown",
   "id": "160d7deb",
   "metadata": {},
   "source": [
    "#### Parametrized Decorators"
   ]
  },
  {
   "cell_type": "code",
   "execution_count": 9,
   "id": "f01a63a6",
   "metadata": {
    "scrolled": true
   },
   "outputs": [
    {
     "name": "stdout",
     "output_type": "stream",
     "text": [
      "Hello Alice!\n",
      "Hello Alice!\n",
      "Hello Alice!\n"
     ]
    }
   ],
   "source": [
    "def repeat(times):\n",
    "    def decorator_repeat(func):\n",
    "        def wrapper(*args, **kwargs):\n",
    "            for _ in range(times):\n",
    "                func(*args, **kwargs)\n",
    "        return wrapper\n",
    "    return decorator_repeat\n",
    "\n",
    "@repeat(times=3)\n",
    "def greet(name):\n",
    "    print(f\"Hello {name}!\")\n",
    "\n",
    "greet(\"Alice\")\n"
   ]
  },
  {
   "cell_type": "markdown",
   "id": "98f3e1fd",
   "metadata": {},
   "source": [
    "#### Decorator with Classes"
   ]
  },
  {
   "cell_type": "code",
   "execution_count": 10,
   "id": "3239541c",
   "metadata": {
    "scrolled": true
   },
   "outputs": [
    {
     "name": "stdout",
     "output_type": "stream",
     "text": [
      "Method my_method called\n",
      "Executing my_method\n"
     ]
    }
   ],
   "source": [
    "def method_decorator(method):\n",
    "    def wrapper(self, *args, **kwargs):\n",
    "        print(f\"Method {method.__name__} called\")\n",
    "        return method(self, *args, **kwargs)\n",
    "    return wrapper\n",
    "\n",
    "class MyClass:\n",
    "    @method_decorator\n",
    "    def my_method(self):\n",
    "        print(\"Executing my_method\")\n",
    "\n",
    "obj = MyClass()\n",
    "obj.my_method()\n"
   ]
  },
  {
   "cell_type": "markdown",
   "id": "6aeb7d4d",
   "metadata": {},
   "source": [
    "### Use Case Code"
   ]
  },
  {
   "cell_type": "code",
   "execution_count": 11,
   "id": "172a6ecc",
   "metadata": {},
   "outputs": [
    {
     "name": "stdout",
     "output_type": "stream",
     "text": [
      "long_running_function executed in 0.025964021682739258 seconds\n"
     ]
    }
   ],
   "source": [
    "import time\n",
    "\n",
    "def timing_decorator(func):\n",
    "    def wrapper(*args, **kwargs):\n",
    "        start = time.time()\n",
    "        result = func(*args, **kwargs)\n",
    "        end = time.time()\n",
    "        print(f\"{func.__name__} executed in {end - start} seconds\")\n",
    "        return result\n",
    "    return wrapper\n",
    "\n",
    "@timing_decorator\n",
    "def long_running_function():\n",
    "    for _ in range(1000000):\n",
    "        pass\n",
    "\n",
    "long_running_function()\n"
   ]
  },
  {
   "cell_type": "code",
   "execution_count": null,
   "id": "16f5832b",
   "metadata": {},
   "outputs": [],
   "source": []
  }
 ],
 "metadata": {
  "kernelspec": {
   "display_name": "Python 3 (ipykernel)",
   "language": "python",
   "name": "python3"
  },
  "language_info": {
   "codemirror_mode": {
    "name": "ipython",
    "version": 3
   },
   "file_extension": ".py",
   "mimetype": "text/x-python",
   "name": "python",
   "nbconvert_exporter": "python",
   "pygments_lexer": "ipython3",
   "version": "3.9.13"
  }
 },
 "nbformat": 4,
 "nbformat_minor": 5
}
