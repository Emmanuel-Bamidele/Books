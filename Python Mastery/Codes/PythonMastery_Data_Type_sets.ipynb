{
 "cells": [
  {
   "cell_type": "markdown",
   "id": "b87524f0",
   "metadata": {},
   "source": [
    "### Data Type"
   ]
  },
  {
   "cell_type": "markdown",
   "id": "a956e599",
   "metadata": {},
   "source": [
    "### Sets"
   ]
  },
  {
   "cell_type": "code",
   "execution_count": 1,
   "id": "044bb95a",
   "metadata": {},
   "outputs": [
    {
     "name": "stdout",
     "output_type": "stream",
     "text": [
      "{'two', 'one', 'three'}\n"
     ]
    }
   ],
   "source": [
    "e = {\"one\", \"two\", \"three\"}\n",
    "print(e)"
   ]
  },
  {
   "cell_type": "code",
   "execution_count": 2,
   "id": "26b6d77d",
   "metadata": {},
   "outputs": [
    {
     "name": "stdout",
     "output_type": "stream",
     "text": [
      "{'two', 'one', 'three'}\n"
     ]
    }
   ],
   "source": [
    "#duplicates are not allowed\n",
    "e1 = {\"one\", \"two\", \"three\", \"two\"}\n",
    "print(e1)"
   ]
  },
  {
   "cell_type": "code",
   "execution_count": 3,
   "id": "9f67b5b3",
   "metadata": {},
   "outputs": [
    {
     "name": "stdout",
     "output_type": "stream",
     "text": [
      "3\n"
     ]
    }
   ],
   "source": [
    "#obtain the length of the set\n",
    "e2 = {\"one\", \"two\", \"three\", \"two\"}\n",
    "print(len(e2))"
   ]
  },
  {
   "cell_type": "code",
   "execution_count": 4,
   "id": "c317a8aa",
   "metadata": {},
   "outputs": [
    {
     "name": "stdout",
     "output_type": "stream",
     "text": [
      "<class 'set'>\n"
     ]
    }
   ],
   "source": [
    "#obtain the data type of a set\n",
    "e3 = {\"one\", \"two\", \"three\"}\n",
    "print(type(e3))"
   ]
  },
  {
   "cell_type": "code",
   "execution_count": 5,
   "id": "a1f03a8f",
   "metadata": {},
   "outputs": [
    {
     "name": "stdout",
     "output_type": "stream",
     "text": [
      "{'two', 'one', 'three'}\n",
      "<class 'set'>\n"
     ]
    }
   ],
   "source": [
    "#create a set using a constructor\n",
    "e4 = set((\"one\", \"two\", \"three\"))\n",
    "print(e4)\n",
    "print(type(e4))"
   ]
  },
  {
   "cell_type": "markdown",
   "id": "266c2425",
   "metadata": {},
   "source": [
    "#### Sets Methods"
   ]
  },
  {
   "cell_type": "code",
   "execution_count": 6,
   "id": "aae2351a",
   "metadata": {},
   "outputs": [
    {
     "name": "stdout",
     "output_type": "stream",
     "text": [
      "{'Boulder', 'Houston', 'Sicily', 'Athens', 'Paris'}\n"
     ]
    }
   ],
   "source": [
    "e5 = {\"Boulder\", \"Houston\", \"Paris\", \"Sicily\"}\n",
    "e5.add(\"Athens\")\n",
    "print(e5)"
   ]
  },
  {
   "cell_type": "code",
   "execution_count": 7,
   "id": "72bbd10b",
   "metadata": {},
   "outputs": [
    {
     "name": "stdout",
     "output_type": "stream",
     "text": [
      "set()\n"
     ]
    }
   ],
   "source": [
    "e6 = {\"Boulder\", \"Houston\", \"Paris\", \"Sicily\"}\n",
    "e6.clear()\n",
    "print(e6)"
   ]
  },
  {
   "cell_type": "code",
   "execution_count": 8,
   "id": "078983f5",
   "metadata": {},
   "outputs": [
    {
     "name": "stdout",
     "output_type": "stream",
     "text": [
      "{'Sicily', 'Paris', 'Houston', 'Boulder'}\n"
     ]
    }
   ],
   "source": [
    "e7 = {\"Boulder\", \"Houston\", \"Paris\", \"Sicily\"}\n",
    "e8 = e7.copy()\n",
    "print(e8)"
   ]
  },
  {
   "cell_type": "code",
   "execution_count": 9,
   "id": "8d936663",
   "metadata": {},
   "outputs": [
    {
     "name": "stdout",
     "output_type": "stream",
     "text": [
      "{'Athens'}\n",
      "{'Boulder', 'Houston', 'Sicily', 'Athens', 'Paris'}\n"
     ]
    }
   ],
   "source": [
    "e9 = {\"Boulder\", \"Houston\", \"Paris\", \"Sicily\"}\n",
    "e10 = {'Athens', 'Houston', 'Sicily', 'Paris', 'Boulder'}\n",
    "e11 = e10.difference(e9)\n",
    "print(e11)\n",
    "print(e10) #the set does not get updated after substraction"
   ]
  },
  {
   "cell_type": "code",
   "execution_count": 10,
   "id": "8083651e",
   "metadata": {},
   "outputs": [
    {
     "name": "stdout",
     "output_type": "stream",
     "text": [
      "{'Athens'}\n"
     ]
    }
   ],
   "source": [
    "e12 = {\"Boulder\", \"Houston\", \"Paris\", \"Sicily\"}\n",
    "e13 = {'Athens', 'Houston', 'Sicily', 'Paris', 'Boulder'}\n",
    "e13.difference_update(e12)\n",
    "print(e13) #The item removed the common items"
   ]
  },
  {
   "cell_type": "code",
   "execution_count": 11,
   "id": "9eb9021d",
   "metadata": {},
   "outputs": [
    {
     "name": "stdout",
     "output_type": "stream",
     "text": [
      "{'Paris', 'Houston', 'Boulder'}\n"
     ]
    }
   ],
   "source": [
    "e14 = {\"Boulder\", \"Houston\", \"Paris\", \"Sicily\"}\n",
    "e14.discard(\"Sicily\")\n",
    "print(e14)"
   ]
  },
  {
   "cell_type": "code",
   "execution_count": 12,
   "id": "a504d1dc",
   "metadata": {},
   "outputs": [
    {
     "name": "stdout",
     "output_type": "stream",
     "text": [
      "{'Paris', 'Boulder', 'Houston', 'Sicily'}\n",
      "{'Boulder', 'Houston', 'Sicily', 'Athens', 'Paris'}\n"
     ]
    }
   ],
   "source": [
    "e15 = {\"Boulder\", \"Houston\", \"Paris\", \"Sicily\"}\n",
    "e16 = {'Athens', 'Houston', 'Sicily', 'Paris', 'Boulder'}\n",
    "e17 = e16.intersection(e15)\n",
    "print(e17)\n",
    "print(e16) #the set does not get updated after intersection"
   ]
  },
  {
   "cell_type": "code",
   "execution_count": 13,
   "id": "9c265363",
   "metadata": {},
   "outputs": [
    {
     "name": "stdout",
     "output_type": "stream",
     "text": [
      "{'Paris', 'Boulder', 'Houston', 'Sicily'}\n"
     ]
    }
   ],
   "source": [
    "e18 = {\"Boulder\", \"Houston\", \"Paris\", \"Sicily\"}\n",
    "e19 = {'Athens', 'Houston', 'Sicily', 'Paris', 'Boulder'}\n",
    "e19.intersection_update(e18)\n",
    "print(e19)  #The item removed the uncommon items"
   ]
  },
  {
   "cell_type": "code",
   "execution_count": 14,
   "id": "3432eaf2",
   "metadata": {},
   "outputs": [
    {
     "name": "stdout",
     "output_type": "stream",
     "text": [
      "True\n"
     ]
    }
   ],
   "source": [
    "e20 = {\"Boulder\", \"Houston\", \"Paris\", \"Sicily\"}\n",
    "e21 = {'Athens', 'Aspen'}\n",
    "e22 = e20.isdisjoint(e21)\n",
    "print(e22)  #The item shows if they have nothing in common"
   ]
  },
  {
   "cell_type": "code",
   "execution_count": 15,
   "id": "122dda5e",
   "metadata": {},
   "outputs": [
    {
     "name": "stdout",
     "output_type": "stream",
     "text": [
      "True\n"
     ]
    }
   ],
   "source": [
    "e23 = {\"Boulder\", \"Houston\", \"Paris\", \"Sicily\"}\n",
    "e24 = {'Athens', 'Aspen'}\n",
    "e23.add('Athens') \n",
    "e23.add('Aspen') #we have added the elements in e24\n",
    "\n",
    "e25 = e24.issubset(e23)\n",
    "print(e25)  #The item shows if e24 is a subset of e25"
   ]
  },
  {
   "cell_type": "code",
   "execution_count": 16,
   "id": "9faa7d06",
   "metadata": {},
   "outputs": [
    {
     "name": "stdout",
     "output_type": "stream",
     "text": [
      "True\n"
     ]
    }
   ],
   "source": [
    "e26 = {\"Boulder\", \"Houston\", \"Paris\", \"Sicily\"}\n",
    "e27 = {'Athens', 'Aspen'}\n",
    "e26.add('Athens') \n",
    "e26.add('Aspen') #we have added the elements in e24\n",
    "\n",
    "e28 = e23.issuperset(e24)\n",
    "print(e28)  #The item shows if e24 is a subset of e25"
   ]
  },
  {
   "cell_type": "code",
   "execution_count": 17,
   "id": "8263b254",
   "metadata": {},
   "outputs": [
    {
     "name": "stdout",
     "output_type": "stream",
     "text": [
      "{'Paris', 'Houston', 'Boulder'}\n"
     ]
    }
   ],
   "source": [
    "e29 = {\"Boulder\", \"Houston\", \"Paris\", \"Sicily\"}\n",
    "e29.pop()\n",
    "print(e29)"
   ]
  },
  {
   "cell_type": "code",
   "execution_count": 18,
   "id": "7d8b169a",
   "metadata": {},
   "outputs": [
    {
     "name": "stdout",
     "output_type": "stream",
     "text": [
      "{'Paris', 'Houston', 'Boulder'}\n"
     ]
    }
   ],
   "source": [
    "e30 = {\"Boulder\", \"Houston\", \"Paris\", \"Sicily\"}\n",
    "e30.remove(\"Sicily\")\n",
    "print(e30)"
   ]
  },
  {
   "cell_type": "code",
   "execution_count": 19,
   "id": "0e1375b0",
   "metadata": {},
   "outputs": [
    {
     "name": "stdout",
     "output_type": "stream",
     "text": [
      "{'Houston', 'Athens', 'Paris'}\n",
      "{'Sicily', 'Houston', 'Boulder'}\n"
     ]
    }
   ],
   "source": [
    "e31 = {\"Boulder\", \"Houston\", \"Sicily\"}\n",
    "e32 = {'Athens', 'Sicily', 'Paris', 'Boulder'}\n",
    "e33 = e31.symmetric_difference(e32)\n",
    "print(e33) #the set contains all items \n",
    "#except those in common\n",
    "print(e31) #e31 retains its items"
   ]
  },
  {
   "cell_type": "code",
   "execution_count": 20,
   "id": "610d1e76",
   "metadata": {},
   "outputs": [
    {
     "name": "stdout",
     "output_type": "stream",
     "text": [
      "{'Houston', 'Athens', 'Paris'}\n"
     ]
    }
   ],
   "source": [
    "e34 = {\"Boulder\", \"Houston\", \"Sicily\"}\n",
    "e35 = {'Athens', 'Sicily', 'Paris', 'Boulder'}\n",
    "e34.symmetric_difference_update(e35)\n",
    "print(e34) #e34 set now contains all \n",
    "#items except those in common"
   ]
  },
  {
   "cell_type": "code",
   "execution_count": 21,
   "id": "9fa34765",
   "metadata": {
    "scrolled": true
   },
   "outputs": [
    {
     "name": "stdout",
     "output_type": "stream",
     "text": [
      "{'Sicily', 'Athens', 'Paris', 'Boulder', 'Houston'}\n"
     ]
    }
   ],
   "source": [
    "e36 = {\"Boulder\", \"Houston\", \"Sicily\"}\n",
    "e37 = {'Athens', 'Sicily', 'Paris', 'Boulder'}\n",
    "e38 = e36.union(e37)\n",
    "print(e38) #e38 contains all items in both set"
   ]
  },
  {
   "cell_type": "code",
   "execution_count": 22,
   "id": "85920403",
   "metadata": {},
   "outputs": [
    {
     "name": "stdout",
     "output_type": "stream",
     "text": [
      "{'Sicily', 'Athens', 'Paris', 'Boulder', 'Houston'}\n"
     ]
    }
   ],
   "source": [
    "e39 = {'Athens', 'Sicily', 'Paris', 'Boulder'}\n",
    "e40 = {\"Boulder\", \"Houston\", \"Sicily\"}\n",
    "e40.update(e39)\n",
    "print(e40) #e39 is updated with e40"
   ]
  }
 ],
 "metadata": {
  "kernelspec": {
   "display_name": "Python 3 (ipykernel)",
   "language": "python",
   "name": "python3"
  },
  "language_info": {
   "codemirror_mode": {
    "name": "ipython",
    "version": 3
   },
   "file_extension": ".py",
   "mimetype": "text/x-python",
   "name": "python",
   "nbconvert_exporter": "python",
   "pygments_lexer": "ipython3",
   "version": "3.8.12"
  }
 },
 "nbformat": 4,
 "nbformat_minor": 5
}
