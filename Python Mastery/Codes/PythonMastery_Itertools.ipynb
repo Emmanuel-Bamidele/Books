{
 "cells": [
  {
   "cell_type": "markdown",
   "id": "b905ea7b",
   "metadata": {},
   "source": [
    "## Python Itertools Function"
   ]
  },
  {
   "cell_type": "markdown",
   "id": "0a9fe0f9",
   "metadata": {},
   "source": [
    "#### Basic Usage"
   ]
  },
  {
   "cell_type": "code",
   "execution_count": 4,
   "id": "ddd8553b",
   "metadata": {
    "scrolled": true
   },
   "outputs": [
    {
     "name": "stdout",
     "output_type": "stream",
     "text": [
      "5\n",
      "6\n",
      "7\n",
      "8\n",
      "9\n",
      "10\n"
     ]
    }
   ],
   "source": [
    "import itertools\n",
    "\n",
    "for number in itertools.count(5):\n",
    "    if number > 10:\n",
    "        break\n",
    "    print(number)"
   ]
  },
  {
   "cell_type": "markdown",
   "id": "160d7deb",
   "metadata": {},
   "source": [
    "#### Combining Iterators"
   ]
  },
  {
   "cell_type": "code",
   "execution_count": 5,
   "id": "f01a63a6",
   "metadata": {
    "scrolled": true
   },
   "outputs": [
    {
     "name": "stdout",
     "output_type": "stream",
     "text": [
      "1\n",
      "2\n",
      "3\n",
      "4\n",
      "5\n",
      "6\n"
     ]
    }
   ],
   "source": [
    "import itertools\n",
    "\n",
    "list1 = [1, 2, 3]\n",
    "list2 = [4, 5, 6]\n",
    "combined = itertools.chain(list1, list2)\n",
    "\n",
    "for number in combined:\n",
    "    print(number)\n"
   ]
  },
  {
   "cell_type": "markdown",
   "id": "98f3e1fd",
   "metadata": {},
   "source": [
    "#### Itertools Permutation"
   ]
  },
  {
   "cell_type": "code",
   "execution_count": 6,
   "id": "3239541c",
   "metadata": {
    "scrolled": true
   },
   "outputs": [
    {
     "name": "stdout",
     "output_type": "stream",
     "text": [
      "('a', 'b', 'c')\n",
      "('a', 'c', 'b')\n",
      "('b', 'a', 'c')\n",
      "('b', 'c', 'a')\n",
      "('c', 'a', 'b')\n",
      "('c', 'b', 'a')\n"
     ]
    }
   ],
   "source": [
    "import itertools\n",
    "\n",
    "items = ['a', 'b', 'c']\n",
    "for p in itertools.permutations(items):\n",
    "    print(p)\n"
   ]
  },
  {
   "cell_type": "markdown",
   "id": "9a8f664f",
   "metadata": {},
   "source": [
    "### Use Case Code"
   ]
  },
  {
   "cell_type": "code",
   "execution_count": 7,
   "id": "45cc1736",
   "metadata": {},
   "outputs": [
    {
     "name": "stdout",
     "output_type": "stream",
     "text": [
      "('feature1', 'feature2')\n",
      "('feature1', 'feature3')\n",
      "('feature1', 'feature4')\n",
      "('feature2', 'feature3')\n",
      "('feature2', 'feature4')\n",
      "('feature3', 'feature4')\n"
     ]
    }
   ],
   "source": [
    "import itertools\n",
    "\n",
    "features = ['feature1', 'feature2', 'feature3', 'feature4']\n",
    "for combo in itertools.combinations(features, 2):\n",
    "    print(combo)\n"
   ]
  },
  {
   "cell_type": "code",
   "execution_count": null,
   "id": "7f0a0133",
   "metadata": {},
   "outputs": [],
   "source": []
  }
 ],
 "metadata": {
  "kernelspec": {
   "display_name": "Python 3 (ipykernel)",
   "language": "python",
   "name": "python3"
  },
  "language_info": {
   "codemirror_mode": {
    "name": "ipython",
    "version": 3
   },
   "file_extension": ".py",
   "mimetype": "text/x-python",
   "name": "python",
   "nbconvert_exporter": "python",
   "pygments_lexer": "ipython3",
   "version": "3.9.13"
  }
 },
 "nbformat": 4,
 "nbformat_minor": 5
}
