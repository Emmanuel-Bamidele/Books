{
 "cells": [
  {
   "cell_type": "markdown",
   "id": "b905ea7b",
   "metadata": {},
   "source": [
    "## Python Lambda Functions"
   ]
  },
  {
   "cell_type": "markdown",
   "id": "0a9fe0f9",
   "metadata": {},
   "source": [
    "#### Basic Syntax"
   ]
  },
  {
   "cell_type": "code",
   "execution_count": 1,
   "id": "ddd8553b",
   "metadata": {
    "scrolled": true
   },
   "outputs": [],
   "source": [
    "lambda arguments: expression"
   ]
  },
  {
   "cell_type": "markdown",
   "id": "160d7deb",
   "metadata": {},
   "source": [
    "#### Lambda with map Function"
   ]
  },
  {
   "cell_type": "code",
   "execution_count": 5,
   "id": "f01a63a6",
   "metadata": {
    "scrolled": true
   },
   "outputs": [
    {
     "name": "stdout",
     "output_type": "stream",
     "text": [
      "[1, 4, 9, 16, 25]\n"
     ]
    }
   ],
   "source": [
    "numbers = [1, 2, 3, 4, 5]\n",
    "squared_numbers = map(lambda x: x**2, numbers)\n",
    "\n",
    "print(list(squared_numbers))  # Outputs: [1, 4, 9, 16, 25]\n"
   ]
  },
  {
   "cell_type": "markdown",
   "id": "4d067db8",
   "metadata": {},
   "source": [
    "#### Lambda with filter()"
   ]
  },
  {
   "cell_type": "code",
   "execution_count": 6,
   "id": "d67d0dea",
   "metadata": {},
   "outputs": [
    {
     "name": "stdout",
     "output_type": "stream",
     "text": [
      "[2, 4, 6]\n"
     ]
    }
   ],
   "source": [
    "numbers = [1, 2, 3, 4, 5, 6]\n",
    "even_numbers = filter(lambda x: x % 2 == 0, numbers)\n",
    "\n",
    "print(list(even_numbers))  # Outputs: [2, 4, 6]\n"
   ]
  },
  {
   "cell_type": "markdown",
   "id": "2d0e7645",
   "metadata": {},
   "source": [
    "#### Lambda for sorting"
   ]
  },
  {
   "cell_type": "code",
   "execution_count": 7,
   "id": "821314a4",
   "metadata": {},
   "outputs": [
    {
     "name": "stdout",
     "output_type": "stream",
     "text": [
      "[(1, 'One'), (3, 'Three'), (2, 'Two')]\n"
     ]
    }
   ],
   "source": [
    "# Sorting a list of tuples based on the second item\n",
    "data = [(1, 'One'), (3, 'Three'), (2, 'Two')]\n",
    "sorted_data = sorted(data, key=lambda x: x[1])\n",
    "\n",
    "print(sorted_data)  # Outputs: [(1, 'One'), (2, 'Two'), (3, 'Three')]\n"
   ]
  }
 ],
 "metadata": {
  "kernelspec": {
   "display_name": "Python 3 (ipykernel)",
   "language": "python",
   "name": "python3"
  },
  "language_info": {
   "codemirror_mode": {
    "name": "ipython",
    "version": 3
   },
   "file_extension": ".py",
   "mimetype": "text/x-python",
   "name": "python",
   "nbconvert_exporter": "python",
   "pygments_lexer": "ipython3",
   "version": "3.9.13"
  }
 },
 "nbformat": 4,
 "nbformat_minor": 5
}
