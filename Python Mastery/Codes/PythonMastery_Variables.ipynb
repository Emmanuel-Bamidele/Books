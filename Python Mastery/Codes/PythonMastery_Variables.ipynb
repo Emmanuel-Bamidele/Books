{
 "cells": [
  {
   "cell_type": "markdown",
   "id": "0498c8e4",
   "metadata": {},
   "source": [
    "### Variables"
   ]
  },
  {
   "cell_type": "code",
   "execution_count": 1,
   "id": "3d0eb096",
   "metadata": {},
   "outputs": [
    {
     "name": "stdout",
     "output_type": "stream",
     "text": [
      "2 | This is a String variable | 3.56 | This is also a String variable\n"
     ]
    }
   ],
   "source": [
    "# assign variables a, b, c, d, and e\n",
    "a = 2\n",
    "b = \"This is a String variable\"\n",
    "c = 3.56\n",
    "d = 'This is also a String variable'\n",
    "e = \"|\"\n",
    "\n",
    "print(a, e, b, e, c, e, d)"
   ]
  },
  {
   "cell_type": "code",
   "execution_count": 2,
   "id": "3be3e56a",
   "metadata": {},
   "outputs": [
    {
     "name": "stdout",
     "output_type": "stream",
     "text": [
      "2 | 2 | 3.0 | 3.5 | 1\n"
     ]
    }
   ],
   "source": [
    "#Variable Casting\n",
    "a = int(2)\n",
    "b = int(2.5)\n",
    "c = float(3)\n",
    "d = float (3.5)\n",
    "e = str(1)\n",
    "f = str(\"|\")\n",
    "print (a, f, b, f, c, f, d, f, e)"
   ]
  },
  {
   "cell_type": "markdown",
   "id": "e3473f6a",
   "metadata": {},
   "source": [
    "#### Variables Type"
   ]
  },
  {
   "cell_type": "code",
   "execution_count": 3,
   "id": "c19fa361",
   "metadata": {
    "scrolled": true
   },
   "outputs": [
    {
     "name": "stdout",
     "output_type": "stream",
     "text": [
      "<class 'int'> <class 'int'> <class 'float'> <class 'float'> <class 'str'> <class 'str'>\n"
     ]
    }
   ],
   "source": [
    "#Let's get the type of the variables cast above:\n",
    "print(type(a), type(b), type(c), type(d), type(e), type(f))"
   ]
  },
  {
   "cell_type": "markdown",
   "id": "529f948d",
   "metadata": {},
   "source": [
    "#### Variable Names : Rules"
   ]
  },
  {
   "cell_type": "code",
   "execution_count": 4,
   "id": "9884d30d",
   "metadata": {},
   "outputs": [
    {
     "ename": "SyntaxError",
     "evalue": "invalid syntax (3203440013.py, line 2)",
     "output_type": "error",
     "traceback": [
      "\u001b[0;36m  File \u001b[0;32m\"/var/folders/sn/f5tw20014xv6btlq0tlfyrnr0000gn/T/ipykernel_11369/3203440013.py\"\u001b[0;36m, line \u001b[0;32m2\u001b[0m\n\u001b[0;31m    1a = \"Bamidele\"\u001b[0m\n\u001b[0m     ^\u001b[0m\n\u001b[0;31mSyntaxError\u001b[0m\u001b[0;31m:\u001b[0m invalid syntax\n"
     ]
    }
   ],
   "source": [
    "#Variable cannot start with a number\n",
    "1a = \"Bamidele\" \n",
    "print(1a)"
   ]
  },
  {
   "cell_type": "code",
   "execution_count": 5,
   "id": "18c79ef0",
   "metadata": {},
   "outputs": [
    {
     "ename": "SyntaxError",
     "evalue": "invalid syntax (2524437624.py, line 2)",
     "output_type": "error",
     "traceback": [
      "\u001b[0;36m  File \u001b[0;32m\"/var/folders/sn/f5tw20014xv6btlq0tlfyrnr0000gn/T/ipykernel_11369/2524437624.py\"\u001b[0;36m, line \u001b[0;32m2\u001b[0m\n\u001b[0;31m    a variable = \"Bamidele\"\u001b[0m\n\u001b[0m      ^\u001b[0m\n\u001b[0;31mSyntaxError\u001b[0m\u001b[0;31m:\u001b[0m invalid syntax\n"
     ]
    }
   ],
   "source": [
    "#Variable cannot have space\n",
    "a variable = \"Bamidele\""
   ]
  },
  {
   "cell_type": "code",
   "execution_count": 6,
   "id": "1a36c54a",
   "metadata": {},
   "outputs": [
    {
     "ename": "SyntaxError",
     "evalue": "cannot assign to operator (2768388625.py, line 2)",
     "output_type": "error",
     "traceback": [
      "\u001b[0;36m  File \u001b[0;32m\"/var/folders/sn/f5tw20014xv6btlq0tlfyrnr0000gn/T/ipykernel_11369/2768388625.py\"\u001b[0;36m, line \u001b[0;32m2\u001b[0m\n\u001b[0;31m    a-variable = \"Bamidele\"\u001b[0m\n\u001b[0m    ^\u001b[0m\n\u001b[0;31mSyntaxError\u001b[0m\u001b[0;31m:\u001b[0m cannot assign to operator\n"
     ]
    }
   ],
   "source": [
    "#Variable cannot have hyphen\n",
    "a-variable = \"Bamidele\""
   ]
  },
  {
   "cell_type": "code",
   "execution_count": 7,
   "id": "fc24489a",
   "metadata": {},
   "outputs": [
    {
     "name": "stdout",
     "output_type": "stream",
     "text": [
      "Bamidele1\n",
      "Bamidele2\n",
      "Bamidele3\n",
      "Bamidele4\n"
     ]
    }
   ],
   "source": [
    "#Variable can start with letters or underscores\n",
    "aVariable = \"Bamidele1\"\n",
    "a_variable = \"Bamidele2\"\n",
    "_a_variable = \"Bamidele3\"\n",
    "__a_variable = \"Bamidele4\"\n",
    "print(aVariable)\n",
    "print(a_variable)\n",
    "print(_a_variable)\n",
    "print(__a_variable)"
   ]
  },
  {
   "cell_type": "code",
   "execution_count": 8,
   "id": "f4cea5da",
   "metadata": {},
   "outputs": [
    {
     "name": "stdout",
     "output_type": "stream",
     "text": [
      "False\n"
     ]
    }
   ],
   "source": [
    "#Variables are case sensitive\n",
    "Variable = \"Bamidele5\"\n",
    "variable = \"Bamidele6\"\n",
    "print(Variable == variable) #compare the two variables and return a boolean"
   ]
  },
  {
   "cell_type": "code",
   "execution_count": 9,
   "id": "cb046310",
   "metadata": {},
   "outputs": [
    {
     "name": "stdout",
     "output_type": "stream",
     "text": [
      "Bamidele7\n",
      "Bamidele8\n",
      "Bamidele9\n"
     ]
    }
   ],
   "source": [
    "#Variables can contain alpha numeric characters\n",
    "variable1 = \"Bamidele7\"\n",
    "VARiable3 = \"Bamidele8\"\n",
    "VARiable_4 = \"Bamidele9\"\n",
    "print(variable1)\n",
    "print(VARiable3)\n",
    "print(VARiable_4)"
   ]
  },
  {
   "cell_type": "code",
   "execution_count": 10,
   "id": "7fa0348a",
   "metadata": {},
   "outputs": [
    {
     "name": "stdout",
     "output_type": "stream",
     "text": [
      "1 2 3\n"
     ]
    }
   ],
   "source": [
    "#Assigning many values to many variables\n",
    "a, b, c = 1, 2, 3\n",
    "print(a,b,c)"
   ]
  },
  {
   "cell_type": "code",
   "execution_count": 11,
   "id": "e255adfa",
   "metadata": {},
   "outputs": [
    {
     "name": "stdout",
     "output_type": "stream",
     "text": [
      "4 4 4\n"
     ]
    }
   ],
   "source": [
    "#Assign same value to one variable\n",
    "d = e = f = 4\n",
    "print(d, e, f)"
   ]
  },
  {
   "cell_type": "code",
   "execution_count": 12,
   "id": "3773579f",
   "metadata": {},
   "outputs": [
    {
     "name": "stdout",
     "output_type": "stream",
     "text": [
      "Chemistry Biology Physics\n"
     ]
    }
   ],
   "source": [
    "#collecting variable values from a list\n",
    "courses = [\"Chemistry\", \"Biology\", \"Physics\"]\n",
    "ben, tim, tom = courses\n",
    "print(ben, tim, tom)"
   ]
  },
  {
   "cell_type": "markdown",
   "id": "a0f13200",
   "metadata": {},
   "source": [
    "#### Variables Output"
   ]
  },
  {
   "cell_type": "code",
   "execution_count": 13,
   "id": "a965ecab",
   "metadata": {},
   "outputs": [
    {
     "name": "stdout",
     "output_type": "stream",
     "text": [
      "The author's name is: Emmanuel Bamidele\n"
     ]
    }
   ],
   "source": [
    "w = \"Emmanuel\"\n",
    "z = \" Bamidele\"\n",
    "\n",
    "print(\"The author's name is: \" + w + z) #you can add directly in the print statement"
   ]
  },
  {
   "cell_type": "code",
   "execution_count": 14,
   "id": "4f28c6bb",
   "metadata": {},
   "outputs": [
    {
     "name": "stdout",
     "output_type": "stream",
     "text": [
      "The author's name is: Emmanuel  Bamidele\n"
     ]
    }
   ],
   "source": [
    "w = \"Emmanuel\"\n",
    "z = \" Bamidele\"\n",
    "\n",
    "print(\"The author's name is: \" + w, z) #you can add directly or use comma in the print statement"
   ]
  },
  {
   "cell_type": "code",
   "execution_count": 15,
   "id": "b4878c41",
   "metadata": {},
   "outputs": [
    {
     "name": "stdout",
     "output_type": "stream",
     "text": [
      "The author's name is: Emmanuel Bamidele\n"
     ]
    }
   ],
   "source": [
    "w = \"Emmanuel\"\n",
    "z = \" Bamidele\"\n",
    "y = w + z\n",
    "\n",
    "print(\"The author's name is: \" + y) #you use +"
   ]
  },
  {
   "cell_type": "code",
   "execution_count": 16,
   "id": "3d2f7e0a",
   "metadata": {},
   "outputs": [
    {
     "name": "stdout",
     "output_type": "stream",
     "text": [
      "The author's name is:  Emmanuel Bamidele\n"
     ]
    }
   ],
   "source": [
    "w = \"Emmanuel\"\n",
    "z = \" Bamidele\"\n",
    "y = w + z\n",
    "\n",
    "print(\"The author's name is: \", y) #you can also use comma"
   ]
  },
  {
   "cell_type": "markdown",
   "id": "d66f68f1",
   "metadata": {},
   "source": [
    "#### Global Variables\n",
    "\n",
    "- a is a global variable because it declared outside the function\n",
    "- b is a global variable because it is declared global in the function"
   ]
  },
  {
   "cell_type": "code",
   "execution_count": 17,
   "id": "f39c44c2",
   "metadata": {},
   "outputs": [
    {
     "name": "stdout",
     "output_type": "stream",
     "text": [
      "15\n"
     ]
    }
   ],
   "source": [
    "a = 10\n",
    "def addition():\n",
    "    global b\n",
    "    b = 5\n",
    "    c = a + b\n",
    "    return c\n",
    "\n",
    "def subtract():\n",
    "    c = addition()\n",
    "    d = 20 - b\n",
    "    return d\n",
    "\n",
    "print(subtract())"
   ]
  }
 ],
 "metadata": {
  "kernelspec": {
   "display_name": "Python 3 (ipykernel)",
   "language": "python",
   "name": "python3"
  },
  "language_info": {
   "codemirror_mode": {
    "name": "ipython",
    "version": 3
   },
   "file_extension": ".py",
   "mimetype": "text/x-python",
   "name": "python",
   "nbconvert_exporter": "python",
   "pygments_lexer": "ipython3",
   "version": "3.8.12"
  }
 },
 "nbformat": 4,
 "nbformat_minor": 5
}
