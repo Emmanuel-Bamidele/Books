{
 "cells": [
  {
   "cell_type": "markdown",
   "id": "b905ea7b",
   "metadata": {},
   "source": [
    "## Python Map Function"
   ]
  },
  {
   "cell_type": "markdown",
   "id": "0a9fe0f9",
   "metadata": {},
   "source": [
    "#### Basic Usage"
   ]
  },
  {
   "cell_type": "code",
   "execution_count": 1,
   "id": "ddd8553b",
   "metadata": {
    "scrolled": true
   },
   "outputs": [
    {
     "name": "stdout",
     "output_type": "stream",
     "text": [
      "[1, 4, 9, 16, 25]\n"
     ]
    }
   ],
   "source": [
    "def square(number):\n",
    "    return number ** 2\n",
    "\n",
    "numbers = [1, 2, 3, 4, 5]\n",
    "squared = map(square, numbers)\n",
    "\n",
    "print(list(squared))"
   ]
  },
  {
   "cell_type": "markdown",
   "id": "160d7deb",
   "metadata": {},
   "source": [
    "#### Converting Temperatures"
   ]
  },
  {
   "cell_type": "code",
   "execution_count": 2,
   "id": "f01a63a6",
   "metadata": {
    "scrolled": true
   },
   "outputs": [
    {
     "name": "stdout",
     "output_type": "stream",
     "text": [
      "[32.0, 50.0, 68.0, 86.0]\n"
     ]
    }
   ],
   "source": [
    "def celsius_to_fahrenheit(celsius):\n",
    "    return (celsius * 9/5) + 32\n",
    "\n",
    "temperatures_celsius = [0, 10, 20, 30]\n",
    "temperatures_fahrenheit = map(celsius_to_fahrenheit, temperatures_celsius)\n",
    "\n",
    "print(list(temperatures_fahrenheit))"
   ]
  },
  {
   "cell_type": "markdown",
   "id": "98f3e1fd",
   "metadata": {},
   "source": [
    "#### Processing User Data"
   ]
  },
  {
   "cell_type": "code",
   "execution_count": 3,
   "id": "3239541c",
   "metadata": {
    "scrolled": true
   },
   "outputs": [
    {
     "name": "stdout",
     "output_type": "stream",
     "text": [
      "['Alice Johnson', 'Bob Smith', 'Carol Williams']\n"
     ]
    }
   ],
   "source": [
    "users = [\n",
    "    {'first_name': 'Alice', 'last_name': 'Johnson'},\n",
    "    {'first_name': 'Bob', 'last_name': 'Smith'},\n",
    "    {'first_name': 'Carol', 'last_name': 'Williams'}\n",
    "]\n",
    "\n",
    "def format_full_name(user):\n",
    "    return f\"{user['first_name']} {user['last_name']}\"\n",
    "\n",
    "full_names = map(format_full_name, users)\n",
    "\n",
    "print(list(full_names))\n"
   ]
  },
  {
   "cell_type": "markdown",
   "id": "65979437",
   "metadata": {},
   "source": [
    "### Use Case Code"
   ]
  },
  {
   "cell_type": "code",
   "execution_count": null,
   "id": "8f7646f2",
   "metadata": {},
   "outputs": [],
   "source": [
    "import csv\n",
    "\n",
    "def process_row(row):\n",
    "    # Example processing: mark each row as processed\n",
    "    row['Processed'] = 'Yes'\n",
    "    return row\n",
    "\n",
    "# Ensure 'input.csv' exists in the same directory as this script\n",
    "with open('input.csv', mode='r') as infile, open('output.csv', mode='w', newline='') as outfile:\n",
    "    reader = csv.DictReader(infile)\n",
    "    processed_rows = map(process_row, reader)\n",
    "\n",
    "    # Adding 'Processed' to the fieldnames for the output file\n",
    "    writer = csv.DictWriter(outfile, fieldnames=reader.fieldnames + ['Processed'])\n",
    "    writer.writeheader()\n",
    "    writer.writerows(processed_rows)\n"
   ]
  }
 ],
 "metadata": {
  "kernelspec": {
   "display_name": "Python 3 (ipykernel)",
   "language": "python",
   "name": "python3"
  },
  "language_info": {
   "codemirror_mode": {
    "name": "ipython",
    "version": 3
   },
   "file_extension": ".py",
   "mimetype": "text/x-python",
   "name": "python",
   "nbconvert_exporter": "python",
   "pygments_lexer": "ipython3",
   "version": "3.9.13"
  }
 },
 "nbformat": 4,
 "nbformat_minor": 5
}
