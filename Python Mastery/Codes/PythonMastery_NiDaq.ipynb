{
 "cells": [
  {
   "cell_type": "markdown",
   "id": "b905ea7b",
   "metadata": {},
   "source": [
    "## Python Ni DAQ"
   ]
  },
  {
   "cell_type": "markdown",
   "id": "0a9fe0f9",
   "metadata": {},
   "source": [
    "#### Reading Single Data"
   ]
  },
  {
   "cell_type": "code",
   "execution_count": null,
   "id": "ddd8553b",
   "metadata": {
    "scrolled": true
   },
   "outputs": [],
   "source": [
    "import nidaqmx\n",
    "\n",
    "with nidaqmx.Task() as task:\n",
    "    task.ai_channels.add_ai_voltage_chan(\"Dev1/ai1\")\n",
    "    single_sample = task.read()\n",
    "    print(f\"Single Sample: {single_sample}\")\n"
   ]
  },
  {
   "cell_type": "markdown",
   "id": "160d7deb",
   "metadata": {},
   "source": [
    "#### Continuous Data Reading"
   ]
  },
  {
   "cell_type": "code",
   "execution_count": null,
   "id": "f01a63a6",
   "metadata": {
    "scrolled": false
   },
   "outputs": [],
   "source": [
    "import nidaqmx\n",
    "from nidaqmx.constants import AcquisitionType\n",
    "\n",
    "with nidaqmx.Task() as task:\n",
    "    task.ai_channels.add_ai_voltage_chan(\"Dev1/ai1\")\n",
    "    task.timing.cfg_samp_clk_timing(rate=1000, sample_mode=AcquisitionType.CONTINUOUS)\n",
    "\n",
    "    print(\"Reading samples...\")\n",
    "    try:\n",
    "        while True:\n",
    "            data = task.read(number_of_samples_per_channel=10)\n",
    "            print(data)\n",
    "    except KeyboardInterrupt:\n",
    "        print(\"Continuous reading stopped by user.\")\n"
   ]
  },
  {
   "cell_type": "markdown",
   "id": "4d067db8",
   "metadata": {},
   "source": [
    "#### Writing Single Data"
   ]
  },
  {
   "cell_type": "code",
   "execution_count": null,
   "id": "d67d0dea",
   "metadata": {},
   "outputs": [],
   "source": [
    "import nidaqmx\n",
    "\n",
    "with nidaqmx.Task() as task:\n",
    "    task.ao_channels.add_ao_voltage_chan(\"Dev1/ao0\")\n",
    "    task.write(5.0)  # Writing a single voltage value\n",
    "    print(\"Wrote 5V to ao0\")\n"
   ]
  },
  {
   "cell_type": "markdown",
   "id": "a517b299",
   "metadata": {},
   "source": [
    "#### Writing Continuous Data"
   ]
  },
  {
   "cell_type": "code",
   "execution_count": null,
   "id": "c9fba777",
   "metadata": {},
   "outputs": [],
   "source": [
    "import nidaqmx\n",
    "from nidaqmx.constants import AcquisitionType\n",
    "import numpy as np\n",
    "\n",
    "with nidaqmx.Task() as task:\n",
    "    task.ao_channels.add_ao_voltage_chan(\"Dev1/ao0\")\n",
    "    task.timing.cfg_samp_clk_timing(rate=1000, sample_mode=AcquisitionType.CONTINUOUS)\n",
    "\n",
    "    samples_to_write = np.linspace(0, 5, 100)\n",
    "    task.write(samples_to_write, auto_start=True)\n",
    "\n",
    "    input(\"Generating voltage ramp. Press Enter to stop...\")\n"
   ]
  },
  {
   "cell_type": "markdown",
   "id": "2d0e7645",
   "metadata": {},
   "source": [
    "#### Mini Project: Real-Time Data Acquisition and Data Logging"
   ]
  },
  {
   "cell_type": "code",
   "execution_count": null,
   "id": "821314a4",
   "metadata": {},
   "outputs": [],
   "source": [
    "import nidaqmx\n",
    "from nidaqmx.constants import AcquisitionType\n",
    "import datetime\n",
    "\n",
    "# Configuration\n",
    "sampling_rate = 1000\n",
    "channel = \"Dev1/ai1\"\n",
    "\n",
    "# Setting up the DAQ Task\n",
    "with nidaqmx.Task() as task:\n",
    "    task.ai_channels.add_ai_voltage_chan(channel)\n",
    "    task.timing.cfg_samp_clk_timing(rate=sampling_rate, sample_mode=AcquisitionType.CONTINUOUS)\n",
    "\n",
    "    # Data logging setup\n",
    "    with open(\"data_log.csv\", \"a\") as file:\n",
    "        print(\"Logging data... (Ctrl+C to stop)\")\n",
    "        try:\n",
    "            while True:\n",
    "                data = task.read(number_of_samples_per_channel=10)\n",
    "                timestamp = datetime.datetime.now().strftime(\"%Y-%m-%d %H:%M:%S\")\n",
    "                for value in data:\n",
    "                    file.write(f\"{timestamp},{value}\\n\")\n",
    "        except KeyboardInterrupt:\n",
    "            print(\"Data logging stopped by user.\")\n"
   ]
  },
  {
   "cell_type": "markdown",
   "id": "e43f67c9",
   "metadata": {},
   "source": [
    "#### Mini Project 2: Power Supply for a 4-Point Measurement System"
   ]
  },
  {
   "cell_type": "code",
   "execution_count": null,
   "id": "fe42947f",
   "metadata": {},
   "outputs": [],
   "source": [
    "import nidaqmx\n",
    "import time\n",
    "import csv\n",
    "\n",
    "# Constants\n",
    "VOLTAGE_TO_CURRENT_SCALE = 5  # 1V = 5A\n",
    "MAX_CURRENT = 0.5  # 500 mA\n",
    "STEP_SIZE = 0.01  # Current step size (10 mA)\n",
    "MEASUREMENT_INTERVAL = 1  # Time in seconds between measurements\n",
    "\n",
    "# File for logging data\n",
    "output_file = \"measurement_log.csv\"\n",
    "\n",
    "# Function to write current\n",
    "def write_current(desired_current):\n",
    "    with nidaqmx.Task() as write_task:\n",
    "        write_task.ao_channels.add_ao_voltage_chan(\"Dev1/ao0\")\n",
    "        scaled_voltage = desired_current / VOLTAGE_TO_CURRENT_SCALE\n",
    "        write_task.write(scaled_voltage)\n",
    "        print(f\"Writing {desired_current}A to the system (Scaled Voltage: {scaled_voltage}V)\")\n",
    "\n",
    "# Function to read voltage\n",
    "def read_voltage():\n",
    "    with nidaqmx.Task() as read_task:\n",
    "        read_task.ai_channels.add_ai_voltage_chan(\"Dev1/ai1\")\n",
    "        scaled_voltage = read_task.read()\n",
    "        actual_voltage = scaled_voltage * VOLTAGE_TO_CURRENT_SCALE\n",
    "        return actual_voltage\n",
    "\n",
    "# Open the file for logging\n",
    "with open(output_file, 'w', newline='') as file:\n",
    "    writer = csv.writer(file)\n",
    "    writer.writerow(['Current (A)', 'Voltage (V)', 'Resistance (Ohms)'])\n",
    "\n",
    "    # Incrementally increase current and measure voltage\n",
    "    current = 0\n",
    "    while current <= MAX_CURRENT:\n",
    "        write_current(current)\n",
    "        time.sleep(MEASUREMENT_INTERVAL)  # Wait for the system to stabilize\n",
    "\n",
    "        voltage = read_voltage()\n",
    "        resistance = voltage / current if current != 0 else float('inf')\n",
    "\n",
    "        # Log the data\n",
    "        writer.writerow([current, voltage, resistance])\n",
    "        print(f\"Current: {current} A, Voltage: {voltage} V, Resistance: {resistance} Ohms\")\n",
    "\n",
    "        current += STEP_SIZE\n",
    "\n",
    "print(\"Measurement completed. Data logged to\", output_file)\n"
   ]
  },
  {
   "cell_type": "markdown",
   "id": "e56882e7",
   "metadata": {},
   "source": [
    "#### Main Project: 4-Point Measurement System in a GUI"
   ]
  },
  {
   "cell_type": "code",
   "execution_count": null,
   "id": "32cc5437",
   "metadata": {},
   "outputs": [],
   "source": [
    "import tkinter as tk\n",
    "from tkinter import ttk\n",
    "import nidaqmx\n",
    "import csv\n",
    "import threading\n",
    "\n",
    "class MeasurementApp:\n",
    "    def __init__(self, root):\n",
    "        self.root = root\n",
    "        self.measurement_running = False\n",
    "        root.title(\"Resistivity Measurement System\")\n",
    "\n",
    "        # Measurement Parameters\n",
    "        self.max_current = tk.DoubleVar(value=0.5)\n",
    "        self.ao_channel = tk.StringVar(value=\"Dev1/ao0\")\n",
    "        self.ai_channel = tk.StringVar(value=\"Dev1/ai1\")\n",
    "        self.area = tk.DoubleVar(value=1.0)\n",
    "        self.length = tk.DoubleVar(value=1.0)\n",
    "\n",
    "        self.setup_ui()\n",
    "\n",
    "    def setup_ui(self):\n",
    "        tk.Label(root, text=\"Max Current (A):\").grid(row=0, column=0)\n",
    "        tk.Entry(root, textvariable=self.max_current).grid(row=0, column=1)\n",
    "\n",
    "        tk.Label(root, text=\"AO Channel:\").grid(row=1, column=0)\n",
    "        tk.Entry(root, textvariable=self.ao_channel).grid(row=1, column=1)\n",
    "\n",
    "        tk.Label(root, text=\"AI Channel:\").grid(row=2, column=0)\n",
    "        tk.Entry(root, textvariable=self.ai_channel).grid(row=2, column=1)\n",
    "\n",
    "        tk.Label(root, text=\"Area (m^2):\").grid(row=3, column=0)\n",
    "        tk.Entry(root, textvariable=self.area).grid(row=3, column=1)\n",
    "\n",
    "        tk.Label(root, text=\"Length (m):\").grid(row=4, column=0)\n",
    "        tk.Entry(root, textvariable=self.length).grid(row=4, column=1)\n",
    "\n",
    "        tk.Button(root, text=\"Start\", command=self.start_measurement).grid(row=5, column=0)\n",
    "        tk.Button(root, text=\"Stop\", command=self.stop_measurement).grid(row=5, column=1)\n",
    "\n",
    "        self.status_label = tk.Label(root, text=\"Status: Idle\")\n",
    "        self.status_label.grid(row=6, column=0, columnspan=2)\n",
    "\n",
    "        self.resistivity_label = tk.Label(root, text=\"Resistivity: Not calculated yet\")\n",
    "        self.resistivity_label.grid(row=7, column=0, columnspan=2)\n",
    "\n",
    "    def start_measurement(self):\n",
    "        if not self.measurement_running:\n",
    "            self.measurement_running = True\n",
    "            self.status_label.config(text=\"Status: Running\")\n",
    "            measurement_thread = threading.Thread(target=self.perform_measurement)\n",
    "            measurement_thread.start()\n",
    "\n",
    "    def stop_measurement(self):\n",
    "        self.measurement_running = False\n",
    "        self.status_label.config(text=\"Status: Stopped\")\n",
    "\n",
    "    def perform_measurement(self):\n",
    "        with nidaqmx.Task() as write_task, nidaqmx.Task() as read_task, open(\"measurement_log.csv\", 'w', \n",
    "                                                                             newline='') as file:\n",
    "            writer = csv.writer(file)\n",
    "            writer.writerow(['Current (A)', 'Voltage (V)', 'Resistance (Ohms)', 'Resistivity (Ohm*m)'])\n",
    "\n",
    "            write_task.ao_channels.add_ao_voltage_chan(self.ao_channel.get())\n",
    "            read_task.ai_channels.add_ai_voltage_chan(self.ai_channel.get())\n",
    "\n",
    "            current = 0\n",
    "            step_size = 0.01  # Increment current by 10 mA\n",
    "            while current <= self.max_current.get() and self.measurement_running:\n",
    "                scaled_voltage = current / 5  # 1V = 5A\n",
    "                write_task.write(scaled_voltage)\n",
    "                \n",
    "                read_voltage = read_task.read() * 5  # Scale back the voltage\n",
    "                resistance = read_voltage / current if current != 0 else float('inf')\n",
    "                resistivity = resistance * (self.area.get() / self.length.get())\n",
    "\n",
    "                writer.writerow([current, read_voltage, resistance, resistivity])\n",
    "                self.resistivity_label.config(text=f\"Resistivity: {resistivity} Ohm*m\")\n",
    "                current += step_size\n",
    "\n",
    "            self.stop_measurement()\n",
    "\n",
    "root = tk.Tk()\n",
    "app = MeasurementApp(root)\n",
    "root.mainloop()\n"
   ]
  }
 ],
 "metadata": {
  "kernelspec": {
   "display_name": "Python 3 (ipykernel)",
   "language": "python",
   "name": "python3"
  },
  "language_info": {
   "codemirror_mode": {
    "name": "ipython",
    "version": 3
   },
   "file_extension": ".py",
   "mimetype": "text/x-python",
   "name": "python",
   "nbconvert_exporter": "python",
   "pygments_lexer": "ipython3",
   "version": "3.9.13"
  }
 },
 "nbformat": 4,
 "nbformat_minor": 5
}
