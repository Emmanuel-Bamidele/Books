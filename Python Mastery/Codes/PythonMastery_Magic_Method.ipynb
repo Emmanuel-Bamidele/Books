{
 "cells": [
  {
   "cell_type": "markdown",
   "id": "b905ea7b",
   "metadata": {},
   "source": [
    "## Python Magic Method"
   ]
  },
  {
   "cell_type": "markdown",
   "id": "0a9fe0f9",
   "metadata": {},
   "source": [
    "#### Basic Usage"
   ]
  },
  {
   "cell_type": "code",
   "execution_count": 19,
   "id": "ddd8553b",
   "metadata": {
    "scrolled": true
   },
   "outputs": [
    {
     "name": "stdout",
     "output_type": "stream",
     "text": [
      "3 + 4i\n",
      "2 + 3i\n"
     ]
    }
   ],
   "source": [
    "class ComplexNumber:\n",
    "    def __init__(self, real, imag):\n",
    "        self.real = real\n",
    "        self.imag = imag\n",
    "\n",
    "    def __str__(self):\n",
    "        return f\"{self.real} + {self.imag}i\"\n",
    "\n",
    "    def __add__(self, other):\n",
    "        return ComplexNumber(self.real + other.real, self.imag + other.imag)\n",
    "\n",
    "num1 = ComplexNumber(2, 3)\n",
    "num2 = ComplexNumber(1, 1)\n",
    "\n",
    "print(num1 + num2)  # Utilizes __add__\n",
    "print(num1)         # Utilizes __str__\n"
   ]
  },
  {
   "cell_type": "markdown",
   "id": "160d7deb",
   "metadata": {},
   "source": [
    "#### Advanced Magic Methods"
   ]
  },
  {
   "cell_type": "code",
   "execution_count": 20,
   "id": "f01a63a6",
   "metadata": {
    "scrolled": true
   },
   "outputs": [
    {
     "name": "stdout",
     "output_type": "stream",
     "text": [
      "1\n",
      "[10, 2, 3]\n"
     ]
    }
   ],
   "source": [
    "class CustomList:\n",
    "    def __init__(self, elements):\n",
    "        self._elements = elements\n",
    "\n",
    "    def __getitem__(self, index):\n",
    "        return self._elements[index]\n",
    "\n",
    "    def __setitem__(self, index, value):\n",
    "        self._elements[index] = value\n",
    "\n",
    "    def __str__(self):\n",
    "        return str(self._elements)\n",
    "\n",
    "my_list = CustomList([1, 2, 3])\n",
    "print(my_list[0])  # Utilizes __getitem__\n",
    "\n",
    "my_list[0] = 10    # Utilizes __setitem__\n",
    "print(my_list)     # Utilizes __str__\n"
   ]
  },
  {
   "cell_type": "markdown",
   "id": "68503de8",
   "metadata": {},
   "source": [
    "### Use Case Code"
   ]
  },
  {
   "cell_type": "code",
   "execution_count": 22,
   "id": "9a47ed6e",
   "metadata": {},
   "outputs": [
    {
     "name": "stdout",
     "output_type": "stream",
     "text": [
      "Difference: (2, 2)\n"
     ]
    }
   ],
   "source": [
    "class Point:\n",
    "    def __init__(self, x, y):\n",
    "        self.x = x\n",
    "        self.y = y\n",
    "\n",
    "    def __sub__(self, other):\n",
    "        return Point(self.x - other.x, self.y - other.y)\n",
    "\n",
    "point1 = Point(3, 4)\n",
    "point2 = Point(1, 2)\n",
    "difference = point1 - point2  # Utilizes __sub__\n",
    "\n",
    "print(f\"Difference: ({difference.x}, {difference.y})\")\n"
   ]
  }
 ],
 "metadata": {
  "kernelspec": {
   "display_name": "Python 3 (ipykernel)",
   "language": "python",
   "name": "python3"
  },
  "language_info": {
   "codemirror_mode": {
    "name": "ipython",
    "version": 3
   },
   "file_extension": ".py",
   "mimetype": "text/x-python",
   "name": "python",
   "nbconvert_exporter": "python",
   "pygments_lexer": "ipython3",
   "version": "3.9.13"
  }
 },
 "nbformat": 4,
 "nbformat_minor": 5
}
