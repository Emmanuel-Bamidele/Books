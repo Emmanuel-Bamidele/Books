{
 "cells": [
  {
   "cell_type": "markdown",
   "id": "b905ea7b",
   "metadata": {},
   "source": [
    "## Python Collection Function"
   ]
  },
  {
   "cell_type": "markdown",
   "id": "0a9fe0f9",
   "metadata": {},
   "source": [
    "#### Basic Usage"
   ]
  },
  {
   "cell_type": "code",
   "execution_count": 12,
   "id": "ddd8553b",
   "metadata": {
    "scrolled": true
   },
   "outputs": [
    {
     "name": "stdout",
     "output_type": "stream",
     "text": [
      "Counter({'apple': 3, 'banana': 2, 'orange': 1})\n"
     ]
    }
   ],
   "source": [
    "from collections import Counter\n",
    "\n",
    "words = ['apple', 'banana', 'apple', 'orange', 'banana', 'apple']\n",
    "word_count = Counter(words)\n",
    "\n",
    "print(word_count)\n"
   ]
  },
  {
   "cell_type": "markdown",
   "id": "160d7deb",
   "metadata": {},
   "source": [
    "#### namedtuple example"
   ]
  },
  {
   "cell_type": "code",
   "execution_count": 13,
   "id": "f01a63a6",
   "metadata": {
    "scrolled": true
   },
   "outputs": [
    {
     "name": "stdout",
     "output_type": "stream",
     "text": [
      "11 22\n"
     ]
    }
   ],
   "source": [
    "from collections import namedtuple\n",
    "\n",
    "Point = namedtuple('Point', ['x', 'y'])\n",
    "p = Point(11, y=22)\n",
    "\n",
    "print(p.x, p.y)\n"
   ]
  },
  {
   "cell_type": "markdown",
   "id": "98f3e1fd",
   "metadata": {},
   "source": [
    "#### Combining Collections"
   ]
  },
  {
   "cell_type": "code",
   "execution_count": 14,
   "id": "3239541c",
   "metadata": {
    "scrolled": true
   },
   "outputs": [
    {
     "name": "stdout",
     "output_type": "stream",
     "text": [
      "defaultdict(<class 'list'>, {5: ['apple', 'apple', 'grape'], 6: ['banana', 'orange']})\n"
     ]
    }
   ],
   "source": [
    "from collections import defaultdict\n",
    "\n",
    "words = ['apple', 'banana', 'orange', 'apple', 'grape']\n",
    "word_groups = defaultdict(list)\n",
    "\n",
    "for word in words:\n",
    "    key = len(word)\n",
    "    word_groups[key].append(word)\n",
    "\n",
    "print(word_groups)\n"
   ]
  },
  {
   "cell_type": "markdown",
   "id": "7b8089d2",
   "metadata": {},
   "source": [
    "### Use Case Code"
   ]
  },
  {
   "cell_type": "code",
   "execution_count": 15,
   "id": "d40c1f8a",
   "metadata": {},
   "outputs": [
    {
     "name": "stdout",
     "output_type": "stream",
     "text": [
      "Counter({'success': 3, 'failure': 2, 'pending': 1})\n"
     ]
    }
   ],
   "source": [
    "from collections import Counter\n",
    "\n",
    "# Imagine this data is pulled from a database or a file\n",
    "data = ['success', 'failure', 'success', 'pending', 'failure', 'success']\n",
    "\n",
    "analysis = Counter(data)\n",
    "\n",
    "print(analysis)\n"
   ]
  },
  {
   "cell_type": "code",
   "execution_count": null,
   "id": "5b561c4f",
   "metadata": {},
   "outputs": [],
   "source": []
  }
 ],
 "metadata": {
  "kernelspec": {
   "display_name": "Python 3 (ipykernel)",
   "language": "python",
   "name": "python3"
  },
  "language_info": {
   "codemirror_mode": {
    "name": "ipython",
    "version": 3
   },
   "file_extension": ".py",
   "mimetype": "text/x-python",
   "name": "python",
   "nbconvert_exporter": "python",
   "pygments_lexer": "ipython3",
   "version": "3.9.13"
  }
 },
 "nbformat": 4,
 "nbformat_minor": 5
}
