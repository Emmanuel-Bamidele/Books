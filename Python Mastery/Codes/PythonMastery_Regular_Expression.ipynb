{
 "cells": [
  {
   "cell_type": "markdown",
   "id": "b905ea7b",
   "metadata": {},
   "source": [
    "## Python Regular Expression"
   ]
  },
  {
   "cell_type": "markdown",
   "id": "0a9fe0f9",
   "metadata": {},
   "source": [
    "#### Basic Usage "
   ]
  },
  {
   "cell_type": "code",
   "execution_count": 32,
   "id": "ddd8553b",
   "metadata": {
    "scrolled": true
   },
   "outputs": [
    {
     "name": "stdout",
     "output_type": "stream",
     "text": [
      "Pattern found\n"
     ]
    }
   ],
   "source": [
    "import re\n",
    "\n",
    "text = \"Python is fun\"\n",
    "pattern = \"Python\"\n",
    "\n",
    "match = re.search(pattern, text)\n",
    "\n",
    "if match:\n",
    "    print(\"Pattern found\")\n",
    "else:\n",
    "    print(\"Pattern not found\")\n"
   ]
  },
  {
   "cell_type": "markdown",
   "id": "160d7deb",
   "metadata": {},
   "source": [
    "#### Extracting Email Addresses"
   ]
  },
  {
   "cell_type": "code",
   "execution_count": 33,
   "id": "f01a63a6",
   "metadata": {
    "scrolled": true
   },
   "outputs": [
    {
     "name": "stdout",
     "output_type": "stream",
     "text": [
      "['info@example.com', 'sales@example.net']\n"
     ]
    }
   ],
   "source": [
    "emails = \"contact us at: info@example.com, sales@example.net\"\n",
    "pattern = r'[\\w\\.-]+@[\\w\\.-]+'\n",
    "\n",
    "print(re.findall(pattern, emails))  # Output: ['info@example.com', 'sales@example.net']\n"
   ]
  },
  {
   "cell_type": "markdown",
   "id": "bc6f973b",
   "metadata": {},
   "source": [
    "#### Groups "
   ]
  },
  {
   "cell_type": "code",
   "execution_count": 34,
   "id": "0a90ffdf",
   "metadata": {},
   "outputs": [
    {
     "name": "stdout",
     "output_type": "stream",
     "text": [
      "Name: John, Age: 24\n"
     ]
    }
   ],
   "source": [
    "text = \"John, 24\"\n",
    "pattern = r'(\\w+), (\\d+)'\n",
    "\n",
    "match = re.search(pattern, text)\n",
    "if match:\n",
    "    name, age = match.groups()\n",
    "    print(f\"Name: {name}, Age: {age}\")  # Output: Name: John, Age: 24\n"
   ]
  },
  {
   "cell_type": "markdown",
   "id": "c2236ed7",
   "metadata": {},
   "source": [
    "#### Named Groups \n",
    "For more complex patterns, you can use named groups for better readability:"
   ]
  },
  {
   "cell_type": "code",
   "execution_count": 36,
   "id": "ef43a4ca",
   "metadata": {},
   "outputs": [
    {
     "name": "stdout",
     "output_type": "stream",
     "text": [
      "Name: John, Age: 24\n"
     ]
    }
   ],
   "source": [
    "pattern = r'(?P<name>\\w+), (?P<age>\\d+)'\n",
    "\n",
    "match = re.search(pattern, text)\n",
    "if match:\n",
    "    print(f\"Name: {match.group('name')}, Age: {match.group('age')}\")\n"
   ]
  },
  {
   "cell_type": "markdown",
   "id": "af59fb24",
   "metadata": {},
   "source": [
    "#### Use Case: Email Validation"
   ]
  },
  {
   "cell_type": "code",
   "execution_count": 39,
   "id": "2f84a6bc",
   "metadata": {},
   "outputs": [
    {
     "name": "stdout",
     "output_type": "stream",
     "text": [
      "True\n",
      "False\n"
     ]
    }
   ],
   "source": [
    "def validate_email(email):\n",
    "    pattern = r'[\\w\\.-]+@[\\w\\.-]+'\n",
    "    return re.match(pattern, email) is not None\n",
    "\n",
    "print(validate_email(\"test@example.com\"))  # Output: True\n",
    "print(validate_email(\"test.com\"))          # Output: False\n"
   ]
  }
 ],
 "metadata": {
  "kernelspec": {
   "display_name": "Python 3 (ipykernel)",
   "language": "python",
   "name": "python3"
  },
  "language_info": {
   "codemirror_mode": {
    "name": "ipython",
    "version": 3
   },
   "file_extension": ".py",
   "mimetype": "text/x-python",
   "name": "python",
   "nbconvert_exporter": "python",
   "pygments_lexer": "ipython3",
   "version": "3.9.13"
  }
 },
 "nbformat": 4,
 "nbformat_minor": 5
}
