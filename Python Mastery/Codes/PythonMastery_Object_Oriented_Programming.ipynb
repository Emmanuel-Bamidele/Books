{
 "cells": [
  {
   "cell_type": "markdown",
   "id": "b905ea7b",
   "metadata": {},
   "source": [
    "## Python Object Oriented Programming (OOP)"
   ]
  },
  {
   "cell_type": "markdown",
   "id": "0a9fe0f9",
   "metadata": {},
   "source": [
    "#### Basic Usage"
   ]
  },
  {
   "cell_type": "code",
   "execution_count": 23,
   "id": "ddd8553b",
   "metadata": {
    "scrolled": true
   },
   "outputs": [
    {
     "name": "stdout",
     "output_type": "stream",
     "text": [
      "Buddy barks!\n"
     ]
    }
   ],
   "source": [
    "class Dog:\n",
    "    def __init__(self, name, age):\n",
    "        self.name = name\n",
    "        self.age = age\n",
    "\n",
    "    def bark(self):\n",
    "        return f\"{self.name} barks!\"\n",
    "\n",
    "# Creating an object of class Dog\n",
    "my_dog = Dog(\"Buddy\", 3)\n",
    "print(my_dog.bark())  # Outputs: Buddy barks!\n"
   ]
  },
  {
   "cell_type": "markdown",
   "id": "160d7deb",
   "metadata": {},
   "source": [
    "#### Inheritance"
   ]
  },
  {
   "cell_type": "code",
   "execution_count": 24,
   "id": "f01a63a6",
   "metadata": {
    "scrolled": true
   },
   "outputs": [
    {
     "name": "stdout",
     "output_type": "stream",
     "text": [
      "Buddy says Woof!\n",
      "Whiskers says Meow!\n"
     ]
    }
   ],
   "source": [
    "class Animal:\n",
    "    def __init__(self, name):\n",
    "        self.name = name\n",
    "\n",
    "    def speak(self):\n",
    "        raise NotImplementedError(\"Subclass must implement this method\")\n",
    "\n",
    "class Cat(Animal):\n",
    "    def speak(self):\n",
    "        return f\"{self.name} says Meow!\"\n",
    "\n",
    "class Dog(Animal):\n",
    "    def speak(self):\n",
    "        return f\"{self.name} says Woof!\"\n",
    "\n",
    "dog = Dog(\"Buddy\")\n",
    "cat = Cat(\"Whiskers\")\n",
    "\n",
    "print(dog.speak())  # Outputs: Buddy says Woof!\n",
    "print(cat.speak())  # Outputs: Whiskers says Meow!\n"
   ]
  },
  {
   "cell_type": "markdown",
   "id": "396540a5",
   "metadata": {},
   "source": [
    "#### Encapsulation"
   ]
  },
  {
   "cell_type": "code",
   "execution_count": 25,
   "id": "3b8f6b85",
   "metadata": {},
   "outputs": [
    {
     "name": "stdout",
     "output_type": "stream",
     "text": [
      "Selling Price: 900\n",
      "Selling Price: 900\n",
      "Selling Price: 1000\n"
     ]
    }
   ],
   "source": [
    "class Computer:\n",
    "    def __init__(self):\n",
    "        self.__max_price = 900  # Private attribute\n",
    "\n",
    "    def sell(self):\n",
    "        return f\"Selling Price: {self.__max_price}\"\n",
    "\n",
    "    def set_max_price(self, price):\n",
    "        self.__max_price = price\n",
    "\n",
    "c = Computer()\n",
    "print(c.sell())       # Selling Price: 900\n",
    "\n",
    "c.__max_price = 1000  # Attempt to directly modify the attribute\n",
    "print(c.sell())       # Still outputs: Selling Price: 900\n",
    "\n",
    "c.set_max_price(1000) # Using setter method\n",
    "print(c.sell())       # Now outputs: Selling Price: 1000\n"
   ]
  },
  {
   "cell_type": "markdown",
   "id": "644a8bc4",
   "metadata": {},
   "source": [
    "#### Polymorphism"
   ]
  },
  {
   "cell_type": "code",
   "execution_count": 26,
   "id": "300a8ed3",
   "metadata": {},
   "outputs": [
    {
     "name": "stdout",
     "output_type": "stream",
     "text": [
      "Buddy says Woof!\n",
      "Whiskers says Meow!\n"
     ]
    }
   ],
   "source": [
    "for animal in [Dog(\"Buddy\"), Cat(\"Whiskers\")]:\n",
    "    print(animal.speak())  # Outputs Woof and Meow respectively\n"
   ]
  },
  {
   "cell_type": "markdown",
   "id": "1a0b725e",
   "metadata": {},
   "source": [
    "#### Class and Static Methods"
   ]
  },
  {
   "cell_type": "code",
   "execution_count": 27,
   "id": "d6c2d666",
   "metadata": {},
   "outputs": [
    {
     "name": "stdout",
     "output_type": "stream",
     "text": [
      "0\n",
      "1\n",
      "This is a static method\n"
     ]
    }
   ],
   "source": [
    "class MyClass:\n",
    "    counter = 0\n",
    "\n",
    "    def __init__(self):\n",
    "        MyClass.counter += 1\n",
    "\n",
    "    @classmethod\n",
    "    def instances_created(cls):\n",
    "        return cls.counter\n",
    "\n",
    "    @staticmethod\n",
    "    def static_method():\n",
    "        print(\"This is a static method\")\n",
    "\n",
    "print(MyClass.instances_created())  # 0\n",
    "my_obj = MyClass()\n",
    "print(MyClass.instances_created())  # 1\n",
    "MyClass.static_method()             # This is a static method\n"
   ]
  },
  {
   "cell_type": "markdown",
   "id": "e640910e",
   "metadata": {},
   "source": [
    "#### Abstract Classes"
   ]
  },
  {
   "cell_type": "code",
   "execution_count": 28,
   "id": "3e9cc76a",
   "metadata": {},
   "outputs": [
    {
     "name": "stdout",
     "output_type": "stream",
     "text": [
      "Roar\n"
     ]
    }
   ],
   "source": [
    "from abc import ABC, abstractmethod\n",
    "\n",
    "class AbstractAnimal(ABC):\n",
    "    @abstractmethod\n",
    "    def speak(self):\n",
    "        pass\n",
    "\n",
    "class Lion(AbstractAnimal):\n",
    "    def speak(self):\n",
    "        return \"Roar\"\n",
    "\n",
    "# animal = AbstractAnimal() # This will raise an error\n",
    "lion = Lion()\n",
    "print(lion.speak())  # Outputs: Roar\n"
   ]
  },
  {
   "cell_type": "markdown",
   "id": "c893764c",
   "metadata": {},
   "source": [
    "### Use Case Code"
   ]
  },
  {
   "cell_type": "code",
   "execution_count": null,
   "id": "c8a6061c",
   "metadata": {},
   "outputs": [],
   "source": [
    "class Post:\n",
    "    def __init__(self, title, content):\n",
    "        self.title = title\n",
    "        self.content = content\n",
    "\n",
    "class User:\n",
    "    def __init__(self\n"
   ]
  }
 ],
 "metadata": {
  "kernelspec": {
   "display_name": "Python 3 (ipykernel)",
   "language": "python",
   "name": "python3"
  },
  "language_info": {
   "codemirror_mode": {
    "name": "ipython",
    "version": 3
   },
   "file_extension": ".py",
   "mimetype": "text/x-python",
   "name": "python",
   "nbconvert_exporter": "python",
   "pygments_lexer": "ipython3",
   "version": "3.9.13"
  }
 },
 "nbformat": 4,
 "nbformat_minor": 5
}
