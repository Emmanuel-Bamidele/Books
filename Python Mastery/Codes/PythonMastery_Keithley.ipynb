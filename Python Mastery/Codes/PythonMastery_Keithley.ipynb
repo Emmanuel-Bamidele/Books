{
 "cells": [
  {
   "cell_type": "markdown",
   "id": "b905ea7b",
   "metadata": {},
   "source": [
    "## Python Keithley - GPIB Connection"
   ]
  },
  {
   "cell_type": "markdown",
   "id": "0a9fe0f9",
   "metadata": {},
   "source": [
    "#### Basic Communication"
   ]
  },
  {
   "cell_type": "code",
   "execution_count": null,
   "id": "ddd8553b",
   "metadata": {
    "scrolled": true
   },
   "outputs": [],
   "source": [
    "import pyvisa\n",
    "\n",
    "rm = pyvisa.ResourceManager()\n",
    "instrument = rm.open_resource('GPIB::24')  # Replace with your instrument's address\n",
    "\n",
    "# Query the instrument's identity\n",
    "print(instrument.query('*IDN?'))\n"
   ]
  },
  {
   "cell_type": "markdown",
   "id": "4d067db8",
   "metadata": {},
   "source": [
    "#### Voltage Measurement"
   ]
  },
  {
   "cell_type": "code",
   "execution_count": null,
   "id": "d67d0dea",
   "metadata": {},
   "outputs": [],
   "source": [
    "import pyvisa\n",
    "\n",
    "# Setup connection\n",
    "rm = pyvisa.ResourceManager()\n",
    "dmm = rm.open_resource('GPIB::24')  # Replace with your instrument's address\n",
    "\n",
    "# Configure the device to measure voltage\n",
    "dmm.write('CONF:VOLT:DC AUTO')\n",
    "\n",
    "# Read the voltage\n",
    "voltage = dmm.query('READ?')\n",
    "print(f\"Measured Voltage: {voltage} V\")\n"
   ]
  },
  {
   "cell_type": "markdown",
   "id": "2dcdfb35",
   "metadata": {},
   "source": [
    "#### Mini Project Sourcing Current for a 4-point measurement"
   ]
  },
  {
   "cell_type": "code",
   "execution_count": null,
   "id": "1b077928",
   "metadata": {},
   "outputs": [],
   "source": [
    "import pyvisa\n",
    "\n",
    "# Setup connection\n",
    "rm = pyvisa.ResourceManager()\n",
    "source_meter = rm.open_resource('GPIB::24')  # Replace with your instrument's address\n",
    "\n",
    "# Set up the source to output a specific current\n",
    "source_meter.write('SOUR:FUNC CURR')\n",
    "source_meter.write('SOUR:CURR 0.01')  # 10 mA\n",
    "source_meter.write('OUTP ON')\n",
    "\n",
    "# Configure the device to measure resistance\n",
    "source_meter.write('SENS:FUNC \"RES\"')\n",
    "source_meter.write('SENS:RES:MODE MAN')  # Manual mode\n",
    "source_meter.write('SENS:RES:RANG 100')  # Resistance range to 100 Ohm\n",
    "\n",
    "# Perform the measurement\n",
    "resistance = source_meter.query('READ?')\n",
    "print(f\"Measured Resistance: {resistance} Ohms\")\n",
    "\n",
    "# Turn off the output after the measurement\n",
    "source_meter.write('OUTP OFF')\n"
   ]
  },
  {
   "cell_type": "markdown",
   "id": "5b391f4a",
   "metadata": {},
   "source": [
    "## Keithley with USB"
   ]
  },
  {
   "cell_type": "markdown",
   "id": "906e5318",
   "metadata": {},
   "source": [
    "### Identifying the Instrument"
   ]
  },
  {
   "cell_type": "code",
   "execution_count": null,
   "id": "845b295d",
   "metadata": {},
   "outputs": [],
   "source": [
    "import pyvisa\n",
    "\n",
    "rm = pyvisa.ResourceManager()\n",
    "resources = rm.list_resources()\n",
    "\n",
    "for resource in resources:\n",
    "    if 'USB' in resource:\n",
    "        print(resource)\n"
   ]
  },
  {
   "cell_type": "markdown",
   "id": "347632cf",
   "metadata": {},
   "source": [
    "### Configuration and Measurement"
   ]
  },
  {
   "cell_type": "code",
   "execution_count": null,
   "id": "2cc324a7",
   "metadata": {},
   "outputs": [],
   "source": [
    "import pyvisa\n",
    "\n",
    "# Setup connection\n",
    "rm = pyvisa.ResourceManager()\n",
    "instrument = rm.open_resource('USB0::0x05E6::0x2450::01234567::INSTR')  \n",
    "# Replace the above with your instrument's USB resource string\n",
    "\n",
    "# Configure the device to measure voltage\n",
    "instrument.write('CONF:VOLT:DC AUTO')\n",
    "\n",
    "# Read the voltage\n",
    "voltage = instrument.query('READ?')\n",
    "print(f\"Measured Voltage: {voltage} V\")\n"
   ]
  }
 ],
 "metadata": {
  "kernelspec": {
   "display_name": "Python 3 (ipykernel)",
   "language": "python",
   "name": "python3"
  },
  "language_info": {
   "codemirror_mode": {
    "name": "ipython",
    "version": 3
   },
   "file_extension": ".py",
   "mimetype": "text/x-python",
   "name": "python",
   "nbconvert_exporter": "python",
   "pygments_lexer": "ipython3",
   "version": "3.9.13"
  }
 },
 "nbformat": 4,
 "nbformat_minor": 5
}
