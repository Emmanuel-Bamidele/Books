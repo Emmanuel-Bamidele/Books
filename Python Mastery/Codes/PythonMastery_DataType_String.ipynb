{
 "cells": [
  {
   "cell_type": "markdown",
   "id": "023f47af",
   "metadata": {},
   "source": [
    "### Data Type"
   ]
  },
  {
   "cell_type": "markdown",
   "id": "f3cffb17",
   "metadata": {},
   "source": [
    "### String"
   ]
  },
  {
   "cell_type": "code",
   "execution_count": 1,
   "id": "0b68efdc",
   "metadata": {
    "scrolled": true
   },
   "outputs": [
    {
     "name": "stdout",
     "output_type": "stream",
     "text": [
      "M\n",
      "y\n"
     ]
    }
   ],
   "source": [
    "a = \"My String\"\n",
    "print(a[0])\n",
    "print(a[1])"
   ]
  },
  {
   "cell_type": "markdown",
   "id": "6ee61bbc",
   "metadata": {},
   "source": [
    "#### String Methods"
   ]
  },
  {
   "cell_type": "code",
   "execution_count": 2,
   "id": "6325da09",
   "metadata": {},
   "outputs": [
    {
     "name": "stdout",
     "output_type": "stream",
     "text": [
      "My string is here\n"
     ]
    }
   ],
   "source": [
    "b = \"my String is here\"\n",
    "print(b.capitalize())"
   ]
  },
  {
   "cell_type": "code",
   "execution_count": 3,
   "id": "98528c40",
   "metadata": {},
   "outputs": [
    {
     "name": "stdout",
     "output_type": "stream",
     "text": [
      "my string is here\n",
      "der fluss\n"
     ]
    }
   ],
   "source": [
    "b1 = \"my String is HEre\"\n",
    "b2 = \"der Fluß\"\n",
    "\n",
    "print(b1.casefold())\n",
    "print(b2.casefold()) #converts ß to ss"
   ]
  },
  {
   "cell_type": "code",
   "execution_count": 4,
   "id": "90ef57e2",
   "metadata": {
    "scrolled": true
   },
   "outputs": [
    {
     "name": "stdout",
     "output_type": "stream",
     "text": [
      "New string:     let's pad this   \n",
      "New string:  +++let's pad that+++\n"
     ]
    }
   ],
   "source": [
    "b3 = \"let's pad this\"\n",
    "b4 = \"let's pad that\"\n",
    "\n",
    "b3_centered = b3.center(20)\n",
    "b3_centered2 = b4.center(20,'+')\n",
    "print(\"New string: \", b3_centered)\n",
    "print(\"New string: \", b3_centered2)"
   ]
  },
  {
   "cell_type": "code",
   "execution_count": 5,
   "id": "b9fa1861",
   "metadata": {},
   "outputs": [
    {
     "name": "stdout",
     "output_type": "stream",
     "text": [
      "# String:  2\n"
     ]
    }
   ],
   "source": [
    "b5 = \"We will return this string, and see how many string\"\n",
    "print(\"# String: \", b5.count(\"string\"))"
   ]
  },
  {
   "cell_type": "code",
   "execution_count": 6,
   "id": "129298d2",
   "metadata": {},
   "outputs": [
    {
     "name": "stdout",
     "output_type": "stream",
     "text": [
      "b'I am \\xc3\\x85lex'\n",
      "b'I am lex'\n"
     ]
    }
   ],
   "source": [
    "b6 = \"I am Ålex\"\n",
    "print(b6.encode()) #uses default UTF-8\n",
    "print(b6.encode(encoding=\"ascii\", errors=\"ignore\"))"
   ]
  },
  {
   "cell_type": "code",
   "execution_count": 7,
   "id": "083bb43f",
   "metadata": {},
   "outputs": [
    {
     "name": "stdout",
     "output_type": "stream",
     "text": [
      "True\n"
     ]
    }
   ],
   "source": [
    "b7 = \"myfiles.csv\"\n",
    "print(b7.endswith(\".csv\"))"
   ]
  },
  {
   "cell_type": "code",
   "execution_count": 8,
   "id": "8b2a7e94",
   "metadata": {},
   "outputs": [
    {
     "name": "stdout",
     "output_type": "stream",
     "text": [
      "H e l l o\n",
      "H   e   l   l   o\n"
     ]
    }
   ],
   "source": [
    "b8 = \"H\\te\\tl\\tl\\to\"\n",
    "b9 = \"H\\te\\tl\\tl\\to\"\n",
    "print(b8.expandtabs(2))\n",
    "print(b9.expandtabs(4))"
   ]
  },
  {
   "cell_type": "code",
   "execution_count": 9,
   "id": "207160ad",
   "metadata": {},
   "outputs": [
    {
     "name": "stdout",
     "output_type": "stream",
     "text": [
      "9\n"
     ]
    }
   ],
   "source": [
    "b10 = \"Look for me\"\n",
    "print(b10.find(\"me\"))"
   ]
  },
  {
   "cell_type": "code",
   "execution_count": 10,
   "id": "bd0ad7e5",
   "metadata": {},
   "outputs": [
    {
     "name": "stdout",
     "output_type": "stream",
     "text": [
      "The new Apple watch is worth $ 249.99\n",
      "The new Apple watch is worth $ 250.00\n"
     ]
    }
   ],
   "source": [
    "b11 = \"The new Apple watch is worth $ {price:.2f}\"\n",
    "print(b11.format(price = 249.99))\n",
    "print(b11.format(price = 250))"
   ]
  },
  {
   "cell_type": "code",
   "execution_count": 11,
   "id": "f7f66288",
   "metadata": {},
   "outputs": [
    {
     "name": "stdout",
     "output_type": "stream",
     "text": [
      "My name is Emmanuel Bamidele, my age will be 30 in the year 2022\n",
      "My name is Emmanuel Bamidele, my age will be 30 in the year 2022\n",
      "My name is Emmanuel Bamidele, my age will be 30 in the year 2022\n"
     ]
    }
   ],
   "source": [
    "b12 = \"My name is {fname}, my age will be {age} in the year {year}\".format(\n",
    "    fname=\"Emmanuel Bamidele\", age = 30, year = 2022)\n",
    "b13 = \"My name is {0}, my age will be {1} in the year {2}\".format(\n",
    "    \"Emmanuel Bamidele\", 30, 2022)\n",
    "b14 = \"My name is {}, my age will be {} in the year {}\".format(\n",
    "    \"Emmanuel Bamidele\", 30, 2022)\n",
    "\n",
    "print(b12)\n",
    "print(b13)\n",
    "print(b14)"
   ]
  },
  {
   "cell_type": "code",
   "execution_count": 12,
   "id": "8c167a26",
   "metadata": {},
   "outputs": [
    {
     "name": "stdout",
     "output_type": "stream",
     "text": [
      "Emmanuel , Bamidele , 29\n"
     ]
    }
   ],
   "source": [
    "b15 = {'name': 'Emmanuel ', 'lname': 'Bamidele ', 'age': 29}\n",
    "print('{name}, {lname}, {age}'.format_map(b15))"
   ]
  },
  {
   "cell_type": "code",
   "execution_count": 13,
   "id": "730463e2",
   "metadata": {},
   "outputs": [
    {
     "name": "stdout",
     "output_type": "stream",
     "text": [
      "9\n"
     ]
    }
   ],
   "source": [
    "b16 = \"Look for me\"\n",
    "print(b16.index(\"me\"))"
   ]
  },
  {
   "cell_type": "code",
   "execution_count": 14,
   "id": "d10233d9",
   "metadata": {},
   "outputs": [
    {
     "name": "stdout",
     "output_type": "stream",
     "text": [
      "True\n"
     ]
    }
   ],
   "source": [
    "b17 = \"Thisis51\"\n",
    "print(b17.isalnum())"
   ]
  },
  {
   "cell_type": "code",
   "execution_count": 15,
   "id": "4e1746ed",
   "metadata": {},
   "outputs": [
    {
     "name": "stdout",
     "output_type": "stream",
     "text": [
      "True\n"
     ]
    }
   ],
   "source": [
    "b18 = \"Thisisalphabet\"\n",
    "print(b18.isalpha())"
   ]
  },
  {
   "cell_type": "code",
   "execution_count": 16,
   "id": "cf832e9c",
   "metadata": {},
   "outputs": [
    {
     "name": "stdout",
     "output_type": "stream",
     "text": [
      "True\n"
     ]
    }
   ],
   "source": [
    "b19 = \"#$*%#@\"\n",
    "print(b19.isascii())"
   ]
  },
  {
   "cell_type": "code",
   "execution_count": 17,
   "id": "f17d020e",
   "metadata": {},
   "outputs": [
    {
     "name": "stdout",
     "output_type": "stream",
     "text": [
      "True\n"
     ]
    }
   ],
   "source": [
    "b20 = \"\\u0033\"\n",
    "print(b20.isdecimal())"
   ]
  },
  {
   "cell_type": "code",
   "execution_count": 18,
   "id": "887ac103",
   "metadata": {},
   "outputs": [
    {
     "name": "stdout",
     "output_type": "stream",
     "text": [
      "True\n"
     ]
    }
   ],
   "source": [
    "b21 = \"22\"\n",
    "print(b21.isdigit())"
   ]
  },
  {
   "cell_type": "code",
   "execution_count": 19,
   "id": "980b03bb",
   "metadata": {},
   "outputs": [
    {
     "name": "stdout",
     "output_type": "stream",
     "text": [
      "True\n"
     ]
    }
   ],
   "source": [
    "b22 = \"Demo\"\n",
    "print(b22.isidentifier())"
   ]
  },
  {
   "cell_type": "code",
   "execution_count": 20,
   "id": "2b6c5191",
   "metadata": {},
   "outputs": [
    {
     "name": "stdout",
     "output_type": "stream",
     "text": [
      "True\n"
     ]
    }
   ],
   "source": [
    "b23 = \"smallletters\"\n",
    "print(b23.islower())"
   ]
  },
  {
   "cell_type": "code",
   "execution_count": 21,
   "id": "3eca31c4",
   "metadata": {},
   "outputs": [
    {
     "name": "stdout",
     "output_type": "stream",
     "text": [
      "True\n"
     ]
    }
   ],
   "source": [
    "b24 = \"589367\"\n",
    "print(b24.isnumeric())"
   ]
  },
  {
   "cell_type": "code",
   "execution_count": 22,
   "id": "930dba8c",
   "metadata": {},
   "outputs": [
    {
     "name": "stdout",
     "output_type": "stream",
     "text": [
      "True\n",
      "False\n"
     ]
    }
   ],
   "source": [
    "b25 = \"Hello! World!\"\n",
    "b26 = \"Hello! \\n World!\"\n",
    "print(b25.isprintable())\n",
    "print(b26.isprintable())"
   ]
  },
  {
   "cell_type": "code",
   "execution_count": 23,
   "id": "a973210a",
   "metadata": {},
   "outputs": [
    {
     "name": "stdout",
     "output_type": "stream",
     "text": [
      "True\n"
     ]
    }
   ],
   "source": [
    "b27 = \"   \"\n",
    "print(b27.isspace())"
   ]
  },
  {
   "cell_type": "code",
   "execution_count": 24,
   "id": "d5c6cd87",
   "metadata": {},
   "outputs": [
    {
     "name": "stdout",
     "output_type": "stream",
     "text": [
      "True\n"
     ]
    }
   ],
   "source": [
    "b28 = \"This Obeys Title Rule\"\n",
    "print(b28.istitle())"
   ]
  },
  {
   "cell_type": "code",
   "execution_count": 25,
   "id": "fdc2acbb",
   "metadata": {},
   "outputs": [
    {
     "name": "stdout",
     "output_type": "stream",
     "text": [
      "True\n"
     ]
    }
   ],
   "source": [
    "b29 = \"BIG LETTERS\"\n",
    "print(b29.isupper())"
   ]
  },
  {
   "cell_type": "code",
   "execution_count": 26,
   "id": "4eeffd14",
   "metadata": {},
   "outputs": [
    {
     "name": "stdout",
     "output_type": "stream",
     "text": [
      "Arvind#*Cliff#*Sammie\n"
     ]
    }
   ],
   "source": [
    "b30 = (\"Arvind\", \"Cliff\", \"Sammie\")\n",
    "print('#*'.join(b30))"
   ]
  },
  {
   "cell_type": "code",
   "execution_count": 27,
   "id": "b9c7edf9",
   "metadata": {},
   "outputs": [
    {
     "name": "stdout",
     "output_type": "stream",
     "text": [
      "Emmanuel Bamidele 29\n"
     ]
    }
   ],
   "source": [
    "separator = ' '\n",
    "b31 = {'name': 'Emmanuel', 'lname': 'Bamidele', 'age': '29'}\n",
    "print(separator.join(b31.values()))"
   ]
  },
  {
   "cell_type": "code",
   "execution_count": 28,
   "id": "8f4dd200",
   "metadata": {},
   "outputs": [
    {
     "name": "stdout",
     "output_type": "stream",
     "text": [
      "Emmanuel   is my name\n",
      "Emmanuel             is my name\n"
     ]
    }
   ],
   "source": [
    "b32 = \"Emmanuel\"\n",
    "print(b32.ljust(10), 'is my name')\n",
    "print(b32.ljust(20), 'is my name')"
   ]
  },
  {
   "cell_type": "code",
   "execution_count": 29,
   "id": "83c69c52",
   "metadata": {},
   "outputs": [
    {
     "name": "stdout",
     "output_type": "stream",
     "text": [
      "emmanuel bamidele\n"
     ]
    }
   ],
   "source": [
    "b33 = \"EMMANUEL BAMIDELE\"\n",
    "print(b33.lower())"
   ]
  },
  {
   "cell_type": "code",
   "execution_count": 30,
   "id": "9de0a50f",
   "metadata": {},
   "outputs": [
    {
     "name": "stdout",
     "output_type": "stream",
     "text": [
      "Remove All Spaces Before \n"
     ]
    }
   ],
   "source": [
    "b34 = \"   Remove All Spaces Before \"\n",
    "print(b34.lstrip())"
   ]
  },
  {
   "cell_type": "code",
   "execution_count": 31,
   "id": "88f6bcef",
   "metadata": {
    "scrolled": true
   },
   "outputs": [
    {
     "name": "stdout",
     "output_type": "stream",
     "text": [
      "Hey Leader!\n"
     ]
    }
   ],
   "source": [
    "b35 = \"Hey Reader!\"\n",
    "table = b35.maketrans(\"R\", \"L\")\n",
    "print(b35.translate(table))"
   ]
  },
  {
   "cell_type": "code",
   "execution_count": 32,
   "id": "1d22ba2a",
   "metadata": {},
   "outputs": [
    {
     "name": "stdout",
     "output_type": "stream",
     "text": [
      "('Hey Reader ', 'thanks', ' for reading')\n"
     ]
    }
   ],
   "source": [
    "b36 = \"Hey Reader thanks for reading\"\n",
    "print(b36.partition(\"thanks\"))"
   ]
  },
  {
   "cell_type": "code",
   "execution_count": 33,
   "id": "c4cba4f0",
   "metadata": {},
   "outputs": [
    {
     "name": "stdout",
     "output_type": "stream",
     "text": [
      "Hey you! thanks for leading\n"
     ]
    }
   ],
   "source": [
    "b37 = \"Hey you! thanks for reading\"\n",
    "print(b37.replace(\"reading\", \"leading\"))"
   ]
  },
  {
   "cell_type": "code",
   "execution_count": 34,
   "id": "1091cd71",
   "metadata": {},
   "outputs": [
    {
     "name": "stdout",
     "output_type": "stream",
     "text": [
      "15\n",
      "-1\n"
     ]
    }
   ],
   "source": [
    "b38 = \"Hey you, thank you\"\n",
    "print(b38.rfind(\"you\"))\n",
    "print(b38.rfind(\"me\"))"
   ]
  },
  {
   "cell_type": "code",
   "execution_count": 35,
   "id": "da141b8e",
   "metadata": {},
   "outputs": [
    {
     "name": "stdout",
     "output_type": "stream",
     "text": [
      "15\n"
     ]
    },
    {
     "ename": "ValueError",
     "evalue": "substring not found",
     "output_type": "error",
     "traceback": [
      "\u001b[0;31m---------------------------------------------------------------------------\u001b[0m",
      "\u001b[0;31mValueError\u001b[0m                                Traceback (most recent call last)",
      "\u001b[0;32m/var/folders/sn/f5tw20014xv6btlq0tlfyrnr0000gn/T/ipykernel_11475/143846941.py\u001b[0m in \u001b[0;36m<module>\u001b[0;34m\u001b[0m\n\u001b[1;32m      1\u001b[0m \u001b[0mb39\u001b[0m \u001b[0;34m=\u001b[0m \u001b[0;34m\"Hey you, thank you\"\u001b[0m\u001b[0;34m\u001b[0m\u001b[0;34m\u001b[0m\u001b[0m\n\u001b[1;32m      2\u001b[0m \u001b[0mprint\u001b[0m\u001b[0;34m(\u001b[0m\u001b[0mb39\u001b[0m\u001b[0;34m.\u001b[0m\u001b[0mrindex\u001b[0m\u001b[0;34m(\u001b[0m\u001b[0;34m\"you\"\u001b[0m\u001b[0;34m)\u001b[0m\u001b[0;34m)\u001b[0m\u001b[0;34m\u001b[0m\u001b[0;34m\u001b[0m\u001b[0m\n\u001b[0;32m----> 3\u001b[0;31m \u001b[0mprint\u001b[0m\u001b[0;34m(\u001b[0m\u001b[0mb39\u001b[0m\u001b[0;34m.\u001b[0m\u001b[0mrindex\u001b[0m\u001b[0;34m(\u001b[0m\u001b[0;34m\"me\"\u001b[0m\u001b[0;34m)\u001b[0m\u001b[0;34m)\u001b[0m\u001b[0;34m\u001b[0m\u001b[0;34m\u001b[0m\u001b[0m\n\u001b[0m",
      "\u001b[0;31mValueError\u001b[0m: substring not found"
     ]
    }
   ],
   "source": [
    "b39 = \"Hey you, thank you\"\n",
    "print(b39.rindex(\"you\"))\n",
    "print(b39.rindex(\"me\"))"
   ]
  },
  {
   "cell_type": "code",
   "execution_count": 36,
   "id": "5cff8eb1",
   "metadata": {},
   "outputs": [
    {
     "name": "stdout",
     "output_type": "stream",
     "text": [
      "  Bamidele is my last name\n",
      "------------Bamidele is my last name\n"
     ]
    }
   ],
   "source": [
    "b40 = \"Bamidele\"\n",
    "print(b40.rjust(10), 'is my last name')\n",
    "print(b40.rjust(20, '-'), 'is my last name')"
   ]
  },
  {
   "cell_type": "code",
   "execution_count": 37,
   "id": "833b9dd9",
   "metadata": {},
   "outputs": [
    {
     "name": "stdout",
     "output_type": "stream",
     "text": [
      "('Hey Reader thank you for reading, ', 'thank', ' you!')\n"
     ]
    }
   ],
   "source": [
    "b41 = \"Hey Reader thank you for reading, thank you!\"\n",
    "print(b41.rpartition(\"thank\"))"
   ]
  },
  {
   "cell_type": "code",
   "execution_count": 38,
   "id": "72d5704b",
   "metadata": {},
   "outputs": [
    {
     "name": "stdout",
     "output_type": "stream",
     "text": [
      "['Niyi', ' Abiola', ' Ijaola']\n"
     ]
    }
   ],
   "source": [
    "b42 = \"Niyi, Abiola, Ijaola\"\n",
    "print(b42.rsplit(\",\"))"
   ]
  },
  {
   "cell_type": "code",
   "execution_count": 39,
   "id": "4b3d52d7",
   "metadata": {},
   "outputs": [
    {
     "name": "stdout",
     "output_type": "stream",
     "text": [
      "   Remove All Spaces After\n"
     ]
    }
   ],
   "source": [
    "b43 = \"   Remove All Spaces After    \"\n",
    "print(b43.rstrip())"
   ]
  },
  {
   "cell_type": "code",
   "execution_count": 40,
   "id": "01d38827",
   "metadata": {},
   "outputs": [
    {
     "name": "stdout",
     "output_type": "stream",
     "text": [
      "['Afure', ' Nana', ' Tunde']\n"
     ]
    }
   ],
   "source": [
    "b44 = \"Afure, Nana, Tunde\"\n",
    "print(b44.split(\",\"))"
   ]
  },
  {
   "cell_type": "code",
   "execution_count": 41,
   "id": "b16631eb",
   "metadata": {},
   "outputs": [
    {
     "name": "stdout",
     "output_type": "stream",
     "text": [
      "['Hey you!', 'Welcome home!']\n"
     ]
    }
   ],
   "source": [
    "b45 = \"Hey you!\\nWelcome home!\"\n",
    "print(b45.splitlines())"
   ]
  },
  {
   "cell_type": "code",
   "execution_count": 42,
   "id": "9868aaf2",
   "metadata": {},
   "outputs": [
    {
     "name": "stdout",
     "output_type": "stream",
     "text": [
      "True\n"
     ]
    }
   ],
   "source": [
    "b46 = \"r1_newfile.csv\"\n",
    "print(b46.startswith(\"r1\"))"
   ]
  },
  {
   "cell_type": "code",
   "execution_count": 43,
   "id": "887d2e2b",
   "metadata": {},
   "outputs": [
    {
     "name": "stdout",
     "output_type": "stream",
     "text": [
      "let's remove all outer spaces\n"
     ]
    }
   ],
   "source": [
    "b47 = \"  let's remove all outer spaces \"\n",
    "print(b47.strip())"
   ]
  },
  {
   "cell_type": "code",
   "execution_count": 44,
   "id": "8fb73bed",
   "metadata": {},
   "outputs": [
    {
     "name": "stdout",
     "output_type": "stream",
     "text": [
      "hELLO wORLD\n"
     ]
    }
   ],
   "source": [
    "b48 = \"Hello World\"\n",
    "print(b48.swapcase())"
   ]
  },
  {
   "cell_type": "code",
   "execution_count": 45,
   "id": "a0206eda",
   "metadata": {},
   "outputs": [
    {
     "name": "stdout",
     "output_type": "stream",
     "text": [
      "Hello World\n"
     ]
    }
   ],
   "source": [
    "b49 = \"hello world\"\n",
    "print(b49.title())"
   ]
  },
  {
   "cell_type": "code",
   "execution_count": 46,
   "id": "7591182f",
   "metadata": {},
   "outputs": [
    {
     "name": "stdout",
     "output_type": "stream",
     "text": [
      "Not a Plum\n"
     ]
    }
   ],
   "source": [
    "b50 = {\"P\": \"S\"}\n",
    "b51 = \"Not a Plum\"\n",
    "print(b51.translate(b50))"
   ]
  },
  {
   "cell_type": "code",
   "execution_count": 47,
   "id": "d1c255b8",
   "metadata": {},
   "outputs": [
    {
     "name": "stdout",
     "output_type": "stream",
     "text": [
      "HELLO WORLD\n"
     ]
    }
   ],
   "source": [
    "b52 = \"hello world\"\n",
    "print(b52.upper())"
   ]
  },
  {
   "cell_type": "code",
   "execution_count": 48,
   "id": "1ab60bc1",
   "metadata": {},
   "outputs": [
    {
     "name": "stdout",
     "output_type": "stream",
     "text": [
      "0000300\n"
     ]
    }
   ],
   "source": [
    "b53 = \"300\"\n",
    "print(b53.zfill(7))"
   ]
  }
 ],
 "metadata": {
  "kernelspec": {
   "display_name": "Python 3 (ipykernel)",
   "language": "python",
   "name": "python3"
  },
  "language_info": {
   "codemirror_mode": {
    "name": "ipython",
    "version": 3
   },
   "file_extension": ".py",
   "mimetype": "text/x-python",
   "name": "python",
   "nbconvert_exporter": "python",
   "pygments_lexer": "ipython3",
   "version": "3.8.12"
  }
 },
 "nbformat": 4,
 "nbformat_minor": 5
}
