{
 "cells": [
  {
   "cell_type": "markdown",
   "id": "b905ea7b",
   "metadata": {},
   "source": [
    "## Python Classes and Objects"
   ]
  },
  {
   "cell_type": "markdown",
   "id": "0a9fe0f9",
   "metadata": {},
   "source": [
    "#### Basic Syntax"
   ]
  },
  {
   "cell_type": "code",
   "execution_count": 1,
   "id": "ddd8553b",
   "metadata": {
    "scrolled": true
   },
   "outputs": [],
   "source": [
    "class ClassName:\n",
    "    def __init__(self, parameters):\n",
    "        self.attributes = parameters\n",
    "\n",
    "    def methods(self):\n",
    "        # method body\n"
   ]
  },
  {
   "cell_type": "markdown",
   "id": "160d7deb",
   "metadata": {},
   "source": [
    "#### SImple Class Usage"
   ]
  },
  {
   "cell_type": "code",
   "execution_count": 8,
   "id": "f01a63a6",
   "metadata": {
    "scrolled": true
   },
   "outputs": [
    {
     "name": "stdout",
     "output_type": "stream",
     "text": [
      "Book: 1984 by George Orwell\n"
     ]
    }
   ],
   "source": [
    "class Book:\n",
    "    def __init__(self, title, author):\n",
    "        self.title = title\n",
    "        self.author = author\n",
    "\n",
    "    def display_info(self):\n",
    "        print(f\"Book: {self.title} by {self.author}\")\n",
    "\n",
    "# Creating an instance of Book\n",
    "my_book = Book(\"1984\", \"George Orwell\")\n",
    "my_book.display_info()  "
   ]
  },
  {
   "cell_type": "markdown",
   "id": "4d067db8",
   "metadata": {},
   "source": [
    "#### Class Inheritance"
   ]
  },
  {
   "cell_type": "code",
   "execution_count": 9,
   "id": "d67d0dea",
   "metadata": {},
   "outputs": [
    {
     "name": "stdout",
     "output_type": "stream",
     "text": [
      "Audi: Speed=240, Mileage=18\n"
     ]
    }
   ],
   "source": [
    "class Vehicle:\n",
    "    def __init__(self, name, max_speed):\n",
    "        self.name = name\n",
    "        self.max_speed = max_speed\n",
    "\n",
    "class Car(Vehicle):\n",
    "    def __init__(self, name, max_speed, mileage):\n",
    "        super().__init__(name, max_speed)\n",
    "        self.mileage = mileage\n",
    "\n",
    "# Creating an instance of Car\n",
    "my_car = Car(\"Audi\", 240, 18)\n",
    "print(f\"{my_car.name}: Speed={my_car.max_speed}, Mileage={my_car.mileage}\")\n"
   ]
  },
  {
   "cell_type": "markdown",
   "id": "2d0e7645",
   "metadata": {},
   "source": [
    "#### Project: Class Register"
   ]
  },
  {
   "cell_type": "code",
   "execution_count": 10,
   "id": "821314a4",
   "metadata": {},
   "outputs": [],
   "source": [
    "class Student:\n",
    "    def __init__(self, name, age, gpa, id_number):\n",
    "        self.name = name\n",
    "        self.age = age\n",
    "        self.gpa = gpa\n",
    "        self.id_number = id_number\n",
    "\n",
    "    def __str__(self):\n",
    "        return f\"Student: {self.name}, Age: {self.age}, GPA: {self.gpa}, ID: {self.id_number}\"\n",
    "\n",
    "    \n",
    "class StudentRegister:\n",
    "    def __init__(self):\n",
    "        self.students = []\n",
    "\n",
    "    def add_student(self, student):\n",
    "        self.students.append(student)\n",
    "\n",
    "    def remove_student(self, id_number):\n",
    "        self.students = [student for student in self.students if student.id_number != id_number]\n",
    "\n",
    "    def display_students(self):\n",
    "        for student in self.students:\n",
    "            print(student)\n",
    "\n",
    "    def get_student_by_id(self, id_number):\n",
    "        for student in self.students:\n",
    "            if student.id_number == id_number:\n",
    "                return student\n",
    "        return None\n"
   ]
  },
  {
   "cell_type": "code",
   "execution_count": 11,
   "id": "0e1c8d9c",
   "metadata": {},
   "outputs": [
    {
     "name": "stdout",
     "output_type": "stream",
     "text": [
      "Student: Alice, Age: 20, GPA: 3.5, ID: S001\n",
      "Student: Bob, Age: 22, GPA: 3.7, ID: S002\n",
      "Student: Charlie, Age: 19, GPA: 3.8, ID: S003\n",
      "\n",
      "After removal:\n",
      "Student: Alice, Age: 20, GPA: 3.5, ID: S001\n",
      "Student: Charlie, Age: 19, GPA: 3.8, ID: S003\n",
      "\n",
      "Details of a specific student:\n",
      "Student: Charlie, Age: 19, GPA: 3.8, ID: S003\n"
     ]
    }
   ],
   "source": [
    "# Creating a student register instance\n",
    "register = StudentRegister()\n",
    "\n",
    "# Adding students\n",
    "register.add_student(Student(\"Alice\", 20, 3.5, \"S001\"))\n",
    "register.add_student(Student(\"Bob\", 22, 3.7, \"S002\"))\n",
    "register.add_student(Student(\"Charlie\", 19, 3.8, \"S003\"))\n",
    "\n",
    "# Displaying all students\n",
    "register.display_students()\n",
    "\n",
    "# Removing a student by ID\n",
    "register.remove_student(\"S002\")\n",
    "\n",
    "# Displaying all students after removal\n",
    "print(\"\\nAfter removal:\")\n",
    "register.display_students()\n",
    "\n",
    "# Getting a student by ID\n",
    "print(\"\\nDetails of a specific student:\")\n",
    "print(register.get_student_by_id(\"S003\"))\n"
   ]
  },
  {
   "cell_type": "code",
   "execution_count": null,
   "id": "92e9ebd1",
   "metadata": {},
   "outputs": [],
   "source": []
  }
 ],
 "metadata": {
  "kernelspec": {
   "display_name": "Python 3 (ipykernel)",
   "language": "python",
   "name": "python3"
  },
  "language_info": {
   "codemirror_mode": {
    "name": "ipython",
    "version": 3
   },
   "file_extension": ".py",
   "mimetype": "text/x-python",
   "name": "python",
   "nbconvert_exporter": "python",
   "pygments_lexer": "ipython3",
   "version": "3.9.13"
  }
 },
 "nbformat": 4,
 "nbformat_minor": 5
}
