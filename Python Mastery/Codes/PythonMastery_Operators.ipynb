{
 "cells": [
  {
   "cell_type": "markdown",
   "id": "38421ddd",
   "metadata": {},
   "source": [
    "### Operators"
   ]
  },
  {
   "cell_type": "markdown",
   "id": "ab31493e",
   "metadata": {},
   "source": [
    "#### Arithmetic Operators"
   ]
  },
  {
   "cell_type": "code",
   "execution_count": 1,
   "id": "0606f1e3",
   "metadata": {
    "scrolled": true
   },
   "outputs": [
    {
     "name": "stdout",
     "output_type": "stream",
     "text": [
      "25.75\n",
      "5.75\n",
      "157.5\n",
      "1.575\n",
      "1.0\n",
      "939302722818.1752\n",
      "5.75\n"
     ]
    }
   ],
   "source": [
    "x = 10\n",
    "y = 15.75\n",
    "\n",
    "#Addition\n",
    "add = x + y\n",
    "\n",
    "#Subtraction\n",
    "subtract = y - x\n",
    "\n",
    "#Multiplication\n",
    "mult = x*y\n",
    "\n",
    "#Division\n",
    "div = y/x #float\n",
    "fl_div = y//x #floor\n",
    "modulus = y%x #remainder\n",
    "\n",
    "#Exponentiation\n",
    "exponentiate = y**x\n",
    "\n",
    "print (add)\n",
    "print(subtract)\n",
    "print(mult)\n",
    "print(div)\n",
    "print(fl_div)\n",
    "print(exponentiate)\n",
    "print(modulus)"
   ]
  },
  {
   "cell_type": "markdown",
   "id": "a8fbb135",
   "metadata": {},
   "source": [
    "#### Assignment Operators"
   ]
  },
  {
   "cell_type": "code",
   "execution_count": 2,
   "id": "a1a5af3e",
   "metadata": {},
   "outputs": [
    {
     "name": "stdout",
     "output_type": "stream",
     "text": [
      "5\n",
      "10\n",
      "5\n",
      "25\n",
      "9765625\n",
      "1953125.0\n",
      "390625.0\n",
      "0.0\n"
     ]
    }
   ],
   "source": [
    "m = 5\n",
    "\n",
    "#Equal to\n",
    "n = m\n",
    "print(n)\n",
    "\n",
    "#ADD and Asign\n",
    "n += m\n",
    "print(n)\n",
    "\n",
    "#SUBTRACT and Asign\n",
    "n -= m\n",
    "print(n)\n",
    "\n",
    "#MULTIPLY and Asign\n",
    "n *= m\n",
    "print(n)\n",
    "\n",
    "#EXPONENT and Asign\n",
    "n **= m\n",
    "print(n)\n",
    "\n",
    "#DIVIDE (FLOAT) and Asign\n",
    "n /= m\n",
    "print(n)\n",
    "\n",
    "#DIVIDE (FLOOR) and Asign\n",
    "n //= m\n",
    "print(n)\n",
    "\n",
    "#MODULUS and Asign\n",
    "n %= m\n",
    "print(n)"
   ]
  },
  {
   "cell_type": "markdown",
   "id": "78de3334",
   "metadata": {},
   "source": [
    "#### Logical Operators"
   ]
  },
  {
   "cell_type": "code",
   "execution_count": 3,
   "id": "83cfa5a0",
   "metadata": {},
   "outputs": [
    {
     "name": "stdout",
     "output_type": "stream",
     "text": [
      "True\n"
     ]
    }
   ],
   "source": [
    "aa = 12\n",
    "\n",
    "#AND\n",
    "print (aa<13 and aa==12)"
   ]
  },
  {
   "cell_type": "code",
   "execution_count": 4,
   "id": "3b7628c3",
   "metadata": {},
   "outputs": [
    {
     "name": "stdout",
     "output_type": "stream",
     "text": [
      "True\n"
     ]
    }
   ],
   "source": [
    "#OR\n",
    "print (aa>13 or aa==12)"
   ]
  },
  {
   "cell_type": "code",
   "execution_count": 5,
   "id": "67f7c207",
   "metadata": {},
   "outputs": [
    {
     "name": "stdout",
     "output_type": "stream",
     "text": [
      "False\n"
     ]
    }
   ],
   "source": [
    "#NOT\n",
    "print (not(aa<13 and aa==12))"
   ]
  },
  {
   "cell_type": "markdown",
   "id": "069681b5",
   "metadata": {},
   "source": [
    "#### Comparison Operators"
   ]
  },
  {
   "cell_type": "code",
   "execution_count": 6,
   "id": "cda81416",
   "metadata": {},
   "outputs": [
    {
     "name": "stdout",
     "output_type": "stream",
     "text": [
      "True\n"
     ]
    }
   ],
   "source": [
    "i = 5.5\n",
    "j = 11\n",
    "\n",
    "#Greater Than\n",
    "print(j > i)"
   ]
  },
  {
   "cell_type": "code",
   "execution_count": 7,
   "id": "187bf245",
   "metadata": {},
   "outputs": [
    {
     "name": "stdout",
     "output_type": "stream",
     "text": [
      "True\n"
     ]
    }
   ],
   "source": [
    "#Less than\n",
    "print(i < j)"
   ]
  },
  {
   "cell_type": "code",
   "execution_count": 8,
   "id": "97f54ffe",
   "metadata": {},
   "outputs": [
    {
     "name": "stdout",
     "output_type": "stream",
     "text": [
      "True\n"
     ]
    }
   ],
   "source": [
    "#equal to\n",
    "print(j == (i+5.5))"
   ]
  },
  {
   "cell_type": "code",
   "execution_count": 9,
   "id": "eab03628",
   "metadata": {},
   "outputs": [
    {
     "name": "stdout",
     "output_type": "stream",
     "text": [
      "False\n"
     ]
    }
   ],
   "source": [
    "#equal to (check otherwise)\n",
    "print(j == i)"
   ]
  },
  {
   "cell_type": "code",
   "execution_count": 10,
   "id": "38589ac1",
   "metadata": {},
   "outputs": [
    {
     "name": "stdout",
     "output_type": "stream",
     "text": [
      "True\n"
     ]
    }
   ],
   "source": [
    "#Not equal to\n",
    "print(i!=j)"
   ]
  },
  {
   "cell_type": "code",
   "execution_count": 11,
   "id": "0edd7469",
   "metadata": {},
   "outputs": [
    {
     "name": "stdout",
     "output_type": "stream",
     "text": [
      "True\n"
     ]
    }
   ],
   "source": [
    "#Greater than or equal to\n",
    "print(j>=i)"
   ]
  },
  {
   "cell_type": "code",
   "execution_count": 12,
   "id": "cd3c2e19",
   "metadata": {
    "scrolled": true
   },
   "outputs": [
    {
     "name": "stdout",
     "output_type": "stream",
     "text": [
      "True\n"
     ]
    }
   ],
   "source": [
    "#Less than or equal to\n",
    "print(i<=j)"
   ]
  },
  {
   "cell_type": "markdown",
   "id": "a79ee9bd",
   "metadata": {},
   "source": [
    "#### Identity Operators"
   ]
  },
  {
   "cell_type": "code",
   "execution_count": 13,
   "id": "12cfab8b",
   "metadata": {},
   "outputs": [
    {
     "name": "stdout",
     "output_type": "stream",
     "text": [
      "False\n"
     ]
    }
   ],
   "source": [
    "a = 15\n",
    "b = 22\n",
    "a2 = 15\n",
    "\n",
    "print(a is b)"
   ]
  },
  {
   "cell_type": "code",
   "execution_count": 14,
   "id": "fa4cd717",
   "metadata": {},
   "outputs": [
    {
     "name": "stdout",
     "output_type": "stream",
     "text": [
      "True\n"
     ]
    }
   ],
   "source": [
    "print(a is a2)"
   ]
  },
  {
   "cell_type": "code",
   "execution_count": 15,
   "id": "218bc142",
   "metadata": {},
   "outputs": [
    {
     "name": "stdout",
     "output_type": "stream",
     "text": [
      "True\n"
     ]
    }
   ],
   "source": [
    "print(a is not b)"
   ]
  },
  {
   "cell_type": "markdown",
   "id": "b7b6786e",
   "metadata": {},
   "source": [
    "#### Membership Operators"
   ]
  },
  {
   "cell_type": "code",
   "execution_count": 16,
   "id": "131d1a1d",
   "metadata": {},
   "outputs": [
    {
     "name": "stdout",
     "output_type": "stream",
     "text": [
      "True\n"
     ]
    }
   ],
   "source": [
    "c = [1,2,3,4]\n",
    "\n",
    "print (2 in c)"
   ]
  },
  {
   "cell_type": "code",
   "execution_count": 17,
   "id": "f59bde5e",
   "metadata": {},
   "outputs": [
    {
     "name": "stdout",
     "output_type": "stream",
     "text": [
      "True\n"
     ]
    }
   ],
   "source": [
    "print (5 not in c)"
   ]
  },
  {
   "cell_type": "markdown",
   "id": "29e8950d",
   "metadata": {},
   "source": [
    "#### Bitwise Operators\n",
    "\n",
    "Refer to https://realpython.com/python-bitwise-operators/ for details and examples"
   ]
  }
 ],
 "metadata": {
  "kernelspec": {
   "display_name": "Python 3 (ipykernel)",
   "language": "python",
   "name": "python3"
  },
  "language_info": {
   "codemirror_mode": {
    "name": "ipython",
    "version": 3
   },
   "file_extension": ".py",
   "mimetype": "text/x-python",
   "name": "python",
   "nbconvert_exporter": "python",
   "pygments_lexer": "ipython3",
   "version": "3.8.12"
  }
 },
 "nbformat": 4,
 "nbformat_minor": 5
}
