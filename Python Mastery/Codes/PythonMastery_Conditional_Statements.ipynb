{
 "cells": [
  {
   "cell_type": "markdown",
   "id": "b95824ba",
   "metadata": {},
   "source": [
    "## Conditional Statements in Python"
   ]
  },
  {
   "cell_type": "markdown",
   "id": "0bcb1dc8",
   "metadata": {},
   "source": [
    "#### Structure of if conditional statement "
   ]
  },
  {
   "cell_type": "markdown",
   "id": "fccbd076",
   "metadata": {},
   "source": [
    "if [expression]:<br>\n",
    "&emsp;&emsp;statement"
   ]
  },
  {
   "cell_type": "markdown",
   "id": "d2811b0a",
   "metadata": {},
   "source": [
    "#### Examples of statements"
   ]
  },
  {
   "cell_type": "code",
   "execution_count": 1,
   "id": "0881c899",
   "metadata": {},
   "outputs": [
    {
     "name": "stdout",
     "output_type": "stream",
     "text": [
      "Yes, it is\n"
     ]
    }
   ],
   "source": [
    "a = 4\n",
    "b = 5 \n",
    "\n",
    "if a < 5:\n",
    "    print(\"Yes, it is\")"
   ]
  },
  {
   "cell_type": "code",
   "execution_count": 2,
   "id": "08c14ec3",
   "metadata": {},
   "outputs": [],
   "source": [
    "if a == 5:\n",
    "    print(\"Yes, a is 5\")"
   ]
  },
  {
   "cell_type": "code",
   "execution_count": 3,
   "id": "24bd0dc4",
   "metadata": {},
   "outputs": [],
   "source": [
    "if a > 4:\n",
    "    print(\"Yes, it is greater\")"
   ]
  },
  {
   "cell_type": "code",
   "execution_count": 4,
   "id": "720c50e0",
   "metadata": {
    "scrolled": true
   },
   "outputs": [
    {
     "name": "stdout",
     "output_type": "stream",
     "text": [
      "Yes, it is either 4 or greater\n"
     ]
    }
   ],
   "source": [
    "if a >= 4:\n",
    "    print(\"Yes, it is either 4 or greater\")"
   ]
  },
  {
   "cell_type": "code",
   "execution_count": 5,
   "id": "3db1a7bf",
   "metadata": {},
   "outputs": [
    {
     "name": "stdout",
     "output_type": "stream",
     "text": [
      "Yes, it is\n"
     ]
    }
   ],
   "source": [
    "if a == 4 or b == 4:\n",
    "    print(\"Yes, it is\")"
   ]
  },
  {
   "cell_type": "code",
   "execution_count": 6,
   "id": "dda8ced9",
   "metadata": {},
   "outputs": [
    {
     "name": "stdout",
     "output_type": "stream",
     "text": [
      "Yes, it is\n"
     ]
    }
   ],
   "source": [
    "if a == 4 and b == 5:\n",
    "    print(\"Yes, it is\")"
   ]
  },
  {
   "cell_type": "code",
   "execution_count": 7,
   "id": "0eeda698",
   "metadata": {},
   "outputs": [
    {
     "name": "stdout",
     "output_type": "stream",
     "text": [
      "Yes, it is there\n"
     ]
    }
   ],
   "source": [
    "a_list = [\"one\", \"two\", \"three\", \"four\", \"five\"]\n",
    "\n",
    "if \"three\" in a_list:\n",
    "    print(\"Yes, it is there\")"
   ]
  },
  {
   "cell_type": "code",
   "execution_count": 8,
   "id": "335da584",
   "metadata": {
    "scrolled": true
   },
   "outputs": [
    {
     "name": "stdout",
     "output_type": "stream",
     "text": [
      "Yes, it is\n"
     ]
    }
   ],
   "source": [
    "if \"ee\" in \"three\":\n",
    "    print(\"Yes, it is\")"
   ]
  },
  {
   "cell_type": "markdown",
   "id": "0a0d2451",
   "metadata": {},
   "source": [
    "#### A typical structure of if conditional statement"
   ]
  },
  {
   "cell_type": "markdown",
   "id": "4e0e2486",
   "metadata": {},
   "source": [
    "if [Boolean Expression]:<br>\n",
    "&emsp;&emsp;statement1 <br>\n",
    "&emsp;&emsp;statement2 <br>\n",
    "&emsp;&emsp;statement3 <br>\n",
    "&emsp;&emsp;... <br>\n",
    "&emsp;&emsp;statement"
   ]
  },
  {
   "cell_type": "markdown",
   "id": "ccacbb22",
   "metadata": {},
   "source": [
    "#### Example of Group Conditional Statements"
   ]
  },
  {
   "cell_type": "code",
   "execution_count": 9,
   "id": "0721a0ab",
   "metadata": {
    "scrolled": true
   },
   "outputs": [
    {
     "name": "stdout",
     "output_type": "stream",
     "text": [
      "beer is in the list\n",
      "3\n",
      "Done\n"
     ]
    }
   ],
   "source": [
    "b_list = [\"bar\", \"pub\", \"drinks\", \"beer\", \"cup\"]\n",
    "\n",
    "if \"beer\" in b_list:\n",
    "    print(\"beer is in the list\")\n",
    "    pos = b_list.index(\"beer\")\n",
    "    print(pos)\n",
    "    print(\"Done\")"
   ]
  },
  {
   "cell_type": "markdown",
   "id": "71b1cbaf",
   "metadata": {},
   "source": [
    "#### else and elif"
   ]
  },
  {
   "cell_type": "code",
   "execution_count": 10,
   "id": "de70a599",
   "metadata": {},
   "outputs": [
    {
     "name": "stdout",
     "output_type": "stream",
     "text": [
      "Yes 6 is in it\n"
     ]
    }
   ],
   "source": [
    "c_list = [1,2,3,4,5,6,7]\n",
    "\n",
    "if 6 in c_list:\n",
    "    print(\"Yes 6 is in it\")\n",
    "elif 5 in c_list:\n",
    "    print(\"Yes, 5 is in it\")\n",
    "elif 8 in c_list:\n",
    "    print(\"Yes, 8 is in it\")\n",
    "else:\n",
    "    c_list.append(10)\n",
    "    print(c_list)"
   ]
  },
  {
   "cell_type": "code",
   "execution_count": 11,
   "id": "8cad29bc",
   "metadata": {},
   "outputs": [
    {
     "name": "stdout",
     "output_type": "stream",
     "text": [
      "Yes, 5 is in it\n"
     ]
    }
   ],
   "source": [
    "c_list = [1,2,3,4,5,6,7]\n",
    "\n",
    "if 10 in c_list:\n",
    "    print(\"Yes 10 is in it\")\n",
    "elif 5 in c_list:\n",
    "    print(\"Yes, 5 is in it\")\n",
    "elif 8 in c_list:\n",
    "    print(\"Yes, 8 is in it\")\n",
    "else:\n",
    "    c_list.append(10)\n",
    "    print(c_list)"
   ]
  },
  {
   "cell_type": "code",
   "execution_count": 12,
   "id": "a5841d69",
   "metadata": {},
   "outputs": [
    {
     "name": "stdout",
     "output_type": "stream",
     "text": [
      "Yes, 7 is in it\n"
     ]
    }
   ],
   "source": [
    "c_list = [1,2,3,4,5,6,7]\n",
    "\n",
    "if 10 in c_list:\n",
    "    print(\"Yes 10 is in it\")\n",
    "elif 15 in c_list:\n",
    "    print(\"Yes, 15 is in it\")\n",
    "elif 7 in c_list:\n",
    "    print(\"Yes, 7 is in it\")\n",
    "else:\n",
    "    c_list.append(10)\n",
    "    print(c_list)"
   ]
  },
  {
   "cell_type": "code",
   "execution_count": 13,
   "id": "7783d353",
   "metadata": {},
   "outputs": [
    {
     "name": "stdout",
     "output_type": "stream",
     "text": [
      "[1, 2, 3, 4, 5, 6, 7, 10]\n"
     ]
    }
   ],
   "source": [
    "c_list = [1,2,3,4,5,6,7]\n",
    "\n",
    "if 10 in c_list:\n",
    "    print(\"Yes 10 is in it\")\n",
    "elif 15 in c_list:\n",
    "    print(\"Yes, 15 is in it\")\n",
    "elif 8 in c_list:\n",
    "    print(\"Yes, 8 is in it\")\n",
    "else:\n",
    "    c_list.append(10) #adds 10 to the list if none of the previous expression is true\n",
    "    print(c_list)"
   ]
  },
  {
   "cell_type": "markdown",
   "id": "8d685679",
   "metadata": {},
   "source": [
    "#### Another Example of if, elif and else conditions"
   ]
  },
  {
   "cell_type": "code",
   "execution_count": 14,
   "id": "8b2e8509",
   "metadata": {},
   "outputs": [
    {
     "name": "stdout",
     "output_type": "stream",
     "text": [
      "The weather is average\n"
     ]
    }
   ],
   "source": [
    "Temperature = 84\n",
    "\n",
    "if Temperature > 84:\n",
    "    print(\"The weather is hot\")\n",
    "elif Temperature == 84:\n",
    "    print(\"The weather is average\")\n",
    "else:\n",
    "    print(\"The weather is cold\")"
   ]
  },
  {
   "cell_type": "markdown",
   "id": "cac29187",
   "metadata": {},
   "source": [
    "### While Loop"
   ]
  },
  {
   "cell_type": "markdown",
   "id": "125601f7",
   "metadata": {},
   "source": [
    "while [Boolean expression]:<br>\n",
    "&emsp;&emsp;statement1<br>\n",
    "&emsp;&emsp;statement2<br>\n",
    "&emsp;&emsp;statement3<br>\n",
    "&emsp;&emsp;...<br>\n",
    "&emsp;&emsp;statementN<br>"
   ]
  },
  {
   "cell_type": "code",
   "execution_count": 15,
   "id": "1d52d406",
   "metadata": {},
   "outputs": [
    {
     "name": "stdout",
     "output_type": "stream",
     "text": [
      "[2000]\n",
      "[2000, 2100]\n",
      "[2000, 2100, 2200]\n",
      "[2000, 2100, 2200, 2300]\n",
      "[2000, 2100, 2200, 2300, 2400]\n",
      "[2000, 2100, 2200, 2300, 2400, 2500]\n",
      "[2000, 2100, 2200, 2300, 2400, 2500, 2600]\n",
      "[2000, 2100, 2200, 2300, 2400, 2500, 2600, 2700]\n",
      "[2000, 2100, 2200, 2300, 2400, 2500, 2600, 2700, 2800]\n",
      "[2000, 2100, 2200, 2300, 2400, 2500, 2600, 2700, 2800, 2900]\n",
      "[2000, 2100, 2200, 2300, 2400, 2500, 2600, 2700, 2800, 2900, 3000]\n"
     ]
    }
   ],
   "source": [
    "centuries = []\n",
    "\n",
    "i=1900\n",
    "while i < 3000:\n",
    "    i +=100\n",
    "    centuries.append(i)\n",
    "    print(centuries)"
   ]
  },
  {
   "cell_type": "code",
   "execution_count": 16,
   "id": "0f957981",
   "metadata": {
    "scrolled": true
   },
   "outputs": [
    {
     "name": "stdout",
     "output_type": "stream",
     "text": [
      "[2000]\n",
      "[2000, 2100]\n",
      "[2000, 2100, 2200]\n",
      "[2000, 2100, 2200, 2300]\n",
      "[2000, 2100, 2200, 2300, 2400]\n"
     ]
    }
   ],
   "source": [
    "centuries = []\n",
    "\n",
    "i=1900\n",
    "while i < 3000:\n",
    "    i +=100\n",
    "    centuries.append(i)\n",
    "    if i >= 2500:\n",
    "        break\n",
    "    print(centuries)"
   ]
  },
  {
   "cell_type": "markdown",
   "id": "97bef314",
   "metadata": {},
   "source": [
    "#### Using while, if, continue and else."
   ]
  },
  {
   "cell_type": "code",
   "execution_count": 17,
   "id": "dc533b5c",
   "metadata": {},
   "outputs": [
    {
     "name": "stdout",
     "output_type": "stream",
     "text": [
      "[2000]\n",
      "[2000, 2100]\n",
      "[2000, 2100, 2200]\n",
      "[2000, 2100, 2200, 2300]\n",
      "[2000, 2100, 2200, 2300, 2400]\n",
      "Done\n"
     ]
    }
   ],
   "source": [
    "centuries = []\n",
    "\n",
    "i=1900\n",
    "while i < 3000:\n",
    "    i +=100\n",
    "    centuries.append(i)\n",
    "    if i >= 2500:\n",
    "        continue\n",
    "    print(centuries)\n",
    "    \n",
    "else:\n",
    "    print(\"Done\")"
   ]
  },
  {
   "cell_type": "markdown",
   "id": "ea9db556",
   "metadata": {},
   "source": [
    "### For Loop"
   ]
  },
  {
   "cell_type": "markdown",
   "id": "95eefa02",
   "metadata": {},
   "source": [
    "#### Structure of a for loop"
   ]
  },
  {
   "cell_type": "markdown",
   "id": "969737d2",
   "metadata": {},
   "source": [
    "for i in list:<br>\n",
    "&emsp;&emsp;statement1<br>\n",
    "&emsp;&emsp;statement2<br>\n",
    "&emsp;&emsp;statement3<br>\n",
    "&emsp;&emsp;...<br>\n",
    "&emsp;&emsp;statementN<br>"
   ]
  },
  {
   "cell_type": "markdown",
   "id": "08744512",
   "metadata": {},
   "source": [
    "#### list"
   ]
  },
  {
   "cell_type": "code",
   "execution_count": 18,
   "id": "3e47ff8b",
   "metadata": {},
   "outputs": [
    {
     "name": "stdout",
     "output_type": "stream",
     "text": [
      "1\n",
      "2\n",
      "3\n",
      "4\n",
      "5\n",
      "6\n"
     ]
    }
   ],
   "source": [
    "d_list = [1,2,3,4,5,6]\n",
    "\n",
    "for i in d_list:\n",
    "    print(i)"
   ]
  },
  {
   "cell_type": "markdown",
   "id": "bd60fea3",
   "metadata": {},
   "source": [
    "#### string"
   ]
  },
  {
   "cell_type": "code",
   "execution_count": 19,
   "id": "9bd09c81",
   "metadata": {},
   "outputs": [
    {
     "name": "stdout",
     "output_type": "stream",
     "text": [
      "c\n",
      "h\n",
      "a\n",
      "r\n",
      "a\n",
      "c\n",
      "t\n",
      "e\n",
      "r\n"
     ]
    }
   ],
   "source": [
    "for x in \"character\":\n",
    "    print(x)"
   ]
  },
  {
   "cell_type": "markdown",
   "id": "4dfcbf8f",
   "metadata": {},
   "source": [
    "#### Dictionary"
   ]
  },
  {
   "cell_type": "code",
   "execution_count": 20,
   "id": "9a17e40d",
   "metadata": {},
   "outputs": [
    {
     "name": "stdout",
     "output_type": "stream",
     "text": [
      "Name =  John  Age =  28\n",
      "Name =  Tim  Age =  30\n",
      "Name =  Tom  Age =  32\n"
     ]
    }
   ],
   "source": [
    "people = {\"John\": 28, \"Tim\": 30, \"Tom\": 32}\n",
    "\n",
    "for i, j in people.items():\n",
    "    print(\"Name = \", i, \" Age = \", j )"
   ]
  },
  {
   "cell_type": "markdown",
   "id": "e90cbcd9",
   "metadata": {},
   "source": [
    "#### Range"
   ]
  },
  {
   "cell_type": "code",
   "execution_count": 21,
   "id": "f6517b43",
   "metadata": {},
   "outputs": [
    {
     "name": "stdout",
     "output_type": "stream",
     "text": [
      "0\n",
      "1\n",
      "2\n",
      "3\n",
      "4\n",
      "5\n"
     ]
    }
   ],
   "source": [
    "for x in range(6):\n",
    "    print(x)"
   ]
  },
  {
   "cell_type": "markdown",
   "id": "bae59a1d",
   "metadata": {},
   "source": [
    "#### For Loop Exit"
   ]
  },
  {
   "cell_type": "code",
   "execution_count": 22,
   "id": "8b110b85",
   "metadata": {},
   "outputs": [
    {
     "name": "stdout",
     "output_type": "stream",
     "text": [
      "0\n",
      "1\n",
      "2\n",
      "3\n"
     ]
    }
   ],
   "source": [
    "for x in range(6):\n",
    "    if x > 3:\n",
    "        break\n",
    "    print(x)"
   ]
  },
  {
   "cell_type": "code",
   "execution_count": 23,
   "id": "f5de05fc",
   "metadata": {},
   "outputs": [
    {
     "name": "stdout",
     "output_type": "stream",
     "text": [
      "0\n",
      "1\n",
      "2\n",
      "3\n",
      "4\n"
     ]
    }
   ],
   "source": [
    "for x in range(6):\n",
    "    if x > 4:\n",
    "        continue\n",
    "    print(x)"
   ]
  },
  {
   "cell_type": "code",
   "execution_count": 24,
   "id": "03f7ade9",
   "metadata": {},
   "outputs": [
    {
     "name": "stdout",
     "output_type": "stream",
     "text": [
      "0\n",
      "1\n",
      "2\n",
      "3\n",
      "4\n",
      "5\n",
      "Completed\n"
     ]
    }
   ],
   "source": [
    "for x in range(6):\n",
    "    print(x)\n",
    "else:\n",
    "    print(\"Completed\")"
   ]
  },
  {
   "cell_type": "code",
   "execution_count": 25,
   "id": "b448a225",
   "metadata": {},
   "outputs": [
    {
     "name": "stdout",
     "output_type": "stream",
     "text": [
      "x =  0 y =  0\n",
      "x =  0 y =  1\n",
      "x =  0 y =  2\n",
      "x =  1 y =  0\n",
      "x =  1 y =  1\n",
      "x =  1 y =  2\n",
      "x =  2 y =  0\n",
      "x =  2 y =  1\n",
      "x =  2 y =  2\n",
      "x =  3 y =  0\n",
      "x =  3 y =  1\n",
      "x =  3 y =  2\n",
      "x =  4 y =  0\n",
      "x =  4 y =  1\n",
      "x =  4 y =  2\n",
      "x =  5 y =  0\n",
      "x =  5 y =  1\n",
      "x =  5 y =  2\n"
     ]
    }
   ],
   "source": [
    "for x in range(6):\n",
    "    for y in range(3):\n",
    "        print(\"x = \", x, 'y = ',y)"
   ]
  }
 ],
 "metadata": {
  "kernelspec": {
   "display_name": "Python 3 (ipykernel)",
   "language": "python",
   "name": "python3"
  },
  "language_info": {
   "codemirror_mode": {
    "name": "ipython",
    "version": 3
   },
   "file_extension": ".py",
   "mimetype": "text/x-python",
   "name": "python",
   "nbconvert_exporter": "python",
   "pygments_lexer": "ipython3",
   "version": "3.8.12"
  }
 },
 "nbformat": 4,
 "nbformat_minor": 5
}
