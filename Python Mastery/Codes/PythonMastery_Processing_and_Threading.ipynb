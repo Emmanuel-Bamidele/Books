{
 "cells": [
  {
   "cell_type": "markdown",
   "id": "b905ea7b",
   "metadata": {},
   "source": [
    "## Python Processing and Threading"
   ]
  },
  {
   "cell_type": "markdown",
   "id": "0a9fe0f9",
   "metadata": {},
   "source": [
    "#### Basic Usage of Multiprocessing"
   ]
  },
  {
   "cell_type": "code",
   "execution_count": null,
   "id": "ddd8553b",
   "metadata": {
    "scrolled": true
   },
   "outputs": [],
   "source": [
    "import multiprocessing\n",
    "\n",
    "def square(number):\n",
    "    return number * number\n",
    "\n",
    "if __name__ == \"__main__\":\n",
    "    numbers = [1, 2, 3, 4]\n",
    "    pool = multiprocessing.Pool()\n",
    "\n",
    "    # Map `square` function to each number\n",
    "    results = pool.map(square, numbers)\n",
    "    pool.close()\n",
    "    pool.join()\n",
    "\n",
    "    print(results)  # Output: [1, 4, 9, 16]\n"
   ]
  },
  {
   "cell_type": "markdown",
   "id": "160d7deb",
   "metadata": {},
   "source": [
    "#### Basic Usage of Multithreading"
   ]
  },
  {
   "cell_type": "code",
   "execution_count": 31,
   "id": "f01a63a6",
   "metadata": {
    "scrolled": true
   },
   "outputs": [
    {
     "name": "stdout",
     "output_type": "stream",
     "text": [
      "1a\n",
      "b\n",
      "c\n",
      "d\n",
      "e\n",
      "\n",
      "2\n",
      "3\n",
      "4\n",
      "5\n"
     ]
    }
   ],
   "source": [
    "import threading\n",
    "\n",
    "def print_numbers():\n",
    "    for i in range(1, 6):\n",
    "        print(i)\n",
    "\n",
    "def print_letters():\n",
    "    for letter in 'abcde':\n",
    "        print(letter)\n",
    "\n",
    "thread1 = threading.Thread(target=print_numbers)\n",
    "thread2 = threading.Thread(target=print_letters)\n",
    "\n",
    "thread1.start()\n",
    "thread2.start()\n",
    "\n",
    "thread1.join()\n",
    "thread2.join()\n"
   ]
  },
  {
   "cell_type": "markdown",
   "id": "16d2f32d",
   "metadata": {},
   "source": [
    "#### Encapsulation"
   ]
  },
  {
   "cell_type": "code",
   "execution_count": 25,
   "id": "6ca3e18d",
   "metadata": {},
   "outputs": [
    {
     "name": "stdout",
     "output_type": "stream",
     "text": [
      "Selling Price: 900\n",
      "Selling Price: 900\n",
      "Selling Price: 1000\n"
     ]
    }
   ],
   "source": [
    "class Computer:\n",
    "    def __init__(self):\n",
    "        self.__max_price = 900  # Private attribute\n",
    "\n",
    "    def sell(self):\n",
    "        return f\"Selling Price: {self.__max_price}\"\n",
    "\n",
    "    def set_max_price(self, price):\n",
    "        self.__max_price = price\n",
    "\n",
    "c = Computer()\n",
    "print(c.sell())       # Selling Price: 900\n",
    "\n",
    "c.__max_price = 1000  # Attempt to directly modify the attribute\n",
    "print(c.sell())       # Still outputs: Selling Price: 900\n",
    "\n",
    "c.set_max_price(1000) # Using setter method\n",
    "print(c.sell())       # Now outputs: Selling Price: 1000\n"
   ]
  },
  {
   "cell_type": "markdown",
   "id": "1542f104",
   "metadata": {},
   "source": [
    "#### Polymorphism"
   ]
  },
  {
   "cell_type": "code",
   "execution_count": 26,
   "id": "4240b1c9",
   "metadata": {},
   "outputs": [
    {
     "name": "stdout",
     "output_type": "stream",
     "text": [
      "Buddy says Woof!\n",
      "Whiskers says Meow!\n"
     ]
    }
   ],
   "source": [
    "for animal in [Dog(\"Buddy\"), Cat(\"Whiskers\")]:\n",
    "    print(animal.speak())  # Outputs Woof and Meow respectively\n"
   ]
  },
  {
   "cell_type": "markdown",
   "id": "d7fbae72",
   "metadata": {},
   "source": [
    "#### Class and Static Methods"
   ]
  },
  {
   "cell_type": "code",
   "execution_count": 27,
   "id": "fc4a7613",
   "metadata": {},
   "outputs": [
    {
     "name": "stdout",
     "output_type": "stream",
     "text": [
      "0\n",
      "1\n",
      "This is a static method\n"
     ]
    }
   ],
   "source": [
    "class MyClass:\n",
    "    counter = 0\n",
    "\n",
    "    def __init__(self):\n",
    "        MyClass.counter += 1\n",
    "\n",
    "    @classmethod\n",
    "    def instances_created(cls):\n",
    "        return cls.counter\n",
    "\n",
    "    @staticmethod\n",
    "    def static_method():\n",
    "        print(\"This is a static method\")\n",
    "\n",
    "print(MyClass.instances_created())  # 0\n",
    "my_obj = MyClass()\n",
    "print(MyClass.instances_created())  # 1\n",
    "MyClass.static_method()             # This is a static method\n"
   ]
  },
  {
   "cell_type": "markdown",
   "id": "c4b5fa70",
   "metadata": {},
   "source": [
    "#### Abstract Classes"
   ]
  },
  {
   "cell_type": "code",
   "execution_count": 28,
   "id": "be9af5bd",
   "metadata": {},
   "outputs": [
    {
     "name": "stdout",
     "output_type": "stream",
     "text": [
      "Roar\n"
     ]
    }
   ],
   "source": [
    "from abc import ABC, abstractmethod\n",
    "\n",
    "class AbstractAnimal(ABC):\n",
    "    @abstractmethod\n",
    "    def speak(self):\n",
    "        pass\n",
    "\n",
    "class Lion(AbstractAnimal):\n",
    "    def speak(self):\n",
    "        return \"Roar\"\n",
    "\n",
    "# animal = AbstractAnimal() # This will raise an error\n",
    "lion = Lion()\n",
    "print(lion.speak())  # Outputs: Roar\n"
   ]
  }
 ],
 "metadata": {
  "kernelspec": {
   "display_name": "Python 3 (ipykernel)",
   "language": "python",
   "name": "python3"
  },
  "language_info": {
   "codemirror_mode": {
    "name": "ipython",
    "version": 3
   },
   "file_extension": ".py",
   "mimetype": "text/x-python",
   "name": "python",
   "nbconvert_exporter": "python",
   "pygments_lexer": "ipython3",
   "version": "3.9.13"
  }
 },
 "nbformat": 4,
 "nbformat_minor": 5
}
