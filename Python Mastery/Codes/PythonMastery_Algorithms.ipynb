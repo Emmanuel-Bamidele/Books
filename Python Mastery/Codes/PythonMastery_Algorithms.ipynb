{
 "cells": [
  {
   "cell_type": "markdown",
   "id": "49107c4a",
   "metadata": {},
   "source": [
    "## 25 Python Algorithms"
   ]
  },
  {
   "cell_type": "markdown",
   "id": "b0b04d43",
   "metadata": {},
   "source": [
    "### Searching\n",
    "1. Linear Search\n",
    "2. Binary Search\n",
    "3. Depth First Search\n",
    "4. Breadth First Search"
   ]
  },
  {
   "cell_type": "markdown",
   "id": "9c3c7593",
   "metadata": {},
   "source": [
    "##### 1. Linear Search Algorithm (Complexity: 0(n))\n",
    "\n",
    "Notes:\n",
    "* It doesn't require sorted input data\n",
    "* Requires only equality comparisons\n",
    "* Requires sequential data access\n",
    "\n",
    "**Questions**\n",
    "\n",
    "1. Search for the index of an element in an array, return the element if it is available, else return \"Not Available' <br>\n",
    "\n",
    "2. Search for an element in an array, return the index of the element if it is available, else return \"Not Available'"
   ]
  },
  {
   "cell_type": "code",
   "execution_count": 4,
   "id": "e0c82553",
   "metadata": {},
   "outputs": [
    {
     "name": "stdout",
     "output_type": "stream",
     "text": [
      "6\n"
     ]
    }
   ],
   "source": [
    "#Q1\n",
    "\n",
    "def linear_search1(array, element):\n",
    "    for x in range(len(array)):\n",
    "        if array[x] == array[element]:\n",
    "            return array[x]\n",
    "    return \"Not Available\"\n",
    "\n",
    "array1 = 2,3,5,6,7\n",
    "print(linear_search1(array1,3))"
   ]
  },
  {
   "cell_type": "code",
   "execution_count": 5,
   "id": "b284d0d7",
   "metadata": {},
   "outputs": [
    {
     "name": "stdout",
     "output_type": "stream",
     "text": [
      "4\n"
     ]
    }
   ],
   "source": [
    "#Q2\n",
    "\n",
    "def linear_search2(array, element):\n",
    "    for x in range(len(array)):\n",
    "        if array[x] == element:\n",
    "            return x\n",
    "    return \"Not Available\"\n",
    "\n",
    "array2 = 2,3,5,6,7\n",
    "print(linear_search2(array2,7))"
   ]
  },
  {
   "cell_type": "markdown",
   "id": "f62fe7de",
   "metadata": {},
   "source": [
    "##### 2. Binary Search (Complexity: 0(log n)\n",
    "\n",
    "Notes: \n",
    "* Requires sorted data\n",
    "* Requires ordering comparison (<, > and ==)\n",
    "* Requires random access to data\n",
    "\n",
    "**Questions**\n",
    "1. Recursive: Search if an element is present in an array, return the index of such element <br>\n",
    "2. Iterative: Search if an element is present in an array, return the index of such element - Preferred because it has more efficient space complexity! <br>\n",
    "3. **Leetcode**: Given an array of integers nums which is sorted in ascending order, and an integer target, write a function to search target in nums. If target exists, then return its index. Otherwise, return -1."
   ]
  },
  {
   "cell_type": "code",
   "execution_count": 13,
   "id": "9c5341c4",
   "metadata": {},
   "outputs": [
    {
     "name": "stdout",
     "output_type": "stream",
     "text": [
      "5\n"
     ]
    }
   ],
   "source": [
    "#Q1\n",
    "\n",
    "def binary_search1(array, low, high, element):\n",
    "    #check base case\n",
    "    #high and low are based on index and not the element\n",
    "    if high >= low:\n",
    "        middle = (low + high) // 2\n",
    "        \n",
    "        if array[middle] == element:\n",
    "            return middle\n",
    "        \n",
    "        elif array[middle] > element:\n",
    "            return binary_search1(array, low, middle-1, element)\n",
    "        \n",
    "        else:\n",
    "            return binary_search1(array, middle+1, high, element)\n",
    "        \n",
    "    else:\n",
    "        return \"Not Available\"\n",
    "    \n",
    "array3 = [2,4,3,5,6,8]\n",
    "print(binary_search1(array3, 0, 5, 8))"
   ]
  },
  {
   "cell_type": "code",
   "execution_count": 2,
   "id": "38b92d36",
   "metadata": {},
   "outputs": [
    {
     "name": "stdout",
     "output_type": "stream",
     "text": [
      "5\n"
     ]
    }
   ],
   "source": [
    "#Q2\n",
    "\n",
    "def binary_search2(array, element):\n",
    "    low = 0\n",
    "    high  = len(array)-1\n",
    "    middle = 0\n",
    "    \n",
    "    while low <= high:\n",
    "        \n",
    "        middle = (low+high)//2\n",
    "        \n",
    "        if array[middle] == element:\n",
    "            return middle\n",
    "        \n",
    "        elif array[middle] > element:\n",
    "            high = middle-1\n",
    "        \n",
    "        else:\n",
    "            low = middle+1\n",
    "        \n",
    "    return -1\n",
    "    \n",
    "array4 = [2,4,3,5,6,8]\n",
    "print(binary_search2(array4, 8))"
   ]
  },
  {
   "cell_type": "code",
   "execution_count": 5,
   "id": "3c90ef16",
   "metadata": {},
   "outputs": [
    {
     "name": "stdout",
     "output_type": "stream",
     "text": [
      "5\n"
     ]
    }
   ],
   "source": [
    "#Q3\n",
    "\n",
    "def binary_search3(nums, target:int):\n",
    "    low = 0\n",
    "    high = len(nums)-1\n",
    "    middle = 0\n",
    "\n",
    "    while low <= high:\n",
    "\n",
    "        middle = (low + high)//2\n",
    "\n",
    "        if nums[middle] == target:\n",
    "            return middle\n",
    "\n",
    "        elif nums[middle] < target:\n",
    "            low = middle+1\n",
    "\n",
    "        else:\n",
    "            high = middle - 1\n",
    "\n",
    "    return -1\n",
    "\n",
    "array4 = [2,4,3,5,6,8]\n",
    "print(binary_search3(array4, 8))"
   ]
  },
  {
   "cell_type": "markdown",
   "id": "46a3d02c",
   "metadata": {},
   "source": [
    "##### Depth First Search\n",
    "\n",
    "Note:\n",
    "* It is used for traversing and searching tree or graph data structues\n",
    "* It starts with oot nodes (in gaphs) and search each branch as fa as possible before backtracking\n",
    "* Creates a rrecursive function that takes the index of the node and a visited aray\n",
    "* Mark the curent node as visited, and print the node\n",
    "* Traverse all unvisited nodes and call the recursive function within the index of the adjacent node\n",
    "\n",
    "Questions:\n",
    "1. \n",
    "2. \n",
    "3. "
   ]
  },
  {
   "cell_type": "code",
   "execution_count": null,
   "id": "3892bfcb",
   "metadata": {},
   "outputs": [],
   "source": [
    "#Q1"
   ]
  },
  {
   "cell_type": "code",
   "execution_count": null,
   "id": "d3be610e",
   "metadata": {},
   "outputs": [],
   "source": [
    "#Q2"
   ]
  },
  {
   "cell_type": "code",
   "execution_count": null,
   "id": "ae2eac3e",
   "metadata": {},
   "outputs": [],
   "source": [
    "#Q3"
   ]
  },
  {
   "cell_type": "markdown",
   "id": "1018f3ce",
   "metadata": {},
   "source": [
    "##### Breadth First Search\n",
    "\n",
    "Note:\n",
    "* \n",
    "* \n",
    "\n",
    "Questions:\n",
    "1. \n",
    "2. \n",
    "3. "
   ]
  },
  {
   "cell_type": "code",
   "execution_count": null,
   "id": "fbd8e9e9",
   "metadata": {},
   "outputs": [],
   "source": [
    "#Q1"
   ]
  },
  {
   "cell_type": "code",
   "execution_count": null,
   "id": "f1764e5c",
   "metadata": {},
   "outputs": [],
   "source": [
    "#Q2"
   ]
  },
  {
   "cell_type": "code",
   "execution_count": null,
   "id": "f885562f",
   "metadata": {},
   "outputs": [],
   "source": [
    "#Q3"
   ]
  },
  {
   "cell_type": "markdown",
   "id": "d4170319",
   "metadata": {},
   "source": [
    "### Sorting\n",
    "1. Insertion Sort\n",
    "2. Heap Sort\n",
    "3. Selection Sort\n",
    "4. Merge Sort\n",
    "5. Quick Sort\n",
    "6. Counting Sort"
   ]
  },
  {
   "cell_type": "code",
   "execution_count": null,
   "id": "794ed095",
   "metadata": {},
   "outputs": [],
   "source": []
  },
  {
   "cell_type": "code",
   "execution_count": null,
   "id": "62e7f8c1",
   "metadata": {},
   "outputs": [],
   "source": []
  },
  {
   "cell_type": "code",
   "execution_count": null,
   "id": "ae5bf631",
   "metadata": {},
   "outputs": [],
   "source": []
  },
  {
   "cell_type": "code",
   "execution_count": null,
   "id": "81fe7447",
   "metadata": {},
   "outputs": [],
   "source": []
  },
  {
   "cell_type": "code",
   "execution_count": null,
   "id": "459862fe",
   "metadata": {},
   "outputs": [],
   "source": []
  },
  {
   "cell_type": "code",
   "execution_count": null,
   "id": "76c5ecb2",
   "metadata": {},
   "outputs": [],
   "source": []
  },
  {
   "cell_type": "markdown",
   "id": "56673627",
   "metadata": {},
   "source": [
    "### Arrays\n",
    "1. Kadane's Algo\n",
    "2. Floyd's Cycle Detection Algo\n",
    "3. KMP Algo\n",
    "4. Quick Select Algo\n",
    "5. Boyer - More Majority Vote Algo"
   ]
  },
  {
   "cell_type": "code",
   "execution_count": null,
   "id": "88f9870e",
   "metadata": {},
   "outputs": [],
   "source": []
  },
  {
   "cell_type": "code",
   "execution_count": null,
   "id": "be30ff0a",
   "metadata": {},
   "outputs": [],
   "source": []
  },
  {
   "cell_type": "code",
   "execution_count": null,
   "id": "f8f00eb9",
   "metadata": {},
   "outputs": [],
   "source": []
  },
  {
   "cell_type": "code",
   "execution_count": null,
   "id": "4e56ecba",
   "metadata": {},
   "outputs": [],
   "source": []
  },
  {
   "cell_type": "code",
   "execution_count": null,
   "id": "d6ba515c",
   "metadata": {},
   "outputs": [],
   "source": []
  },
  {
   "cell_type": "markdown",
   "id": "a149f3bb",
   "metadata": {},
   "source": [
    "### Basics\n",
    "1. Huffman Coding Compression Algo\n",
    "2. Euclid's Algo\n",
    "3. Union Find Algo"
   ]
  },
  {
   "cell_type": "code",
   "execution_count": null,
   "id": "41f934d7",
   "metadata": {},
   "outputs": [],
   "source": []
  },
  {
   "cell_type": "code",
   "execution_count": null,
   "id": "c1ee1c3f",
   "metadata": {},
   "outputs": [],
   "source": []
  },
  {
   "cell_type": "code",
   "execution_count": null,
   "id": "32db2ba8",
   "metadata": {},
   "outputs": [],
   "source": []
  },
  {
   "cell_type": "markdown",
   "id": "7313c926",
   "metadata": {},
   "source": [
    "### Graphs\n",
    "1. Kruskal's Algo\n",
    "2. Dilkstra's Algo\n",
    "3. Bellman Ford Algo\n",
    "4. Floyd Warshall Algo\n",
    "5. Topological Sort Algo\n",
    "6. Flood Fill Algo\n",
    "7. Lee Algo"
   ]
  },
  {
   "cell_type": "code",
   "execution_count": null,
   "id": "a4c468ee",
   "metadata": {},
   "outputs": [],
   "source": []
  },
  {
   "cell_type": "code",
   "execution_count": null,
   "id": "01371ef7",
   "metadata": {},
   "outputs": [],
   "source": []
  },
  {
   "cell_type": "code",
   "execution_count": null,
   "id": "830cb61e",
   "metadata": {},
   "outputs": [],
   "source": []
  },
  {
   "cell_type": "code",
   "execution_count": null,
   "id": "b82a09cf",
   "metadata": {},
   "outputs": [],
   "source": []
  },
  {
   "cell_type": "code",
   "execution_count": null,
   "id": "564fefd9",
   "metadata": {},
   "outputs": [],
   "source": []
  },
  {
   "cell_type": "code",
   "execution_count": null,
   "id": "92670581",
   "metadata": {},
   "outputs": [],
   "source": []
  },
  {
   "cell_type": "code",
   "execution_count": null,
   "id": "a92f652d",
   "metadata": {},
   "outputs": [],
   "source": []
  }
 ],
 "metadata": {
  "kernelspec": {
   "display_name": "Python 3 (ipykernel)",
   "language": "python",
   "name": "python3"
  },
  "language_info": {
   "codemirror_mode": {
    "name": "ipython",
    "version": 3
   },
   "file_extension": ".py",
   "mimetype": "text/x-python",
   "name": "python",
   "nbconvert_exporter": "python",
   "pygments_lexer": "ipython3",
   "version": "3.8.12"
  }
 },
 "nbformat": 4,
 "nbformat_minor": 5
}
