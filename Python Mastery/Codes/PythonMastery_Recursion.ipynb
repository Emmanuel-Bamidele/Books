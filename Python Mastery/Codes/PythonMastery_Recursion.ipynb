{
 "cells": [
  {
   "cell_type": "markdown",
   "id": "b905ea7b",
   "metadata": {},
   "source": [
    "## Python Recursion"
   ]
  },
  {
   "cell_type": "markdown",
   "id": "0a9fe0f9",
   "metadata": {},
   "source": [
    "#### Basic Usage"
   ]
  },
  {
   "cell_type": "code",
   "execution_count": 13,
   "id": "ddd8553b",
   "metadata": {
    "scrolled": true
   },
   "outputs": [
    {
     "name": "stdout",
     "output_type": "stream",
     "text": [
      "120\n"
     ]
    }
   ],
   "source": [
    "def factorial(n):\n",
    "    if n == 1:  # Base case\n",
    "        return 1\n",
    "    else:  # Recursive case\n",
    "        return n * factorial(n - 1)\n",
    "\n",
    "print(factorial(5))  # Outputs: 120\n"
   ]
  },
  {
   "cell_type": "markdown",
   "id": "160d7deb",
   "metadata": {},
   "source": [
    "#### Fibonacci"
   ]
  },
  {
   "cell_type": "code",
   "execution_count": 14,
   "id": "f01a63a6",
   "metadata": {
    "scrolled": true
   },
   "outputs": [
    {
     "name": "stdout",
     "output_type": "stream",
     "text": [
      "13\n"
     ]
    }
   ],
   "source": [
    "def fibonacci(n):\n",
    "    if n <= 1:\n",
    "        return n\n",
    "    else:\n",
    "        return fibonacci(n - 1) + fibonacci(n - 2)\n",
    "\n",
    "print(fibonacci(7))  # Outputs: 13\n"
   ]
  },
  {
   "cell_type": "markdown",
   "id": "3ee4a5ae",
   "metadata": {},
   "source": [
    "#### Recursion in Data Structure"
   ]
  },
  {
   "cell_type": "code",
   "execution_count": 17,
   "id": "921f5fe5",
   "metadata": {},
   "outputs": [
    {
     "name": "stdout",
     "output_type": "stream",
     "text": [
      "3 5 7 10 12 15 "
     ]
    }
   ],
   "source": [
    "class Node:\n",
    "    def __init__(self, key):\n",
    "        self.left = None\n",
    "        self.right = None\n",
    "        self.val = key\n",
    "\n",
    "def in_order_traversal(root):\n",
    "    if root:\n",
    "        # Traverse the left subtree\n",
    "        in_order_traversal(root.left)\n",
    "        # Visit the root (current node)\n",
    "        print(root.val, end=' ')\n",
    "        # Traverse the right subtree\n",
    "        in_order_traversal(root.right)\n",
    "\n",
    "# Creating a simple binary tree\n",
    "root = Node(10)\n",
    "root.left = Node(5)\n",
    "root.right = Node(15)\n",
    "root.left.left = Node(3)\n",
    "root.left.right = Node(7)\n",
    "root.right.left = Node(12)\n",
    "\n",
    "# Perform in-order traversal\n",
    "in_order_traversal(root)\n"
   ]
  },
  {
   "cell_type": "markdown",
   "id": "e99b40e1",
   "metadata": {},
   "source": [
    "#### Function with Default Parameter"
   ]
  },
  {
   "cell_type": "code",
   "execution_count": 8,
   "id": "7a6e9361",
   "metadata": {},
   "outputs": [
    {
     "name": "stdout",
     "output_type": "stream",
     "text": [
      "Hello, Emmanuel!\n",
      "Good morning, Bamidele!\n"
     ]
    }
   ],
   "source": [
    "def greet(name, message=\"Hello\"):\n",
    "    return f\"{message}, {name}!\"\n",
    "\n",
    "# Calling the function with a single argument\n",
    "print(greet(\"Emmanuel\"))  # Outputs: Hello, Emmanuel!\n",
    "\n",
    "# Calling the function with both arguments\n",
    "print(greet(\"Bamidele\", \"Good morning\"))  # Outputs: Good morning, Bamidele!\n"
   ]
  },
  {
   "cell_type": "markdown",
   "id": "fd9d051e",
   "metadata": {},
   "source": [
    "#### Assigning String to Function Input"
   ]
  },
  {
   "cell_type": "code",
   "execution_count": 10,
   "id": "76ee78ca",
   "metadata": {},
   "outputs": [
    {
     "name": "stdout",
     "output_type": "stream",
     "text": [
      "Hello world!\n"
     ]
    }
   ],
   "source": [
    "def add_exclamation(text:str):\n",
    "    return text + \"!\"\n",
    "\n",
    "# Calling the function with a string argument\n",
    "result = add_exclamation(\"Hello world\")\n",
    "print(result)  # Outputs: Hello world!\n"
   ]
  },
  {
   "cell_type": "markdown",
   "id": "fc8f4c86",
   "metadata": {},
   "source": [
    "#### Assigning Multiple Data Types to Function Inputs"
   ]
  },
  {
   "cell_type": "code",
   "execution_count": 12,
   "id": "0be15622",
   "metadata": {},
   "outputs": [
    {
     "name": "stdout",
     "output_type": "stream",
     "text": [
      "Emmanuel is 31 years old and enjoys reading, biking, snowboarding.\n"
     ]
    }
   ],
   "source": [
    "def summarize(name: str, age:int, hobbies:str):\n",
    "    return f\"{name} is {age} years old and enjoys {', '.join(hobbies)}.\"\n",
    "\n",
    "# Calling the function with a mix of data types\n",
    "bio = summarize(\"Emmanuel\", 31, [\"reading\", \"biking\", \"snowboarding\"])\n",
    "print(bio)\n",
    "# Outputs: Emmanuel is 31 years old and enjoys reading, biking, snowboarding.\n"
   ]
  }
 ],
 "metadata": {
  "kernelspec": {
   "display_name": "Python 3 (ipykernel)",
   "language": "python",
   "name": "python3"
  },
  "language_info": {
   "codemirror_mode": {
    "name": "ipython",
    "version": 3
   },
   "file_extension": ".py",
   "mimetype": "text/x-python",
   "name": "python",
   "nbconvert_exporter": "python",
   "pygments_lexer": "ipython3",
   "version": "3.9.13"
  }
 },
 "nbformat": 4,
 "nbformat_minor": 5
}
