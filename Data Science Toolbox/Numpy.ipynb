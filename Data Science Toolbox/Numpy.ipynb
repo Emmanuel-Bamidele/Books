{
 "cells": [
  {
   "cell_type": "code",
   "execution_count": 1,
   "id": "d8df0832",
   "metadata": {},
   "outputs": [],
   "source": [
    "import numpy as np\n",
    "a = np.array([1, 2, 3])  # One-dimensional array\n",
    "b = np.array([[1.5, 2.5], [3.5, 4.5]])  # Two-dimensional array\n"
   ]
  },
  {
   "cell_type": "code",
   "execution_count": 2,
   "id": "5c891d2b",
   "metadata": {},
   "outputs": [],
   "source": [
    "c = np.array([[1, 2], [3, 4], [5, 6]])\n",
    "c = c.reshape(2, 3)  # Reshapes c to a 2x3 array"
   ]
  },
  {
   "cell_type": "code",
   "execution_count": 3,
   "id": "3a8de21d",
   "metadata": {},
   "outputs": [
    {
     "name": "stdout",
     "output_type": "stream",
     "text": [
      "[5 7 9]\n",
      "[-3 -3 -3]\n",
      "[ 4 10 18]\n"
     ]
    }
   ],
   "source": [
    "x = np.array([1, 2, 3])\n",
    "y = np.array([4, 5, 6])\n",
    "\n",
    "# Elementwise sum, difference, product\n",
    "print(x + y)  # [5 7 9]\n",
    "print(x - y)  # [-3 -3 -3]\n",
    "print(x * y)  # [4 10 18]"
   ]
  },
  {
   "cell_type": "code",
   "execution_count": 4,
   "id": "45172506",
   "metadata": {},
   "outputs": [
    {
     "name": "stdout",
     "output_type": "stream",
     "text": [
      "[[19 22]\n",
      " [43 50]]\n"
     ]
    }
   ],
   "source": [
    "a = np.array([[1, 2], [3, 4]])\n",
    "b = np.array([[5, 6], [7, 8]])\n",
    "print(np.dot(a, b))  # Matrix multiplication"
   ]
  },
  {
   "cell_type": "code",
   "execution_count": 5,
   "id": "e0163169",
   "metadata": {},
   "outputs": [
    {
     "name": "stdout",
     "output_type": "stream",
     "text": [
      "[[-2.   1. ]\n",
      " [ 1.5 -0.5]]\n"
     ]
    }
   ],
   "source": [
    "x = np.array([[1, 2], [3, 4]])\n",
    "\n",
    "# Compute the inverse\n",
    "print(np.linalg.inv(x))"
   ]
  },
  {
   "cell_type": "code",
   "execution_count": 7,
   "id": "ab1942aa",
   "metadata": {},
   "outputs": [
    {
     "name": "stdout",
     "output_type": "stream",
     "text": [
      "[2. 3.]\n"
     ]
    }
   ],
   "source": [
    "# Solve the system ax = b\n",
    "a = np.array([[3, 1], [1, 2]])\n",
    "b = np.array([9, 8])\n",
    "x = np.linalg.solve(a, b)\n",
    "print(x)"
   ]
  },
  {
   "cell_type": "code",
   "execution_count": 8,
   "id": "ddcbad92",
   "metadata": {},
   "outputs": [
    {
     "name": "stdout",
     "output_type": "stream",
     "text": [
      "3.0 3.0 1.4142135623730951\n"
     ]
    }
   ],
   "source": [
    "data = np.array([1, 2, 3, 4, 5])\n",
    "\n",
    "# Calculate mean, median, and standard deviation\n",
    "mean = np.mean(data)\n",
    "median = np.median(data)\n",
    "std_dev = np.std(data)\n",
    "print(mean, median, std_dev)"
   ]
  },
  {
   "cell_type": "code",
   "execution_count": 9,
   "id": "e4663207",
   "metadata": {},
   "outputs": [
    {
     "name": "stdout",
     "output_type": "stream",
     "text": [
      "[[1. 1.]\n",
      " [1. 1.]]\n"
     ]
    }
   ],
   "source": [
    "x = np.array([1, 2, 3])\n",
    "y = np.array([4, 5, 6])\n",
    "print(np.corrcoef(x, y))"
   ]
  },
  {
   "cell_type": "code",
   "execution_count": 10,
   "id": "3cb13242",
   "metadata": {},
   "outputs": [
    {
     "name": "stdout",
     "output_type": "stream",
     "text": [
      "[[[0.52587419 0.30288669 0.50037786 0.97692273]\n",
      "  [0.65977242 0.49967761 0.00914506 0.6034636 ]\n",
      "  [0.65362012 0.68967435 0.41667024 0.75796993]]\n",
      "\n",
      " [[0.63341878 0.1038912  0.31786011 0.64657894]\n",
      "  [0.78933222 0.18664426 0.06957168 0.55678476]\n",
      "  [0.32714702 0.28639153 0.21337103 0.96699523]]]\n"
     ]
    }
   ],
   "source": [
    "# Creating a 3D array\n",
    "z = np.random.rand(2, 3, 4)  # 2x3x4 array with random numbers\n",
    "print(z)"
   ]
  },
  {
   "cell_type": "code",
   "execution_count": null,
   "id": "aa73c540",
   "metadata": {},
   "outputs": [],
   "source": []
  }
 ],
 "metadata": {
  "kernelspec": {
   "display_name": "Python 3 (ipykernel)",
   "language": "python",
   "name": "python3"
  },
  "language_info": {
   "codemirror_mode": {
    "name": "ipython",
    "version": 3
   },
   "file_extension": ".py",
   "mimetype": "text/x-python",
   "name": "python",
   "nbconvert_exporter": "python",
   "pygments_lexer": "ipython3",
   "version": "3.9.13"
  }
 },
 "nbformat": 4,
 "nbformat_minor": 5
}
