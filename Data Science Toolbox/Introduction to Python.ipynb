{
 "cells": [
  {
   "cell_type": "code",
   "execution_count": 1,
   "id": "27ba541e",
   "metadata": {},
   "outputs": [
    {
     "name": "stdout",
     "output_type": "stream",
     "text": [
      "Hello, World!\n"
     ]
    }
   ],
   "source": [
    "print(\"Hello, World!\")"
   ]
  },
  {
   "cell_type": "code",
   "execution_count": 21,
   "id": "d3271b74",
   "metadata": {},
   "outputs": [],
   "source": [
    "x = 5        # integer\n",
    "y = 3.14     # float\n",
    "name = \"Emmanuel\" # string\n",
    "is_valid = True  # boolean"
   ]
  },
  {
   "cell_type": "code",
   "execution_count": 22,
   "id": "70e7cb0b",
   "metadata": {},
   "outputs": [
    {
     "name": "stdout",
     "output_type": "stream",
     "text": [
      "5 3.14 Emmanuel True\n"
     ]
    }
   ],
   "source": [
    "print(x, y, name, is_valid)"
   ]
  },
  {
   "cell_type": "code",
   "execution_count": 6,
   "id": "5624899c",
   "metadata": {},
   "outputs": [
    {
     "data": {
      "text/plain": [
       "True"
      ]
     },
     "execution_count": 6,
     "metadata": {},
     "output_type": "execute_result"
    }
   ],
   "source": [
    "# Arithmetic operators\n",
    "sum = x + y  \n",
    "difference = x - y \n",
    "product = x * y  \n",
    "quotient = x / y \n",
    "\n",
    "# Comparison operators\n",
    "x > y  # Greater than"
   ]
  },
  {
   "cell_type": "code",
   "execution_count": 7,
   "id": "1408b619",
   "metadata": {},
   "outputs": [
    {
     "data": {
      "text/plain": [
       "False"
      ]
     },
     "execution_count": 7,
     "metadata": {},
     "output_type": "execute_result"
    }
   ],
   "source": [
    "x < y  # Less than"
   ]
  },
  {
   "cell_type": "code",
   "execution_count": 20,
   "id": "a96f63d1",
   "metadata": {},
   "outputs": [
    {
     "name": "stdout",
     "output_type": "stream",
     "text": [
      "Arithmetic Operators:\n",
      "Addition (x + y): 13\n",
      "Subtraction (x - y): 7\n",
      "Multiplication (x * y): 30\n",
      "Division (x / y): 3.3333333333333335\n",
      "Modulus (x % y): 1\n",
      "Exponentiation (x ** y): 1000\n",
      "Floor Division (x // y): 3\n",
      "\n",
      "Comparison Operators:\n",
      "x > y is True\n",
      "x < y is False\n",
      "x == y is False\n",
      "\n",
      "Assignment Operators:\n",
      "x after x += 2: 12\n",
      "\n",
      "Logical Operators:\n",
      "x > 5 and y < 5 is True\n",
      "x < 5 or y < 5 is True\n",
      "not(x < 5) is True\n",
      "\n",
      "Identity Operators:\n",
      "a is y: True\n",
      "a is not x: True\n",
      "\n",
      "Membership Operators:\n",
      "y in list: True\n",
      "x not in list: True\n"
     ]
    }
   ],
   "source": [
    "# Arithmetic Operators\n",
    "x = 10\n",
    "y = 3\n",
    "print(\"Arithmetic Operators:\")\n",
    "print(\"Addition (x + y):\", x + y)  # 13\n",
    "print(\"Subtraction (x - y):\", x - y)  # 7\n",
    "print(\"Multiplication (x * y):\", x * y)  # 30\n",
    "print(\"Division (x / y):\", x / y)  # 3.333...\n",
    "print(\"Modulus (x % y):\", x % y)  # 1\n",
    "print(\"Exponentiation (x ** y):\", x ** y)  # 1000\n",
    "print(\"Floor Division (x // y):\", x // y)  # 3\n",
    "\n",
    "# Comparison Operators\n",
    "print(\"\\nComparison Operators:\")\n",
    "print(\"x > y is\", x > y)  # True\n",
    "print(\"x < y is\", x < y)  # False\n",
    "print(\"x == y is\", x == y)  # False\n",
    "\n",
    "# Assignment Operators\n",
    "print(\"\\nAssignment Operators:\")\n",
    "x += 2  # Equivalent to x = x + 2\n",
    "print(\"x after x += 2:\", x)  # 12\n",
    "\n",
    "# Logical Operators\n",
    "print(\"\\nLogical Operators:\")\n",
    "print(\"x > 5 and y < 5 is\", x > 5 and y < 5)  # True\n",
    "print(\"x < 5 or y < 5 is\", x < 5 or y < 5)  # True\n",
    "print(\"not(x < 5) is\", not(x < 5))  # True\n",
    "\n",
    "# Identity Operators\n",
    "print(\"\\nIdentity Operators:\")\n",
    "a = y\n",
    "print(\"a is y:\", a is y)  # True\n",
    "print(\"a is not x:\", a is not x)  # True\n",
    "\n",
    "# Membership Operators\n",
    "print(\"\\nMembership Operators:\")\n",
    "list = [1, 2, 3, 4, 5]\n",
    "print(\"y in list:\", y in list)  # True\n",
    "print(\"x not in list:\", x not in list)  # True"
   ]
  },
  {
   "cell_type": "markdown",
   "id": "8a3c9e0d",
   "metadata": {},
   "source": [
    "### Data Structures"
   ]
  },
  {
   "cell_type": "code",
   "execution_count": 23,
   "id": "e4dc4a1a",
   "metadata": {},
   "outputs": [
    {
     "name": "stdout",
     "output_type": "stream",
     "text": [
      "Original List: [1, 2, 3, 'Python', 3.14]\n",
      "First Element: 1\n",
      "Last Element: 3.14\n",
      "After Append: [1, 2, 3, 'Python', 3.14, 'New Item']\n",
      "After Modification: [1, 'Changed', 3, 'Python', 3.14, 'New Item']\n",
      "Sliced List: ['Changed', 3, 'Python']\n",
      "Doubled List: [2, 4, 6]\n",
      "Nested List: [1, 2, ['Nested', 'List'], 4]\n",
      "Length of List: 6\n",
      "Concatenated List: [1, 'Changed', 3, 'Python', 3.14, 'New Item', 'Extra', 'Elements']\n",
      "Iterating over the list:\n",
      "1\n",
      "Changed\n",
      "3\n",
      "Python\n",
      "3.14\n",
      "New Item\n"
     ]
    }
   ],
   "source": [
    "# Creating a list\n",
    "my_list = [1, 2, 3, 'Python', 3.14]\n",
    "print(\"Original List:\", my_list)\n",
    "\n",
    "# Accessing list elements\n",
    "print(\"First Element:\", my_list[0])  # Accessing the first element\n",
    "print(\"Last Element:\", my_list[-1])  # Accessing the last element\n",
    "\n",
    "# Modifying the list\n",
    "my_list.append('New Item')  # Appending a new item\n",
    "print(\"After Append:\", my_list)\n",
    "my_list[1] = 'Changed'  # Changing the second element\n",
    "print(\"After Modification:\", my_list)\n",
    "\n",
    "# Slicing a list\n",
    "sliced_list = my_list[1:4]  # Slicing from second to fourth element\n",
    "print(\"Sliced List:\", sliced_list)\n",
    "\n",
    "# List Comprehension\n",
    "doubled_list = [x * 2 for x in [1, 2, 3]]  # Doubling each element in a new list\n",
    "print(\"Doubled List:\", doubled_list)\n",
    "\n",
    "# Nested Lists\n",
    "nested_list = [1, 2, ['Nested', 'List'], 4]\n",
    "print(\"Nested List:\", nested_list)\n",
    "\n",
    "# Common Operations\n",
    "print(\"Length of List:\", len(my_list))  # Length of the list\n",
    "concatenated_list = my_list + ['Extra', 'Elements']  # Concatenating lists\n",
    "print(\"Concatenated List:\", concatenated_list)\n",
    "\n",
    "# Iterating over a list\n",
    "print(\"Iterating over the list:\")\n",
    "for item in my_list:\n",
    "    print(item)"
   ]
  },
  {
   "cell_type": "code",
   "execution_count": 24,
   "id": "2eb9e3c6",
   "metadata": {},
   "outputs": [
    {
     "name": "stdout",
     "output_type": "stream",
     "text": [
      "Original Dictionary: {'name': 'Alice', 'age': 25}\n",
      "Name: Alice\n",
      "Age: 25\n",
      "Modified Dictionary: {'name': 'Alice', 'age': 26, 'address': '123 Street'}\n",
      "After Removing Address: {'name': 'Alice', 'age': 26}\n",
      "Iterating through the dictionary:\n",
      "name : Alice\n",
      "age : 26\n",
      "Dictionary Comprehension (squared values): {0: 0, 1: 1, 2: 4, 3: 9, 4: 16, 5: 25}\n",
      "Nested Dictionary: {'dict1': {'key1': 'value1'}, 'dict2': {'key2': 'value2'}}\n",
      "Length of Dictionary: 2\n",
      "Keys of Dictionary: dict_keys(['name', 'age'])\n",
      "Values of Dictionary: dict_values(['Alice', 26])\n"
     ]
    }
   ],
   "source": [
    "# Creating a dictionary\n",
    "my_dict = {'name': 'Alice', 'age': 25}\n",
    "print(\"Original Dictionary:\", my_dict)\n",
    "\n",
    "# Accessing elements\n",
    "print(\"Name:\", my_dict['name'])\n",
    "print(\"Age:\", my_dict.get('age'))\n",
    "\n",
    "# Modifying the dictionary\n",
    "my_dict['age'] = 26  # Updating value\n",
    "my_dict['address'] = '123 Street'  # Adding new key-value pair\n",
    "print(\"Modified Dictionary:\", my_dict)\n",
    "\n",
    "# Removing elements\n",
    "my_dict.pop('address')\n",
    "print(\"After Removing Address:\", my_dict)\n",
    "\n",
    "# Iterating through a dictionary\n",
    "print(\"Iterating through the dictionary:\")\n",
    "for key, value in my_dict.items():\n",
    "    print(key, \":\", value)\n",
    "\n",
    "# Dictionary Comprehension\n",
    "squared_dict = {x: x**2 for x in range(6)}\n",
    "print(\"Dictionary Comprehension (squared values):\", squared_dict)\n",
    "\n",
    "# Nested Dictionary\n",
    "nested_dict = {'dict1': {'key1': 'value1'}, 'dict2': {'key2': 'value2'}}\n",
    "print(\"Nested Dictionary:\", nested_dict)\n",
    "\n",
    "# Common Operations\n",
    "print(\"Length of Dictionary:\", len(my_dict))\n",
    "print(\"Keys of Dictionary:\", my_dict.keys())\n",
    "print(\"Values of Dictionary:\", my_dict.values())"
   ]
  },
  {
   "cell_type": "code",
   "execution_count": 25,
   "id": "29193062",
   "metadata": {},
   "outputs": [
    {
     "name": "stdout",
     "output_type": "stream",
     "text": [
      "Original Tuple: (1, 'Hello', 3.14)\n",
      "Another Tuple: (2, 'Python')\n",
      "Second Element of my_tuple: Hello\n",
      "Sliced Tuple: (1, 'Hello')\n",
      "Nested Tuple: (1, (2, 3), ['a', 'b'])\n",
      "Unpacked: 1 Hello 3.14\n",
      "Length of my_tuple: 3\n",
      "Concatenated Tuple: (1, 'Hello', 3.14, 2, 'Python')\n",
      "Is 3.14 in my_tuple: True\n"
     ]
    }
   ],
   "source": [
    "# Creating tuples\n",
    "my_tuple = (1, 'Hello', 3.14)\n",
    "another_tuple = 2, 'Python'\n",
    "print(\"Original Tuple:\", my_tuple)\n",
    "print(\"Another Tuple:\", another_tuple)\n",
    "\n",
    "# Accessing tuple elements\n",
    "print(\"Second Element of my_tuple:\", my_tuple[1])\n",
    "\n",
    "# Tuples are immutable, so you cannot change, add, or remove elements after creation\n",
    "# my_tuple[1] = 'World' would result in an error\n",
    "\n",
    "# Slicing tuples\n",
    "sliced_tuple = my_tuple[0:2]\n",
    "print(\"Sliced Tuple:\", sliced_tuple)\n",
    "\n",
    "# Nested tuples\n",
    "nested_tuple = (1, (2, 3), ['a', 'b'])\n",
    "print(\"Nested Tuple:\", nested_tuple)\n",
    "\n",
    "# Tuple unpacking\n",
    "a, b, c = my_tuple\n",
    "print(\"Unpacked:\", a, b, c)\n",
    "\n",
    "# Common Operations\n",
    "print(\"Length of my_tuple:\", len(my_tuple))\n",
    "concatenated_tuple = my_tuple + another_tuple\n",
    "print(\"Concatenated Tuple:\", concatenated_tuple)\n",
    "print(\"Is 3.14 in my_tuple:\", 3.14 in my_tuple)"
   ]
  },
  {
   "cell_type": "code",
   "execution_count": 26,
   "id": "19ce0a40",
   "metadata": {},
   "outputs": [
    {
     "name": "stdout",
     "output_type": "stream",
     "text": [
      "Original Set: {1, 2, 3, 'Python'}\n",
      "Another Set: {'a', 'c', 'b'}\n",
      "Set with Duplicates Removed: {1, 2, 3}\n",
      "Iterating through the set:\n",
      "1\n",
      "2\n",
      "3\n",
      "Python\n",
      "Is 'Python' in my_set: True\n",
      "After adding an element: {1, 2, 3, 'Python', 'new'}\n",
      "After updating with multiple elements: {1, 2, 3, 4, 5, 'Python', 'new'}\n",
      "After discarding an element: {1, 2, 3, 5, 'Python', 'new'}\n",
      "Union of set1 and set2: {1, 2, 3, 4, 5}\n",
      "Intersection of set1 and set2: {3}\n",
      "Difference of set1 and set2: {1, 2}\n",
      "Symmetric difference of set1 and set2: {1, 2, 4, 5}\n",
      "Immutable Set: frozenset({1, 2, 3})\n"
     ]
    }
   ],
   "source": [
    "# Creating sets\n",
    "my_set = {1, 2, 3, 'Python'}\n",
    "another_set = set(['a', 'b', 'c'])\n",
    "print(\"Original Set:\", my_set)\n",
    "print(\"Another Set:\", another_set)\n",
    "\n",
    "# Sets are unique, duplicates are removed automatically\n",
    "duplicate_set = {1, 2, 2, 3}\n",
    "print(\"Set with Duplicates Removed:\", duplicate_set)\n",
    "\n",
    "# Accessing set elements: Cannot access by index, but can iterate\n",
    "print(\"Iterating through the set:\")\n",
    "for item in my_set:\n",
    "    print(item)\n",
    "\n",
    "# Checking membership\n",
    "print(\"Is 'Python' in my_set:\", 'Python' in my_set)\n",
    "\n",
    "# Adding elements\n",
    "my_set.add('new')\n",
    "print(\"After adding an element:\", my_set)\n",
    "my_set.update([4, 5])\n",
    "print(\"After updating with multiple elements:\", my_set)\n",
    "\n",
    "# Removing elements\n",
    "my_set.discard(4)\n",
    "print(\"After discarding an element:\", my_set)\n",
    "\n",
    "# Set Operations\n",
    "set1 = {1, 2, 3}\n",
    "set2 = {3, 4, 5}\n",
    "print(\"Union of set1 and set2:\", set1 | set2)\n",
    "print(\"Intersection of set1 and set2:\", set1 & set2)\n",
    "print(\"Difference of set1 and set2:\", set1 - set2)\n",
    "print(\"Symmetric difference of set1 and set2:\", set1 ^ set2)\n",
    "\n",
    "# Immutable Sets\n",
    "immutable_set = frozenset([1, 2, 3])\n",
    "print(\"Immutable Set:\", immutable_set)\n"
   ]
  },
  {
   "cell_type": "markdown",
   "id": "998fd0e6",
   "metadata": {},
   "source": [
    "### File Handling"
   ]
  },
  {
   "cell_type": "code",
   "execution_count": null,
   "id": "83a3e292",
   "metadata": {},
   "outputs": [],
   "source": [
    "# Python code snippet demonstrating reading from and writing to a file\n",
    "\n",
    "# Writing to a file\n",
    "with open('write_example.txt', 'w') as write_file:\n",
    "    write_file.write(\"Hello, Python!\\n\")\n",
    "    write_file.write(\"Writing to files is simple.\")\n",
    "\n",
    "# Reading from the same file\n",
    "with open('write_example.txt', 'r') as read_file:\n",
    "    content = read_file.read()\n",
    "    print(\"File Content:\\n\", content)"
   ]
  },
  {
   "cell_type": "markdown",
   "id": "2dc617db",
   "metadata": {},
   "source": [
    "### Error Handling"
   ]
  },
  {
   "cell_type": "code",
   "execution_count": null,
   "id": "c63f6fb4",
   "metadata": {},
   "outputs": [],
   "source": [
    "try:\n",
    "    result = 10 / 0\n",
    "except ZeroDivisionError:\n",
    "    print(\"Divided by zero!\")"
   ]
  },
  {
   "cell_type": "code",
   "execution_count": null,
   "id": "bc91b3e9",
   "metadata": {},
   "outputs": [],
   "source": [
    "try:\n",
    "    file = open(\"example.txt\")\n",
    "    content = file.read()\n",
    "except FileNotFoundError:\n",
    "    print(\"File not found.\")\n",
    "finally:\n",
    "    file.close()"
   ]
  }
 ],
 "metadata": {
  "kernelspec": {
   "display_name": "Python 3 (ipykernel)",
   "language": "python",
   "name": "python3"
  },
  "language_info": {
   "codemirror_mode": {
    "name": "ipython",
    "version": 3
   },
   "file_extension": ".py",
   "mimetype": "text/x-python",
   "name": "python",
   "nbconvert_exporter": "python",
   "pygments_lexer": "ipython3",
   "version": "3.9.13"
  }
 },
 "nbformat": 4,
 "nbformat_minor": 5
}
