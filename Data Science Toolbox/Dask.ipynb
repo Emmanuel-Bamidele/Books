{
 "cells": [
  {
   "cell_type": "code",
   "execution_count": 1,
   "id": "44bc2325",
   "metadata": {},
   "outputs": [
    {
     "data": {
      "text/plain": [
       "array([0.9914817 , 0.99672999, 0.9976787 , ..., 1.00183624, 0.9971773 ,\n",
       "       0.99548574])"
      ]
     },
     "execution_count": 1,
     "metadata": {},
     "output_type": "execute_result"
    }
   ],
   "source": [
    "import dask.array as da\n",
    "x = da.random.random((10000, 10000), chunks=(1000, 1000))\n",
    "y = x + x.T\n",
    "z = y[::2, 5000:].mean(axis=1)\n",
    "z.compute()"
   ]
  },
  {
   "cell_type": "code",
   "execution_count": 3,
   "id": "79e7d80f",
   "metadata": {},
   "outputs": [
    {
     "data": {
      "text/html": [
       "<div>\n",
       "<style scoped>\n",
       "    .dataframe tbody tr th:only-of-type {\n",
       "        vertical-align: middle;\n",
       "    }\n",
       "\n",
       "    .dataframe tbody tr th {\n",
       "        vertical-align: top;\n",
       "    }\n",
       "\n",
       "    .dataframe thead th {\n",
       "        text-align: right;\n",
       "    }\n",
       "</style>\n",
       "<table border=\"1\" class=\"dataframe\">\n",
       "  <thead>\n",
       "    <tr style=\"text-align: right;\">\n",
       "      <th></th>\n",
       "      <th>Date</th>\n",
       "      <th>Price</th>\n",
       "      <th>Open</th>\n",
       "      <th>High</th>\n",
       "      <th>Low</th>\n",
       "      <th>Vol.</th>\n",
       "      <th>Change %</th>\n",
       "    </tr>\n",
       "  </thead>\n",
       "  <tbody>\n",
       "    <tr>\n",
       "      <th>0</th>\n",
       "      <td>16-Feb-22</td>\n",
       "      <td>430.80</td>\n",
       "      <td>432.31</td>\n",
       "      <td>433.28</td>\n",
       "      <td>427.90</td>\n",
       "      <td>1.09M</td>\n",
       "      <td>-0.33%</td>\n",
       "    </tr>\n",
       "    <tr>\n",
       "      <th>1</th>\n",
       "      <td>15-Feb-22</td>\n",
       "      <td>432.21</td>\n",
       "      <td>403.49</td>\n",
       "      <td>441.20</td>\n",
       "      <td>402.70</td>\n",
       "      <td>1.24M</td>\n",
       "      <td>7.12%</td>\n",
       "    </tr>\n",
       "    <tr>\n",
       "      <th>2</th>\n",
       "      <td>14-Feb-22</td>\n",
       "      <td>403.49</td>\n",
       "      <td>397.83</td>\n",
       "      <td>404.20</td>\n",
       "      <td>390.61</td>\n",
       "      <td>500.69K</td>\n",
       "      <td>1.43%</td>\n",
       "    </tr>\n",
       "    <tr>\n",
       "      <th>3</th>\n",
       "      <td>13-Feb-22</td>\n",
       "      <td>397.80</td>\n",
       "      <td>403.22</td>\n",
       "      <td>407.02</td>\n",
       "      <td>394.90</td>\n",
       "      <td>426.23K</td>\n",
       "      <td>-1.34%</td>\n",
       "    </tr>\n",
       "    <tr>\n",
       "      <th>4</th>\n",
       "      <td>12-Feb-22</td>\n",
       "      <td>403.20</td>\n",
       "      <td>400.16</td>\n",
       "      <td>406.90</td>\n",
       "      <td>393.59</td>\n",
       "      <td>569.68K</td>\n",
       "      <td>0.75%</td>\n",
       "    </tr>\n",
       "  </tbody>\n",
       "</table>\n",
       "</div>"
      ],
      "text/plain": [
       "        Date   Price    Open    High     Low     Vol. Change %\n",
       "0  16-Feb-22  430.80  432.31  433.28  427.90    1.09M   -0.33%\n",
       "1  15-Feb-22  432.21  403.49  441.20  402.70    1.24M    7.12%\n",
       "2  14-Feb-22  403.49  397.83  404.20  390.61  500.69K    1.43%\n",
       "3  13-Feb-22  397.80  403.22  407.02  394.90  426.23K   -1.34%\n",
       "4  12-Feb-22  403.20  400.16  406.90  393.59  569.68K    0.75%"
      ]
     },
     "execution_count": 3,
     "metadata": {},
     "output_type": "execute_result"
    }
   ],
   "source": [
    "import dask.dataframe as dd\n",
    "file_directory = r\"/Users/emmanuel_bamidele/Desktop/Bamspace/Data_Science_Tutorial/Books/Data Science Toolbox/Codes/BNB Historical Data - Investing.com2015_to_2022.csv\"\n",
    "df = dd.read_csv(file_directory)\n",
    "df.head()"
   ]
  },
  {
   "cell_type": "code",
   "execution_count": 4,
   "id": "75559f20",
   "metadata": {},
   "outputs": [
    {
     "data": {
      "text/plain": [
       "5"
      ]
     },
     "execution_count": 4,
     "metadata": {},
     "output_type": "execute_result"
    }
   ],
   "source": [
    "from dask import delayed\n",
    "\n",
    "@delayed\n",
    "def inc(x):\n",
    "    return x + 1\n",
    "\n",
    "@delayed\n",
    "def add(x, y):\n",
    "    return x + y\n",
    "\n",
    "a = inc(1)\n",
    "b = inc(2)\n",
    "c = add(a, b)\n",
    "c.compute()"
   ]
  },
  {
   "cell_type": "code",
   "execution_count": 5,
   "id": "cbab3f04",
   "metadata": {},
   "outputs": [
    {
     "data": {
      "text/plain": [
       "50"
      ]
     },
     "execution_count": 5,
     "metadata": {},
     "output_type": "execute_result"
    }
   ],
   "source": [
    "from dask import delayed\n",
    "\n",
    "@delayed\n",
    "def increment(x):\n",
    "    return x + 1\n",
    "\n",
    "@delayed\n",
    "def double(x):\n",
    "    return x * 2\n",
    "\n",
    "@delayed\n",
    "def add(x, y):\n",
    "    return x + y\n",
    "\n",
    "data = [1, 2, 3, 4, 5]\n",
    "results = [add(increment(double(x)), x) for x in data]\n",
    "total = delayed(sum)(results)\n",
    "total.compute()  # This line triggers the actual computation"
   ]
  },
  {
   "cell_type": "code",
   "execution_count": null,
   "id": "b2c9287d",
   "metadata": {},
   "outputs": [],
   "source": [
    "from dask_ml.linear_model import LinearRegression\n",
    "from dask_ml.datasets import make_regression\n",
    "\n",
    "X, y = make_regression(n_samples=100000, n_features=5, chunks=500)\n",
    "lr = LinearRegression()\n",
    "lr.fit(X, y)\n",
    "lr.predict(X)"
   ]
  },
  {
   "cell_type": "code",
   "execution_count": 6,
   "id": "e31fd449",
   "metadata": {},
   "outputs": [],
   "source": [
    "from dask.distributed import Client\n",
    "\n",
    "# Creating a local Dask cluster and connecting to it\n",
    "client = Client()"
   ]
  },
  {
   "cell_type": "code",
   "execution_count": 8,
   "id": "45f60ceb",
   "metadata": {},
   "outputs": [
    {
     "name": "stdout",
     "output_type": "stream",
     "text": [
      "100001925.44915129\n"
     ]
    }
   ],
   "source": [
    "import dask.array as da\n",
    "\n",
    "# Creating a large random Dask array\n",
    "x = da.random.random(size=(10000, 10000), chunks=(1000, 1000))\n",
    "\n",
    "# Performing a computation\n",
    "y = x + x.T\n",
    "y_sum = y.sum()\n",
    "result = y_sum.compute()  # This computation is handled by the distributed scheduler\n",
    "print(result)"
   ]
  },
  {
   "cell_type": "code",
   "execution_count": null,
   "id": "3a1404a6",
   "metadata": {},
   "outputs": [],
   "source": [
    "import dask.dataframe as dd\n",
    "from dask.distributed import Client\n",
    "\n",
    "client = Client()\n",
    "\n",
    "# Loading a large dataset into a Dask DataFrame\n",
    "ddf = dd.read_csv('large_dataset.csv')\n",
    "\n",
    "# Performing some computations\n",
    "transformed_ddf = ddf.groupby(ddf.column).mean()\n",
    "\n",
    "# Persisting the data in memory\n",
    "persisted_ddf = transformed_ddf.persist()\n",
    "\n",
    "# Future computations will be faster as they use the persisted data\n",
    "result = persisted_ddf.compute()"
   ]
  }
 ],
 "metadata": {
  "kernelspec": {
   "display_name": "Python 3 (ipykernel)",
   "language": "python",
   "name": "python3"
  },
  "language_info": {
   "codemirror_mode": {
    "name": "ipython",
    "version": 3
   },
   "file_extension": ".py",
   "mimetype": "text/x-python",
   "name": "python",
   "nbconvert_exporter": "python",
   "pygments_lexer": "ipython3",
   "version": "3.9.13"
  }
 },
 "nbformat": 4,
 "nbformat_minor": 5
}
